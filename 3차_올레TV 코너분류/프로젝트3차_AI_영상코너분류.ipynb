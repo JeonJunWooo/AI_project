{
  "cells": [
    {
      "cell_type": "markdown",
      "metadata": {
        "id": "view-in-github",
        "colab_type": "text"
      },
      "source": [
        "<a href=\"https://colab.research.google.com/github/JeonJunWooo/mini_project/blob/main/%ED%94%84%EB%A1%9C%EC%A0%9D%ED%8A%B83%EC%B0%A8_AI_%EC%98%81%EC%83%81%EC%BD%94%EB%84%88%EB%B6%84%EB%A5%98.ipynb\" target=\"_parent\"><img src=\"https://colab.research.google.com/assets/colab-badge.svg\" alt=\"Open In Colab\"/></a>"
      ]
    },
    {
      "cell_type": "markdown",
      "id": "e666a34a",
      "metadata": {
        "id": "e666a34a"
      },
      "source": [
        "# 안녕하세요^^ \n",
        "# AIVLE 미니 프로젝트3차 팀 미션입니다. \n",
        "# 주어진 문제를 잘 읽고 해결하시길 바랍니다.\n"
      ]
    },
    {
      "cell_type": "markdown",
      "source": [
        "## 올레TV 예능 콘텐츠 중 하나인 프로그램 \"코미디빅리그\"의 영상을 분석하고 코너를 분류하는 AI 모델을 만들어 보세요.\n",
        "\n",
        "\"코미디빅리그\" 는 tvN에서 방영 중인 서바이벌 형식의 공개 코미디 프로그램으로 3개월 단위로 인기 코너를 선정하는 방식인 쿼제를 도입하고 있다. \n",
        "이번 과제는 2022년 1쿼터(1~3월) 방영분 중 2월 방영한 3편을 학습 데이터로 하여 3월 방송의 코너 구간을 추출해내는 것입니다.\n",
        "\n",
        "아래의 조건들을 참고하여 문제를 해결하세요.\n",
        "> - 주어진 데이터 ( Train 데이터 :  2월 방영분 3편 / Test 데이터 : 3월 방영분 1편 )\n",
        "> - 제출 파일은 <font color=\"red\">.ipynb 파일</font>과  조에서 각 과정마다 문제 해결을 위해 진행한 방법을 정리한 <font color=\"red\">발표자료(.pptx)</font>를 포함히여 제출합니다.<br> \n",
        "①데이터 분석 및 학습데이터 생성, ②데이터 전처리, ③AI 모델링(아키텍처, 성능비교), ④분류 결과 <br> \n",
        "※ 각 과정은 문제 해결 방법에 따라 변경 가능<br><br>\n",
        "> <b>제출 파일( 압축파일명 : [팀]미니프로젝트3차_AI 0반_00조.zip) </b> <br>\n",
        ">> ① 코드 : [팀]미니프로젝트3차_AI 0반_00조.ipynb <br>\n",
        ">> ② 발표자료 : [팀]미니프로젝트3차_AI 0반 00조.pptx <br>\n",
        "\n",
        "\n"
      ],
      "metadata": {
        "id": "vgM-ARIZMs-P"
      },
      "id": "vgM-ARIZMs-P"
    },
    {
      "cell_type": "markdown",
      "source": [
        "---"
      ],
      "metadata": {
        "id": "1xS7YAWi-fjE"
      },
      "id": "1xS7YAWi-fjE"
    },
    {
      "cell_type": "markdown",
      "metadata": {
        "id": "bmJTTGUePbmU"
      },
      "source": [
        "# 0. 환경 설정하기"
      ],
      "id": "bmJTTGUePbmU"
    },
    {
      "cell_type": "markdown",
      "source": [
        "### 1) 구글 드라이브 연결하기"
      ],
      "metadata": {
        "id": "hdnPPzGpfwSU"
      },
      "id": "hdnPPzGpfwSU"
    },
    {
      "cell_type": "code",
      "source": [
        "# 코랩 사용 시 구글 드라이브 연결\n",
        "from google.colab import drive\n",
        "drive.mount('/content/drive')"
      ],
      "metadata": {
        "id": "0yJHSX-HG6zY",
        "colab": {
          "base_uri": "https://localhost:8080/"
        },
        "outputId": "c2752ea8-e276-4d7d-ff2a-d920e3ccbfa9"
      },
      "execution_count": 1,
      "outputs": [
        {
          "output_type": "stream",
          "name": "stdout",
          "text": [
            "Mounted at /content/drive\n"
          ]
        }
      ],
      "id": "0yJHSX-HG6zY"
    },
    {
      "cell_type": "markdown",
      "source": [
        "### 2) 경로 확인하기"
      ],
      "metadata": {
        "id": "usTpsab1PeyX"
      },
      "id": "usTpsab1PeyX"
    },
    {
      "cell_type": "code",
      "source": [
        "# ROOT_PATH 확인 \n",
        "import os\n",
        "\n",
        "if os.getcwd() == '/content' :\n",
        "  # 구글 드라이브 사용 시 \n",
        "  ROOT_PATH = \"/content/drive/MyDrive/AIVLE_3rd_Team\"\n",
        "else :\n",
        "  ROOT_PATH = os.path.abspath('..')\n",
        "\n",
        "# 비디오 파일이 저장되어 있는 폴더\n",
        "VIDEO_PATH = ROOT_PATH + \"/video\"\n",
        "\n",
        "# 모델 학습을 위한 데이터 \n",
        "TRAIN_PATH = ROOT_PATH + \"/train\"\n",
        "# 모델 예측을 위한 test 데이터\n",
        "TEST_PATH = ROOT_PATH + \"/test\"\n",
        "\n",
        "# 테스트 영상 test.mp4 경로 \n",
        "TEST_VIDEO = '/content/drive/MyDrive/AIVLE_3rd_Team/video/test' + \"/220320.mp4\"\n",
        "\n",
        "# 모델 예측을 위해 테스트 영상을 프레임 이미지로 자르고 저장하는 경로 (testGenerator 생성 시 PATH )   \n",
        "TEST_IMAGE = TEST_PATH + \"/image\"\n",
        "\n",
        "# 모델(.h5) 파일이 저장된 경로 (본인이 생성한 모델)\n",
        "MODEL_PATH = ROOT_PATH +  '/model/팀_미니프로젝트3차_a206205_전준우.h5'"
      ],
      "metadata": {
        "id": "OO4KjSIPBUse"
      },
      "execution_count": 2,
      "outputs": [],
      "id": "OO4KjSIPBUse"
    },
    {
      "cell_type": "markdown",
      "source": [
        "### 3) 영상 데이터 다운로드하기\n",
        "아래 코드를 실행하세요."
      ],
      "metadata": {
        "id": "Yymw4IglPpS_"
      },
      "id": "Yymw4IglPpS_"
    },
    {
      "cell_type": "code",
      "source": [
        "# # test data 다운로드\n",
        "# !pip install gdown\n",
        "\n",
        "# import gdown\n",
        "# import shutil\n",
        "\n",
        "# google_path = 'https://drive.google.com/uc?id='\n",
        "# file_id = '....................'\n",
        "# output_name = 'video.zip'\n",
        "\n",
        "# gdown.download(google_path+file_id,output_name,quiet=False)\n",
        "\n",
        "# shutil.move(\"./\" + output_name, ROOT_PATH)\n",
        "\n",
        "# import zipfile\n",
        "\n",
        "# with zipfile.ZipFile(ROOT_PATH + \"/video.zip\") as z:\n",
        "#     z.extractall(ROOT_PATH)\n"
      ],
      "metadata": {
        "id": "iCIYLidiPojw"
      },
      "id": "iCIYLidiPojw",
      "execution_count": null,
      "outputs": []
    },
    {
      "cell_type": "markdown",
      "source": [
        "# 미니프로젝트 3차 팀 미션 지금부터 시작하세요!"
      ],
      "metadata": {
        "id": "_AHEzMDVBd7K"
      },
      "id": "_AHEzMDVBd7K"
    },
    {
      "cell_type": "code",
      "source": [
        "# 여기에서부터 입력하세요.\n",
        "\n",
        "import pandas as pd\n",
        "from sklearn.model_selection import train_test_split\n",
        "from sklearn.preprocessing import MinMaxScaler\n",
        "import tensorflow as tf\n",
        "from tensorflow import keras\n",
        "import numpy as np\n",
        "from tensorflow.keras.utils import to_categorical\n",
        "from tensorflow.keras.backend import clear_session\n",
        "from tensorflow.keras.models import Sequential, Model\n",
        "\n",
        "from tensorflow.keras.layers import Input, Dense, Flatten\n",
        "from tensorflow.keras.losses import categorical_crossentropy, sparse_categorical_crossentropy\n",
        "\n",
        "from tensorflow.keras.callbacks import EarlyStopping\n",
        "from sklearn.metrics import accuracy_score\n",
        "from keras.layers import BatchNormalization, Dropout\n",
        "\n",
        "import random as rd\n",
        "from sklearn.metrics import accuracy_score\n",
        "from tensorflow.keras import layers\n"
      ],
      "metadata": {
        "id": "yjhDnP89VLjW"
      },
      "execution_count": 3,
      "outputs": [],
      "id": "yjhDnP89VLjW"
    },
    {
      "cell_type": "code",
      "source": [
        "import os\n",
        "import glob\n",
        "import cv2\n",
        "import numpy as np\n",
        "import matplotlib.pyplot as plt\n",
        "\n",
        "import tensorflow as tf\n",
        "from tensorflow import keras\n",
        "from keras.preprocessing.image import ImageDataGenerator"
      ],
      "metadata": {
        "id": "uUzVHEESo8Cn"
      },
      "id": "uUzVHEESo8Cn",
      "execution_count": 4,
      "outputs": []
    },
    {
      "cell_type": "code",
      "source": [
        "TEST_IMAGE"
      ],
      "metadata": {
        "colab": {
          "base_uri": "https://localhost:8080/",
          "height": 36
        },
        "id": "KyxUn5wao83j",
        "outputId": "07d2711f-9d20-4fe7-c41f-b411016e9803"
      },
      "id": "KyxUn5wao83j",
      "execution_count": 5,
      "outputs": [
        {
          "output_type": "execute_result",
          "data": {
            "text/plain": [
              "'/content/drive/MyDrive/AIVLE_3rd_Team/test/image'"
            ],
            "application/vnd.google.colaboratory.intrinsic+json": {
              "type": "string"
            }
          },
          "metadata": {},
          "execution_count": 5
        }
      ]
    },
    {
      "cell_type": "code",
      "source": [
        "TEST_VIDEO"
      ],
      "metadata": {
        "colab": {
          "base_uri": "https://localhost:8080/",
          "height": 36
        },
        "id": "DSgijSVPo-8H",
        "outputId": "23f1060f-cdda-449d-b8a7-70999f6d6ced"
      },
      "id": "DSgijSVPo-8H",
      "execution_count": 6,
      "outputs": [
        {
          "output_type": "execute_result",
          "data": {
            "text/plain": [
              "'/content/drive/MyDrive/AIVLE_3rd_Team/video/test/220320.mp4'"
            ],
            "application/vnd.google.colaboratory.intrinsic+json": {
              "type": "string"
            }
          },
          "metadata": {},
          "execution_count": 6
        }
      ]
    },
    {
      "cell_type": "markdown",
      "source": [
        "## test영상 1초단위로 잘라내서 저장"
      ],
      "metadata": {
        "id": "wPpqsIdbp0bG"
      },
      "id": "wPpqsIdbp0bG"
    },
    {
      "cell_type": "code",
      "source": [
        "%cd /content/drive/MyDrive/AIVLE_3rd_Team/test\n",
        "!unzip -qq \"/content/drive/MyDrive/AIVLE_3rd_Team/test/image.zip\""
      ],
      "metadata": {
        "colab": {
          "base_uri": "https://localhost:8080/"
        },
        "id": "IV71vNfS_vAL",
        "outputId": "621dda6f-0081-4a04-a258-e01e16d9c592"
      },
      "id": "IV71vNfS_vAL",
      "execution_count": 35,
      "outputs": [
        {
          "output_type": "stream",
          "name": "stdout",
          "text": [
            "/content/drive/MyDrive/AIVLE_3rd_Team/test\n"
          ]
        }
      ]
    },
    {
      "cell_type": "code",
      "source": [
        "IMAGE_PATH = TEST_IMAGE\n",
        "\n",
        "TIME_MEASUERMENT_UNIT = 1 #TIME MEASUREMENT UNIT을 통해 몇 초 단위로 이미지를 저장할 지 선택\n",
        "\n",
        "if not os.path.exists(IMAGE_PATH):\n",
        "    os.mkdir(IMAGE_PATH)\n",
        "\n",
        "video = cv2.VideoCapture(TEST_VIDEO)\n",
        "\n",
        "while video.isOpened():\n",
        "    ret,frame = video.read()\n",
        "    if ret:\n",
        "        # 현재 프레임 위치 (msec) \n",
        "        frame_sec = video.get(cv2.CAP_PROP_POS_MSEC)/1000\n",
        "        if frame_sec.is_integer():\n",
        "            if (frame_sec % TIME_MEASUERMENT_UNIT == 0):\n",
        "                filename = IMAGE_PATH + \"/\" + str(round(frame_sec)) + \".jpg\"\n",
        "                cv2.imwrite(filename, frame) \n",
        "    else:\n",
        "        break\n",
        "\n",
        "video.release()"
      ],
      "metadata": {
        "id": "zE9AD7ulpF6R"
      },
      "id": "zE9AD7ulpF6R",
      "execution_count": 13,
      "outputs": []
    },
    {
      "cell_type": "markdown",
      "source": [
        "## 동일영역 잘라내고 test 해보기"
      ],
      "metadata": {
        "id": "zYLLNhfpp7JG"
      },
      "id": "zYLLNhfpp7JG"
    },
    {
      "cell_type": "code",
      "source": [
        "!pip install natsort"
      ],
      "metadata": {
        "colab": {
          "base_uri": "https://localhost:8080/"
        },
        "id": "9aY0SWk7r4DD",
        "outputId": "0a3864c5-1951-4ccf-b7fd-917dec874064"
      },
      "id": "9aY0SWk7r4DD",
      "execution_count": 20,
      "outputs": [
        {
          "output_type": "stream",
          "name": "stdout",
          "text": [
            "Looking in indexes: https://pypi.org/simple, https://us-python.pkg.dev/colab-wheels/public/simple/\n",
            "Requirement already satisfied: natsort in /usr/local/lib/python3.7/dist-packages (5.5.0)\n"
          ]
        }
      ]
    },
    {
      "cell_type": "code",
      "source": [
        "from natsort import natsort"
      ],
      "metadata": {
        "id": "VviKMXtqsEaA"
      },
      "id": "VviKMXtqsEaA",
      "execution_count": 38,
      "outputs": []
    },
    {
      "cell_type": "code",
      "source": [
        "def croppedImage(TEST_IMAGE):\n",
        "  #이미지를 잘라낼 영역 \n",
        "  bounding_box = {\n",
        "      'start_x' : 40, \n",
        "      'start_y' : 60,\n",
        "      'end_x' : 157,    \n",
        "      'end_y' : 75\n",
        "  }\n",
        "  from tqdm.auto import tqdm, trange\n",
        "  image_list = glob.glob('/content/drive/MyDrive/AIVLE_3rd_Team/test/image' + '/*.jpg')\n",
        "  image_list = natsort.natsorted(image_list)\n",
        "  for image in tqdm(image_list, desc=\"IMAGE CROP PROGRESS\"):\n",
        "    original_image = cv2.imread(image)\n",
        "    cropped_image = original_image[bounding_box['start_y']:bounding_box['end_y'], bounding_box['start_x']:bounding_box['end_x']]    \n",
        "    cv2.imwrite(image, cropped_image) "
      ],
      "metadata": {
        "id": "w7nDfA_DpoG6"
      },
      "id": "w7nDfA_DpoG6",
      "execution_count": 36,
      "outputs": []
    },
    {
      "cell_type": "code",
      "source": [
        "croppedImage(TEST_IMAGE)"
      ],
      "metadata": {
        "colab": {
          "base_uri": "https://localhost:8080/",
          "height": 49,
          "referenced_widgets": [
            "ff97178b279a40e0b4d5d2a8df0e013a",
            "fc17265c8169474e96848d49abae37fe",
            "795be50eb6d24accbd0302dd53617f01",
            "01fc2e55bce34cd6b60a41f4e719ff20",
            "c20efde869504cdaa9113d495151578c",
            "0ce09e91a93f42efbacfb2707184a48e",
            "3551817c59cd47eb8eda202a7f320884",
            "4b5661eb4921443884d6780deb3d1605",
            "860b20ab052444eb816e0761d19152e8",
            "19f62038802d4eeabe198ea193672242",
            "5b02251d72234948857a77a87655a3c9"
          ]
        },
        "id": "UNLRNxCEpwh_",
        "outputId": "1cca2ce2-790a-4031-91cf-9cfff5d2041f"
      },
      "id": "UNLRNxCEpwh_",
      "execution_count": 39,
      "outputs": [
        {
          "output_type": "display_data",
          "data": {
            "text/plain": [
              "IMAGE CROP PROGRESS:   0%|          | 0/3182 [00:00<?, ?it/s]"
            ],
            "application/vnd.jupyter.widget-view+json": {
              "version_major": 2,
              "version_minor": 0,
              "model_id": "ff97178b279a40e0b4d5d2a8df0e013a"
            }
          },
          "metadata": {}
        }
      ]
    },
    {
      "cell_type": "markdown",
      "source": [
        "## 확인해보기"
      ],
      "metadata": {
        "id": "EZ4oWpL2AV3H"
      },
      "id": "EZ4oWpL2AV3H"
    },
    {
      "cell_type": "code",
      "source": [
        "image_list = glob.glob('/content/drive/MyDrive/AIVLE_3rd_Team/test/image' + '/*.jpg')\n",
        "image_list = natsort.natsorted(image_list)"
      ],
      "metadata": {
        "id": "ln6LfsrZE1JS"
      },
      "id": "ln6LfsrZE1JS",
      "execution_count": null,
      "outputs": []
    },
    {
      "cell_type": "code",
      "source": [
        "def my_preprocessing(TEST_VIDEO):\n",
        "\n",
        "    batch_size = 16\n",
        "    img_height = 480\n",
        "    img_width = 854\n",
        "\n",
        "\n",
        "    test_datagen = ImageDataGenerator(\n",
        "    rescale=1. / 255,  # 이미지 데이터 정규화\n",
        "    )\n",
        "\n",
        "    test_generator = test_datagen.flow_from_directory(\n",
        "    TEST_PATH,\n",
        "    target_size=(img_height, img_width),\n",
        "    batch_size=batch_size,\n",
        "    class_mode='categorical',\n",
        "    color_mode='grayscale',\n",
        "    shuffle=False\n",
        "    )\n",
        "\n",
        "\n",
        "    return test_generator"
      ],
      "metadata": {
        "id": "4CBIJD9qqC5X"
      },
      "id": "4CBIJD9qqC5X",
      "execution_count": 40,
      "outputs": []
    },
    {
      "cell_type": "code",
      "source": [
        "test_generator = my_preprocessing(TEST_VIDEO)"
      ],
      "metadata": {
        "colab": {
          "base_uri": "https://localhost:8080/"
        },
        "id": "kBS63iYgqCZE",
        "outputId": "911546f6-b241-4713-a684-d6834def3c36"
      },
      "id": "kBS63iYgqCZE",
      "execution_count": 41,
      "outputs": [
        {
          "output_type": "stream",
          "name": "stdout",
          "text": [
            "Found 3182 images belonging to 2 classes.\n"
          ]
        }
      ]
    },
    {
      "cell_type": "code",
      "source": [
        "import h5py"
      ],
      "metadata": {
        "id": "8dqyT1tnuMYb"
      },
      "id": "8dqyT1tnuMYb",
      "execution_count": 42,
      "outputs": []
    },
    {
      "cell_type": "code",
      "source": [
        "def my_model_predict(test_generator, MODEL_PATH):\n",
        "\n",
        "    class_map = {\n",
        "    0: 'chorus',\n",
        "    1: 'enter',\n",
        "    2: 'merry',\n",
        "    3: 'two',\n",
        "    }\n",
        "\n",
        "    model = tf.keras.models.load_model(MODEL_PATH)\n",
        "    pred = model.predict(test_generator)\n",
        "    predidxs = np.argmax(pred, axis=1)\n",
        "\n",
        "    prediction = []\n",
        "    for i in predidxs:\n",
        "        prediction.append(class_map[i])\n",
        "\n",
        "    import pandas as pd\n",
        "    predict_df = pd.DataFrame({'sec': range(1,3183),\n",
        "                               'predict': prediction})\n",
        "    predict_df = predict_df.set_index('sec')\n",
        "\n",
        "\n",
        "    return predict_df"
      ],
      "metadata": {
        "id": "4yWJs5y2uMSD"
      },
      "id": "4yWJs5y2uMSD",
      "execution_count": 54,
      "outputs": []
    },
    {
      "cell_type": "code",
      "source": [
        "predict_df = my_model_predict(test_generator, MODEL_PATH)"
      ],
      "metadata": {
        "id": "p1nGWadCuMMm"
      },
      "id": "p1nGWadCuMMm",
      "execution_count": 55,
      "outputs": []
    },
    {
      "cell_type": "code",
      "source": [
        "predict_df"
      ],
      "metadata": {
        "colab": {
          "base_uri": "https://localhost:8080/",
          "height": 656
        },
        "id": "Z2wJSJDJuxEL",
        "outputId": "7631f9cd-0d30-49e2-ffbf-ae1d98a9fa8c"
      },
      "id": "Z2wJSJDJuxEL",
      "execution_count": 56,
      "outputs": [
        {
          "output_type": "execute_result",
          "data": {
            "text/plain": [
              "     predict\n",
              "sec         \n",
              "1      enter\n",
              "2      enter\n",
              "3      enter\n",
              "4      enter\n",
              "5      enter\n",
              "...      ...\n",
              "3178   enter\n",
              "3179   enter\n",
              "3180   enter\n",
              "3181   enter\n",
              "3182   enter\n",
              "\n",
              "[3182 rows x 1 columns]"
            ],
            "text/html": [
              "\n",
              "  <div id=\"df-d2c4688d-f3d2-493d-88e8-138d5bf1cb29\">\n",
              "    <div class=\"colab-df-container\">\n",
              "      <div>\n",
              "<style scoped>\n",
              "    .dataframe tbody tr th:only-of-type {\n",
              "        vertical-align: middle;\n",
              "    }\n",
              "\n",
              "    .dataframe tbody tr th {\n",
              "        vertical-align: top;\n",
              "    }\n",
              "\n",
              "    .dataframe thead th {\n",
              "        text-align: right;\n",
              "    }\n",
              "</style>\n",
              "<table border=\"1\" class=\"dataframe\">\n",
              "  <thead>\n",
              "    <tr style=\"text-align: right;\">\n",
              "      <th></th>\n",
              "      <th>predict</th>\n",
              "    </tr>\n",
              "    <tr>\n",
              "      <th>sec</th>\n",
              "      <th></th>\n",
              "    </tr>\n",
              "  </thead>\n",
              "  <tbody>\n",
              "    <tr>\n",
              "      <th>1</th>\n",
              "      <td>enter</td>\n",
              "    </tr>\n",
              "    <tr>\n",
              "      <th>2</th>\n",
              "      <td>enter</td>\n",
              "    </tr>\n",
              "    <tr>\n",
              "      <th>3</th>\n",
              "      <td>enter</td>\n",
              "    </tr>\n",
              "    <tr>\n",
              "      <th>4</th>\n",
              "      <td>enter</td>\n",
              "    </tr>\n",
              "    <tr>\n",
              "      <th>5</th>\n",
              "      <td>enter</td>\n",
              "    </tr>\n",
              "    <tr>\n",
              "      <th>...</th>\n",
              "      <td>...</td>\n",
              "    </tr>\n",
              "    <tr>\n",
              "      <th>3178</th>\n",
              "      <td>enter</td>\n",
              "    </tr>\n",
              "    <tr>\n",
              "      <th>3179</th>\n",
              "      <td>enter</td>\n",
              "    </tr>\n",
              "    <tr>\n",
              "      <th>3180</th>\n",
              "      <td>enter</td>\n",
              "    </tr>\n",
              "    <tr>\n",
              "      <th>3181</th>\n",
              "      <td>enter</td>\n",
              "    </tr>\n",
              "    <tr>\n",
              "      <th>3182</th>\n",
              "      <td>enter</td>\n",
              "    </tr>\n",
              "  </tbody>\n",
              "</table>\n",
              "<p>3182 rows × 1 columns</p>\n",
              "</div>\n",
              "      <button class=\"colab-df-convert\" onclick=\"convertToInteractive('df-d2c4688d-f3d2-493d-88e8-138d5bf1cb29')\"\n",
              "              title=\"Convert this dataframe to an interactive table.\"\n",
              "              style=\"display:none;\">\n",
              "        \n",
              "  <svg xmlns=\"http://www.w3.org/2000/svg\" height=\"24px\"viewBox=\"0 0 24 24\"\n",
              "       width=\"24px\">\n",
              "    <path d=\"M0 0h24v24H0V0z\" fill=\"none\"/>\n",
              "    <path d=\"M18.56 5.44l.94 2.06.94-2.06 2.06-.94-2.06-.94-.94-2.06-.94 2.06-2.06.94zm-11 1L8.5 8.5l.94-2.06 2.06-.94-2.06-.94L8.5 2.5l-.94 2.06-2.06.94zm10 10l.94 2.06.94-2.06 2.06-.94-2.06-.94-.94-2.06-.94 2.06-2.06.94z\"/><path d=\"M17.41 7.96l-1.37-1.37c-.4-.4-.92-.59-1.43-.59-.52 0-1.04.2-1.43.59L10.3 9.45l-7.72 7.72c-.78.78-.78 2.05 0 2.83L4 21.41c.39.39.9.59 1.41.59.51 0 1.02-.2 1.41-.59l7.78-7.78 2.81-2.81c.8-.78.8-2.07 0-2.86zM5.41 20L4 18.59l7.72-7.72 1.47 1.35L5.41 20z\"/>\n",
              "  </svg>\n",
              "      </button>\n",
              "      \n",
              "  <style>\n",
              "    .colab-df-container {\n",
              "      display:flex;\n",
              "      flex-wrap:wrap;\n",
              "      gap: 12px;\n",
              "    }\n",
              "\n",
              "    .colab-df-convert {\n",
              "      background-color: #E8F0FE;\n",
              "      border: none;\n",
              "      border-radius: 50%;\n",
              "      cursor: pointer;\n",
              "      display: none;\n",
              "      fill: #1967D2;\n",
              "      height: 32px;\n",
              "      padding: 0 0 0 0;\n",
              "      width: 32px;\n",
              "    }\n",
              "\n",
              "    .colab-df-convert:hover {\n",
              "      background-color: #E2EBFA;\n",
              "      box-shadow: 0px 1px 2px rgba(60, 64, 67, 0.3), 0px 1px 3px 1px rgba(60, 64, 67, 0.15);\n",
              "      fill: #174EA6;\n",
              "    }\n",
              "\n",
              "    [theme=dark] .colab-df-convert {\n",
              "      background-color: #3B4455;\n",
              "      fill: #D2E3FC;\n",
              "    }\n",
              "\n",
              "    [theme=dark] .colab-df-convert:hover {\n",
              "      background-color: #434B5C;\n",
              "      box-shadow: 0px 1px 3px 1px rgba(0, 0, 0, 0.15);\n",
              "      filter: drop-shadow(0px 1px 2px rgba(0, 0, 0, 0.3));\n",
              "      fill: #FFFFFF;\n",
              "    }\n",
              "  </style>\n",
              "\n",
              "      <script>\n",
              "        const buttonEl =\n",
              "          document.querySelector('#df-d2c4688d-f3d2-493d-88e8-138d5bf1cb29 button.colab-df-convert');\n",
              "        buttonEl.style.display =\n",
              "          google.colab.kernel.accessAllowed ? 'block' : 'none';\n",
              "\n",
              "        async function convertToInteractive(key) {\n",
              "          const element = document.querySelector('#df-d2c4688d-f3d2-493d-88e8-138d5bf1cb29');\n",
              "          const dataTable =\n",
              "            await google.colab.kernel.invokeFunction('convertToInteractive',\n",
              "                                                     [key], {});\n",
              "          if (!dataTable) return;\n",
              "\n",
              "          const docLinkHtml = 'Like what you see? Visit the ' +\n",
              "            '<a target=\"_blank\" href=https://colab.research.google.com/notebooks/data_table.ipynb>data table notebook</a>'\n",
              "            + ' to learn more about interactive tables.';\n",
              "          element.innerHTML = '';\n",
              "          dataTable['output_type'] = 'display_data';\n",
              "          await google.colab.output.renderOutput(dataTable, element);\n",
              "          const docLink = document.createElement('div');\n",
              "          docLink.innerHTML = docLinkHtml;\n",
              "          element.appendChild(docLink);\n",
              "        }\n",
              "      </script>\n",
              "    </div>\n",
              "  </div>\n",
              "  "
            ]
          },
          "metadata": {},
          "execution_count": 56
        }
      ]
    },
    {
      "cell_type": "code",
      "source": [
        "opening = [ 'opneing' for i in range(1,129)]\n",
        "enter = ['enter' for i in range(129,1039)]\n",
        "chorus = ['chorus' for i in range(1039,1556)]\n",
        "merry = ['merry' for i in range(1556,2358)]\n",
        "two = ['two' for i in range(2358,2950)]\n",
        "ending = ['ending' for i in range(2950,3183)]\n",
        "corner = opening + enter + chorus + merry + two + ending\n",
        "\n",
        "result = {\n",
        "    'sec' : range(1,3183)\n",
        "    , 'corner':corner\n",
        "}\n",
        "\n",
        "df_result = pd.DataFrame(result)\n",
        "df_result\n",
        "\n",
        "pj3 = pd.read_csv('/content/drive/MyDrive/AIVLE_3rd_Team/predict_df.csv')\n",
        "\n",
        "pj3 = pd.merge(pj3, df_result, on='sec')\n",
        "pj3['same'] = np.where(pj3['predict'] == pj3['corner'], 0, 1)\n",
        "\n",
        "pj3.loc[129:2948]\n",
        "\n",
        "pj3.loc[129:2948].groupby(by='same')['sec'].count()\n",
        "pj3.loc[129:1038].groupby(by='same', as_index=False)['sec'].count()\n",
        "\n",
        "tmp_enter = pd.DataFrame(pj3.loc[129:1038].groupby(by='same', as_index=False)['sec'].count())\n",
        "tmp_enter.rename(columns={'sec':'enter'}, inplace=True)\n",
        "\n",
        "tmp_chorus = pd.DataFrame(pj3.loc[1038:1554].groupby(by='same', as_index=False)['sec'].count())\n",
        "tmp_chorus.rename(columns={'sec':'chorus'}, inplace=True)\n",
        "\n",
        "tmp_merry = pd.DataFrame(pj3.loc[1554:2356].groupby(by='same', as_index=False)['sec'].count())\n",
        "tmp_merry.rename(columns={'sec':'merry'}, inplace=True)\n",
        "\n",
        "tmp_two = pd.DataFrame(pj3.loc[2356:2948].groupby(by='same', as_index=False)['sec'].count())\n",
        "tmp_two.rename(columns={'sec':'two'}, inplace=True)\n",
        "\n",
        "tmp_1 = pd.merge(tmp_enter, tmp_chorus, on='same', how='outer')\n",
        "tmp_2 = pd.merge(tmp_1, tmp_merry, on='same', how='outer')\n",
        "tmp = pd.merge(tmp_2, tmp_two, on='same', how='outer')\n",
        "\n",
        "tmp['total'] = tmp['enter'] + tmp['chorus'] + tmp['merry'] + tmp['two']\n",
        "tmp.loc[2] = [2,0,0,0,0,0]\n",
        "tmp['same'] = tmp['same'].map({0:'same', 1:'diffrence', 2:'accuracy'})\n",
        "tmp.loc[2, 'enter'] = round(tmp.loc[0, 'enter'] / (tmp.loc[0, 'enter'] + tmp.loc[1, 'enter']) * 100, 2)\n",
        "tmp.loc[2, 'chorus'] = round(tmp.loc[0, 'chorus'] / (tmp.loc[0, 'chorus'] + tmp.loc[1, 'chorus']) * 100, 2)\n",
        "tmp.loc[2, 'merry'] = round(tmp.loc[0, 'merry'] / (tmp.loc[0, 'merry'] + tmp.loc[1, 'merry']) * 100, 2)\n",
        "tmp.loc[2, 'two'] = round(tmp.loc[0, 'two'] / (tmp.loc[0, 'two'] + tmp.loc[1, 'two']) * 100, 2)\n",
        "tmp.loc[2, 'total'] = round(tmp.loc[0, 'total'] / (tmp.loc[0, 'total'] + tmp.loc[1, 'total']) * 100, 2)\n"
      ],
      "metadata": {
        "id": "OGkgdqsQQPDG"
      },
      "id": "OGkgdqsQQPDG",
      "execution_count": 76,
      "outputs": []
    },
    {
      "cell_type": "code",
      "source": [
        "pj3"
      ],
      "metadata": {
        "colab": {
          "base_uri": "https://localhost:8080/",
          "height": 424
        },
        "id": "8fD1KwqNSLnl",
        "outputId": "5dbaffb0-62dd-4624-c621-cbfb9de30cf4"
      },
      "id": "8fD1KwqNSLnl",
      "execution_count": 77,
      "outputs": [
        {
          "output_type": "execute_result",
          "data": {
            "text/plain": [
              "       sec predict   corner  same\n",
              "0        1   enter  opneing     1\n",
              "1        2   enter  opneing     1\n",
              "2        3   enter  opneing     1\n",
              "3        4   enter  opneing     1\n",
              "4        5   enter  opneing     1\n",
              "...    ...     ...      ...   ...\n",
              "3177  3178   enter   ending     1\n",
              "3178  3179   enter   ending     1\n",
              "3179  3180   enter   ending     1\n",
              "3180  3181   enter   ending     1\n",
              "3181  3182   enter   ending     1\n",
              "\n",
              "[3182 rows x 4 columns]"
            ],
            "text/html": [
              "\n",
              "  <div id=\"df-fc0a0ab1-63ef-4fb3-a29b-aa02c2f28bda\">\n",
              "    <div class=\"colab-df-container\">\n",
              "      <div>\n",
              "<style scoped>\n",
              "    .dataframe tbody tr th:only-of-type {\n",
              "        vertical-align: middle;\n",
              "    }\n",
              "\n",
              "    .dataframe tbody tr th {\n",
              "        vertical-align: top;\n",
              "    }\n",
              "\n",
              "    .dataframe thead th {\n",
              "        text-align: right;\n",
              "    }\n",
              "</style>\n",
              "<table border=\"1\" class=\"dataframe\">\n",
              "  <thead>\n",
              "    <tr style=\"text-align: right;\">\n",
              "      <th></th>\n",
              "      <th>sec</th>\n",
              "      <th>predict</th>\n",
              "      <th>corner</th>\n",
              "      <th>same</th>\n",
              "    </tr>\n",
              "  </thead>\n",
              "  <tbody>\n",
              "    <tr>\n",
              "      <th>0</th>\n",
              "      <td>1</td>\n",
              "      <td>enter</td>\n",
              "      <td>opneing</td>\n",
              "      <td>1</td>\n",
              "    </tr>\n",
              "    <tr>\n",
              "      <th>1</th>\n",
              "      <td>2</td>\n",
              "      <td>enter</td>\n",
              "      <td>opneing</td>\n",
              "      <td>1</td>\n",
              "    </tr>\n",
              "    <tr>\n",
              "      <th>2</th>\n",
              "      <td>3</td>\n",
              "      <td>enter</td>\n",
              "      <td>opneing</td>\n",
              "      <td>1</td>\n",
              "    </tr>\n",
              "    <tr>\n",
              "      <th>3</th>\n",
              "      <td>4</td>\n",
              "      <td>enter</td>\n",
              "      <td>opneing</td>\n",
              "      <td>1</td>\n",
              "    </tr>\n",
              "    <tr>\n",
              "      <th>4</th>\n",
              "      <td>5</td>\n",
              "      <td>enter</td>\n",
              "      <td>opneing</td>\n",
              "      <td>1</td>\n",
              "    </tr>\n",
              "    <tr>\n",
              "      <th>...</th>\n",
              "      <td>...</td>\n",
              "      <td>...</td>\n",
              "      <td>...</td>\n",
              "      <td>...</td>\n",
              "    </tr>\n",
              "    <tr>\n",
              "      <th>3177</th>\n",
              "      <td>3178</td>\n",
              "      <td>enter</td>\n",
              "      <td>ending</td>\n",
              "      <td>1</td>\n",
              "    </tr>\n",
              "    <tr>\n",
              "      <th>3178</th>\n",
              "      <td>3179</td>\n",
              "      <td>enter</td>\n",
              "      <td>ending</td>\n",
              "      <td>1</td>\n",
              "    </tr>\n",
              "    <tr>\n",
              "      <th>3179</th>\n",
              "      <td>3180</td>\n",
              "      <td>enter</td>\n",
              "      <td>ending</td>\n",
              "      <td>1</td>\n",
              "    </tr>\n",
              "    <tr>\n",
              "      <th>3180</th>\n",
              "      <td>3181</td>\n",
              "      <td>enter</td>\n",
              "      <td>ending</td>\n",
              "      <td>1</td>\n",
              "    </tr>\n",
              "    <tr>\n",
              "      <th>3181</th>\n",
              "      <td>3182</td>\n",
              "      <td>enter</td>\n",
              "      <td>ending</td>\n",
              "      <td>1</td>\n",
              "    </tr>\n",
              "  </tbody>\n",
              "</table>\n",
              "<p>3182 rows × 4 columns</p>\n",
              "</div>\n",
              "      <button class=\"colab-df-convert\" onclick=\"convertToInteractive('df-fc0a0ab1-63ef-4fb3-a29b-aa02c2f28bda')\"\n",
              "              title=\"Convert this dataframe to an interactive table.\"\n",
              "              style=\"display:none;\">\n",
              "        \n",
              "  <svg xmlns=\"http://www.w3.org/2000/svg\" height=\"24px\"viewBox=\"0 0 24 24\"\n",
              "       width=\"24px\">\n",
              "    <path d=\"M0 0h24v24H0V0z\" fill=\"none\"/>\n",
              "    <path d=\"M18.56 5.44l.94 2.06.94-2.06 2.06-.94-2.06-.94-.94-2.06-.94 2.06-2.06.94zm-11 1L8.5 8.5l.94-2.06 2.06-.94-2.06-.94L8.5 2.5l-.94 2.06-2.06.94zm10 10l.94 2.06.94-2.06 2.06-.94-2.06-.94-.94-2.06-.94 2.06-2.06.94z\"/><path d=\"M17.41 7.96l-1.37-1.37c-.4-.4-.92-.59-1.43-.59-.52 0-1.04.2-1.43.59L10.3 9.45l-7.72 7.72c-.78.78-.78 2.05 0 2.83L4 21.41c.39.39.9.59 1.41.59.51 0 1.02-.2 1.41-.59l7.78-7.78 2.81-2.81c.8-.78.8-2.07 0-2.86zM5.41 20L4 18.59l7.72-7.72 1.47 1.35L5.41 20z\"/>\n",
              "  </svg>\n",
              "      </button>\n",
              "      \n",
              "  <style>\n",
              "    .colab-df-container {\n",
              "      display:flex;\n",
              "      flex-wrap:wrap;\n",
              "      gap: 12px;\n",
              "    }\n",
              "\n",
              "    .colab-df-convert {\n",
              "      background-color: #E8F0FE;\n",
              "      border: none;\n",
              "      border-radius: 50%;\n",
              "      cursor: pointer;\n",
              "      display: none;\n",
              "      fill: #1967D2;\n",
              "      height: 32px;\n",
              "      padding: 0 0 0 0;\n",
              "      width: 32px;\n",
              "    }\n",
              "\n",
              "    .colab-df-convert:hover {\n",
              "      background-color: #E2EBFA;\n",
              "      box-shadow: 0px 1px 2px rgba(60, 64, 67, 0.3), 0px 1px 3px 1px rgba(60, 64, 67, 0.15);\n",
              "      fill: #174EA6;\n",
              "    }\n",
              "\n",
              "    [theme=dark] .colab-df-convert {\n",
              "      background-color: #3B4455;\n",
              "      fill: #D2E3FC;\n",
              "    }\n",
              "\n",
              "    [theme=dark] .colab-df-convert:hover {\n",
              "      background-color: #434B5C;\n",
              "      box-shadow: 0px 1px 3px 1px rgba(0, 0, 0, 0.15);\n",
              "      filter: drop-shadow(0px 1px 2px rgba(0, 0, 0, 0.3));\n",
              "      fill: #FFFFFF;\n",
              "    }\n",
              "  </style>\n",
              "\n",
              "      <script>\n",
              "        const buttonEl =\n",
              "          document.querySelector('#df-fc0a0ab1-63ef-4fb3-a29b-aa02c2f28bda button.colab-df-convert');\n",
              "        buttonEl.style.display =\n",
              "          google.colab.kernel.accessAllowed ? 'block' : 'none';\n",
              "\n",
              "        async function convertToInteractive(key) {\n",
              "          const element = document.querySelector('#df-fc0a0ab1-63ef-4fb3-a29b-aa02c2f28bda');\n",
              "          const dataTable =\n",
              "            await google.colab.kernel.invokeFunction('convertToInteractive',\n",
              "                                                     [key], {});\n",
              "          if (!dataTable) return;\n",
              "\n",
              "          const docLinkHtml = 'Like what you see? Visit the ' +\n",
              "            '<a target=\"_blank\" href=https://colab.research.google.com/notebooks/data_table.ipynb>data table notebook</a>'\n",
              "            + ' to learn more about interactive tables.';\n",
              "          element.innerHTML = '';\n",
              "          dataTable['output_type'] = 'display_data';\n",
              "          await google.colab.output.renderOutput(dataTable, element);\n",
              "          const docLink = document.createElement('div');\n",
              "          docLink.innerHTML = docLinkHtml;\n",
              "          element.appendChild(docLink);\n",
              "        }\n",
              "      </script>\n",
              "    </div>\n",
              "  </div>\n",
              "  "
            ]
          },
          "metadata": {},
          "execution_count": 77
        }
      ]
    },
    {
      "cell_type": "code",
      "source": [
        "tmp"
      ],
      "metadata": {
        "colab": {
          "base_uri": "https://localhost:8080/",
          "height": 143
        },
        "id": "-dAkJLc6SN8H",
        "outputId": "935b1983-7eda-4364-f77e-96642db51451"
      },
      "id": "-dAkJLc6SN8H",
      "execution_count": 78,
      "outputs": [
        {
          "output_type": "execute_result",
          "data": {
            "text/plain": [
              "        same   enter  chorus   merry     two    total\n",
              "0       same  909.00  513.00  801.00  590.00  2813.00\n",
              "1  diffrence    1.00    4.00    2.00    3.00    10.00\n",
              "2   accuracy   99.89   99.23   99.75   99.49    99.65"
            ],
            "text/html": [
              "\n",
              "  <div id=\"df-521b7924-3dce-4205-8531-27fa013047df\">\n",
              "    <div class=\"colab-df-container\">\n",
              "      <div>\n",
              "<style scoped>\n",
              "    .dataframe tbody tr th:only-of-type {\n",
              "        vertical-align: middle;\n",
              "    }\n",
              "\n",
              "    .dataframe tbody tr th {\n",
              "        vertical-align: top;\n",
              "    }\n",
              "\n",
              "    .dataframe thead th {\n",
              "        text-align: right;\n",
              "    }\n",
              "</style>\n",
              "<table border=\"1\" class=\"dataframe\">\n",
              "  <thead>\n",
              "    <tr style=\"text-align: right;\">\n",
              "      <th></th>\n",
              "      <th>same</th>\n",
              "      <th>enter</th>\n",
              "      <th>chorus</th>\n",
              "      <th>merry</th>\n",
              "      <th>two</th>\n",
              "      <th>total</th>\n",
              "    </tr>\n",
              "  </thead>\n",
              "  <tbody>\n",
              "    <tr>\n",
              "      <th>0</th>\n",
              "      <td>same</td>\n",
              "      <td>909.00</td>\n",
              "      <td>513.00</td>\n",
              "      <td>801.00</td>\n",
              "      <td>590.00</td>\n",
              "      <td>2813.00</td>\n",
              "    </tr>\n",
              "    <tr>\n",
              "      <th>1</th>\n",
              "      <td>diffrence</td>\n",
              "      <td>1.00</td>\n",
              "      <td>4.00</td>\n",
              "      <td>2.00</td>\n",
              "      <td>3.00</td>\n",
              "      <td>10.00</td>\n",
              "    </tr>\n",
              "    <tr>\n",
              "      <th>2</th>\n",
              "      <td>accuracy</td>\n",
              "      <td>99.89</td>\n",
              "      <td>99.23</td>\n",
              "      <td>99.75</td>\n",
              "      <td>99.49</td>\n",
              "      <td>99.65</td>\n",
              "    </tr>\n",
              "  </tbody>\n",
              "</table>\n",
              "</div>\n",
              "      <button class=\"colab-df-convert\" onclick=\"convertToInteractive('df-521b7924-3dce-4205-8531-27fa013047df')\"\n",
              "              title=\"Convert this dataframe to an interactive table.\"\n",
              "              style=\"display:none;\">\n",
              "        \n",
              "  <svg xmlns=\"http://www.w3.org/2000/svg\" height=\"24px\"viewBox=\"0 0 24 24\"\n",
              "       width=\"24px\">\n",
              "    <path d=\"M0 0h24v24H0V0z\" fill=\"none\"/>\n",
              "    <path d=\"M18.56 5.44l.94 2.06.94-2.06 2.06-.94-2.06-.94-.94-2.06-.94 2.06-2.06.94zm-11 1L8.5 8.5l.94-2.06 2.06-.94-2.06-.94L8.5 2.5l-.94 2.06-2.06.94zm10 10l.94 2.06.94-2.06 2.06-.94-2.06-.94-.94-2.06-.94 2.06-2.06.94z\"/><path d=\"M17.41 7.96l-1.37-1.37c-.4-.4-.92-.59-1.43-.59-.52 0-1.04.2-1.43.59L10.3 9.45l-7.72 7.72c-.78.78-.78 2.05 0 2.83L4 21.41c.39.39.9.59 1.41.59.51 0 1.02-.2 1.41-.59l7.78-7.78 2.81-2.81c.8-.78.8-2.07 0-2.86zM5.41 20L4 18.59l7.72-7.72 1.47 1.35L5.41 20z\"/>\n",
              "  </svg>\n",
              "      </button>\n",
              "      \n",
              "  <style>\n",
              "    .colab-df-container {\n",
              "      display:flex;\n",
              "      flex-wrap:wrap;\n",
              "      gap: 12px;\n",
              "    }\n",
              "\n",
              "    .colab-df-convert {\n",
              "      background-color: #E8F0FE;\n",
              "      border: none;\n",
              "      border-radius: 50%;\n",
              "      cursor: pointer;\n",
              "      display: none;\n",
              "      fill: #1967D2;\n",
              "      height: 32px;\n",
              "      padding: 0 0 0 0;\n",
              "      width: 32px;\n",
              "    }\n",
              "\n",
              "    .colab-df-convert:hover {\n",
              "      background-color: #E2EBFA;\n",
              "      box-shadow: 0px 1px 2px rgba(60, 64, 67, 0.3), 0px 1px 3px 1px rgba(60, 64, 67, 0.15);\n",
              "      fill: #174EA6;\n",
              "    }\n",
              "\n",
              "    [theme=dark] .colab-df-convert {\n",
              "      background-color: #3B4455;\n",
              "      fill: #D2E3FC;\n",
              "    }\n",
              "\n",
              "    [theme=dark] .colab-df-convert:hover {\n",
              "      background-color: #434B5C;\n",
              "      box-shadow: 0px 1px 3px 1px rgba(0, 0, 0, 0.15);\n",
              "      filter: drop-shadow(0px 1px 2px rgba(0, 0, 0, 0.3));\n",
              "      fill: #FFFFFF;\n",
              "    }\n",
              "  </style>\n",
              "\n",
              "      <script>\n",
              "        const buttonEl =\n",
              "          document.querySelector('#df-521b7924-3dce-4205-8531-27fa013047df button.colab-df-convert');\n",
              "        buttonEl.style.display =\n",
              "          google.colab.kernel.accessAllowed ? 'block' : 'none';\n",
              "\n",
              "        async function convertToInteractive(key) {\n",
              "          const element = document.querySelector('#df-521b7924-3dce-4205-8531-27fa013047df');\n",
              "          const dataTable =\n",
              "            await google.colab.kernel.invokeFunction('convertToInteractive',\n",
              "                                                     [key], {});\n",
              "          if (!dataTable) return;\n",
              "\n",
              "          const docLinkHtml = 'Like what you see? Visit the ' +\n",
              "            '<a target=\"_blank\" href=https://colab.research.google.com/notebooks/data_table.ipynb>data table notebook</a>'\n",
              "            + ' to learn more about interactive tables.';\n",
              "          element.innerHTML = '';\n",
              "          dataTable['output_type'] = 'display_data';\n",
              "          await google.colab.output.renderOutput(dataTable, element);\n",
              "          const docLink = document.createElement('div');\n",
              "          docLink.innerHTML = docLinkHtml;\n",
              "          element.appendChild(docLink);\n",
              "        }\n",
              "      </script>\n",
              "    </div>\n",
              "  </div>\n",
              "  "
            ]
          },
          "metadata": {},
          "execution_count": 78
        }
      ]
    },
    {
      "cell_type": "code",
      "source": [
        "len(os.listdir('/content/drive/MyDrive/AIVLE_3rd_Team/train/image/chorus'))"
      ],
      "metadata": {
        "colab": {
          "base_uri": "https://localhost:8080/"
        },
        "id": "Wg7t4GNZB7Fn",
        "outputId": "9a30ee7d-dc93-4afa-d357-a3b42b6c477d"
      },
      "id": "Wg7t4GNZB7Fn",
      "execution_count": 46,
      "outputs": [
        {
          "output_type": "execute_result",
          "data": {
            "text/plain": [
              "144"
            ]
          },
          "metadata": {},
          "execution_count": 46
        }
      ]
    },
    {
      "cell_type": "code",
      "source": [
        "len(os.listdir('/content/drive/MyDrive/AIVLE_3rd_Team/train/image/enter'))"
      ],
      "metadata": {
        "colab": {
          "base_uri": "https://localhost:8080/"
        },
        "id": "8xkIKsY9B66y",
        "outputId": "d66ae349-777a-43aa-d2da-8bc1453f2a2d"
      },
      "id": "8xkIKsY9B66y",
      "execution_count": 47,
      "outputs": [
        {
          "output_type": "execute_result",
          "data": {
            "text/plain": [
              "177"
            ]
          },
          "metadata": {},
          "execution_count": 47
        }
      ]
    },
    {
      "cell_type": "code",
      "source": [
        "len(os.listdir('/content/drive/MyDrive/AIVLE_3rd_Team/train/image/marry'))"
      ],
      "metadata": {
        "colab": {
          "base_uri": "https://localhost:8080/"
        },
        "id": "XRjXVr_rB62p",
        "outputId": "450e717b-7ab3-4833-8910-157db7eaec67"
      },
      "id": "XRjXVr_rB62p",
      "execution_count": 48,
      "outputs": [
        {
          "output_type": "execute_result",
          "data": {
            "text/plain": [
              "149"
            ]
          },
          "metadata": {},
          "execution_count": 48
        }
      ]
    },
    {
      "cell_type": "code",
      "source": [
        "len(os.listdir('/content/drive/MyDrive/AIVLE_3rd_Team/train/image/two'))"
      ],
      "metadata": {
        "colab": {
          "base_uri": "https://localhost:8080/"
        },
        "id": "jBOg7bCWB6hH",
        "outputId": "fb02565f-a93b-44ba-ce20-d0a97b8945fb"
      },
      "id": "jBOg7bCWB6hH",
      "execution_count": 49,
      "outputs": [
        {
          "output_type": "execute_result",
          "data": {
            "text/plain": [
              "156"
            ]
          },
          "metadata": {},
          "execution_count": 49
        }
      ]
    },
    {
      "cell_type": "code",
      "source": [
        "predict_df.to_csv(\"/content/drive/MyDrive/AIVLE_3rd_Team/predict_df.csv\")"
      ],
      "metadata": {
        "id": "8E1lTzGLKV9C"
      },
      "id": "8E1lTzGLKV9C",
      "execution_count": 58,
      "outputs": []
    }
  ],
  "metadata": {
    "kernelspec": {
      "display_name": "Python 3",
      "language": "python",
      "name": "python3"
    },
    "language_info": {
      "codemirror_mode": {
        "name": "ipython",
        "version": 3
      },
      "file_extension": ".py",
      "mimetype": "text/x-python",
      "name": "python",
      "nbconvert_exporter": "python",
      "pygments_lexer": "ipython3",
      "version": "3.8.8"
    },
    "colab": {
      "provenance": [],
      "collapsed_sections": [],
      "include_colab_link": true
    },
    "gpuClass": "standard",
    "widgets": {
      "application/vnd.jupyter.widget-state+json": {
        "ff97178b279a40e0b4d5d2a8df0e013a": {
          "model_module": "@jupyter-widgets/controls",
          "model_name": "HBoxModel",
          "model_module_version": "1.5.0",
          "state": {
            "_dom_classes": [],
            "_model_module": "@jupyter-widgets/controls",
            "_model_module_version": "1.5.0",
            "_model_name": "HBoxModel",
            "_view_count": null,
            "_view_module": "@jupyter-widgets/controls",
            "_view_module_version": "1.5.0",
            "_view_name": "HBoxView",
            "box_style": "",
            "children": [
              "IPY_MODEL_fc17265c8169474e96848d49abae37fe",
              "IPY_MODEL_795be50eb6d24accbd0302dd53617f01",
              "IPY_MODEL_01fc2e55bce34cd6b60a41f4e719ff20"
            ],
            "layout": "IPY_MODEL_c20efde869504cdaa9113d495151578c"
          }
        },
        "fc17265c8169474e96848d49abae37fe": {
          "model_module": "@jupyter-widgets/controls",
          "model_name": "HTMLModel",
          "model_module_version": "1.5.0",
          "state": {
            "_dom_classes": [],
            "_model_module": "@jupyter-widgets/controls",
            "_model_module_version": "1.5.0",
            "_model_name": "HTMLModel",
            "_view_count": null,
            "_view_module": "@jupyter-widgets/controls",
            "_view_module_version": "1.5.0",
            "_view_name": "HTMLView",
            "description": "",
            "description_tooltip": null,
            "layout": "IPY_MODEL_0ce09e91a93f42efbacfb2707184a48e",
            "placeholder": "​",
            "style": "IPY_MODEL_3551817c59cd47eb8eda202a7f320884",
            "value": "IMAGE CROP PROGRESS: 100%"
          }
        },
        "795be50eb6d24accbd0302dd53617f01": {
          "model_module": "@jupyter-widgets/controls",
          "model_name": "FloatProgressModel",
          "model_module_version": "1.5.0",
          "state": {
            "_dom_classes": [],
            "_model_module": "@jupyter-widgets/controls",
            "_model_module_version": "1.5.0",
            "_model_name": "FloatProgressModel",
            "_view_count": null,
            "_view_module": "@jupyter-widgets/controls",
            "_view_module_version": "1.5.0",
            "_view_name": "ProgressView",
            "bar_style": "success",
            "description": "",
            "description_tooltip": null,
            "layout": "IPY_MODEL_4b5661eb4921443884d6780deb3d1605",
            "max": 3182,
            "min": 0,
            "orientation": "horizontal",
            "style": "IPY_MODEL_860b20ab052444eb816e0761d19152e8",
            "value": 3182
          }
        },
        "01fc2e55bce34cd6b60a41f4e719ff20": {
          "model_module": "@jupyter-widgets/controls",
          "model_name": "HTMLModel",
          "model_module_version": "1.5.0",
          "state": {
            "_dom_classes": [],
            "_model_module": "@jupyter-widgets/controls",
            "_model_module_version": "1.5.0",
            "_model_name": "HTMLModel",
            "_view_count": null,
            "_view_module": "@jupyter-widgets/controls",
            "_view_module_version": "1.5.0",
            "_view_name": "HTMLView",
            "description": "",
            "description_tooltip": null,
            "layout": "IPY_MODEL_19f62038802d4eeabe198ea193672242",
            "placeholder": "​",
            "style": "IPY_MODEL_5b02251d72234948857a77a87655a3c9",
            "value": " 3182/3182 [01:03&lt;00:00, 54.76it/s]"
          }
        },
        "c20efde869504cdaa9113d495151578c": {
          "model_module": "@jupyter-widgets/base",
          "model_name": "LayoutModel",
          "model_module_version": "1.2.0",
          "state": {
            "_model_module": "@jupyter-widgets/base",
            "_model_module_version": "1.2.0",
            "_model_name": "LayoutModel",
            "_view_count": null,
            "_view_module": "@jupyter-widgets/base",
            "_view_module_version": "1.2.0",
            "_view_name": "LayoutView",
            "align_content": null,
            "align_items": null,
            "align_self": null,
            "border": null,
            "bottom": null,
            "display": null,
            "flex": null,
            "flex_flow": null,
            "grid_area": null,
            "grid_auto_columns": null,
            "grid_auto_flow": null,
            "grid_auto_rows": null,
            "grid_column": null,
            "grid_gap": null,
            "grid_row": null,
            "grid_template_areas": null,
            "grid_template_columns": null,
            "grid_template_rows": null,
            "height": null,
            "justify_content": null,
            "justify_items": null,
            "left": null,
            "margin": null,
            "max_height": null,
            "max_width": null,
            "min_height": null,
            "min_width": null,
            "object_fit": null,
            "object_position": null,
            "order": null,
            "overflow": null,
            "overflow_x": null,
            "overflow_y": null,
            "padding": null,
            "right": null,
            "top": null,
            "visibility": null,
            "width": null
          }
        },
        "0ce09e91a93f42efbacfb2707184a48e": {
          "model_module": "@jupyter-widgets/base",
          "model_name": "LayoutModel",
          "model_module_version": "1.2.0",
          "state": {
            "_model_module": "@jupyter-widgets/base",
            "_model_module_version": "1.2.0",
            "_model_name": "LayoutModel",
            "_view_count": null,
            "_view_module": "@jupyter-widgets/base",
            "_view_module_version": "1.2.0",
            "_view_name": "LayoutView",
            "align_content": null,
            "align_items": null,
            "align_self": null,
            "border": null,
            "bottom": null,
            "display": null,
            "flex": null,
            "flex_flow": null,
            "grid_area": null,
            "grid_auto_columns": null,
            "grid_auto_flow": null,
            "grid_auto_rows": null,
            "grid_column": null,
            "grid_gap": null,
            "grid_row": null,
            "grid_template_areas": null,
            "grid_template_columns": null,
            "grid_template_rows": null,
            "height": null,
            "justify_content": null,
            "justify_items": null,
            "left": null,
            "margin": null,
            "max_height": null,
            "max_width": null,
            "min_height": null,
            "min_width": null,
            "object_fit": null,
            "object_position": null,
            "order": null,
            "overflow": null,
            "overflow_x": null,
            "overflow_y": null,
            "padding": null,
            "right": null,
            "top": null,
            "visibility": null,
            "width": null
          }
        },
        "3551817c59cd47eb8eda202a7f320884": {
          "model_module": "@jupyter-widgets/controls",
          "model_name": "DescriptionStyleModel",
          "model_module_version": "1.5.0",
          "state": {
            "_model_module": "@jupyter-widgets/controls",
            "_model_module_version": "1.5.0",
            "_model_name": "DescriptionStyleModel",
            "_view_count": null,
            "_view_module": "@jupyter-widgets/base",
            "_view_module_version": "1.2.0",
            "_view_name": "StyleView",
            "description_width": ""
          }
        },
        "4b5661eb4921443884d6780deb3d1605": {
          "model_module": "@jupyter-widgets/base",
          "model_name": "LayoutModel",
          "model_module_version": "1.2.0",
          "state": {
            "_model_module": "@jupyter-widgets/base",
            "_model_module_version": "1.2.0",
            "_model_name": "LayoutModel",
            "_view_count": null,
            "_view_module": "@jupyter-widgets/base",
            "_view_module_version": "1.2.0",
            "_view_name": "LayoutView",
            "align_content": null,
            "align_items": null,
            "align_self": null,
            "border": null,
            "bottom": null,
            "display": null,
            "flex": null,
            "flex_flow": null,
            "grid_area": null,
            "grid_auto_columns": null,
            "grid_auto_flow": null,
            "grid_auto_rows": null,
            "grid_column": null,
            "grid_gap": null,
            "grid_row": null,
            "grid_template_areas": null,
            "grid_template_columns": null,
            "grid_template_rows": null,
            "height": null,
            "justify_content": null,
            "justify_items": null,
            "left": null,
            "margin": null,
            "max_height": null,
            "max_width": null,
            "min_height": null,
            "min_width": null,
            "object_fit": null,
            "object_position": null,
            "order": null,
            "overflow": null,
            "overflow_x": null,
            "overflow_y": null,
            "padding": null,
            "right": null,
            "top": null,
            "visibility": null,
            "width": null
          }
        },
        "860b20ab052444eb816e0761d19152e8": {
          "model_module": "@jupyter-widgets/controls",
          "model_name": "ProgressStyleModel",
          "model_module_version": "1.5.0",
          "state": {
            "_model_module": "@jupyter-widgets/controls",
            "_model_module_version": "1.5.0",
            "_model_name": "ProgressStyleModel",
            "_view_count": null,
            "_view_module": "@jupyter-widgets/base",
            "_view_module_version": "1.2.0",
            "_view_name": "StyleView",
            "bar_color": null,
            "description_width": ""
          }
        },
        "19f62038802d4eeabe198ea193672242": {
          "model_module": "@jupyter-widgets/base",
          "model_name": "LayoutModel",
          "model_module_version": "1.2.0",
          "state": {
            "_model_module": "@jupyter-widgets/base",
            "_model_module_version": "1.2.0",
            "_model_name": "LayoutModel",
            "_view_count": null,
            "_view_module": "@jupyter-widgets/base",
            "_view_module_version": "1.2.0",
            "_view_name": "LayoutView",
            "align_content": null,
            "align_items": null,
            "align_self": null,
            "border": null,
            "bottom": null,
            "display": null,
            "flex": null,
            "flex_flow": null,
            "grid_area": null,
            "grid_auto_columns": null,
            "grid_auto_flow": null,
            "grid_auto_rows": null,
            "grid_column": null,
            "grid_gap": null,
            "grid_row": null,
            "grid_template_areas": null,
            "grid_template_columns": null,
            "grid_template_rows": null,
            "height": null,
            "justify_content": null,
            "justify_items": null,
            "left": null,
            "margin": null,
            "max_height": null,
            "max_width": null,
            "min_height": null,
            "min_width": null,
            "object_fit": null,
            "object_position": null,
            "order": null,
            "overflow": null,
            "overflow_x": null,
            "overflow_y": null,
            "padding": null,
            "right": null,
            "top": null,
            "visibility": null,
            "width": null
          }
        },
        "5b02251d72234948857a77a87655a3c9": {
          "model_module": "@jupyter-widgets/controls",
          "model_name": "DescriptionStyleModel",
          "model_module_version": "1.5.0",
          "state": {
            "_model_module": "@jupyter-widgets/controls",
            "_model_module_version": "1.5.0",
            "_model_name": "DescriptionStyleModel",
            "_view_count": null,
            "_view_module": "@jupyter-widgets/base",
            "_view_module_version": "1.2.0",
            "_view_name": "StyleView",
            "description_width": ""
          }
        }
      }
    }
  },
  "nbformat": 4,
  "nbformat_minor": 5
}
