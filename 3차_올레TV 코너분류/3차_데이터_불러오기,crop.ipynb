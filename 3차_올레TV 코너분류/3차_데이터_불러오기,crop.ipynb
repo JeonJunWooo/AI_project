{
  "cells": [
    {
      "cell_type": "markdown",
      "metadata": {
        "id": "view-in-github",
        "colab_type": "text"
      },
      "source": [
        "<a href=\"https://colab.research.google.com/github/JeonJunWooo/mini_project/blob/main/3%EC%B0%A8_%EB%8D%B0%EC%9D%B4%ED%84%B0_%EB%B6%88%EB%9F%AC%EC%98%A4%EA%B8%B0%2Ccrop.ipynb\" target=\"_parent\"><img src=\"https://colab.research.google.com/assets/colab-badge.svg\" alt=\"Open In Colab\"/></a>"
      ]
    },
    {
      "cell_type": "markdown",
      "metadata": {
        "id": "d8054119"
      },
      "source": [
        "# 안녕하세요^^ \n",
        "# AIVLE 미니 프로젝트에 오신 여러분을 환영합니다.\n",
        "* 본 과정에서는 실제 사례와 데이터를 기반으로 문제를 해결하는 전체 과정을 자기 주도형 실습으로 진행해볼 예정입니다.\n",
        "* 앞선 교육과정을 정리하는 마음과 지금까지 배운 내용을 바탕으로 문제 해결을 해볼게요!\n",
        "* 미니 프로젝트를 통한 문제 해결 과정 'A에서 Z까지', 지금부터 시작합니다!"
      ],
      "id": "d8054119"
    },
    {
      "cell_type": "markdown",
      "metadata": {
        "id": "ef575059"
      },
      "source": [
        "---"
      ],
      "id": "ef575059"
    },
    {
      "cell_type": "markdown",
      "metadata": {
        "id": "ZPJwlsgmDmMQ"
      },
      "source": [
        "## 0. 환경 설정하기"
      ],
      "id": "ZPJwlsgmDmMQ"
    },
    {
      "cell_type": "markdown",
      "source": [
        "### 1) 구글 드라이브 연결하기"
      ],
      "metadata": {
        "id": "xB7iJVzd7eHh"
      },
      "id": "xB7iJVzd7eHh"
    },
    {
      "cell_type": "code",
      "source": [
        "# 코랩 사용 시 구글 드라이브 연결\n",
        "from google.colab import drive\n",
        "drive.mount('/content/drive')"
      ],
      "metadata": {
        "id": "B8e3LXc_DmMS",
        "colab": {
          "base_uri": "https://localhost:8080/"
        },
        "outputId": "2cbb3c61-baf7-476c-af14-ea30ba918a5a"
      },
      "execution_count": null,
      "outputs": [
        {
          "output_type": "stream",
          "name": "stdout",
          "text": [
            "Mounted at /content/drive\n"
          ]
        }
      ],
      "id": "B8e3LXc_DmMS"
    },
    {
      "cell_type": "markdown",
      "source": [
        "### 2) 경로 확인하기\n",
        "- \"WORK_SPACE\" 에 본인 작업 경로 작성 후 실행(구글 드라이브 최상위에 압축해제 시 그대로 실행. 수정 X).<br>\n",
        "\n",
        "<font color=\"red\">※ 주의. 나머지 경로는 절대 변경하지 마세요.</font>"
      ],
      "metadata": {
        "id": "x0gyKH_wt8sH"
      },
      "id": "x0gyKH_wt8sH"
    },
    {
      "cell_type": "code",
      "source": [
        "# ROOT_PATH 확인 \n",
        "import os\n",
        "\n",
        "# 구글 드라이브 내 프로젝트 압축해제된 영역 (구글 드라이브 최상위에 압축해제하였을 경우 수정하지 않으셔도 됩니다.)\n",
        "WORK_SPACE = \"\"\n",
        "\n",
        "if os.getcwd() == '/content' :\n",
        "  # 구글 드라이브 사용 시 \n",
        "  ROOT_PATH = \"/content/drive/MyDrive/\"+WORK_SPACE+\"/AIVLE3rd_individual\"\n",
        "else :\n",
        "  ROOT_PATH = os.path.abspath('..')\n",
        "\n",
        "# 영상 파일 경로\n",
        "VIDEO_PATH = ROOT_PATH + \"/video\"\n",
        "# 영상을 분할한 이미지 경로\n",
        "IMAGE_PATH = ROOT_PATH + \"/image\"\n"
      ],
      "metadata": {
        "id": "uowqxVvZDmMU"
      },
      "execution_count": null,
      "outputs": [],
      "id": "uowqxVvZDmMU"
    },
    {
      "cell_type": "markdown",
      "source": [
        "### 3) 비디오 데이터 다운로드하기\n",
        "아래 코드를 실행하세요."
      ],
      "metadata": {
        "id": "zOMuCM58oQvb"
      },
      "id": "zOMuCM58oQvb"
    },
    {
      "cell_type": "code",
      "source": [
        "# test data 다운로드\n",
        "!pip install gdown\n",
        "\n",
        "import gdown\n",
        "import shutil\n",
        "import zipfile\n",
        " \n",
        "google_path = 'https://drive.google.com/uc?id='\n",
        "file_id = '....'\n",
        "output_name = 'video.zip'\n",
        "\n",
        "# 파일 다운로드\n",
        "gdown.download(google_path+file_id,output_name,quiet=False)\n",
        "\n",
        "# 파일 위치 이동\n",
        "shutil.move(\"./\" + output_name, ROOT_PATH)\n",
        "\n",
        "zip_file = ROOT_PATH + \"/\" + output_name\n",
        "\n",
        "# 압축해제 \n",
        "with zipfile.ZipFile(zip_file) as z:\n",
        "    z.extractall(ROOT_PATH)\n",
        "\n",
        "os.remove(zip_file)"
      ],
      "metadata": {
        "id": "6SwvLCf6mIIG"
      },
      "id": "6SwvLCf6mIIG",
      "execution_count": null,
      "outputs": []
    },
    {
      "cell_type": "markdown",
      "metadata": {
        "id": "av7r3quaDmMV"
      },
      "source": [
        "### 4) 라이브러리 불러오기\n",
        "필요시 추가 라이브러리는 설치해서 사용하세요."
      ],
      "id": "av7r3quaDmMV"
    },
    {
      "cell_type": "code",
      "execution_count": null,
      "metadata": {
        "scrolled": false,
        "id": "ZYimZcrODmMW"
      },
      "outputs": [],
      "source": [
        "# 필요 라이브러리 불러오기.\n",
        "import os\n",
        "import glob\n",
        "import cv2\n",
        "import matplotlib.pyplot as plt\n",
        "%matplotlib inline"
      ],
      "id": "ZYimZcrODmMW"
    },
    {
      "cell_type": "markdown",
      "metadata": {
        "id": "a30cd0cd"
      },
      "source": [
        "---"
      ],
      "id": "a30cd0cd"
    },
    {
      "cell_type": "markdown",
      "metadata": {
        "id": "32acdb94"
      },
      "source": [
        "# 데이터 탐색부터 먼저 시작해보겠습니다."
      ],
      "id": "32acdb94"
    },
    {
      "cell_type": "markdown",
      "metadata": {
        "id": "revolutionary-farmer"
      },
      "source": [
        "## ▣ 데이터 소개\n",
        "[기본 데이터]\n",
        "* 원본 영상 : 슈퍼맨이 돌아왔다 '21년 7월 영상을 출연진 별로 가공한 영상\n",
        "* 파일 경로 : .VIDEO_PATH = \"./video\"\n",
        "* 파일명 : park.mp4, sam.mp4, sayuri.mp4, jung.mp4"
      ],
      "id": "revolutionary-farmer"
    },
    {
      "cell_type": "markdown",
      "metadata": {
        "id": "matched-broad"
      },
      "source": [
        "---"
      ],
      "id": "matched-broad"
    },
    {
      "cell_type": "markdown",
      "metadata": {
        "id": "warming-gentleman"
      },
      "source": [
        "## 1. 데이터 불러오기"
      ],
      "id": "warming-gentleman"
    },
    {
      "cell_type": "markdown",
      "metadata": {
        "id": "measured-administration"
      },
      "source": [
        "### 1) 비디오 데이터 확인하기"
      ],
      "id": "measured-administration"
    },
    {
      "cell_type": "markdown",
      "metadata": {
        "id": "vocational-animal"
      },
      "source": [
        "<font color=\"green\">[실습문제]</font> 1. 비디오 데이터들의 경로를 <u>LIST</u>에  저장하기\n",
        "* 파일 경로에서 파일들의 경로를 변수명 \"video_list\" 리스트에 저장하세요. \n",
        "> <font color=\"red\"><b>[Hint]</b></font> <br>\n",
        "> 비디오 파일 경로는 <u>'VIDEO_PATH'</u> 입니다.<br>\n",
        "> 영상 파일 확장자는 <u>'mp4'</u> 입니다. <br>\n",
        "> 라이브러리 <u>'glob'</u>을 활용하여 파일들 경로 리스트를 만들 수 있습니다."
      ],
      "id": "vocational-animal"
    },
    {
      "cell_type": "code",
      "source": [
        "video_jung = cv2.VideoCapture(VIDEO_PATH + \"/jung.mp4\")\n",
        "video_park = cv2.VideoCapture(VIDEO_PATH + \"/park.mp4\")\n",
        "video_sam = cv2.VideoCapture(VIDEO_PATH + \"/sam.mp4\")\n",
        "video_sayuri = cv2.VideoCapture(VIDEO_PATH + \"/sayuri.mp4\")"
      ],
      "metadata": {
        "id": "mqzKaQmvmVx1"
      },
      "id": "mqzKaQmvmVx1",
      "execution_count": null,
      "outputs": []
    },
    {
      "cell_type": "code",
      "source": [
        "VIDEO_PATH"
      ],
      "metadata": {
        "colab": {
          "base_uri": "https://localhost:8080/",
          "height": 36
        },
        "id": "IyTfYxKtu3vo",
        "outputId": "147ff447-841d-40ef-a79a-46f52d3a2e09"
      },
      "id": "IyTfYxKtu3vo",
      "execution_count": null,
      "outputs": [
        {
          "output_type": "execute_result",
          "data": {
            "text/plain": [
              "'/content/drive/MyDrive//AIVLE3rd_individual/video'"
            ],
            "application/vnd.google.colaboratory.intrinsic+json": {
              "type": "string"
            }
          },
          "metadata": {},
          "execution_count": 4
        }
      ]
    },
    {
      "cell_type": "code",
      "source": [
        "video_list = glob.glob(VIDEO_PATH + '/*.mp4')"
      ],
      "metadata": {
        "id": "Z7js13TMqQxw"
      },
      "id": "Z7js13TMqQxw",
      "execution_count": null,
      "outputs": []
    },
    {
      "cell_type": "code",
      "source": [
        "video_list"
      ],
      "metadata": {
        "colab": {
          "base_uri": "https://localhost:8080/"
        },
        "id": "LUoHOoXJt-XS",
        "outputId": "15a1beb2-ba88-42f2-d391-39f5937c6dc0"
      },
      "id": "LUoHOoXJt-XS",
      "execution_count": null,
      "outputs": [
        {
          "output_type": "execute_result",
          "data": {
            "text/plain": [
              "['/content/drive/MyDrive//AIVLE3rd_individual/video/jung.mp4',\n",
              " '/content/drive/MyDrive//AIVLE3rd_individual/video/park.mp4',\n",
              " '/content/drive/MyDrive//AIVLE3rd_individual/video/sam.mp4',\n",
              " '/content/drive/MyDrive//AIVLE3rd_individual/video/sayuri.mp4']"
            ]
          },
          "metadata": {},
          "execution_count": 6
        }
      ]
    },
    {
      "cell_type": "markdown",
      "metadata": {
        "id": "bbd0fe57"
      },
      "source": [
        "<font color=\"green\">[실습문제]</font> 2. 비디오 파일들의 졍보를 확인하세요. (openCV 활용)\n",
        "\n"
      ],
      "id": "bbd0fe57"
    },
    {
      "cell_type": "code",
      "execution_count": null,
      "metadata": {
        "id": "a9788a66",
        "colab": {
          "base_uri": "https://localhost:8080/"
        },
        "outputId": "82563a5a-9cfd-4aef-d94e-e1cd0c7322b0"
      },
      "outputs": [
        {
          "output_type": "stream",
          "name": "stdout",
          "text": [
            "가로 : 854.0\n",
            "세로 : 480.0\n",
            "총 프레임 수 : 37801.0\n",
            "FPS : 30.0\n",
            "영상 길이 : 1260 초 \n"
          ]
        }
      ],
      "source": [
        "# 실습해보세요.\n",
        "## 영상의 파일 이름, 영상의 가로, 세로, 총 프레임 수, FPS 정보, 영상 길이\n",
        "\n",
        "video = video_sayuri\n",
        "\n",
        "video_width = video.get(cv2.CAP_PROP_FRAME_WIDTH)\n",
        "video_height = video.get(cv2.CAP_PROP_FRAME_HEIGHT)\n",
        "video_length = video.get(cv2.CAP_PROP_FRAME_COUNT)\n",
        "video_fps = video.get(cv2.CAP_PROP_FPS)\n",
        "\n",
        "print(\"가로 :\", video_width)\n",
        "print(\"세로 :\", video_height)\n",
        "print(\"총 프레임 수 :\", video_length)\n",
        "print(\"FPS :\", video_fps)\n",
        "print(\"영상 길이 : %d 초 \" %round(video_length/video_fps))\n",
        "\n",
        "video.release()\n",
        "\n",
        "\n",
        "\n"
      ],
      "id": "a9788a66"
    },
    {
      "cell_type": "markdown",
      "metadata": {
        "id": "ff2e38f0"
      },
      "source": [
        "### 2) 동영상 프레임 단위로 나눠 이미지 데이터 만들기"
      ],
      "id": "ff2e38f0"
    },
    {
      "cell_type": "markdown",
      "metadata": {
        "id": "84e25a04"
      },
      "source": [
        "<font color=\"green\">[실습문제]</font> 3. 이미지 추출하여 저장하기\n",
        "* 위에서 저장한 \"video_list\"에 있는 파일들을 분할하여 이미지 데이터로 만드세요.\n",
        "* 이미지 저장 경로 : IMAGE_PATH = ROOT_PATH + \"/image\" <br>\n",
        "> <font color=\"red\"><b>[Hint]</b></font> <br>\n",
        "> 파일의 경로가 저장된 video_list를 for문을 활용해서 하나씩 불러오세요."
      ],
      "id": "84e25a04"
    },
    {
      "cell_type": "code",
      "source": [
        "video_list"
      ],
      "metadata": {
        "colab": {
          "base_uri": "https://localhost:8080/"
        },
        "id": "IDGs6CzIt6jq",
        "outputId": "2ecb248e-ef76-4fd1-a25a-aaf87cfb9c19"
      },
      "id": "IDGs6CzIt6jq",
      "execution_count": null,
      "outputs": [
        {
          "output_type": "execute_result",
          "data": {
            "text/plain": [
              "['/content/drive/MyDrive//AIVLE3rd_individual/video/jung.mp4',\n",
              " '/content/drive/MyDrive//AIVLE3rd_individual/video/park.mp4',\n",
              " '/content/drive/MyDrive//AIVLE3rd_individual/video/sam.mp4',\n",
              " '/content/drive/MyDrive//AIVLE3rd_individual/video/sayuri.mp4']"
            ]
          },
          "metadata": {},
          "execution_count": 10
        }
      ]
    },
    {
      "cell_type": "code",
      "source": [
        "IMAGE_PATH = ROOT_PATH + \"/image\""
      ],
      "metadata": {
        "id": "kGxJJjc1rgd8"
      },
      "id": "kGxJJjc1rgd8",
      "execution_count": null,
      "outputs": []
    },
    {
      "cell_type": "code",
      "source": [
        "IMAGE_PATH"
      ],
      "metadata": {
        "colab": {
          "base_uri": "https://localhost:8080/",
          "height": 36
        },
        "id": "4Ydzya8kvzNp",
        "outputId": "d237bcb7-f613-4d2a-c759-fe56348689a5"
      },
      "id": "4Ydzya8kvzNp",
      "execution_count": null,
      "outputs": [
        {
          "output_type": "execute_result",
          "data": {
            "text/plain": [
              "'/content/drive/MyDrive//AIVLE3rd_individual/image'"
            ],
            "application/vnd.google.colaboratory.intrinsic+json": {
              "type": "string"
            }
          },
          "metadata": {},
          "execution_count": 12
        }
      ]
    },
    {
      "cell_type": "code",
      "source": [
        "for i in video_list:\n",
        "    print(i)"
      ],
      "metadata": {
        "colab": {
          "base_uri": "https://localhost:8080/"
        },
        "id": "H_E4TGfc0XbA",
        "outputId": "4bca36a0-e94d-4c59-dffe-4986b66b9705"
      },
      "id": "H_E4TGfc0XbA",
      "execution_count": null,
      "outputs": [
        {
          "output_type": "stream",
          "name": "stdout",
          "text": [
            "/content/drive/MyDrive//AIVLE3rd_individual/video/jung.mp4\n",
            "/content/drive/MyDrive//AIVLE3rd_individual/video/park.mp4\n",
            "/content/drive/MyDrive//AIVLE3rd_individual/video/sayuri.mp4\n",
            "/content/drive/MyDrive//AIVLE3rd_individual/video/sam.mp4\n"
          ]
        }
      ]
    },
    {
      "cell_type": "code",
      "source": [
        "for i in video_list:\n",
        "    video = cv2.VideoCapture(i)\n",
        "    print(video)\n",
        "\n",
        "    if not os.path.exists(IMAGE_PATH):\n",
        "        os.mkdir(IMAGE_PATH)\n",
        "\n",
        "    count = 0\n",
        "    while video.isOpened():\n",
        "        ret, frame = video.read()\n",
        "        if ret:\n",
        "            filename = IMAGE_PATH + \"/\" + str(count) + \".jpg\"\n",
        "            cv2.imwrite(filename, frame)\n",
        "        else:\n",
        "            break\n",
        "        count += 1\n",
        "\n",
        "        video.release()"
      ],
      "metadata": {
        "colab": {
          "base_uri": "https://localhost:8080/"
        },
        "id": "UkphC5U5rlPR",
        "outputId": "00ed33e7-52d5-4005-cf05-583c79c30da1"
      },
      "id": "UkphC5U5rlPR",
      "execution_count": null,
      "outputs": [
        {
          "output_type": "stream",
          "name": "stdout",
          "text": [
            "< cv2.VideoCapture 0x7efc272b0650>\n",
            "< cv2.VideoCapture 0x7efc272b08f0>\n",
            "< cv2.VideoCapture 0x7efc272b0250>\n",
            "< cv2.VideoCapture 0x7efc272b0870>\n"
          ]
        }
      ]
    },
    {
      "cell_type": "code",
      "source": [
        "cv2.CAP_PROP_POS_MSEC"
      ],
      "metadata": {
        "colab": {
          "base_uri": "https://localhost:8080/"
        },
        "id": "ozg1F1fArgWJ",
        "outputId": "54b5b4a8-5073-449a-fa04-8c8329715637"
      },
      "id": "ozg1F1fArgWJ",
      "execution_count": null,
      "outputs": [
        {
          "output_type": "execute_result",
          "data": {
            "text/plain": [
              "0"
            ]
          },
          "metadata": {},
          "execution_count": 16
        }
      ]
    },
    {
      "cell_type": "code",
      "source": [
        "# solution 2\n",
        "IMAGE_PATH = ROOT_PATH + \"/image3\"\n",
        "\n",
        "TIME_MEASUERMENT_UNIT = 5 #TIME MEASUREMENT UNIT을 통해 몇 초 단위로 이미지를 저장할 지 선택\n",
        "\n",
        "if not os.path.exists(IMAGE_PATH):\n",
        "  os.mkdir(IMAGE_PATH)\n",
        "\n",
        "for i in video_list:\n",
        "    video = cv2.VideoCapture(i)\n",
        "    print(video)\n",
        "\n",
        "    if not os.path.exists(i):\n",
        "        os.mkdir(i)\n",
        "\n",
        "    while video.isOpened():\n",
        "        ret,frame = video.read()\n",
        "        if ret:\n",
        "            # 현재 프레임 위치 (msec) \n",
        "            frame_sec = video.get(cv2.CAP_PROP_POS_MSEC)/1000\n",
        "            if frame_sec.is_integer():\n",
        "                if (frame_sec % TIME_MEASUERMENT_UNIT == 0):\n",
        "                    filename = IMAGE_PATH+ \"/\" + str(round(frame_sec)) + \".jpg\"\n",
        "                    cv2.imwrite(filename, frame) \n",
        "        else:\n",
        "            break\n",
        "\n",
        "    video.release()"
      ],
      "metadata": {
        "colab": {
          "base_uri": "https://localhost:8080/"
        },
        "id": "32fMiPPAwtB9",
        "outputId": "40bf7c40-51ae-4862-ac5b-71681f49672c"
      },
      "id": "32fMiPPAwtB9",
      "execution_count": null,
      "outputs": [
        {
          "output_type": "stream",
          "name": "stdout",
          "text": [
            "< cv2.VideoCapture 0x7fa29abc3c70>\n",
            "< cv2.VideoCapture 0x7fa29ab33190>\n",
            "< cv2.VideoCapture 0x7fa29ab35590>\n",
            "< cv2.VideoCapture 0x7fa29ab3a890>\n"
          ]
        }
      ]
    },
    {
      "cell_type": "markdown",
      "source": [
        "## image 파일 정리"
      ],
      "metadata": {
        "id": "sCcmyD7mZCJ5"
      },
      "id": "sCcmyD7mZCJ5"
    },
    {
      "cell_type": "code",
      "source": [
        "# solution 2\n",
        "IMAGE_PATH = ROOT_PATH + \"/image/jung\"\n",
        "\n",
        "TIME_MEASUERMENT_UNIT = 1 #TIME MEASUREMENT UNIT을 통해 몇 초 단위로 이미지를 저장할 지 선택\n",
        "\n",
        "if not os.path.exists(IMAGE_PATH):\n",
        "  os.mkdir(IMAGE_PATH)\n",
        "\n",
        "video = cv2.VideoCapture(VIDEO_PATH + \"/jung.mp4\")\n",
        "\n",
        "while video.isOpened():\n",
        "  ret,frame = video.read()\n",
        "  if ret:\n",
        "    # 현재 프레임 위치 (msec) \n",
        "    frame_sec = video.get(cv2.CAP_PROP_POS_MSEC)/1000\n",
        "    if frame_sec.is_integer():\n",
        "      if (frame_sec % TIME_MEASUERMENT_UNIT == 0):\n",
        "        filename = IMAGE_PATH + \"/\" + str(round(frame_sec)) + \".jpg\"\n",
        "        cv2.imwrite(filename, frame) \n",
        "  else:\n",
        "    break\n"
      ],
      "metadata": {
        "id": "EgBWZOyoYwlG"
      },
      "id": "EgBWZOyoYwlG",
      "execution_count": null,
      "outputs": []
    },
    {
      "cell_type": "code",
      "source": [
        "# solution 2\n",
        "IMAGE_PATH = ROOT_PATH + \"/image/sayuri\"\n",
        "\n",
        "TIME_MEASUERMENT_UNIT = 1 #TIME MEASUREMENT UNIT을 통해 몇 초 단위로 이미지를 저장할 지 선택\n",
        "\n",
        "if not os.path.exists(IMAGE_PATH):\n",
        "  os.mkdir(IMAGE_PATH)\n",
        "\n",
        "video = cv2.VideoCapture(VIDEO_PATH + \"/sayuri.mp4\")\n",
        "\n",
        "while video.isOpened():\n",
        "  ret,frame = video.read()\n",
        "  if ret:\n",
        "    # 현재 프레임 위치 (msec) \n",
        "    frame_sec = video.get(cv2.CAP_PROP_POS_MSEC)/1000\n",
        "    if frame_sec.is_integer():\n",
        "      if (frame_sec % TIME_MEASUERMENT_UNIT == 0):\n",
        "        filename = IMAGE_PATH + \"/\" + str(round(frame_sec)) + \".jpg\"\n",
        "        cv2.imwrite(filename, frame) \n",
        "  else:\n",
        "    break\n"
      ],
      "metadata": {
        "id": "BOQegEkoYwce"
      },
      "id": "BOQegEkoYwce",
      "execution_count": null,
      "outputs": []
    },
    {
      "cell_type": "code",
      "source": [
        "# solution 2\n",
        "IMAGE_PATH = ROOT_PATH + \"/image/sam\"\n",
        "\n",
        "TIME_MEASUERMENT_UNIT = 1 #TIME MEASUREMENT UNIT을 통해 몇 초 단위로 이미지를 저장할 지 선택\n",
        "\n",
        "if not os.path.exists(IMAGE_PATH):\n",
        "  os.mkdir(IMAGE_PATH)\n",
        "\n",
        "video = cv2.VideoCapture(VIDEO_PATH + \"/sam.mp4\")\n",
        "\n",
        "while video.isOpened():\n",
        "  ret,frame = video.read()\n",
        "  if ret:\n",
        "    # 현재 프레임 위치 (msec) \n",
        "    frame_sec = video.get(cv2.CAP_PROP_POS_MSEC)/1000\n",
        "    if frame_sec.is_integer():\n",
        "      if (frame_sec % TIME_MEASUERMENT_UNIT == 0):\n",
        "        filename = IMAGE_PATH + \"/\" + str(round(frame_sec)) + \".jpg\"\n",
        "        cv2.imwrite(filename, frame) \n",
        "  else:\n",
        "    break\n"
      ],
      "metadata": {
        "id": "2a0DfXmcYwVL"
      },
      "id": "2a0DfXmcYwVL",
      "execution_count": null,
      "outputs": []
    },
    {
      "cell_type": "code",
      "source": [
        "# solution 2\n",
        "IMAGE_PATH = ROOT_PATH + \"/image/park\"\n",
        "\n",
        "TIME_MEASUERMENT_UNIT = 1 #TIME MEASUREMENT UNIT을 통해 몇 초 단위로 이미지를 저장할 지 선택\n",
        "\n",
        "if not os.path.exists(IMAGE_PATH):\n",
        "  os.mkdir(IMAGE_PATH)\n",
        "\n",
        "video = cv2.VideoCapture(VIDEO_PATH + \"/park.mp4\")\n",
        "\n",
        "while video.isOpened():\n",
        "  ret,frame = video.read()\n",
        "  if ret:\n",
        "    # 현재 프레임 위치 (msec) \n",
        "    frame_sec = video.get(cv2.CAP_PROP_POS_MSEC)/1000\n",
        "    if frame_sec.is_integer():\n",
        "      if (frame_sec % TIME_MEASUERMENT_UNIT == 0):\n",
        "        filename = IMAGE_PATH + \"/\" + str(round(frame_sec)) + \".jpg\"\n",
        "        cv2.imwrite(filename, frame) \n",
        "  else:\n",
        "    break\n"
      ],
      "metadata": {
        "id": "9tvFBMsKYwMn"
      },
      "id": "9tvFBMsKYwMn",
      "execution_count": null,
      "outputs": []
    },
    {
      "cell_type": "code",
      "source": [],
      "metadata": {
        "id": "LbSnS7zrZH_Q"
      },
      "id": "LbSnS7zrZH_Q",
      "execution_count": null,
      "outputs": []
    },
    {
      "cell_type": "code",
      "source": [
        "import pandas as pd\n",
        "video_path = \"/content/gdrive/MyDrive/AIVLE3rd_individual/video\"\n",
        "video_list = glob.glob(VIDEO_PATH + '/*.mp4')\n",
        "video_df = pd.DataFrame()\n",
        "video_df[\"path\"] = video_list\n",
        "video_df[\"name\"] = video_df[\"path\"].str.split(\"/\").apply(lambda x : x[-1].split(\".\")[0])\n",
        "video_df[\"save\"] = \"/content/gdrive/MyDrive/AIVLE3rd_individual/image/\" + video_df[\"name\"]"
      ],
      "metadata": {
        "id": "O6vaxY_H1MKl"
      },
      "id": "O6vaxY_H1MKl",
      "execution_count": null,
      "outputs": []
    },
    {
      "cell_type": "code",
      "source": [
        "video_df.head()"
      ],
      "metadata": {
        "colab": {
          "base_uri": "https://localhost:8080/",
          "height": 175
        },
        "id": "dTyOcuav2Nk8",
        "outputId": "26cd915e-b4db-465e-df1b-7b7181b2460d"
      },
      "id": "dTyOcuav2Nk8",
      "execution_count": null,
      "outputs": [
        {
          "output_type": "execute_result",
          "data": {
            "text/plain": [
              "                                                path    name  \\\n",
              "0  /content/drive/MyDrive//AIVLE3rd_individual/vi...    jung   \n",
              "1  /content/drive/MyDrive//AIVLE3rd_individual/vi...    park   \n",
              "2  /content/drive/MyDrive//AIVLE3rd_individual/vi...  sayuri   \n",
              "3  /content/drive/MyDrive//AIVLE3rd_individual/vi...     sam   \n",
              "\n",
              "                                                save  \n",
              "0  /content/gdrive/MyDrive/AIVLE3rd_individual/im...  \n",
              "1  /content/gdrive/MyDrive/AIVLE3rd_individual/im...  \n",
              "2  /content/gdrive/MyDrive/AIVLE3rd_individual/im...  \n",
              "3  /content/gdrive/MyDrive/AIVLE3rd_individual/im...  "
            ],
            "text/html": [
              "\n",
              "  <div id=\"df-9d426c03-43db-4a53-92c4-0e8afd9ca41f\">\n",
              "    <div class=\"colab-df-container\">\n",
              "      <div>\n",
              "<style scoped>\n",
              "    .dataframe tbody tr th:only-of-type {\n",
              "        vertical-align: middle;\n",
              "    }\n",
              "\n",
              "    .dataframe tbody tr th {\n",
              "        vertical-align: top;\n",
              "    }\n",
              "\n",
              "    .dataframe thead th {\n",
              "        text-align: right;\n",
              "    }\n",
              "</style>\n",
              "<table border=\"1\" class=\"dataframe\">\n",
              "  <thead>\n",
              "    <tr style=\"text-align: right;\">\n",
              "      <th></th>\n",
              "      <th>path</th>\n",
              "      <th>name</th>\n",
              "      <th>save</th>\n",
              "    </tr>\n",
              "  </thead>\n",
              "  <tbody>\n",
              "    <tr>\n",
              "      <th>0</th>\n",
              "      <td>/content/drive/MyDrive//AIVLE3rd_individual/vi...</td>\n",
              "      <td>jung</td>\n",
              "      <td>/content/gdrive/MyDrive/AIVLE3rd_individual/im...</td>\n",
              "    </tr>\n",
              "    <tr>\n",
              "      <th>1</th>\n",
              "      <td>/content/drive/MyDrive//AIVLE3rd_individual/vi...</td>\n",
              "      <td>park</td>\n",
              "      <td>/content/gdrive/MyDrive/AIVLE3rd_individual/im...</td>\n",
              "    </tr>\n",
              "    <tr>\n",
              "      <th>2</th>\n",
              "      <td>/content/drive/MyDrive//AIVLE3rd_individual/vi...</td>\n",
              "      <td>sayuri</td>\n",
              "      <td>/content/gdrive/MyDrive/AIVLE3rd_individual/im...</td>\n",
              "    </tr>\n",
              "    <tr>\n",
              "      <th>3</th>\n",
              "      <td>/content/drive/MyDrive//AIVLE3rd_individual/vi...</td>\n",
              "      <td>sam</td>\n",
              "      <td>/content/gdrive/MyDrive/AIVLE3rd_individual/im...</td>\n",
              "    </tr>\n",
              "  </tbody>\n",
              "</table>\n",
              "</div>\n",
              "      <button class=\"colab-df-convert\" onclick=\"convertToInteractive('df-9d426c03-43db-4a53-92c4-0e8afd9ca41f')\"\n",
              "              title=\"Convert this dataframe to an interactive table.\"\n",
              "              style=\"display:none;\">\n",
              "        \n",
              "  <svg xmlns=\"http://www.w3.org/2000/svg\" height=\"24px\"viewBox=\"0 0 24 24\"\n",
              "       width=\"24px\">\n",
              "    <path d=\"M0 0h24v24H0V0z\" fill=\"none\"/>\n",
              "    <path d=\"M18.56 5.44l.94 2.06.94-2.06 2.06-.94-2.06-.94-.94-2.06-.94 2.06-2.06.94zm-11 1L8.5 8.5l.94-2.06 2.06-.94-2.06-.94L8.5 2.5l-.94 2.06-2.06.94zm10 10l.94 2.06.94-2.06 2.06-.94-2.06-.94-.94-2.06-.94 2.06-2.06.94z\"/><path d=\"M17.41 7.96l-1.37-1.37c-.4-.4-.92-.59-1.43-.59-.52 0-1.04.2-1.43.59L10.3 9.45l-7.72 7.72c-.78.78-.78 2.05 0 2.83L4 21.41c.39.39.9.59 1.41.59.51 0 1.02-.2 1.41-.59l7.78-7.78 2.81-2.81c.8-.78.8-2.07 0-2.86zM5.41 20L4 18.59l7.72-7.72 1.47 1.35L5.41 20z\"/>\n",
              "  </svg>\n",
              "      </button>\n",
              "      \n",
              "  <style>\n",
              "    .colab-df-container {\n",
              "      display:flex;\n",
              "      flex-wrap:wrap;\n",
              "      gap: 12px;\n",
              "    }\n",
              "\n",
              "    .colab-df-convert {\n",
              "      background-color: #E8F0FE;\n",
              "      border: none;\n",
              "      border-radius: 50%;\n",
              "      cursor: pointer;\n",
              "      display: none;\n",
              "      fill: #1967D2;\n",
              "      height: 32px;\n",
              "      padding: 0 0 0 0;\n",
              "      width: 32px;\n",
              "    }\n",
              "\n",
              "    .colab-df-convert:hover {\n",
              "      background-color: #E2EBFA;\n",
              "      box-shadow: 0px 1px 2px rgba(60, 64, 67, 0.3), 0px 1px 3px 1px rgba(60, 64, 67, 0.15);\n",
              "      fill: #174EA6;\n",
              "    }\n",
              "\n",
              "    [theme=dark] .colab-df-convert {\n",
              "      background-color: #3B4455;\n",
              "      fill: #D2E3FC;\n",
              "    }\n",
              "\n",
              "    [theme=dark] .colab-df-convert:hover {\n",
              "      background-color: #434B5C;\n",
              "      box-shadow: 0px 1px 3px 1px rgba(0, 0, 0, 0.15);\n",
              "      filter: drop-shadow(0px 1px 2px rgba(0, 0, 0, 0.3));\n",
              "      fill: #FFFFFF;\n",
              "    }\n",
              "  </style>\n",
              "\n",
              "      <script>\n",
              "        const buttonEl =\n",
              "          document.querySelector('#df-9d426c03-43db-4a53-92c4-0e8afd9ca41f button.colab-df-convert');\n",
              "        buttonEl.style.display =\n",
              "          google.colab.kernel.accessAllowed ? 'block' : 'none';\n",
              "\n",
              "        async function convertToInteractive(key) {\n",
              "          const element = document.querySelector('#df-9d426c03-43db-4a53-92c4-0e8afd9ca41f');\n",
              "          const dataTable =\n",
              "            await google.colab.kernel.invokeFunction('convertToInteractive',\n",
              "                                                     [key], {});\n",
              "          if (!dataTable) return;\n",
              "\n",
              "          const docLinkHtml = 'Like what you see? Visit the ' +\n",
              "            '<a target=\"_blank\" href=https://colab.research.google.com/notebooks/data_table.ipynb>data table notebook</a>'\n",
              "            + ' to learn more about interactive tables.';\n",
              "          element.innerHTML = '';\n",
              "          dataTable['output_type'] = 'display_data';\n",
              "          await google.colab.output.renderOutput(dataTable, element);\n",
              "          const docLink = document.createElement('div');\n",
              "          docLink.innerHTML = docLinkHtml;\n",
              "          element.appendChild(docLink);\n",
              "        }\n",
              "      </script>\n",
              "    </div>\n",
              "  </div>\n",
              "  "
            ]
          },
          "metadata": {},
          "execution_count": 26
        }
      ]
    },
    {
      "cell_type": "markdown",
      "metadata": {
        "id": "d7c70ca9"
      },
      "source": [
        "<font color=\"green\">[실습문제]</font> 4. 이미지 파일 열어서 확인하기\n",
        "* 전체 이미지 중 각 출연진 별로 5장을 열어서 확인해보세요.\n",
        "> <font color=\"red\"><b>[Hint]</b></font> <br>\n",
        "> matplotlib subplot() 함수를 사용해 보세요.<br>\n",
        "> 참고1. https://matplotlib.org/stable/api/_as_gen/matplotlib.pyplot.imshow.html# <br>\n",
        "> 참고2. https://foss4g.tistory.com/1263"
      ],
      "id": "d7c70ca9"
    },
    {
      "cell_type": "code",
      "execution_count": null,
      "metadata": {
        "id": "5861e10a",
        "colab": {
          "base_uri": "https://localhost:8080/",
          "height": 135
        },
        "outputId": "04f7c219-716f-4dc8-87b4-df7365f3eaed"
      },
      "outputs": [
        {
          "output_type": "display_data",
          "data": {
            "text/plain": [
              "<Figure size 1152x648 with 5 Axes>"
            ],
            "image/png": "[encoded data removed]"
          },
          "metadata": {
            "needs_background": "light"
          }
        }
      ],
      "source": [
        "\n",
        "img_list = glob.glob(IMAGE_PATH + \"/*.jpg\")\n",
        "fig, axes = plt.subplots(1, 5,figsize=(16, 9))\n",
        "\n",
        "for i in range(5):\n",
        "  original_image = cv2.imread(img_list[i])\n",
        "  rgb_image = cv2.cvtColor(original_image,cv2.COLOR_BGR2RGB)\n",
        "  axes[i].imshow(original_image)\n",
        "  axes[i].set_title(\"tutorial\" , fontsize=15)    \n",
        "  axes[i].axis('off')\n",
        "  \n",
        "plt.show()\n"
      ],
      "id": "5861e10a"
    }
  ],
  "metadata": {
    "colab": {
      "collapsed_sections": [],
      "provenance": [],
      "include_colab_link": true
    },
    "kernelspec": {
      "display_name": "Python 3",
      "language": "python",
      "name": "python3"
    },
    "language_info": {
      "codemirror_mode": {
        "name": "ipython",
        "version": 3
      },
      "file_extension": ".py",
      "mimetype": "text/x-python",
      "name": "python",
      "nbconvert_exporter": "python",
      "pygments_lexer": "ipython3",
      "version": "3.8.8"
    }
  },
  "nbformat": 4,
  "nbformat_minor": 5
}
