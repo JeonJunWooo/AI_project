{
  "cells": [
    {
      "cell_type": "markdown",
      "metadata": {
        "id": "rcyuF7L8FION"
      },
      "source": [
        "## [미니프로젝트] 악성사이트 탐지 머신러닝 모델 개발\n",
        "\n",
        "### 여러분은 기업 보안팀에서 근무중인 엔지니어로써, 웹페이지에서 추출한 Feature(특징) 기반으로 악성사이트를 탐지하는 머신러닝 모델 개발 미션을 부여받았습니다.\n",
        "\n",
        "### ▣ 우리가 풀어야 하는 문제는 무엇인가요?\n",
        " - 웹 페이지에서 Feature를 추출하세요.\n",
        " - 악성사이트 여부를 판별하는 성능 좋은 AI모델을 생성하세요.\n",
        "\n",
        "<br>\n",
        "\n",
        "---\n",
        "\n",
        "## ▣ 데이터 소개\n",
        "* 웹 크롤링 데이터셋 : Feature_Website.xlsx\n",
        "\n",
        "## ▣ 웹 크롤링 데이터셋의 변수 소개\n",
        "* html_code : 크롤링을 활용해 수집한 HTML Code 원본\n",
        "* repu : 악성사이트 여부 (malicious : 악성사이트, benign : 정상사이트)\n",
        "<br>\n",
        "\n",
        "---"
      ]
    },
    {
      "cell_type": "markdown",
      "metadata": {
        "id": "FxpCGc4AFIOa"
      },
      "source": [
        "## <b>[1단계] 데이터 수집</b>\n",
        "\n",
        "* 1단계에서는 크롤링으로 수집한 HTML Code를 활용해 Feature를 만드는 과정을 체험합니다."
      ]
    },
    {
      "cell_type": "markdown",
      "metadata": {
        "id": "-3Sap6siFIOd"
      },
      "source": [
        "# <b>Step 0. 본격적인 실습 전 packages 설치\n",
        "* Beautifulsoup 라이브러리 설치\n",
        "* openpyxl 라이브러리 설치"
      ]
    },
    {
      "cell_type": "code",
      "execution_count": null,
      "metadata": {
        "id": "4qQRZe_WFIOg",
        "outputId": "6be5a545-cc96-4bc0-ea73-f6e54caaa03b"
      },
      "outputs": [
        {
          "name": "stdout",
          "output_type": "stream",
          "text": [
            "Requirement already satisfied: bs4 in c:\\users\\user\\anaconda3\\lib\\site-packages (0.0.1)\n",
            "Requirement already satisfied: beautifulsoup4 in c:\\users\\user\\anaconda3\\lib\\site-packages (from bs4) (4.9.3)\n",
            "Requirement already satisfied: soupsieve>1.2 in c:\\users\\user\\anaconda3\\lib\\site-packages (from beautifulsoup4->bs4) (2.2.1)\n"
          ]
        }
      ],
      "source": [
        "!pip install bs4"
      ]
    },
    {
      "cell_type": "code",
      "execution_count": null,
      "metadata": {
        "id": "E3vquOldFIOm",
        "outputId": "f5204677-ca5f-424e-daf0-ba2e004512d2"
      },
      "outputs": [
        {
          "name": "stdout",
          "output_type": "stream",
          "text": [
            "Requirement already satisfied: openpyxl in c:\\users\\user\\anaconda3\\lib\\site-packages (3.0.7)\n",
            "Requirement already satisfied: et-xmlfile in c:\\users\\user\\anaconda3\\lib\\site-packages (from openpyxl) (1.0.1)\n"
          ]
        }
      ],
      "source": [
        "!pip install openpyxl"
      ]
    },
    {
      "cell_type": "markdown",
      "metadata": {
        "id": "ZE6gGUl7FIOo"
      },
      "source": [
        "* 데이터 프레임 관련 라이브러리 Import"
      ]
    },
    {
      "cell_type": "code",
      "execution_count": null,
      "metadata": {
        "id": "fk5JfN46FIOp"
      },
      "outputs": [],
      "source": [
        "#라이브러리들을 불러오자.\n",
        "import numpy as np\n",
        "import pandas as pd\n",
        "import matplotlib.pyplot as plt\n",
        "import seaborn as sns\n",
        "from bs4 import BeautifulSoup"
      ]
    },
    {
      "cell_type": "markdown",
      "metadata": {
        "id": "hClXinv5FIOr"
      },
      "source": [
        "---\n",
        "## <b>Q1. 데이터 불러오기\n",
        "### 정상/악성 HTML Code가 저장된 엑셀파일 불러오기\n",
        "- 파일명 : Feature Website.xlsx\n"
      ]
    },
    {
      "cell_type": "markdown",
      "metadata": {
        "id": "fu-_WLRFFIOu"
      },
      "source": [
        "### <span style=\"color:darkred\">[문제1] Pandas 라이브러리를 활용해서 'Feature Website.xlsx'파일을 'df' 변수에 저장하고 그 info()및 head()를 통해 데이터를 확인하세요.<span>"
      ]
    },
    {
      "cell_type": "code",
      "execution_count": null,
      "metadata": {
        "id": "hZeFcuZRFIOx"
      },
      "outputs": [],
      "source": [
        "# 아래에 실습코드를 작성하고 결과를 확인합니다.\n",
        "df = pd.read_excel('Feature_Website.xlsx')"
      ]
    },
    {
      "cell_type": "code",
      "execution_count": null,
      "metadata": {
        "id": "LxK1dIB9FIOz",
        "outputId": "aa8a2986-dbf7-4e11-c667-242919826f59"
      },
      "outputs": [
        {
          "data": {
            "text/plain": [
              "(40, 2)"
            ]
          },
          "execution_count": 126,
          "metadata": {},
          "output_type": "execute_result"
        }
      ],
      "source": [
        "df.shape"
      ]
    },
    {
      "cell_type": "code",
      "execution_count": null,
      "metadata": {
        "id": "4txMCFALFIO0",
        "outputId": "5d53582e-a343-4e75-b8f2-84f74d6de19e"
      },
      "outputs": [
        {
          "name": "stdout",
          "output_type": "stream",
          "text": [
            "<class 'pandas.core.frame.DataFrame'>\n",
            "RangeIndex: 40 entries, 0 to 39\n",
            "Data columns (total 2 columns):\n",
            " #   Column     Non-Null Count  Dtype \n",
            "---  ------     --------------  ----- \n",
            " 0   html_code  40 non-null     object\n",
            " 1   repu       40 non-null     object\n",
            "dtypes: object(2)\n",
            "memory usage: 768.0+ bytes\n"
          ]
        }
      ],
      "source": [
        "# 데이터 프레임의 info를 확인합니다.\n",
        "df.info()"
      ]
    },
    {
      "cell_type": "code",
      "execution_count": null,
      "metadata": {
        "id": "ZrzYKpv3FIO1",
        "outputId": "aa24de5c-0317-40d0-a279-96842664112e"
      },
      "outputs": [
        {
          "data": {
            "text/html": [
              "<div>\n",
              "<style scoped>\n",
              "    .dataframe tbody tr th:only-of-type {\n",
              "        vertical-align: middle;\n",
              "    }\n",
              "\n",
              "    .dataframe tbody tr th {\n",
              "        vertical-align: top;\n",
              "    }\n",
              "\n",
              "    .dataframe thead th {\n",
              "        text-align: right;\n",
              "    }\n",
              "</style>\n",
              "<table border=\"1\" class=\"dataframe\">\n",
              "  <thead>\n",
              "    <tr style=\"text-align: right;\">\n",
              "      <th></th>\n",
              "      <th>html_code</th>\n",
              "      <th>repu</th>\n",
              "    </tr>\n",
              "  </thead>\n",
              "  <tbody>\n",
              "    <tr>\n",
              "      <th>0</th>\n",
              "      <td>&lt;!DOCTYPE html&gt;\\n&lt;!--[if lt IE 7]&gt; &lt;html lang=...</td>\n",
              "      <td>malicious</td>\n",
              "    </tr>\n",
              "    <tr>\n",
              "      <th>1</th>\n",
              "      <td>\\n\\t\\n\\n\\n\\t\\n\\n\\t\\n\\n\\n\\t\\n\\n\\n\\t\\n\\n\\t\\n\\t\\t...</td>\n",
              "      <td>malicious</td>\n",
              "    </tr>\n",
              "    <tr>\n",
              "      <th>2</th>\n",
              "      <td>&lt;!DOCTYPE html&gt;\\n&lt;html lang=\"en\"&gt;\\n    &lt;head&gt;\\...</td>\n",
              "      <td>malicious</td>\n",
              "    </tr>\n",
              "    <tr>\n",
              "      <th>3</th>\n",
              "      <td>&lt;!DOCTYPE html&gt;&lt;html lang=\"en\"&gt;&lt;head&gt;&lt;style da...</td>\n",
              "      <td>malicious</td>\n",
              "    </tr>\n",
              "    <tr>\n",
              "      <th>4</th>\n",
              "      <td>&lt;!DOCTYPE html&gt;\\n\\n\\n    \\n    \\n    \\n    \\n ...</td>\n",
              "      <td>malicious</td>\n",
              "    </tr>\n",
              "  </tbody>\n",
              "</table>\n",
              "</div>"
            ],
            "text/plain": [
              "                                           html_code       repu\n",
              "0  <!DOCTYPE html>\\n<!--[if lt IE 7]> <html lang=...  malicious\n",
              "1  \\n\\t\\n\\n\\n\\t\\n\\n\\t\\n\\n\\n\\t\\n\\n\\n\\t\\n\\n\\t\\n\\t\\t...  malicious\n",
              "2  <!DOCTYPE html>\\n<html lang=\"en\">\\n    <head>\\...  malicious\n",
              "3  <!DOCTYPE html><html lang=\"en\"><head><style da...  malicious\n",
              "4  <!DOCTYPE html>\\n\\n\\n    \\n    \\n    \\n    \\n ...  malicious"
            ]
          },
          "execution_count": 128,
          "metadata": {},
          "output_type": "execute_result"
        }
      ],
      "source": [
        "df.head()\n",
        "# 불러온 데이터를 확인합니다."
      ]
    },
    {
      "cell_type": "markdown",
      "metadata": {
        "id": "90GdQm_fFIO2"
      },
      "source": [
        "---\n",
        "# <b>Step 1. 데이터 수집\n",
        "\n",
        "### 주어진 데이터로만 모델링 하는 경우는 드뭅니다.\n",
        "### 주어진 데이터 외 추가로 데이터를 수집 또는 생성해야 하는 경우가 많습니다.\n",
        "### 이번 과정에서는 웹 크롤러를 통해 수집된 정상/악성 사이트 HTML 데이터에서\n",
        "### BeatifulSoup 라이브러리를 활용 필요한 Feature(특징)를 추출해 보도록 하겠습니다.\n",
        "### 정상/악성 사이트 HTML Code는 사전에 수집하여 'Feature Website.xlsx' 파일에 저장해 두었습니다.\n"
      ]
    },
    {
      "cell_type": "markdown",
      "metadata": {
        "id": "5i7jWKS-FIO5"
      },
      "source": [
        "### <span style=\"color:blue\">[예시] Beatuifulsoup 라이브러리를 활용 HTML code를 출력하고 \\<title> 태그 길이를 계산합니다.<span>"
      ]
    },
    {
      "cell_type": "code",
      "execution_count": null,
      "metadata": {
        "id": "g7yMWfNkFIO8"
      },
      "outputs": [],
      "source": [
        "from bs4 import BeautifulSoup\n",
        "\n",
        "soup = BeautifulSoup(df['html_code'][0], 'html.parser')"
      ]
    },
    {
      "cell_type": "markdown",
      "metadata": {
        "id": "_cA1Fpx2FIO9"
      },
      "source": [
        "*<span style=\"color:blue\"> html code 출력<span>"
      ]
    },
    {
      "cell_type": "code",
      "execution_count": null,
      "metadata": {
        "id": "kb0PFDM5FIO9",
        "outputId": "88dd4b6d-cfc2-4cab-d9b7-1e1ea0748eaa"
      },
      "outputs": [
        {
          "name": "stdout",
          "output_type": "stream",
          "text": [
            "<!DOCTYPE html>\n",
            "\n",
            "<!--[if lt IE 7]> <html lang=\"en-us\" class=\"a-no-js a-lt-ie9 a-lt-ie8 a-lt-ie7\"> <![endif]-->\n",
            "<!--[if IE 7]>    <html lang=\"en-us\" class=\"a-no-js a-lt-ie9 a-lt-ie8\"> <![endif]-->\n",
            "<!--[if IE 8]>    <html lang=\"en-us\" class=\"a-no-js a-lt-ie9\"> <![endif]-->\n",
            "<!--[if gt IE 8]><!-->\n",
            "<html class=\"a-no-js\" lang=\"en-us\"><!--<![endif]--><head>\n",
            "<meta content=\"text/html; charset=utf-8\" http-equiv=\"content-type\"/>\n",
            "<meta charset=\"utf-8\"/>\n",
            "<meta content=\"IE=edge,chrome=1\" http-equiv=\"X-UA-Compatible\"/>\n",
            "<title dir=\"ltr\">Amazon.com</title>\n",
            "<meta content=\"width=device-width\" name=\"viewport\"/>\n",
            "<link href=\"https://images-na.ssl-images-amazon.com/images/G/01/AUIClients/AmazonUI-3c913031596ca78a3768f4e934b1cc02ce238101.secure.min._V1_.css\" rel=\"stylesheet\"/>\n",
            "<script>\n",
            "\n",
            "if (true === true) {\n",
            "    var ue_t0 = (+ new Date()),\n",
            "        ue_csm = window,\n",
            "        ue = { t0: ue_t0, d: function() { return (+new Date() - ue_t0); } },\n",
            "        ue_furl = \"fls-na.amazon.com\",\n",
            "        ue_mid = \"ATVPDKIKX0DER\",\n",
            "        ue_sid = (document.cookie.match(/session-id=([0-9-]+)/) || [])[1],\n",
            "        ue_sn = \"opfcaptcha.amazon.com\",\n",
            "        ue_id = 'BY6PY7346W2THV0MAFYZ';\n",
            "}\n",
            "</script>\n",
            "</head>\n",
            "<body>\n",
            "<!--\n",
            "        To discuss automated access to Amazon data please contact api-services-support@amazon.com.\n",
            "        For information about migrating to our APIs refer to our Marketplace APIs at https://developer.amazonservices.com/ref=rm_c_sv, or our Product Advertising API at https://affiliate-program.amazon.com/gp/advertising/api/detail/main.html/ref=rm_c_ac for advertising use cases.\n",
            "-->\n",
            "<!--\n",
            "Correios.DoNotSend\n",
            "-->\n",
            "<div class=\"a-container a-padding-double-large\" style=\"min-width:350px;padding:44px 0 !important\">\n",
            "<div class=\"a-row a-spacing-double-large\" style=\"width: 350px; margin: 0 auto\">\n",
            "<div class=\"a-row a-spacing-medium a-text-center\"><i class=\"a-icon a-logo\"></i></div>\n",
            "<div class=\"a-box a-alert a-alert-info a-spacing-base\">\n",
            "<div class=\"a-box-inner\">\n",
            "<i class=\"a-icon a-icon-alert\"></i>\n",
            "<h4>Enter the characters you see below</h4>\n",
            "<p class=\"a-last\">Sorry, we just need to make sure you're not a robot. For best results, please make sure your browser is accepting cookies.</p>\n",
            "</div>\n",
            "</div>\n",
            "<div class=\"a-section\">\n",
            "<div class=\"a-box a-color-offset-background\">\n",
            "<div class=\"a-box-inner a-padding-extra-large\">\n",
            "<form action=\"/errors/validateCaptcha\" method=\"get\" name=\"\">\n",
            "<input name=\"amzn\" type=\"hidden\" value=\"l4ZbaPUKjIME467w2sDxhg==\"/><input name=\"amzn-r\" type=\"hidden\" value=\"/\"/>\n",
            "<div class=\"a-row a-spacing-large\">\n",
            "<div class=\"a-box\">\n",
            "<div class=\"a-box-inner\">\n",
            "<h4>Type the characters you see in this image:</h4>\n",
            "<div class=\"a-row a-text-center\">\n",
            "<img src=\"https://images-na.ssl-images-amazon.com/captcha/wxvwzfzh/Captcha_tujfcmjndm.jpg\"/>\n",
            "</div>\n",
            "<div class=\"a-row a-spacing-base\">\n",
            "<div class=\"a-row\">\n",
            "<div class=\"a-column a-span6\">\n",
            "</div>\n",
            "<div class=\"a-column a-span6 a-span-last a-text-right\">\n",
            "<a onclick=\"window.location.reload()\">Try different image</a>\n",
            "</div>\n",
            "</div>\n",
            "<input autocapitalize=\"off\" autocomplete=\"off\" autocorrect=\"off\" class=\"a-span12\" id=\"captchacharacters\" name=\"field-keywords\" placeholder=\"Type characters\" spellcheck=\"false\" type=\"text\"/>\n",
            "</div>\n",
            "</div>\n",
            "</div>\n",
            "</div>\n",
            "<div class=\"a-section a-spacing-extra-large\">\n",
            "<div class=\"a-row\">\n",
            "<span class=\"a-button a-button-primary a-span12\">\n",
            "<span class=\"a-button-inner\">\n",
            "<button class=\"a-button-text\" type=\"submit\">Continue shopping</button>\n",
            "</span>\n",
            "</span>\n",
            "</div>\n",
            "</div>\n",
            "</form>\n",
            "</div>\n",
            "</div>\n",
            "</div>\n",
            "</div>\n",
            "<div class=\"a-divider a-divider-section\"><div class=\"a-divider-inner\"></div></div>\n",
            "<div class=\"a-text-center a-spacing-small a-size-mini\">\n",
            "<a href=\"https://www.amazon.com/gp/help/customer/display.html/ref=footer_cou?ie=UTF8&amp;nodeId=508088\">Conditions of Use</a>\n",
            "<span class=\"a-letter-space\"></span>\n",
            "<span class=\"a-letter-space\"></span>\n",
            "<span class=\"a-letter-space\"></span>\n",
            "<span class=\"a-letter-space\"></span>\n",
            "<a href=\"https://www.amazon.com/gp/help/customer/display.html/ref=footer_privacy?ie=UTF8&amp;nodeId=468496\">Privacy Policy</a>\n",
            "</div>\n",
            "<div class=\"a-text-center a-size-mini a-color-secondary\">\n",
            "          © 1996-2014, Amazon.com, Inc. or its affiliates\n",
            "          <script>\n",
            "           if (true === true) {\n",
            "             document.write('<img src=\"https://fls-na.amaz'+'on.com/'+'1/oc-csi/1/OP/requestId=BY6PY7346W2THV0MAFYZ&js=1\" />');\n",
            "           };\n",
            "          </script>\n",
            "<noscript>\n",
            "<img src=\"https://fls-na.amazon.com/1/oc-csi/1/OP/requestId=BY6PY7346W2THV0MAFYZ&amp;js=0\">\n",
            "</img></noscript>\n",
            "</div>\n",
            "</div>\n",
            "<script>\n",
            "    if (true === true) {\n",
            "        var head = document.getElementsByTagName('head')[0],\n",
            "            prefix = \"https://images-na.ssl-images-amazon.com/images/G/01/csminstrumentation/\",\n",
            "            elem = document.createElement(\"script\");\n",
            "        elem.src = prefix + \"csm-captcha-instrumentation.min.js\";\n",
            "        head.appendChild(elem);\n",
            "\n",
            "        elem = document.createElement(\"script\");\n",
            "        elem.src = prefix + \"rd-script-6d68177fa6061598e9509dc4b5bdd08d.js\";\n",
            "        head.appendChild(elem);\n",
            "    }\n",
            "    </script>\n",
            "</body></html>\n",
            "\n"
          ]
        }
      ],
      "source": [
        "print(soup)"
      ]
    },
    {
      "cell_type": "markdown",
      "metadata": {
        "id": "fgcpCqFbFIO-"
      },
      "source": [
        "* <span style=\"color:blue\"> \\<title> 태그 출력 및 길이 계산<span>"
      ]
    },
    {
      "cell_type": "code",
      "execution_count": null,
      "metadata": {
        "id": "m_VE_r8lFIO_",
        "outputId": "9962206f-4498-4e01-a5f0-9df06b060639"
      },
      "outputs": [
        {
          "name": "stdout",
          "output_type": "stream",
          "text": [
            "* title : <title dir=\"ltr\">Amazon.com</title>\n",
            "* title 길이 : 10\n"
          ]
        }
      ],
      "source": [
        "# <title> 태그 출력\n",
        "print(\"* title :\",soup.head.title)\n",
        "\n",
        "# <title> 태그 길이 출력\n",
        "print(\"* title 길이 :\", len(str(soup.head.title.getText())))"
      ]
    },
    {
      "cell_type": "code",
      "execution_count": null,
      "metadata": {
        "id": "Bil0SWt5FIPA"
      },
      "outputs": [],
      "source": [
        "# Feature(특징) 데이터를 추출는 함수를 작성합니다.\n",
        "def title_length(soup):\n",
        "    try:\n",
        "        return(len(str(soup.head.title.getText())))\n",
        "    except:\n",
        "        return 0.0"
      ]
    },
    {
      "cell_type": "code",
      "execution_count": null,
      "metadata": {
        "id": "4RyIg_7hFIPB"
      },
      "outputs": [],
      "source": [
        "title_len = []\n",
        "for index,row in df.iterrows():\n",
        "    soup = BeautifulSoup(row.html_code,'html.parser')\n",
        "    title_len.append(title_length(soup))"
      ]
    },
    {
      "cell_type": "code",
      "execution_count": null,
      "metadata": {
        "id": "gu5QGcAUFIPD"
      },
      "outputs": [],
      "source": [
        "df['title_length'] = title_len"
      ]
    },
    {
      "cell_type": "code",
      "execution_count": null,
      "metadata": {
        "id": "ARkMWhW8FIPE",
        "outputId": "87511a08-2b96-43a9-ee8a-9f9b59d96684"
      },
      "outputs": [
        {
          "data": {
            "text/html": [
              "<div>\n",
              "<style scoped>\n",
              "    .dataframe tbody tr th:only-of-type {\n",
              "        vertical-align: middle;\n",
              "    }\n",
              "\n",
              "    .dataframe tbody tr th {\n",
              "        vertical-align: top;\n",
              "    }\n",
              "\n",
              "    .dataframe thead th {\n",
              "        text-align: right;\n",
              "    }\n",
              "</style>\n",
              "<table border=\"1\" class=\"dataframe\">\n",
              "  <thead>\n",
              "    <tr style=\"text-align: right;\">\n",
              "      <th></th>\n",
              "      <th>html_code</th>\n",
              "      <th>repu</th>\n",
              "      <th>title_length</th>\n",
              "    </tr>\n",
              "  </thead>\n",
              "  <tbody>\n",
              "    <tr>\n",
              "      <th>0</th>\n",
              "      <td>&lt;!DOCTYPE html&gt;\\n&lt;!--[if lt IE 7]&gt; &lt;html lang=...</td>\n",
              "      <td>malicious</td>\n",
              "      <td>10.0</td>\n",
              "    </tr>\n",
              "    <tr>\n",
              "      <th>1</th>\n",
              "      <td>\\n\\t\\n\\n\\n\\t\\n\\n\\t\\n\\n\\n\\t\\n\\n\\n\\t\\n\\n\\t\\n\\t\\t...</td>\n",
              "      <td>malicious</td>\n",
              "      <td>5.0</td>\n",
              "    </tr>\n",
              "    <tr>\n",
              "      <th>2</th>\n",
              "      <td>&lt;!DOCTYPE html&gt;\\n&lt;html lang=\"en\"&gt;\\n    &lt;head&gt;\\...</td>\n",
              "      <td>malicious</td>\n",
              "      <td>71.0</td>\n",
              "    </tr>\n",
              "    <tr>\n",
              "      <th>3</th>\n",
              "      <td>&lt;!DOCTYPE html&gt;&lt;html lang=\"en\"&gt;&lt;head&gt;&lt;style da...</td>\n",
              "      <td>malicious</td>\n",
              "      <td>0.0</td>\n",
              "    </tr>\n",
              "    <tr>\n",
              "      <th>4</th>\n",
              "      <td>&lt;!DOCTYPE html&gt;\\n\\n\\n    \\n    \\n    \\n    \\n ...</td>\n",
              "      <td>malicious</td>\n",
              "      <td>27.0</td>\n",
              "    </tr>\n",
              "  </tbody>\n",
              "</table>\n",
              "</div>"
            ],
            "text/plain": [
              "                                           html_code       repu  title_length\n",
              "0  <!DOCTYPE html>\\n<!--[if lt IE 7]> <html lang=...  malicious          10.0\n",
              "1  \\n\\t\\n\\n\\n\\t\\n\\n\\t\\n\\n\\n\\t\\n\\n\\n\\t\\n\\n\\t\\n\\t\\t...  malicious           5.0\n",
              "2  <!DOCTYPE html>\\n<html lang=\"en\">\\n    <head>\\...  malicious          71.0\n",
              "3  <!DOCTYPE html><html lang=\"en\"><head><style da...  malicious           0.0\n",
              "4  <!DOCTYPE html>\\n\\n\\n    \\n    \\n    \\n    \\n ...  malicious          27.0"
            ]
          },
          "execution_count": 135,
          "metadata": {},
          "output_type": "execute_result"
        }
      ],
      "source": [
        "df.head()"
      ]
    },
    {
      "cell_type": "markdown",
      "metadata": {
        "id": "TIqtium7FIPE"
      },
      "source": [
        "---"
      ]
    },
    {
      "cell_type": "markdown",
      "metadata": {
        "id": "uRUfOypNFIPF"
      },
      "source": [
        "## <b>Q2. html 에서 \\<script>...\\</script> 태그 길이 계산\n",
        "- BeautifulSoup으로 html소스를 python 객체로 변환\n",
        "- 함수로 구현하기\n",
        "- float으로 return 받기"
      ]
    },
    {
      "cell_type": "markdown",
      "metadata": {
        "id": "yUVOfKkTFIPF"
      },
      "source": [
        "### <span style=\"color:darkred\">[문제2] Beatuifulsoup 라이브러리를 활용 HTML code에서 \\<script> 태그 길이를 계산하는 함수를 완성하고 결과를 확인하세요.<span>"
      ]
    },
    {
      "cell_type": "code",
      "execution_count": null,
      "metadata": {
        "id": "aL4q5AQxFIPG",
        "outputId": "97047243-03c7-42f9-a897-96e7a146e2fe"
      },
      "outputs": [
        {
          "name": "stdout",
          "output_type": "stream",
          "text": [
            "* script : <script>function createPerformanceMark(e){void 0!==window.performance&&void 0!==window.performance.mark&&performance.mark(e)}function createPerformanceMeasure(e,r,o){void 0!==window.performance&&void 0!==window.performance.measure&&performance.measure(e,r,o)}</script>\n",
            "* script 길이 : 268\n",
            "* title 길이 : 268\n"
          ]
        }
      ],
      "source": [
        "# <title> 태그 출력\n",
        "print(\"* script :\",soup.head.script)\n",
        "\n",
        "# <title> 태그 길이 출력\n",
        "print(\"* script 길이 :\", len(str(soup.find(\"script\"))))\n",
        "# <title> 태그 길이 출력\n",
        "print(\"* title 길이 :\", len(str(soup.head.script)))"
      ]
    },
    {
      "cell_type": "code",
      "execution_count": null,
      "metadata": {
        "id": "TL21zvTgFIPH"
      },
      "outputs": [],
      "source": [
        "def script_length(soup):\n",
        "    html_len = str(soup.script)\n",
        "    return float(len(html_len))"
      ]
    },
    {
      "cell_type": "code",
      "execution_count": null,
      "metadata": {
        "id": "BhCWBUXAFIPI"
      },
      "outputs": [],
      "source": [
        "script_len = []\n",
        "for index,row in df.iterrows():\n",
        "    soup = BeautifulSoup(row.html_code,'html.parser')\n",
        "    script_len.append(script_length(soup))\n"
      ]
    },
    {
      "cell_type": "code",
      "execution_count": null,
      "metadata": {
        "id": "-kp28rKzFIPI"
      },
      "outputs": [],
      "source": [
        "# 데이터 프레임의 html_code 컬럼에서 Feature(특징) 데이터를 추출합니다.\n",
        "\n",
        "df['script_length'] = script_len"
      ]
    },
    {
      "cell_type": "code",
      "execution_count": null,
      "metadata": {
        "id": "8M2wkoyJFIPJ",
        "outputId": "72102876-0d2b-4c5f-a505-1d4a8a4ec9be"
      },
      "outputs": [
        {
          "data": {
            "text/html": [
              "<div>\n",
              "<style scoped>\n",
              "    .dataframe tbody tr th:only-of-type {\n",
              "        vertical-align: middle;\n",
              "    }\n",
              "\n",
              "    .dataframe tbody tr th {\n",
              "        vertical-align: top;\n",
              "    }\n",
              "\n",
              "    .dataframe thead th {\n",
              "        text-align: right;\n",
              "    }\n",
              "</style>\n",
              "<table border=\"1\" class=\"dataframe\">\n",
              "  <thead>\n",
              "    <tr style=\"text-align: right;\">\n",
              "      <th></th>\n",
              "      <th>html_code</th>\n",
              "      <th>repu</th>\n",
              "      <th>title_length</th>\n",
              "      <th>script_length</th>\n",
              "      <th>body_length</th>\n",
              "      <th>src_length</th>\n",
              "    </tr>\n",
              "  </thead>\n",
              "  <tbody>\n",
              "    <tr>\n",
              "      <th>0</th>\n",
              "      <td>&lt;!DOCTYPE html&gt;\\n&lt;!--[if lt IE 7]&gt; &lt;html lang=...</td>\n",
              "      <td>malicious</td>\n",
              "      <td>10.0</td>\n",
              "      <td>405.0</td>\n",
              "      <td>3836</td>\n",
              "      <td>0</td>\n",
              "    </tr>\n",
              "    <tr>\n",
              "      <th>1</th>\n",
              "      <td>\\n\\t\\n\\n\\n\\t\\n\\n\\t\\n\\n\\n\\t\\n\\n\\n\\t\\n\\n\\t\\n\\t\\t...</td>\n",
              "      <td>malicious</td>\n",
              "      <td>5.0</td>\n",
              "      <td>579.0</td>\n",
              "      <td>15268</td>\n",
              "      <td>0</td>\n",
              "    </tr>\n",
              "    <tr>\n",
              "      <th>2</th>\n",
              "      <td>&lt;!DOCTYPE html&gt;\\n&lt;html lang=\"en\"&gt;\\n    &lt;head&gt;\\...</td>\n",
              "      <td>malicious</td>\n",
              "      <td>71.0</td>\n",
              "      <td>817.0</td>\n",
              "      <td>16542</td>\n",
              "      <td>0</td>\n",
              "    </tr>\n",
              "    <tr>\n",
              "      <th>3</th>\n",
              "      <td>&lt;!DOCTYPE html&gt;&lt;html lang=\"en\"&gt;&lt;head&gt;&lt;style da...</td>\n",
              "      <td>malicious</td>\n",
              "      <td>0.0</td>\n",
              "      <td>4.0</td>\n",
              "      <td>4</td>\n",
              "      <td>0</td>\n",
              "    </tr>\n",
              "    <tr>\n",
              "      <th>4</th>\n",
              "      <td>&lt;!DOCTYPE html&gt;\\n\\n\\n    \\n    \\n    \\n    \\n ...</td>\n",
              "      <td>malicious</td>\n",
              "      <td>27.0</td>\n",
              "      <td>425.0</td>\n",
              "      <td>20314</td>\n",
              "      <td>0</td>\n",
              "    </tr>\n",
              "    <tr>\n",
              "      <th>5</th>\n",
              "      <td>_x000D_\\n_x000D_\\n_x000D_\\n&lt;!DOCTYPE html&gt;_x00...</td>\n",
              "      <td>malicious</td>\n",
              "      <td>17.0</td>\n",
              "      <td>3180.0</td>\n",
              "      <td>4</td>\n",
              "      <td>0</td>\n",
              "    </tr>\n",
              "    <tr>\n",
              "      <th>6</th>\n",
              "      <td>&lt;!doctype html&gt;\\n\\n&lt;html data-ytrk-page=\"HOME\"...</td>\n",
              "      <td>malicious</td>\n",
              "      <td>36.0</td>\n",
              "      <td>5056.0</td>\n",
              "      <td>20018</td>\n",
              "      <td>0</td>\n",
              "    </tr>\n",
              "    <tr>\n",
              "      <th>7</th>\n",
              "      <td>\\n\\t&lt;!DOCTYPE html&gt;\\n\\t&lt;html class=\"no-icon-fo...</td>\n",
              "      <td>malicious</td>\n",
              "      <td>45.0</td>\n",
              "      <td>172.0</td>\n",
              "      <td>4</td>\n",
              "      <td>0</td>\n",
              "    </tr>\n",
              "    <tr>\n",
              "      <th>8</th>\n",
              "      <td>&lt;!DOCTYPE html&gt;\\n&lt;html class=\"no-js\"&gt;\\n&lt;head&gt;\\...</td>\n",
              "      <td>malicious</td>\n",
              "      <td>77.0</td>\n",
              "      <td>1389.0</td>\n",
              "      <td>29661</td>\n",
              "      <td>0</td>\n",
              "    </tr>\n",
              "    <tr>\n",
              "      <th>9</th>\n",
              "      <td>&lt;!DOCTYPE html&gt;\\n&lt;html class=\"b-header--bl...</td>\n",
              "      <td>malicious</td>\n",
              "      <td>14.0</td>\n",
              "      <td>119.0</td>\n",
              "      <td>4</td>\n",
              "      <td>0</td>\n",
              "    </tr>\n",
              "  </tbody>\n",
              "</table>\n",
              "</div>"
            ],
            "text/plain": [
              "                                           html_code       repu  title_length  \\\n",
              "0  <!DOCTYPE html>\\n<!--[if lt IE 7]> <html lang=...  malicious          10.0   \n",
              "1  \\n\\t\\n\\n\\n\\t\\n\\n\\t\\n\\n\\n\\t\\n\\n\\n\\t\\n\\n\\t\\n\\t\\t...  malicious           5.0   \n",
              "2  <!DOCTYPE html>\\n<html lang=\"en\">\\n    <head>\\...  malicious          71.0   \n",
              "3  <!DOCTYPE html><html lang=\"en\"><head><style da...  malicious           0.0   \n",
              "4  <!DOCTYPE html>\\n\\n\\n    \\n    \\n    \\n    \\n ...  malicious          27.0   \n",
              "5  _x000D_\\n_x000D_\\n_x000D_\\n<!DOCTYPE html>_x00...  malicious          17.0   \n",
              "6  <!doctype html>\\n\\n<html data-ytrk-page=\"HOME\"...  malicious          36.0   \n",
              "7  \\n\\t<!DOCTYPE html>\\n\\t<html class=\"no-icon-fo...  malicious          45.0   \n",
              "8  <!DOCTYPE html>\\n<html class=\"no-js\">\\n<head>\\...  malicious          77.0   \n",
              "9      <!DOCTYPE html>\\n<html class=\"b-header--bl...  malicious          14.0   \n",
              "\n",
              "   script_length  body_length  src_length  \n",
              "0          405.0         3836           0  \n",
              "1          579.0        15268           0  \n",
              "2          817.0        16542           0  \n",
              "3            4.0            4           0  \n",
              "4          425.0        20314           0  \n",
              "5         3180.0            4           0  \n",
              "6         5056.0        20018           0  \n",
              "7          172.0            4           0  \n",
              "8         1389.0        29661           0  \n",
              "9          119.0            4           0  "
            ]
          },
          "execution_count": 219,
          "metadata": {},
          "output_type": "execute_result"
        }
      ],
      "source": [
        "# 추출한 Feature(특징) 데이터를 확인합니다.\n",
        "df.head(10)\n"
      ]
    },
    {
      "cell_type": "markdown",
      "metadata": {
        "id": "6ExKFIluFIPK"
      },
      "source": [
        "---"
      ]
    },
    {
      "cell_type": "markdown",
      "metadata": {
        "id": "YdK2wTfsFIPL"
      },
      "source": [
        "## <b>Q3. html에서 공백 수 계산\n",
        "\n",
        "- BeautifulSoup으로 html소스를 python 객체로 변환\n",
        "- 함수로 구현하기\n",
        "- float으로 return 받기"
      ]
    },
    {
      "cell_type": "markdown",
      "metadata": {
        "id": "ann2FSwwFIPM"
      },
      "source": [
        "### <span style=\"color:darkred\">[문제3] Beatuifulsoup 라이브러리를 활용 HTML Code에서 \\<html> 태그 공백 수를 계산하는 함수를 완성하고 결과를 확인하세요.<span>"
      ]
    },
    {
      "cell_type": "code",
      "execution_count": null,
      "metadata": {
        "tags": [],
        "id": "szq50lwZFIPN"
      },
      "outputs": [],
      "source": [
        "def spacebar_count(soup):\n",
        "    try:\n",
        "        Null_Count = soup.body.text.count(' ')\n",
        "        return float(Null_Count)\n",
        "    except:\n",
        "        return 0.0"
      ]
    },
    {
      "cell_type": "code",
      "execution_count": null,
      "metadata": {
        "id": "zeQJPEZrFIPO"
      },
      "outputs": [],
      "source": []
    },
    {
      "cell_type": "code",
      "execution_count": null,
      "metadata": {
        "id": "SZICUKnTFIPO"
      },
      "outputs": [],
      "source": [
        "# 데이터 프레임의 html_code 컬럼에서 Feature(특징) 데이터를 추출합니다.\n",
        "\n",
        "white_space = []\n",
        "for index,row in df.iterrows():\n",
        "    soup = BeautifulSoup(row.html_code,'html.parser')\n",
        "    white_space.append(spacebar_count(soup))\n"
      ]
    },
    {
      "cell_type": "code",
      "execution_count": null,
      "metadata": {
        "id": "-c99MpAzFIPP",
        "outputId": "00700699-d2f4-4971-b9d8-f649ebbc156f"
      },
      "outputs": [
        {
          "data": {
            "text/html": [
              "<div>\n",
              "<style scoped>\n",
              "    .dataframe tbody tr th:only-of-type {\n",
              "        vertical-align: middle;\n",
              "    }\n",
              "\n",
              "    .dataframe tbody tr th {\n",
              "        vertical-align: top;\n",
              "    }\n",
              "\n",
              "    .dataframe thead th {\n",
              "        text-align: right;\n",
              "    }\n",
              "</style>\n",
              "<table border=\"1\" class=\"dataframe\">\n",
              "  <thead>\n",
              "    <tr style=\"text-align: right;\">\n",
              "      <th></th>\n",
              "      <th>html_code</th>\n",
              "      <th>repu</th>\n",
              "      <th>title_length</th>\n",
              "      <th>script_length</th>\n",
              "      <th>body_length</th>\n",
              "      <th>src_length</th>\n",
              "      <th>whitespace_length</th>\n",
              "    </tr>\n",
              "  </thead>\n",
              "  <tbody>\n",
              "    <tr>\n",
              "      <th>0</th>\n",
              "      <td>&lt;!DOCTYPE html&gt;\\n&lt;!--[if lt IE 7]&gt; &lt;html lang=...</td>\n",
              "      <td>malicious</td>\n",
              "      <td>10.0</td>\n",
              "      <td>405.0</td>\n",
              "      <td>3836</td>\n",
              "      <td>0</td>\n",
              "      <td>65.0</td>\n",
              "    </tr>\n",
              "    <tr>\n",
              "      <th>1</th>\n",
              "      <td>\\n\\t\\n\\n\\n\\t\\n\\n\\t\\n\\n\\n\\t\\n\\n\\n\\t\\n\\n\\t\\n\\t\\t...</td>\n",
              "      <td>malicious</td>\n",
              "      <td>5.0</td>\n",
              "      <td>579.0</td>\n",
              "      <td>15268</td>\n",
              "      <td>0</td>\n",
              "      <td>87.0</td>\n",
              "    </tr>\n",
              "    <tr>\n",
              "      <th>2</th>\n",
              "      <td>&lt;!DOCTYPE html&gt;\\n&lt;html lang=\"en\"&gt;\\n    &lt;head&gt;\\...</td>\n",
              "      <td>malicious</td>\n",
              "      <td>71.0</td>\n",
              "      <td>817.0</td>\n",
              "      <td>16542</td>\n",
              "      <td>0</td>\n",
              "      <td>190.0</td>\n",
              "    </tr>\n",
              "    <tr>\n",
              "      <th>3</th>\n",
              "      <td>&lt;!DOCTYPE html&gt;&lt;html lang=\"en\"&gt;&lt;head&gt;&lt;style da...</td>\n",
              "      <td>malicious</td>\n",
              "      <td>0.0</td>\n",
              "      <td>4.0</td>\n",
              "      <td>4</td>\n",
              "      <td>0</td>\n",
              "      <td>0.0</td>\n",
              "    </tr>\n",
              "    <tr>\n",
              "      <th>4</th>\n",
              "      <td>&lt;!DOCTYPE html&gt;\\n\\n\\n    \\n    \\n    \\n    \\n ...</td>\n",
              "      <td>malicious</td>\n",
              "      <td>27.0</td>\n",
              "      <td>425.0</td>\n",
              "      <td>20314</td>\n",
              "      <td>0</td>\n",
              "      <td>1802.0</td>\n",
              "    </tr>\n",
              "  </tbody>\n",
              "</table>\n",
              "</div>"
            ],
            "text/plain": [
              "                                           html_code       repu  title_length  \\\n",
              "0  <!DOCTYPE html>\\n<!--[if lt IE 7]> <html lang=...  malicious          10.0   \n",
              "1  \\n\\t\\n\\n\\n\\t\\n\\n\\t\\n\\n\\n\\t\\n\\n\\n\\t\\n\\n\\t\\n\\t\\t...  malicious           5.0   \n",
              "2  <!DOCTYPE html>\\n<html lang=\"en\">\\n    <head>\\...  malicious          71.0   \n",
              "3  <!DOCTYPE html><html lang=\"en\"><head><style da...  malicious           0.0   \n",
              "4  <!DOCTYPE html>\\n\\n\\n    \\n    \\n    \\n    \\n ...  malicious          27.0   \n",
              "\n",
              "   script_length  body_length  src_length  whitespace_length  \n",
              "0          405.0         3836           0               65.0  \n",
              "1          579.0        15268           0               87.0  \n",
              "2          817.0        16542           0              190.0  \n",
              "3            4.0            4           0                0.0  \n",
              "4          425.0        20314           0             1802.0  "
            ]
          },
          "execution_count": 223,
          "metadata": {},
          "output_type": "execute_result"
        }
      ],
      "source": [
        "# 추출한 Feature(특징) 데이터를 확인합니다.\n",
        "df['whitespace_length'] = white_space\n",
        "df.head()"
      ]
    },
    {
      "cell_type": "markdown",
      "metadata": {
        "id": "2NILk_CxFIPQ"
      },
      "source": [
        "---"
      ]
    },
    {
      "cell_type": "markdown",
      "metadata": {
        "id": "BZw7SSlDFIPQ"
      },
      "source": [
        "## <b>Q4. html 에서 body 길이 계산\n",
        "\n",
        "- BeautifulSoup으로 html소스를 python 객체로 변환\n",
        "- 함수로 구현하기\n",
        "- float으로 return 받기"
      ]
    },
    {
      "cell_type": "markdown",
      "metadata": {
        "id": "raicVH_SFIPR"
      },
      "source": [
        "### <span style=\"color:darkred\">[문제4] Beatuifulsoup 라이브러리를 활용 HTML code에서 \\<body> 태그 길이를 계산하는 함수를 완성하고 결과를 확인하세요.<span>"
      ]
    },
    {
      "cell_type": "code",
      "execution_count": null,
      "metadata": {
        "id": "AHBNR6jvFIPR",
        "outputId": "3ba5368f-22b2-4fba-c4a4-5c56be72ae9f"
      },
      "outputs": [
        {
          "name": "stdout",
          "output_type": "stream",
          "text": [
            "* body : []\n",
            "* body 길이 : 4\n",
            "* body 길이 : 4\n"
          ]
        }
      ],
      "source": [
        "# Feature(특징) 데이터를 추출하는 함수를 작성합니다.\n",
        "# <title> 태그 출력\n",
        "print(\"* body :\",soup.find_all('body'))\n",
        "\n",
        "# <title> 태그 길이 출력\n",
        "print(\"* body 길이 :\", len(str(soup.find(\"body\"))))\n",
        "# <title> 태그 길이 출력\n",
        "print(\"* body 길이 :\", len(str(soup.body)))"
      ]
    },
    {
      "cell_type": "code",
      "execution_count": null,
      "metadata": {
        "id": "dTbMv07XFIPS"
      },
      "outputs": [],
      "source": [
        "# 데이터 프레임의 html_code 컬럼에서 Feature(특징) 데이터를 추출합니다.\n",
        "def body_length(soup):\n",
        "    try:\n",
        "        return(len(str(soup.find(\"body\"))))\n",
        "    except:\n",
        "        return 0.0"
      ]
    },
    {
      "cell_type": "code",
      "execution_count": null,
      "metadata": {
        "id": "FZUj9TW4FIPT"
      },
      "outputs": [],
      "source": [
        "# 추출한 Feature(특징) 데이터를 확인합니다.\n",
        "body_len = []\n",
        "for index,row in df.iterrows():\n",
        "    soup = BeautifulSoup(row.html_code,'html.parser')\n",
        "    body_len.append(body_length(soup))\n",
        "\n"
      ]
    },
    {
      "cell_type": "code",
      "execution_count": null,
      "metadata": {
        "id": "J9M75QU1FIPU"
      },
      "outputs": [],
      "source": [
        "df['body_length'] = body_len"
      ]
    },
    {
      "cell_type": "code",
      "execution_count": null,
      "metadata": {
        "id": "XiDJSw4aFIPU",
        "outputId": "a241ffdb-2634-4dab-abc8-87d71acf222e"
      },
      "outputs": [
        {
          "data": {
            "text/html": [
              "<div>\n",
              "<style scoped>\n",
              "    .dataframe tbody tr th:only-of-type {\n",
              "        vertical-align: middle;\n",
              "    }\n",
              "\n",
              "    .dataframe tbody tr th {\n",
              "        vertical-align: top;\n",
              "    }\n",
              "\n",
              "    .dataframe thead th {\n",
              "        text-align: right;\n",
              "    }\n",
              "</style>\n",
              "<table border=\"1\" class=\"dataframe\">\n",
              "  <thead>\n",
              "    <tr style=\"text-align: right;\">\n",
              "      <th></th>\n",
              "      <th>html_code</th>\n",
              "      <th>repu</th>\n",
              "      <th>title_length</th>\n",
              "      <th>script_length</th>\n",
              "      <th>body_length</th>\n",
              "    </tr>\n",
              "  </thead>\n",
              "  <tbody>\n",
              "    <tr>\n",
              "      <th>0</th>\n",
              "      <td>&lt;!DOCTYPE html&gt;\\n&lt;!--[if lt IE 7]&gt; &lt;html lang=...</td>\n",
              "      <td>malicious</td>\n",
              "      <td>10.0</td>\n",
              "      <td>405</td>\n",
              "      <td>3836</td>\n",
              "    </tr>\n",
              "    <tr>\n",
              "      <th>1</th>\n",
              "      <td>\\n\\t\\n\\n\\n\\t\\n\\n\\t\\n\\n\\n\\t\\n\\n\\n\\t\\n\\n\\t\\n\\t\\t...</td>\n",
              "      <td>malicious</td>\n",
              "      <td>5.0</td>\n",
              "      <td>579</td>\n",
              "      <td>15268</td>\n",
              "    </tr>\n",
              "    <tr>\n",
              "      <th>2</th>\n",
              "      <td>&lt;!DOCTYPE html&gt;\\n&lt;html lang=\"en\"&gt;\\n    &lt;head&gt;\\...</td>\n",
              "      <td>malicious</td>\n",
              "      <td>71.0</td>\n",
              "      <td>817</td>\n",
              "      <td>16542</td>\n",
              "    </tr>\n",
              "    <tr>\n",
              "      <th>3</th>\n",
              "      <td>&lt;!DOCTYPE html&gt;&lt;html lang=\"en\"&gt;&lt;head&gt;&lt;style da...</td>\n",
              "      <td>malicious</td>\n",
              "      <td>0.0</td>\n",
              "      <td>4</td>\n",
              "      <td>4</td>\n",
              "    </tr>\n",
              "    <tr>\n",
              "      <th>4</th>\n",
              "      <td>&lt;!DOCTYPE html&gt;\\n\\n\\n    \\n    \\n    \\n    \\n ...</td>\n",
              "      <td>malicious</td>\n",
              "      <td>27.0</td>\n",
              "      <td>425</td>\n",
              "      <td>20314</td>\n",
              "    </tr>\n",
              "    <tr>\n",
              "      <th>5</th>\n",
              "      <td>_x000D_\\n_x000D_\\n_x000D_\\n&lt;!DOCTYPE html&gt;_x00...</td>\n",
              "      <td>malicious</td>\n",
              "      <td>17.0</td>\n",
              "      <td>3180</td>\n",
              "      <td>4</td>\n",
              "    </tr>\n",
              "    <tr>\n",
              "      <th>6</th>\n",
              "      <td>&lt;!doctype html&gt;\\n\\n&lt;html data-ytrk-page=\"HOME\"...</td>\n",
              "      <td>malicious</td>\n",
              "      <td>36.0</td>\n",
              "      <td>5056</td>\n",
              "      <td>20018</td>\n",
              "    </tr>\n",
              "    <tr>\n",
              "      <th>7</th>\n",
              "      <td>\\n\\t&lt;!DOCTYPE html&gt;\\n\\t&lt;html class=\"no-icon-fo...</td>\n",
              "      <td>malicious</td>\n",
              "      <td>45.0</td>\n",
              "      <td>172</td>\n",
              "      <td>4</td>\n",
              "    </tr>\n",
              "    <tr>\n",
              "      <th>8</th>\n",
              "      <td>&lt;!DOCTYPE html&gt;\\n&lt;html class=\"no-js\"&gt;\\n&lt;head&gt;\\...</td>\n",
              "      <td>malicious</td>\n",
              "      <td>77.0</td>\n",
              "      <td>1389</td>\n",
              "      <td>29661</td>\n",
              "    </tr>\n",
              "    <tr>\n",
              "      <th>9</th>\n",
              "      <td>&lt;!DOCTYPE html&gt;\\n&lt;html class=\"b-header--bl...</td>\n",
              "      <td>malicious</td>\n",
              "      <td>14.0</td>\n",
              "      <td>119</td>\n",
              "      <td>4</td>\n",
              "    </tr>\n",
              "  </tbody>\n",
              "</table>\n",
              "</div>"
            ],
            "text/plain": [
              "                                           html_code       repu  title_length  \\\n",
              "0  <!DOCTYPE html>\\n<!--[if lt IE 7]> <html lang=...  malicious          10.0   \n",
              "1  \\n\\t\\n\\n\\n\\t\\n\\n\\t\\n\\n\\n\\t\\n\\n\\n\\t\\n\\n\\t\\n\\t\\t...  malicious           5.0   \n",
              "2  <!DOCTYPE html>\\n<html lang=\"en\">\\n    <head>\\...  malicious          71.0   \n",
              "3  <!DOCTYPE html><html lang=\"en\"><head><style da...  malicious           0.0   \n",
              "4  <!DOCTYPE html>\\n\\n\\n    \\n    \\n    \\n    \\n ...  malicious          27.0   \n",
              "5  _x000D_\\n_x000D_\\n_x000D_\\n<!DOCTYPE html>_x00...  malicious          17.0   \n",
              "6  <!doctype html>\\n\\n<html data-ytrk-page=\"HOME\"...  malicious          36.0   \n",
              "7  \\n\\t<!DOCTYPE html>\\n\\t<html class=\"no-icon-fo...  malicious          45.0   \n",
              "8  <!DOCTYPE html>\\n<html class=\"no-js\">\\n<head>\\...  malicious          77.0   \n",
              "9      <!DOCTYPE html>\\n<html class=\"b-header--bl...  malicious          14.0   \n",
              "\n",
              "   script_length  body_length  \n",
              "0            405         3836  \n",
              "1            579        15268  \n",
              "2            817        16542  \n",
              "3              4            4  \n",
              "4            425        20314  \n",
              "5           3180            4  \n",
              "6           5056        20018  \n",
              "7            172            4  \n",
              "8           1389        29661  \n",
              "9            119            4  "
            ]
          },
          "execution_count": 154,
          "metadata": {},
          "output_type": "execute_result"
        }
      ],
      "source": [
        "df.head(10)"
      ]
    },
    {
      "cell_type": "markdown",
      "metadata": {
        "id": "MPFqFw94FIPW"
      },
      "source": [
        "---"
      ]
    },
    {
      "cell_type": "code",
      "execution_count": null,
      "metadata": {
        "id": "Lrp42WI4FIPX"
      },
      "outputs": [],
      "source": []
    },
    {
      "cell_type": "code",
      "execution_count": null,
      "metadata": {
        "id": "nLTemSWNFIPY"
      },
      "outputs": [],
      "source": []
    },
    {
      "cell_type": "markdown",
      "metadata": {
        "id": "nHGSqJ4mFIPY"
      },
      "source": [
        "## <b>Q5. script 에서 src, href 속성을 가진 태그수\n",
        "\n",
        "- BeautifulSoup으로 html소스를 python 객체로 변환\n",
        "- 함수로 구현하기\n",
        "- float으로 return 받기"
      ]
    },
    {
      "cell_type": "markdown",
      "metadata": {
        "id": "-5KTwdV6FIPZ"
      },
      "source": [
        "### <span style=\"color:darkred\">[문제5] Beatuifulsoup 라이브러리를 활용 HTML code에서 \\<script> 태그에서 src, href 속성을 가진 태그수를 계산하는 함수를 완성하고 결과를 확인하세요. <span>\n"
      ]
    },
    {
      "cell_type": "code",
      "execution_count": null,
      "metadata": {
        "id": "ye5TzV8_FIPZ",
        "outputId": "373b197c-e07b-4284-df98-497ec1af7d73"
      },
      "outputs": [
        {
          "name": "stdout",
          "output_type": "stream",
          "text": [
            "0\n"
          ]
        }
      ],
      "source": [
        "# Feature(특징) 데이터를 추출하는 함수를 작성합니다.\n",
        "print(len(soup.find_all('src',\"script > src\")))\n"
      ]
    },
    {
      "cell_type": "code",
      "execution_count": null,
      "metadata": {
        "id": "xyldtWHeFIPa"
      },
      "outputs": [],
      "source": [
        "# 데이터 프레임의 html_code 컬럼에서 Feature(특징) 데이터를 추출합니다\n",
        "def src_length(soup):\n",
        "    try:\n",
        "        return(len(soup.select(\"script > src \")))\n",
        "    except:\n",
        "        return 0.0"
      ]
    },
    {
      "cell_type": "code",
      "execution_count": null,
      "metadata": {
        "id": "S9MgG1TgFIPb"
      },
      "outputs": [],
      "source": [
        "# 추출한 Feature(특징) 데이터를 확인합니다.\n",
        "\n",
        "src_len = []\n",
        "for index,row in df.iterrows():\n",
        "    soup = BeautifulSoup(row.html_code,'html.parser')\n",
        "    src_len.append(src_length(soup))\n",
        "\n"
      ]
    },
    {
      "cell_type": "code",
      "execution_count": null,
      "metadata": {
        "id": "o1-Z1CpVFIPb"
      },
      "outputs": [],
      "source": [
        "df['src_length'] = src_len"
      ]
    },
    {
      "cell_type": "code",
      "execution_count": null,
      "metadata": {
        "id": "GDicjiLIFIPc",
        "outputId": "9bddc96c-13de-48ce-f574-d859e514d207"
      },
      "outputs": [
        {
          "data": {
            "text/html": [
              "<div>\n",
              "<style scoped>\n",
              "    .dataframe tbody tr th:only-of-type {\n",
              "        vertical-align: middle;\n",
              "    }\n",
              "\n",
              "    .dataframe tbody tr th {\n",
              "        vertical-align: top;\n",
              "    }\n",
              "\n",
              "    .dataframe thead th {\n",
              "        text-align: right;\n",
              "    }\n",
              "</style>\n",
              "<table border=\"1\" class=\"dataframe\">\n",
              "  <thead>\n",
              "    <tr style=\"text-align: right;\">\n",
              "      <th></th>\n",
              "      <th>html_code</th>\n",
              "      <th>repu</th>\n",
              "      <th>title_length</th>\n",
              "      <th>script_length</th>\n",
              "      <th>body_length</th>\n",
              "      <th>src_length</th>\n",
              "    </tr>\n",
              "  </thead>\n",
              "  <tbody>\n",
              "    <tr>\n",
              "      <th>0</th>\n",
              "      <td>&lt;!DOCTYPE html&gt;\\n&lt;!--[if lt IE 7]&gt; &lt;html lang=...</td>\n",
              "      <td>malicious</td>\n",
              "      <td>10.0</td>\n",
              "      <td>405</td>\n",
              "      <td>3836</td>\n",
              "      <td>0</td>\n",
              "    </tr>\n",
              "    <tr>\n",
              "      <th>1</th>\n",
              "      <td>\\n\\t\\n\\n\\n\\t\\n\\n\\t\\n\\n\\n\\t\\n\\n\\n\\t\\n\\n\\t\\n\\t\\t...</td>\n",
              "      <td>malicious</td>\n",
              "      <td>5.0</td>\n",
              "      <td>579</td>\n",
              "      <td>15268</td>\n",
              "      <td>0</td>\n",
              "    </tr>\n",
              "    <tr>\n",
              "      <th>2</th>\n",
              "      <td>&lt;!DOCTYPE html&gt;\\n&lt;html lang=\"en\"&gt;\\n    &lt;head&gt;\\...</td>\n",
              "      <td>malicious</td>\n",
              "      <td>71.0</td>\n",
              "      <td>817</td>\n",
              "      <td>16542</td>\n",
              "      <td>0</td>\n",
              "    </tr>\n",
              "    <tr>\n",
              "      <th>3</th>\n",
              "      <td>&lt;!DOCTYPE html&gt;&lt;html lang=\"en\"&gt;&lt;head&gt;&lt;style da...</td>\n",
              "      <td>malicious</td>\n",
              "      <td>0.0</td>\n",
              "      <td>4</td>\n",
              "      <td>4</td>\n",
              "      <td>0</td>\n",
              "    </tr>\n",
              "    <tr>\n",
              "      <th>4</th>\n",
              "      <td>&lt;!DOCTYPE html&gt;\\n\\n\\n    \\n    \\n    \\n    \\n ...</td>\n",
              "      <td>malicious</td>\n",
              "      <td>27.0</td>\n",
              "      <td>425</td>\n",
              "      <td>20314</td>\n",
              "      <td>0</td>\n",
              "    </tr>\n",
              "    <tr>\n",
              "      <th>5</th>\n",
              "      <td>_x000D_\\n_x000D_\\n_x000D_\\n&lt;!DOCTYPE html&gt;_x00...</td>\n",
              "      <td>malicious</td>\n",
              "      <td>17.0</td>\n",
              "      <td>3180</td>\n",
              "      <td>4</td>\n",
              "      <td>0</td>\n",
              "    </tr>\n",
              "    <tr>\n",
              "      <th>6</th>\n",
              "      <td>&lt;!doctype html&gt;\\n\\n&lt;html data-ytrk-page=\"HOME\"...</td>\n",
              "      <td>malicious</td>\n",
              "      <td>36.0</td>\n",
              "      <td>5056</td>\n",
              "      <td>20018</td>\n",
              "      <td>0</td>\n",
              "    </tr>\n",
              "    <tr>\n",
              "      <th>7</th>\n",
              "      <td>\\n\\t&lt;!DOCTYPE html&gt;\\n\\t&lt;html class=\"no-icon-fo...</td>\n",
              "      <td>malicious</td>\n",
              "      <td>45.0</td>\n",
              "      <td>172</td>\n",
              "      <td>4</td>\n",
              "      <td>0</td>\n",
              "    </tr>\n",
              "    <tr>\n",
              "      <th>8</th>\n",
              "      <td>&lt;!DOCTYPE html&gt;\\n&lt;html class=\"no-js\"&gt;\\n&lt;head&gt;\\...</td>\n",
              "      <td>malicious</td>\n",
              "      <td>77.0</td>\n",
              "      <td>1389</td>\n",
              "      <td>29661</td>\n",
              "      <td>0</td>\n",
              "    </tr>\n",
              "    <tr>\n",
              "      <th>9</th>\n",
              "      <td>&lt;!DOCTYPE html&gt;\\n&lt;html class=\"b-header--bl...</td>\n",
              "      <td>malicious</td>\n",
              "      <td>14.0</td>\n",
              "      <td>119</td>\n",
              "      <td>4</td>\n",
              "      <td>0</td>\n",
              "    </tr>\n",
              "    <tr>\n",
              "      <th>10</th>\n",
              "      <td>&lt;!DOCTYPE html&gt;\\n&lt;html lang=\"mul\" dir=\"ltr\"&gt;\\n...</td>\n",
              "      <td>malicious</td>\n",
              "      <td>10.0</td>\n",
              "      <td>160</td>\n",
              "      <td>27035</td>\n",
              "      <td>0</td>\n",
              "    </tr>\n",
              "    <tr>\n",
              "      <th>11</th>\n",
              "      <td>_x000D_\\n_x000D_\\n&lt;!DOCTYPE html&gt;&lt;html lang=\"e...</td>\n",
              "      <td>malicious</td>\n",
              "      <td>72.0</td>\n",
              "      <td>237</td>\n",
              "      <td>14700</td>\n",
              "      <td>0</td>\n",
              "    </tr>\n",
              "    <tr>\n",
              "      <th>12</th>\n",
              "      <td>&lt;!DOCTYPE html&gt;&lt;html lang=\"en\"&gt;&lt;head&gt;&lt;link rel...</td>\n",
              "      <td>malicious</td>\n",
              "      <td>90.0</td>\n",
              "      <td>1569</td>\n",
              "      <td>4</td>\n",
              "      <td>0</td>\n",
              "    </tr>\n",
              "    <tr>\n",
              "      <th>13</th>\n",
              "      <td>&lt;!Doctype html&gt;_x000D_\\n&lt;html&gt; _x000D_\\n&lt;head&gt;...</td>\n",
              "      <td>malicious</td>\n",
              "      <td>60.0</td>\n",
              "      <td>1081</td>\n",
              "      <td>25221</td>\n",
              "      <td>0</td>\n",
              "    </tr>\n",
              "    <tr>\n",
              "      <th>14</th>\n",
              "      <td>&lt;html lang=\"en\"&gt;\\n\\n&lt;head&gt;\\n    &lt;title&gt;Verify ...</td>\n",
              "      <td>malicious</td>\n",
              "      <td>20.0</td>\n",
              "      <td>496</td>\n",
              "      <td>2303</td>\n",
              "      <td>0</td>\n",
              "    </tr>\n",
              "    <tr>\n",
              "      <th>15</th>\n",
              "      <td>&lt;!doctype html&gt;&lt;html dir=\"ltr\" lang=\"ko-KR\"&gt;&lt;h...</td>\n",
              "      <td>malicious</td>\n",
              "      <td>48.0</td>\n",
              "      <td>9041</td>\n",
              "      <td>4</td>\n",
              "      <td>0</td>\n",
              "    </tr>\n",
              "    <tr>\n",
              "      <th>16</th>\n",
              "      <td>&lt;HTML&gt;&lt;HEAD&gt;\\n&lt;TITLE&gt;Access Denied&lt;/TITLE&gt;\\n&lt;/...</td>\n",
              "      <td>malicious</td>\n",
              "      <td>13.0</td>\n",
              "      <td>4</td>\n",
              "      <td>168</td>\n",
              "      <td>0</td>\n",
              "    </tr>\n",
              "    <tr>\n",
              "      <th>17</th>\n",
              "      <td>&lt;!doctype html&gt;_x000D_\\n&lt;html xmlns=\"http://ww...</td>\n",
              "      <td>malicious</td>\n",
              "      <td>69.0</td>\n",
              "      <td>239</td>\n",
              "      <td>33638</td>\n",
              "      <td>0</td>\n",
              "    </tr>\n",
              "    <tr>\n",
              "      <th>18</th>\n",
              "      <td>_x000D_\\n&lt;!DOCTYPE html&gt;_x000D_\\n_x000D_\\n&lt;htm...</td>\n",
              "      <td>malicious</td>\n",
              "      <td>41.0</td>\n",
              "      <td>195</td>\n",
              "      <td>32476</td>\n",
              "      <td>0</td>\n",
              "    </tr>\n",
              "    <tr>\n",
              "      <th>19</th>\n",
              "      <td>&lt;!DOCTYPE html&gt;&lt;html lang=en&gt;&lt;head&gt;&lt;meta http-...</td>\n",
              "      <td>malicious</td>\n",
              "      <td>15.0</td>\n",
              "      <td>90</td>\n",
              "      <td>23349</td>\n",
              "      <td>0</td>\n",
              "    </tr>\n",
              "    <tr>\n",
              "      <th>20</th>\n",
              "      <td>&lt;!DOCTYPE html&gt;&lt;html lang=\"en\"&gt;&lt;head&gt;&lt;style da...</td>\n",
              "      <td>benign</td>\n",
              "      <td>0.0</td>\n",
              "      <td>4</td>\n",
              "      <td>4</td>\n",
              "      <td>0</td>\n",
              "    </tr>\n",
              "    <tr>\n",
              "      <th>21</th>\n",
              "      <td>&lt;!doctype html&gt;&lt;html lang=\"en\"&gt;&lt;head&gt;&lt;title da...</td>\n",
              "      <td>benign</td>\n",
              "      <td>136.0</td>\n",
              "      <td>4</td>\n",
              "      <td>4</td>\n",
              "      <td>0</td>\n",
              "    </tr>\n",
              "    <tr>\n",
              "      <th>22</th>\n",
              "      <td>&lt;!DOCTYPE html&gt;\\n&lt;!--[if lt IE 8]&gt;      &lt;html ...</td>\n",
              "      <td>benign</td>\n",
              "      <td>14.0</td>\n",
              "      <td>342</td>\n",
              "      <td>9433</td>\n",
              "      <td>0</td>\n",
              "    </tr>\n",
              "    <tr>\n",
              "      <th>23</th>\n",
              "      <td>\\n&lt;!DOCTYPE html&gt;\\n&lt;html id=\"js-context\" class...</td>\n",
              "      <td>benign</td>\n",
              "      <td>73.0</td>\n",
              "      <td>443</td>\n",
              "      <td>4</td>\n",
              "      <td>0</td>\n",
              "    </tr>\n",
              "    <tr>\n",
              "      <th>24</th>\n",
              "      <td>&lt;!DOCTYPE html&gt;&lt;html class=\"no-js\"&gt;&lt;head&gt;&lt;meta...</td>\n",
              "      <td>benign</td>\n",
              "      <td>64.0</td>\n",
              "      <td>172</td>\n",
              "      <td>4</td>\n",
              "      <td>0</td>\n",
              "    </tr>\n",
              "    <tr>\n",
              "      <th>25</th>\n",
              "      <td>_x000D_\\n_x000D_\\n_x000D_\\n&lt;!DOCTYPE html&gt;_x00...</td>\n",
              "      <td>benign</td>\n",
              "      <td>6.0</td>\n",
              "      <td>686</td>\n",
              "      <td>4</td>\n",
              "      <td>0</td>\n",
              "    </tr>\n",
              "    <tr>\n",
              "      <th>26</th>\n",
              "      <td>&lt;!DOCTYPE html&gt;_x000D_\\n&lt;html class=\" responsi...</td>\n",
              "      <td>benign</td>\n",
              "      <td>16.0</td>\n",
              "      <td>723</td>\n",
              "      <td>14359</td>\n",
              "      <td>0</td>\n",
              "    </tr>\n",
              "    <tr>\n",
              "      <th>27</th>\n",
              "      <td>&lt;!DOCTYPE html&gt;&lt;html lang=\"en\"&gt;&lt;head&gt;&lt;meta cha...</td>\n",
              "      <td>benign</td>\n",
              "      <td>82.0</td>\n",
              "      <td>86</td>\n",
              "      <td>13979</td>\n",
              "      <td>0</td>\n",
              "    </tr>\n",
              "    <tr>\n",
              "      <th>28</th>\n",
              "      <td>&lt;!DOCTYPE html&gt;\\n&lt;html lang=\"en\" xmlns:og=\"htt...</td>\n",
              "      <td>benign</td>\n",
              "      <td>63.0</td>\n",
              "      <td>184</td>\n",
              "      <td>4</td>\n",
              "      <td>0</td>\n",
              "    </tr>\n",
              "    <tr>\n",
              "      <th>29</th>\n",
              "      <td>\\n&lt;!DOCTYPE HTML&gt;\\n&lt;html lang=\"ko-KR\" xml:lang...</td>\n",
              "      <td>benign</td>\n",
              "      <td>35.0</td>\n",
              "      <td>151</td>\n",
              "      <td>8670</td>\n",
              "      <td>0</td>\n",
              "    </tr>\n",
              "    <tr>\n",
              "      <th>30</th>\n",
              "      <td>&lt;!DOCTYPE html&gt;\\n&lt;html lang=\"en\"&gt;\\n&lt;head&gt;\\n  &lt;...</td>\n",
              "      <td>benign</td>\n",
              "      <td>52.0</td>\n",
              "      <td>1416</td>\n",
              "      <td>317</td>\n",
              "      <td>0</td>\n",
              "    </tr>\n",
              "    <tr>\n",
              "      <th>31</th>\n",
              "      <td>&lt;!DOCTYPE html&gt;\\n&lt;html lang=\"pt-BR\"&gt; &lt;head&gt;&lt;ti...</td>\n",
              "      <td>benign</td>\n",
              "      <td>72.0</td>\n",
              "      <td>412</td>\n",
              "      <td>4</td>\n",
              "      <td>0</td>\n",
              "    </tr>\n",
              "    <tr>\n",
              "      <th>32</th>\n",
              "      <td>\\n&lt;!DOCTYPE HTML&gt;\\n\\n&lt;html ng-app=\"usr\" class=...</td>\n",
              "      <td>benign</td>\n",
              "      <td>55.0</td>\n",
              "      <td>152</td>\n",
              "      <td>27020</td>\n",
              "      <td>0</td>\n",
              "    </tr>\n",
              "    <tr>\n",
              "      <th>33</th>\n",
              "      <td>&lt;!DOCTYPE html&gt;\\n&lt;html lang=\"en\" dir=\"ltr\" dat...</td>\n",
              "      <td>benign</td>\n",
              "      <td>45.0</td>\n",
              "      <td>1453</td>\n",
              "      <td>4</td>\n",
              "      <td>0</td>\n",
              "    </tr>\n",
              "    <tr>\n",
              "      <th>34</th>\n",
              "      <td>&lt;!DOCTYPE html&gt;&lt;html lang=\"en\" itemscope=\"\" it...</td>\n",
              "      <td>benign</td>\n",
              "      <td>65.0</td>\n",
              "      <td>4</td>\n",
              "      <td>4</td>\n",
              "      <td>0</td>\n",
              "    </tr>\n",
              "    <tr>\n",
              "      <th>35</th>\n",
              "      <td>\\n\\n\\n    &lt;!DOCTYPE HTML&gt;\\n    &lt;html class=\"sp...</td>\n",
              "      <td>benign</td>\n",
              "      <td>60.0</td>\n",
              "      <td>5558</td>\n",
              "      <td>4312</td>\n",
              "      <td>0</td>\n",
              "    </tr>\n",
              "    <tr>\n",
              "      <th>36</th>\n",
              "      <td>&lt;!doctype html&gt;\\n&lt;html lang=\"en\"&gt;&lt;head&gt;&lt;meta h...</td>\n",
              "      <td>benign</td>\n",
              "      <td>0.0</td>\n",
              "      <td>4</td>\n",
              "      <td>4</td>\n",
              "      <td>0</td>\n",
              "    </tr>\n",
              "    <tr>\n",
              "      <th>37</th>\n",
              "      <td>\\n\\n\\n\\t&lt;!DOCTYPE html&gt;\\n\\t&lt;html class=\"no-js\"...</td>\n",
              "      <td>benign</td>\n",
              "      <td>91.0</td>\n",
              "      <td>4</td>\n",
              "      <td>4</td>\n",
              "      <td>0</td>\n",
              "    </tr>\n",
              "    <tr>\n",
              "      <th>38</th>\n",
              "      <td>_x000D_\\n&lt;!DOCTYPE HTML&gt;_x000D_\\n&lt;html&gt;_x000D_...</td>\n",
              "      <td>benign</td>\n",
              "      <td>62.0</td>\n",
              "      <td>119</td>\n",
              "      <td>30054</td>\n",
              "      <td>0</td>\n",
              "    </tr>\n",
              "    <tr>\n",
              "      <th>39</th>\n",
              "      <td>&lt;!DOCTYPE html&gt;\\n&lt;html&gt;\\n\\n&lt;head&gt;\\n  &lt;title&gt;Bu...</td>\n",
              "      <td>benign</td>\n",
              "      <td>16.0</td>\n",
              "      <td>268</td>\n",
              "      <td>4</td>\n",
              "      <td>0</td>\n",
              "    </tr>\n",
              "  </tbody>\n",
              "</table>\n",
              "</div>"
            ],
            "text/plain": [
              "                                            html_code       repu  \\\n",
              "0   <!DOCTYPE html>\\n<!--[if lt IE 7]> <html lang=...  malicious   \n",
              "1   \\n\\t\\n\\n\\n\\t\\n\\n\\t\\n\\n\\n\\t\\n\\n\\n\\t\\n\\n\\t\\n\\t\\t...  malicious   \n",
              "2   <!DOCTYPE html>\\n<html lang=\"en\">\\n    <head>\\...  malicious   \n",
              "3   <!DOCTYPE html><html lang=\"en\"><head><style da...  malicious   \n",
              "4   <!DOCTYPE html>\\n\\n\\n    \\n    \\n    \\n    \\n ...  malicious   \n",
              "5   _x000D_\\n_x000D_\\n_x000D_\\n<!DOCTYPE html>_x00...  malicious   \n",
              "6   <!doctype html>\\n\\n<html data-ytrk-page=\"HOME\"...  malicious   \n",
              "7   \\n\\t<!DOCTYPE html>\\n\\t<html class=\"no-icon-fo...  malicious   \n",
              "8   <!DOCTYPE html>\\n<html class=\"no-js\">\\n<head>\\...  malicious   \n",
              "9       <!DOCTYPE html>\\n<html class=\"b-header--bl...  malicious   \n",
              "10  <!DOCTYPE html>\\n<html lang=\"mul\" dir=\"ltr\">\\n...  malicious   \n",
              "11  _x000D_\\n_x000D_\\n<!DOCTYPE html><html lang=\"e...  malicious   \n",
              "12  <!DOCTYPE html><html lang=\"en\"><head><link rel...  malicious   \n",
              "13  <!Doctype html>_x000D_\\n<html> _x000D_\\n<head>...  malicious   \n",
              "14  <html lang=\"en\">\\n\\n<head>\\n    <title>Verify ...  malicious   \n",
              "15  <!doctype html><html dir=\"ltr\" lang=\"ko-KR\"><h...  malicious   \n",
              "16  <HTML><HEAD>\\n<TITLE>Access Denied</TITLE>\\n</...  malicious   \n",
              "17  <!doctype html>_x000D_\\n<html xmlns=\"http://ww...  malicious   \n",
              "18  _x000D_\\n<!DOCTYPE html>_x000D_\\n_x000D_\\n<htm...  malicious   \n",
              "19  <!DOCTYPE html><html lang=en><head><meta http-...  malicious   \n",
              "20  <!DOCTYPE html><html lang=\"en\"><head><style da...     benign   \n",
              "21  <!doctype html><html lang=\"en\"><head><title da...     benign   \n",
              "22  <!DOCTYPE html>\\n<!--[if lt IE 8]>      <html ...     benign   \n",
              "23  \\n<!DOCTYPE html>\\n<html id=\"js-context\" class...     benign   \n",
              "24  <!DOCTYPE html><html class=\"no-js\"><head><meta...     benign   \n",
              "25  _x000D_\\n_x000D_\\n_x000D_\\n<!DOCTYPE html>_x00...     benign   \n",
              "26  <!DOCTYPE html>_x000D_\\n<html class=\" responsi...     benign   \n",
              "27  <!DOCTYPE html><html lang=\"en\"><head><meta cha...     benign   \n",
              "28  <!DOCTYPE html>\\n<html lang=\"en\" xmlns:og=\"htt...     benign   \n",
              "29  \\n<!DOCTYPE HTML>\\n<html lang=\"ko-KR\" xml:lang...     benign   \n",
              "30  <!DOCTYPE html>\\n<html lang=\"en\">\\n<head>\\n  <...     benign   \n",
              "31  <!DOCTYPE html>\\n<html lang=\"pt-BR\"> <head><ti...     benign   \n",
              "32  \\n<!DOCTYPE HTML>\\n\\n<html ng-app=\"usr\" class=...     benign   \n",
              "33  <!DOCTYPE html>\\n<html lang=\"en\" dir=\"ltr\" dat...     benign   \n",
              "34  <!DOCTYPE html><html lang=\"en\" itemscope=\"\" it...     benign   \n",
              "35  \\n\\n\\n    <!DOCTYPE HTML>\\n    <html class=\"sp...     benign   \n",
              "36  <!doctype html>\\n<html lang=\"en\"><head><meta h...     benign   \n",
              "37  \\n\\n\\n\\t<!DOCTYPE html>\\n\\t<html class=\"no-js\"...     benign   \n",
              "38  _x000D_\\n<!DOCTYPE HTML>_x000D_\\n<html>_x000D_...     benign   \n",
              "39  <!DOCTYPE html>\\n<html>\\n\\n<head>\\n  <title>Bu...     benign   \n",
              "\n",
              "    title_length  script_length  body_length  src_length  \n",
              "0           10.0            405         3836           0  \n",
              "1            5.0            579        15268           0  \n",
              "2           71.0            817        16542           0  \n",
              "3            0.0              4            4           0  \n",
              "4           27.0            425        20314           0  \n",
              "5           17.0           3180            4           0  \n",
              "6           36.0           5056        20018           0  \n",
              "7           45.0            172            4           0  \n",
              "8           77.0           1389        29661           0  \n",
              "9           14.0            119            4           0  \n",
              "10          10.0            160        27035           0  \n",
              "11          72.0            237        14700           0  \n",
              "12          90.0           1569            4           0  \n",
              "13          60.0           1081        25221           0  \n",
              "14          20.0            496         2303           0  \n",
              "15          48.0           9041            4           0  \n",
              "16          13.0              4          168           0  \n",
              "17          69.0            239        33638           0  \n",
              "18          41.0            195        32476           0  \n",
              "19          15.0             90        23349           0  \n",
              "20           0.0              4            4           0  \n",
              "21         136.0              4            4           0  \n",
              "22          14.0            342         9433           0  \n",
              "23          73.0            443            4           0  \n",
              "24          64.0            172            4           0  \n",
              "25           6.0            686            4           0  \n",
              "26          16.0            723        14359           0  \n",
              "27          82.0             86        13979           0  \n",
              "28          63.0            184            4           0  \n",
              "29          35.0            151         8670           0  \n",
              "30          52.0           1416          317           0  \n",
              "31          72.0            412            4           0  \n",
              "32          55.0            152        27020           0  \n",
              "33          45.0           1453            4           0  \n",
              "34          65.0              4            4           0  \n",
              "35          60.0           5558         4312           0  \n",
              "36           0.0              4            4           0  \n",
              "37          91.0              4            4           0  \n",
              "38          62.0            119        30054           0  \n",
              "39          16.0            268            4           0  "
            ]
          },
          "execution_count": 205,
          "metadata": {},
          "output_type": "execute_result"
        }
      ],
      "source": [
        "df"
      ]
    }
  ],
  "metadata": {
    "kernelspec": {
      "display_name": "Python 3",
      "language": "python",
      "name": "python3"
    },
    "language_info": {
      "codemirror_mode": {
        "name": "ipython",
        "version": 3
      },
      "file_extension": ".py",
      "mimetype": "text/x-python",
      "name": "python",
      "nbconvert_exporter": "python",
      "pygments_lexer": "ipython3",
      "version": "3.8.8"
    },
    "vscode": {
      "interpreter": {
        "hash": "f08154012ddadd8e950e6e9e035c7a7b32c136e7647e9b7c77e02eb723a8bedb"
      }
    },
    "colab": {
      "provenance": []
    }
  },
  "nbformat": 4,
  "nbformat_minor": 0
}
