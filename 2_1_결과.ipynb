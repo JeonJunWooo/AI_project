{
  "cells": [
    {
      "cell_type": "markdown",
      "id": "boxed-jamaica",
      "metadata": {
        "id": "boxed-jamaica"
      },
      "source": [
        "# 안녕하세요:)\n",
        "\n",
        "## AIVLE 1차 미니프로젝트 '서울시 생활정보 기반 대중교통 수요 분석 ' 과정에 오신 여러분을 환영합니다.\n",
        "* 본 과정에서는 서울시 생활정보 데이터를 기반으로 데이터 분석을 시도하고 주어진 문제를 해결할 것입니다.\n",
        "\n",
        "\n",
        "* 우리는 공공 데이터를 활용해 버스노선 관련 인사이트를 도출하여 유용한 정책을 세우는데 도움을 주고자 합니다"
      ]
    },
    {
      "cell_type": "markdown",
      "id": "46fa690c",
      "metadata": {
        "id": "46fa690c"
      },
      "source": [
        "## ▣ 우리가 풀어야 하는 문제는 무엇인가요?\n",
        "\n",
        "* 제공 데이터\n",
        "    - 구 별 유동인구 데이터\n",
        "    - 구 별 주민 등록 데이터\n",
        "    - 구 별 업종 등록 정보\n",
        "    - 버스 승하차 및 운행 노선 데이터 \n",
        "\n",
        "### 위 제공 데이터를 분석하여 버스 노선 추가 필요 대상 지역(구 단위)을 선정합니다"
      ]
    },
    {
      "cell_type": "markdown",
      "id": "22a4bba9",
      "metadata": {
        "id": "22a4bba9"
      },
      "source": [
        "# 이 4개의 데이터들을 어떻게 합칠까요?"
      ]
    },
    {
      "cell_type": "code",
      "execution_count": null,
      "id": "ce78669f",
      "metadata": {
        "id": "ce78669f"
      },
      "outputs": [],
      "source": [
        "import pandas as pd"
      ]
    },
    {
      "cell_type": "code",
      "execution_count": null,
      "id": "d91f797e",
      "metadata": {
        "id": "d91f797e"
      },
      "outputs": [],
      "source": [
        "standard = pd.DataFrame({'도착 시군구 코드': [11010, 11020, 11030, 11040, 11050, 11060, 11070, 11080, 11090, 11100, 11110, 11120, 11130, 11140, 11150, 11160, 11170, 11180, 11190, 11200, 11210, 11220, 11230, 11240, 11250],\n",
        "                         '자치구' :['종로구','중구','용산구','성동구','광진구','동대문구','중랑구','성북구','강북구','도봉구','노원구','은평구','서대문구','마포구','양천구','강서구','구로구','금천구','영등포구','동작구','관악구','서초구','강남구','송파구','강동구']})"
      ]
    },
    {
      "cell_type": "code",
      "execution_count": null,
      "id": "823d3b41",
      "metadata": {
        "id": "823d3b41",
        "outputId": "338a69f1-98f4-4667-e415-bd71d072b48c"
      },
      "outputs": [
        {
          "data": {
            "text/html": [
              "<div>\n",
              "<style scoped>\n",
              "    .dataframe tbody tr th:only-of-type {\n",
              "        vertical-align: middle;\n",
              "    }\n",
              "\n",
              "    .dataframe tbody tr th {\n",
              "        vertical-align: top;\n",
              "    }\n",
              "\n",
              "    .dataframe thead th {\n",
              "        text-align: right;\n",
              "    }\n",
              "</style>\n",
              "<table border=\"1\" class=\"dataframe\">\n",
              "  <thead>\n",
              "    <tr style=\"text-align: right;\">\n",
              "      <th></th>\n",
              "      <th>도착 시군구 코드</th>\n",
              "      <th>자치구</th>\n",
              "    </tr>\n",
              "  </thead>\n",
              "  <tbody>\n",
              "    <tr>\n",
              "      <th>0</th>\n",
              "      <td>11010</td>\n",
              "      <td>종로구</td>\n",
              "    </tr>\n",
              "    <tr>\n",
              "      <th>1</th>\n",
              "      <td>11020</td>\n",
              "      <td>중구</td>\n",
              "    </tr>\n",
              "    <tr>\n",
              "      <th>2</th>\n",
              "      <td>11030</td>\n",
              "      <td>용산구</td>\n",
              "    </tr>\n",
              "    <tr>\n",
              "      <th>3</th>\n",
              "      <td>11040</td>\n",
              "      <td>성동구</td>\n",
              "    </tr>\n",
              "    <tr>\n",
              "      <th>4</th>\n",
              "      <td>11050</td>\n",
              "      <td>광진구</td>\n",
              "    </tr>\n",
              "    <tr>\n",
              "      <th>5</th>\n",
              "      <td>11060</td>\n",
              "      <td>동대문구</td>\n",
              "    </tr>\n",
              "    <tr>\n",
              "      <th>6</th>\n",
              "      <td>11070</td>\n",
              "      <td>중랑구</td>\n",
              "    </tr>\n",
              "    <tr>\n",
              "      <th>7</th>\n",
              "      <td>11080</td>\n",
              "      <td>성북구</td>\n",
              "    </tr>\n",
              "    <tr>\n",
              "      <th>8</th>\n",
              "      <td>11090</td>\n",
              "      <td>강북구</td>\n",
              "    </tr>\n",
              "    <tr>\n",
              "      <th>9</th>\n",
              "      <td>11100</td>\n",
              "      <td>도봉구</td>\n",
              "    </tr>\n",
              "    <tr>\n",
              "      <th>10</th>\n",
              "      <td>11110</td>\n",
              "      <td>노원구</td>\n",
              "    </tr>\n",
              "    <tr>\n",
              "      <th>11</th>\n",
              "      <td>11120</td>\n",
              "      <td>은평구</td>\n",
              "    </tr>\n",
              "    <tr>\n",
              "      <th>12</th>\n",
              "      <td>11130</td>\n",
              "      <td>서대문구</td>\n",
              "    </tr>\n",
              "    <tr>\n",
              "      <th>13</th>\n",
              "      <td>11140</td>\n",
              "      <td>마포구</td>\n",
              "    </tr>\n",
              "    <tr>\n",
              "      <th>14</th>\n",
              "      <td>11150</td>\n",
              "      <td>양천구</td>\n",
              "    </tr>\n",
              "    <tr>\n",
              "      <th>15</th>\n",
              "      <td>11160</td>\n",
              "      <td>강서구</td>\n",
              "    </tr>\n",
              "    <tr>\n",
              "      <th>16</th>\n",
              "      <td>11170</td>\n",
              "      <td>구로구</td>\n",
              "    </tr>\n",
              "    <tr>\n",
              "      <th>17</th>\n",
              "      <td>11180</td>\n",
              "      <td>금천구</td>\n",
              "    </tr>\n",
              "    <tr>\n",
              "      <th>18</th>\n",
              "      <td>11190</td>\n",
              "      <td>영등포구</td>\n",
              "    </tr>\n",
              "    <tr>\n",
              "      <th>19</th>\n",
              "      <td>11200</td>\n",
              "      <td>동작구</td>\n",
              "    </tr>\n",
              "    <tr>\n",
              "      <th>20</th>\n",
              "      <td>11210</td>\n",
              "      <td>관악구</td>\n",
              "    </tr>\n",
              "    <tr>\n",
              "      <th>21</th>\n",
              "      <td>11220</td>\n",
              "      <td>서초구</td>\n",
              "    </tr>\n",
              "    <tr>\n",
              "      <th>22</th>\n",
              "      <td>11230</td>\n",
              "      <td>강남구</td>\n",
              "    </tr>\n",
              "    <tr>\n",
              "      <th>23</th>\n",
              "      <td>11240</td>\n",
              "      <td>송파구</td>\n",
              "    </tr>\n",
              "    <tr>\n",
              "      <th>24</th>\n",
              "      <td>11250</td>\n",
              "      <td>강동구</td>\n",
              "    </tr>\n",
              "  </tbody>\n",
              "</table>\n",
              "</div>"
            ],
            "text/plain": [
              "    도착 시군구 코드   자치구\n",
              "0       11010   종로구\n",
              "1       11020    중구\n",
              "2       11030   용산구\n",
              "3       11040   성동구\n",
              "4       11050   광진구\n",
              "5       11060  동대문구\n",
              "6       11070   중랑구\n",
              "7       11080   성북구\n",
              "8       11090   강북구\n",
              "9       11100   도봉구\n",
              "10      11110   노원구\n",
              "11      11120   은평구\n",
              "12      11130  서대문구\n",
              "13      11140   마포구\n",
              "14      11150   양천구\n",
              "15      11160   강서구\n",
              "16      11170   구로구\n",
              "17      11180   금천구\n",
              "18      11190  영등포구\n",
              "19      11200   동작구\n",
              "20      11210   관악구\n",
              "21      11220   서초구\n",
              "22      11230   강남구\n",
              "23      11240   송파구\n",
              "24      11250   강동구"
            ]
          },
          "execution_count": 3,
          "metadata": {},
          "output_type": "execute_result"
        }
      ],
      "source": [
        "standard"
      ]
    },
    {
      "cell_type": "code",
      "execution_count": null,
      "id": "5ee007e0",
      "metadata": {
        "id": "5ee007e0"
      },
      "outputs": [],
      "source": [
        "# 버스 정류장 데이터 - df_seoul_bus_station\n",
        "# 유동인구 데이터 - df_seoul_moving\n",
        "# 구별 상권 데이터 - df_seoul_business\n",
        "# 구별 등록 인구 데이터 - df_seoul_people"
      ]
    },
    {
      "cell_type": "code",
      "execution_count": null,
      "id": "d8f6cfe8",
      "metadata": {
        "id": "d8f6cfe8",
        "outputId": "59365352-562f-4260-c5a5-26d7d220d3b7"
      },
      "outputs": [
        {
          "data": {
            "text/html": [
              "<div>\n",
              "<style scoped>\n",
              "    .dataframe tbody tr th:only-of-type {\n",
              "        vertical-align: middle;\n",
              "    }\n",
              "\n",
              "    .dataframe tbody tr th {\n",
              "        vertical-align: top;\n",
              "    }\n",
              "\n",
              "    .dataframe thead th {\n",
              "        text-align: right;\n",
              "    }\n",
              "</style>\n",
              "<table border=\"1\" class=\"dataframe\">\n",
              "  <thead>\n",
              "    <tr style=\"text-align: right;\">\n",
              "      <th></th>\n",
              "      <th>자치구</th>\n",
              "      <th>정류장수</th>\n",
              "      <th>노선수</th>\n",
              "      <th>승차총승객수</th>\n",
              "      <th>하차총승객수</th>\n",
              "      <th>승차평균승객수</th>\n",
              "      <th>하차평균승객수</th>\n",
              "    </tr>\n",
              "  </thead>\n",
              "  <tbody>\n",
              "    <tr>\n",
              "      <th>0</th>\n",
              "      <td>강남구</td>\n",
              "      <td>499</td>\n",
              "      <td>91</td>\n",
              "      <td>8030483</td>\n",
              "      <td>7569213</td>\n",
              "      <td>128.767927</td>\n",
              "      <td>121.371512</td>\n",
              "    </tr>\n",
              "    <tr>\n",
              "      <th>1</th>\n",
              "      <td>강동구</td>\n",
              "      <td>369</td>\n",
              "      <td>21</td>\n",
              "      <td>2890053</td>\n",
              "      <td>2830506</td>\n",
              "      <td>99.161194</td>\n",
              "      <td>97.118065</td>\n",
              "    </tr>\n",
              "    <tr>\n",
              "      <th>2</th>\n",
              "      <td>강북구</td>\n",
              "      <td>413</td>\n",
              "      <td>67</td>\n",
              "      <td>4825181</td>\n",
              "      <td>4671783</td>\n",
              "      <td>133.020373</td>\n",
              "      <td>128.791504</td>\n",
              "    </tr>\n",
              "    <tr>\n",
              "      <th>3</th>\n",
              "      <td>강서구</td>\n",
              "      <td>566</td>\n",
              "      <td>49</td>\n",
              "      <td>4681083</td>\n",
              "      <td>4652828</td>\n",
              "      <td>88.119480</td>\n",
              "      <td>87.587591</td>\n",
              "    </tr>\n",
              "    <tr>\n",
              "      <th>4</th>\n",
              "      <td>관악구</td>\n",
              "      <td>466</td>\n",
              "      <td>86</td>\n",
              "      <td>7655819</td>\n",
              "      <td>7792476</td>\n",
              "      <td>154.753674</td>\n",
              "      <td>157.516040</td>\n",
              "    </tr>\n",
              "  </tbody>\n",
              "</table>\n",
              "</div>"
            ],
            "text/plain": [
              "   자치구  정류장수  노선수   승차총승객수   하차총승객수     승차평균승객수     하차평균승객수\n",
              "0  강남구   499   91  8030483  7569213  128.767927  121.371512\n",
              "1  강동구   369   21  2890053  2830506   99.161194   97.118065\n",
              "2  강북구   413   67  4825181  4671783  133.020373  128.791504\n",
              "3  강서구   566   49  4681083  4652828   88.119480   87.587591\n",
              "4  관악구   466   86  7655819  7792476  154.753674  157.516040"
            ]
          },
          "execution_count": 3,
          "metadata": {},
          "output_type": "execute_result"
        }
      ],
      "source": [
        "df_seoul_bus_station = pd.read_csv('df_seoul_bus_station.csv', sep=\",\", encoding = 'UTF-8')\n",
        "df_seoul_bus_station.head()"
      ]
    },
    {
      "cell_type": "code",
      "execution_count": null,
      "id": "7770cc4c",
      "metadata": {
        "id": "7770cc4c",
        "outputId": "4ab1e9d8-f0d4-4225-f62b-c1b7c7a9d2a1"
      },
      "outputs": [
        {
          "data": {
            "text/html": [
              "<div>\n",
              "<style scoped>\n",
              "    .dataframe tbody tr th:only-of-type {\n",
              "        vertical-align: middle;\n",
              "    }\n",
              "\n",
              "    .dataframe tbody tr th {\n",
              "        vertical-align: top;\n",
              "    }\n",
              "\n",
              "    .dataframe thead th {\n",
              "        text-align: right;\n",
              "    }\n",
              "</style>\n",
              "<table border=\"1\" class=\"dataframe\">\n",
              "  <thead>\n",
              "    <tr style=\"text-align: right;\">\n",
              "      <th></th>\n",
              "      <th>도착 시군구 코드</th>\n",
              "      <th>평균 이동 시간(분)</th>\n",
              "      <th>이동인구(합)</th>\n",
              "      <th>총 이동 시간</th>\n",
              "      <th>총 이동인구</th>\n",
              "    </tr>\n",
              "  </thead>\n",
              "  <tbody>\n",
              "    <tr>\n",
              "      <th>0</th>\n",
              "      <td>11010</td>\n",
              "      <td>21.867754</td>\n",
              "      <td>46.046219</td>\n",
              "      <td>5471640</td>\n",
              "      <td>1.152145e+07</td>\n",
              "    </tr>\n",
              "    <tr>\n",
              "      <th>1</th>\n",
              "      <td>11020</td>\n",
              "      <td>21.524817</td>\n",
              "      <td>46.214336</td>\n",
              "      <td>5368440</td>\n",
              "      <td>1.152618e+07</td>\n",
              "    </tr>\n",
              "    <tr>\n",
              "      <th>2</th>\n",
              "      <td>11030</td>\n",
              "      <td>21.820458</td>\n",
              "      <td>38.412082</td>\n",
              "      <td>4959790</td>\n",
              "      <td>8.731066e+06</td>\n",
              "    </tr>\n",
              "    <tr>\n",
              "      <th>3</th>\n",
              "      <td>11040</td>\n",
              "      <td>22.150334</td>\n",
              "      <td>44.717847</td>\n",
              "      <td>5139830</td>\n",
              "      <td>1.037646e+07</td>\n",
              "    </tr>\n",
              "    <tr>\n",
              "      <th>4</th>\n",
              "      <td>11050</td>\n",
              "      <td>22.810568</td>\n",
              "      <td>50.043326</td>\n",
              "      <td>5020720</td>\n",
              "      <td>1.101479e+07</td>\n",
              "    </tr>\n",
              "  </tbody>\n",
              "</table>\n",
              "</div>"
            ],
            "text/plain": [
              "   도착 시군구 코드  평균 이동 시간(분)    이동인구(합)  총 이동 시간        총 이동인구\n",
              "0      11010    21.867754  46.046219  5471640  1.152145e+07\n",
              "1      11020    21.524817  46.214336  5368440  1.152618e+07\n",
              "2      11030    21.820458  38.412082  4959790  8.731066e+06\n",
              "3      11040    22.150334  44.717847  5139830  1.037646e+07\n",
              "4      11050    22.810568  50.043326  5020720  1.101479e+07"
            ]
          },
          "execution_count": 4,
          "metadata": {},
          "output_type": "execute_result"
        }
      ],
      "source": [
        "df_seoul_moving = pd.read_csv('df_seoul_moving.csv', sep=\",\", encoding = 'UTF-8')\n",
        "df_seoul_moving.head()"
      ]
    },
    {
      "cell_type": "code",
      "execution_count": null,
      "id": "22e16caa",
      "metadata": {
        "id": "22e16caa"
      },
      "outputs": [],
      "source": [
        "# df_seoul_business = pd.read_csv('df_seoul_business.csv', sep=\",\", encoding = 'UTF-8')\n",
        "# df_seoul_business.head()"
      ]
    },
    {
      "cell_type": "code",
      "execution_count": null,
      "id": "b144c7e9",
      "metadata": {
        "id": "b144c7e9"
      },
      "outputs": [],
      "source": [
        "# df_seoul_people = pd.read_csv('df_seoul_people.csv', sep=\",\", encoding = 'UTF-8')\n",
        "# df_seoul_people.head()"
      ]
    },
    {
      "cell_type": "code",
      "execution_count": null,
      "id": "24951c98",
      "metadata": {
        "id": "24951c98"
      },
      "outputs": [],
      "source": [
        "df = pd.merge(standard,df_seoul_bus_station,how='inner', on='자치구')"
      ]
    },
    {
      "cell_type": "code",
      "execution_count": null,
      "id": "6a6559c8",
      "metadata": {
        "id": "6a6559c8"
      },
      "outputs": [],
      "source": [
        "df = pd.merge(df,df_seoul_moving,how='inner', on='도착 시군구 코드')"
      ]
    },
    {
      "cell_type": "code",
      "execution_count": null,
      "id": "8b831c84",
      "metadata": {
        "id": "8b831c84"
      },
      "outputs": [],
      "source": [
        "# df = pd.merge(df,df_seoul_business,how='inner', on='자치구')"
      ]
    },
    {
      "cell_type": "code",
      "execution_count": null,
      "id": "10144b50",
      "metadata": {
        "id": "10144b50"
      },
      "outputs": [],
      "source": [
        "# df = pd.merge(df,df_seoul_people,how='inner', on='자치구')"
      ]
    },
    {
      "cell_type": "code",
      "execution_count": null,
      "id": "2aab60fa",
      "metadata": {
        "id": "2aab60fa",
        "outputId": "b5e41457-ab5e-492c-ac7c-d6f55c2be4ba"
      },
      "outputs": [
        {
          "data": {
            "text/html": [
              "<div>\n",
              "<style scoped>\n",
              "    .dataframe tbody tr th:only-of-type {\n",
              "        vertical-align: middle;\n",
              "    }\n",
              "\n",
              "    .dataframe tbody tr th {\n",
              "        vertical-align: top;\n",
              "    }\n",
              "\n",
              "    .dataframe thead th {\n",
              "        text-align: right;\n",
              "    }\n",
              "</style>\n",
              "<table border=\"1\" class=\"dataframe\">\n",
              "  <thead>\n",
              "    <tr style=\"text-align: right;\">\n",
              "      <th></th>\n",
              "      <th>도착 시군구 코드</th>\n",
              "      <th>자치구</th>\n",
              "      <th>정류장수</th>\n",
              "      <th>노선수</th>\n",
              "      <th>승차총승객수</th>\n",
              "      <th>하차총승객수</th>\n",
              "      <th>승차평균승객수</th>\n",
              "      <th>하차평균승객수</th>\n",
              "      <th>평균 이동 시간(분)</th>\n",
              "      <th>이동인구(합)</th>\n",
              "      <th>총 이동 시간</th>\n",
              "      <th>총 이동인구</th>\n",
              "    </tr>\n",
              "  </thead>\n",
              "  <tbody>\n",
              "    <tr>\n",
              "      <th>0</th>\n",
              "      <td>11010</td>\n",
              "      <td>종로구</td>\n",
              "      <td>349</td>\n",
              "      <td>106</td>\n",
              "      <td>5468935</td>\n",
              "      <td>5205394</td>\n",
              "      <td>131.889620</td>\n",
              "      <td>125.534028</td>\n",
              "      <td>21.867754</td>\n",
              "      <td>46.046219</td>\n",
              "      <td>5471640</td>\n",
              "      <td>1.152145e+07</td>\n",
              "    </tr>\n",
              "    <tr>\n",
              "      <th>1</th>\n",
              "      <td>11020</td>\n",
              "      <td>중구</td>\n",
              "      <td>178</td>\n",
              "      <td>103</td>\n",
              "      <td>3776675</td>\n",
              "      <td>3598932</td>\n",
              "      <td>121.020124</td>\n",
              "      <td>115.324511</td>\n",
              "      <td>21.524817</td>\n",
              "      <td>46.214336</td>\n",
              "      <td>5368440</td>\n",
              "      <td>1.152618e+07</td>\n",
              "    </tr>\n",
              "    <tr>\n",
              "      <th>2</th>\n",
              "      <td>11030</td>\n",
              "      <td>용산구</td>\n",
              "      <td>323</td>\n",
              "      <td>67</td>\n",
              "      <td>4189977</td>\n",
              "      <td>4086474</td>\n",
              "      <td>137.891694</td>\n",
              "      <td>134.485421</td>\n",
              "      <td>21.820458</td>\n",
              "      <td>38.412082</td>\n",
              "      <td>4959790</td>\n",
              "      <td>8.731066e+06</td>\n",
              "    </tr>\n",
              "    <tr>\n",
              "      <th>3</th>\n",
              "      <td>11040</td>\n",
              "      <td>성동구</td>\n",
              "      <td>435</td>\n",
              "      <td>58</td>\n",
              "      <td>2807280</td>\n",
              "      <td>2746738</td>\n",
              "      <td>96.377369</td>\n",
              "      <td>94.298888</td>\n",
              "      <td>22.150334</td>\n",
              "      <td>44.717847</td>\n",
              "      <td>5139830</td>\n",
              "      <td>1.037646e+07</td>\n",
              "    </tr>\n",
              "    <tr>\n",
              "      <th>4</th>\n",
              "      <td>11050</td>\n",
              "      <td>광진구</td>\n",
              "      <td>269</td>\n",
              "      <td>41</td>\n",
              "      <td>2749448</td>\n",
              "      <td>2753411</td>\n",
              "      <td>118.352546</td>\n",
              "      <td>118.523137</td>\n",
              "      <td>22.810568</td>\n",
              "      <td>50.043326</td>\n",
              "      <td>5020720</td>\n",
              "      <td>1.101479e+07</td>\n",
              "    </tr>\n",
              "  </tbody>\n",
              "</table>\n",
              "</div>"
            ],
            "text/plain": [
              "   도착 시군구 코드  자치구  정류장수  노선수   승차총승객수   하차총승객수     승차평균승객수     하차평균승객수  \\\n",
              "0      11010  종로구   349  106  5468935  5205394  131.889620  125.534028   \n",
              "1      11020   중구   178  103  3776675  3598932  121.020124  115.324511   \n",
              "2      11030  용산구   323   67  4189977  4086474  137.891694  134.485421   \n",
              "3      11040  성동구   435   58  2807280  2746738   96.377369   94.298888   \n",
              "4      11050  광진구   269   41  2749448  2753411  118.352546  118.523137   \n",
              "\n",
              "   평균 이동 시간(분)    이동인구(합)  총 이동 시간        총 이동인구  \n",
              "0    21.867754  46.046219  5471640  1.152145e+07  \n",
              "1    21.524817  46.214336  5368440  1.152618e+07  \n",
              "2    21.820458  38.412082  4959790  8.731066e+06  \n",
              "3    22.150334  44.717847  5139830  1.037646e+07  \n",
              "4    22.810568  50.043326  5020720  1.101479e+07  "
            ]
          },
          "execution_count": 7,
          "metadata": {},
          "output_type": "execute_result"
        }
      ],
      "source": [
        "df.head()"
      ]
    },
    {
      "cell_type": "code",
      "execution_count": null,
      "id": "f30d1f52",
      "metadata": {
        "id": "f30d1f52",
        "outputId": "804475a3-9185-4345-ae60-5b5fc9a84023"
      },
      "outputs": [
        {
          "data": {
            "text/html": [
              "<div>\n",
              "<style scoped>\n",
              "    .dataframe tbody tr th:only-of-type {\n",
              "        vertical-align: middle;\n",
              "    }\n",
              "\n",
              "    .dataframe tbody tr th {\n",
              "        vertical-align: top;\n",
              "    }\n",
              "\n",
              "    .dataframe thead th {\n",
              "        text-align: right;\n",
              "    }\n",
              "</style>\n",
              "<table border=\"1\" class=\"dataframe\">\n",
              "  <thead>\n",
              "    <tr style=\"text-align: right;\">\n",
              "      <th></th>\n",
              "      <th>도착 시군구 코드</th>\n",
              "      <th>정류장수</th>\n",
              "      <th>노선수</th>\n",
              "      <th>승차총승객수</th>\n",
              "      <th>하차총승객수</th>\n",
              "      <th>승차평균승객수</th>\n",
              "      <th>하차평균승객수</th>\n",
              "      <th>평균 이동 시간(분)</th>\n",
              "      <th>이동인구(합)</th>\n",
              "      <th>총 이동 시간</th>\n",
              "      <th>총 이동인구</th>\n",
              "    </tr>\n",
              "  </thead>\n",
              "  <tbody>\n",
              "    <tr>\n",
              "      <th>도착 시군구 코드</th>\n",
              "      <td>1.000000</td>\n",
              "      <td>0.447511</td>\n",
              "      <td>-0.069435</td>\n",
              "      <td>0.440756</td>\n",
              "      <td>0.441705</td>\n",
              "      <td>0.017980</td>\n",
              "      <td>0.029956</td>\n",
              "      <td>0.457965</td>\n",
              "      <td>0.639658</td>\n",
              "      <td>0.276925</td>\n",
              "      <td>0.531874</td>\n",
              "    </tr>\n",
              "    <tr>\n",
              "      <th>정류장수</th>\n",
              "      <td>0.447511</td>\n",
              "      <td>1.000000</td>\n",
              "      <td>0.258798</td>\n",
              "      <td>0.566681</td>\n",
              "      <td>0.578479</td>\n",
              "      <td>-0.135318</td>\n",
              "      <td>-0.099146</td>\n",
              "      <td>0.199466</td>\n",
              "      <td>0.387141</td>\n",
              "      <td>0.359348</td>\n",
              "      <td>0.370605</td>\n",
              "    </tr>\n",
              "    <tr>\n",
              "      <th>노선수</th>\n",
              "      <td>-0.069435</td>\n",
              "      <td>0.258798</td>\n",
              "      <td>1.000000</td>\n",
              "      <td>0.665488</td>\n",
              "      <td>0.652642</td>\n",
              "      <td>0.493541</td>\n",
              "      <td>0.470440</td>\n",
              "      <td>-0.693565</td>\n",
              "      <td>-0.013633</td>\n",
              "      <td>0.360500</td>\n",
              "      <td>0.188197</td>\n",
              "    </tr>\n",
              "    <tr>\n",
              "      <th>승차총승객수</th>\n",
              "      <td>0.440756</td>\n",
              "      <td>0.566681</td>\n",
              "      <td>0.665488</td>\n",
              "      <td>1.000000</td>\n",
              "      <td>0.996610</td>\n",
              "      <td>0.538720</td>\n",
              "      <td>0.547384</td>\n",
              "      <td>-0.146534</td>\n",
              "      <td>0.472734</td>\n",
              "      <td>0.572455</td>\n",
              "      <td>0.568742</td>\n",
              "    </tr>\n",
              "    <tr>\n",
              "      <th>하차총승객수</th>\n",
              "      <td>0.441705</td>\n",
              "      <td>0.578479</td>\n",
              "      <td>0.652642</td>\n",
              "      <td>0.996610</td>\n",
              "      <td>1.000000</td>\n",
              "      <td>0.534826</td>\n",
              "      <td>0.555137</td>\n",
              "      <td>-0.135064</td>\n",
              "      <td>0.460952</td>\n",
              "      <td>0.564608</td>\n",
              "      <td>0.550686</td>\n",
              "    </tr>\n",
              "    <tr>\n",
              "      <th>승차평균승객수</th>\n",
              "      <td>0.017980</td>\n",
              "      <td>-0.135318</td>\n",
              "      <td>0.493541</td>\n",
              "      <td>0.538720</td>\n",
              "      <td>0.534826</td>\n",
              "      <td>1.000000</td>\n",
              "      <td>0.989288</td>\n",
              "      <td>-0.410118</td>\n",
              "      <td>-0.080959</td>\n",
              "      <td>0.124998</td>\n",
              "      <td>0.051692</td>\n",
              "    </tr>\n",
              "    <tr>\n",
              "      <th>하차평균승객수</th>\n",
              "      <td>0.029956</td>\n",
              "      <td>-0.099146</td>\n",
              "      <td>0.470440</td>\n",
              "      <td>0.547384</td>\n",
              "      <td>0.555137</td>\n",
              "      <td>0.989288</td>\n",
              "      <td>1.000000</td>\n",
              "      <td>-0.387490</td>\n",
              "      <td>-0.076575</td>\n",
              "      <td>0.133859</td>\n",
              "      <td>0.045831</td>\n",
              "    </tr>\n",
              "    <tr>\n",
              "      <th>평균 이동 시간(분)</th>\n",
              "      <td>0.457965</td>\n",
              "      <td>0.199466</td>\n",
              "      <td>-0.693565</td>\n",
              "      <td>-0.146534</td>\n",
              "      <td>-0.135064</td>\n",
              "      <td>-0.410118</td>\n",
              "      <td>-0.387490</td>\n",
              "      <td>1.000000</td>\n",
              "      <td>0.360419</td>\n",
              "      <td>-0.125621</td>\n",
              "      <td>0.120281</td>\n",
              "    </tr>\n",
              "    <tr>\n",
              "      <th>이동인구(합)</th>\n",
              "      <td>0.639658</td>\n",
              "      <td>0.387141</td>\n",
              "      <td>-0.013633</td>\n",
              "      <td>0.472734</td>\n",
              "      <td>0.460952</td>\n",
              "      <td>-0.080959</td>\n",
              "      <td>-0.076575</td>\n",
              "      <td>0.360419</td>\n",
              "      <td>1.000000</td>\n",
              "      <td>0.812646</td>\n",
              "      <td>0.963787</td>\n",
              "    </tr>\n",
              "    <tr>\n",
              "      <th>총 이동 시간</th>\n",
              "      <td>0.276925</td>\n",
              "      <td>0.359348</td>\n",
              "      <td>0.360500</td>\n",
              "      <td>0.572455</td>\n",
              "      <td>0.564608</td>\n",
              "      <td>0.124998</td>\n",
              "      <td>0.133859</td>\n",
              "      <td>-0.125621</td>\n",
              "      <td>0.812646</td>\n",
              "      <td>1.000000</td>\n",
              "      <td>0.908128</td>\n",
              "    </tr>\n",
              "    <tr>\n",
              "      <th>총 이동인구</th>\n",
              "      <td>0.531874</td>\n",
              "      <td>0.370605</td>\n",
              "      <td>0.188197</td>\n",
              "      <td>0.568742</td>\n",
              "      <td>0.550686</td>\n",
              "      <td>0.051692</td>\n",
              "      <td>0.045831</td>\n",
              "      <td>0.120281</td>\n",
              "      <td>0.963787</td>\n",
              "      <td>0.908128</td>\n",
              "      <td>1.000000</td>\n",
              "    </tr>\n",
              "  </tbody>\n",
              "</table>\n",
              "</div>"
            ],
            "text/plain": [
              "             도착 시군구 코드      정류장수       노선수    승차총승객수    하차총승객수   승차평균승객수  \\\n",
              "도착 시군구 코드     1.000000  0.447511 -0.069435  0.440756  0.441705  0.017980   \n",
              "정류장수          0.447511  1.000000  0.258798  0.566681  0.578479 -0.135318   \n",
              "노선수          -0.069435  0.258798  1.000000  0.665488  0.652642  0.493541   \n",
              "승차총승객수        0.440756  0.566681  0.665488  1.000000  0.996610  0.538720   \n",
              "하차총승객수        0.441705  0.578479  0.652642  0.996610  1.000000  0.534826   \n",
              "승차평균승객수       0.017980 -0.135318  0.493541  0.538720  0.534826  1.000000   \n",
              "하차평균승객수       0.029956 -0.099146  0.470440  0.547384  0.555137  0.989288   \n",
              "평균 이동 시간(분)   0.457965  0.199466 -0.693565 -0.146534 -0.135064 -0.410118   \n",
              "이동인구(합)       0.639658  0.387141 -0.013633  0.472734  0.460952 -0.080959   \n",
              "총 이동 시간       0.276925  0.359348  0.360500  0.572455  0.564608  0.124998   \n",
              "총 이동인구        0.531874  0.370605  0.188197  0.568742  0.550686  0.051692   \n",
              "\n",
              "              하차평균승객수  평균 이동 시간(분)   이동인구(합)   총 이동 시간    총 이동인구  \n",
              "도착 시군구 코드    0.029956     0.457965  0.639658  0.276925  0.531874  \n",
              "정류장수        -0.099146     0.199466  0.387141  0.359348  0.370605  \n",
              "노선수          0.470440    -0.693565 -0.013633  0.360500  0.188197  \n",
              "승차총승객수       0.547384    -0.146534  0.472734  0.572455  0.568742  \n",
              "하차총승객수       0.555137    -0.135064  0.460952  0.564608  0.550686  \n",
              "승차평균승객수      0.989288    -0.410118 -0.080959  0.124998  0.051692  \n",
              "하차평균승객수      1.000000    -0.387490 -0.076575  0.133859  0.045831  \n",
              "평균 이동 시간(분) -0.387490     1.000000  0.360419 -0.125621  0.120281  \n",
              "이동인구(합)     -0.076575     0.360419  1.000000  0.812646  0.963787  \n",
              "총 이동 시간      0.133859    -0.125621  0.812646  1.000000  0.908128  \n",
              "총 이동인구       0.045831     0.120281  0.963787  0.908128  1.000000  "
            ]
          },
          "execution_count": 14,
          "metadata": {},
          "output_type": "execute_result"
        }
      ],
      "source": [
        "df.corr()"
      ]
    },
    {
      "cell_type": "code",
      "execution_count": null,
      "id": "9acdfa2e",
      "metadata": {
        "id": "9acdfa2e",
        "outputId": "ad6742c1-e158-4d65-d931-1121519f57f4"
      },
      "outputs": [
        {
          "data": {
            "text/plain": [
              "(0.5666813370974585, 0.003141977397117322)"
            ]
          },
          "execution_count": 16,
          "metadata": {},
          "output_type": "execute_result"
        }
      ],
      "source": [
        "# (예시1) 정류장 수와 승차 총 승객수는 관계가 있다.\n",
        "\n",
        "# H0 : 정류장 수와 승차 총 승객수는 연관이 없다.\n",
        "\n",
        "# H1 : 정류장 수와 승차 총 승객수는 연관이 있다.\n",
        "import scipy.stats as spst\n",
        "spst.pearsonr(df['정류장수'],df['승차총승객수'])\n",
        "\n",
        "# 강한 양의 상관관계\n",
        "# p-value 0.05 기준  작으면 -> 귀무가설 기각,  크면 -> 대립가설 기각 \n",
        "# 정류장수와 승차총승객수는 상관관계가 있다?\n"
      ]
    },
    {
      "cell_type": "code",
      "execution_count": null,
      "id": "9956d836",
      "metadata": {
        "id": "9956d836",
        "outputId": "488137c5-430f-4f1e-9908-f1d590452e33"
      },
      "outputs": [
        {
          "data": {
            "text/html": [
              "<div>\n",
              "<style scoped>\n",
              "    .dataframe tbody tr th:only-of-type {\n",
              "        vertical-align: middle;\n",
              "    }\n",
              "\n",
              "    .dataframe tbody tr th {\n",
              "        vertical-align: top;\n",
              "    }\n",
              "\n",
              "    .dataframe thead th {\n",
              "        text-align: right;\n",
              "    }\n",
              "</style>\n",
              "<table border=\"1\" class=\"dataframe\">\n",
              "  <thead>\n",
              "    <tr style=\"text-align: right;\">\n",
              "      <th></th>\n",
              "      <th>도착 시군구 코드</th>\n",
              "      <th>자치구</th>\n",
              "      <th>정류장수</th>\n",
              "      <th>노선수</th>\n",
              "      <th>승차총승객수</th>\n",
              "      <th>하차총승객수</th>\n",
              "      <th>승차평균승객수</th>\n",
              "      <th>하차평균승객수</th>\n",
              "      <th>평균 이동 시간(분)</th>\n",
              "      <th>이동인구(합)</th>\n",
              "      <th>총 이동 시간</th>\n",
              "      <th>총 이동인구</th>\n",
              "      <th>비율1</th>\n",
              "    </tr>\n",
              "  </thead>\n",
              "  <tbody>\n",
              "    <tr>\n",
              "      <th>1</th>\n",
              "      <td>11020</td>\n",
              "      <td>중구</td>\n",
              "      <td>178</td>\n",
              "      <td>103</td>\n",
              "      <td>3776675</td>\n",
              "      <td>3598932</td>\n",
              "      <td>121.020124</td>\n",
              "      <td>115.324511</td>\n",
              "      <td>21.524817</td>\n",
              "      <td>46.214336</td>\n",
              "      <td>5368440</td>\n",
              "      <td>1.152618e+07</td>\n",
              "      <td>0.471314</td>\n",
              "    </tr>\n",
              "    <tr>\n",
              "      <th>5</th>\n",
              "      <td>11060</td>\n",
              "      <td>동대문구</td>\n",
              "      <td>306</td>\n",
              "      <td>73</td>\n",
              "      <td>5240565</td>\n",
              "      <td>5115379</td>\n",
              "      <td>131.841430</td>\n",
              "      <td>128.692017</td>\n",
              "      <td>22.149241</td>\n",
              "      <td>41.037280</td>\n",
              "      <td>5132710</td>\n",
              "      <td>9.509692e+06</td>\n",
              "      <td>0.583907</td>\n",
              "    </tr>\n",
              "    <tr>\n",
              "      <th>20</th>\n",
              "      <td>11210</td>\n",
              "      <td>관악구</td>\n",
              "      <td>466</td>\n",
              "      <td>86</td>\n",
              "      <td>7655819</td>\n",
              "      <td>7792476</td>\n",
              "      <td>154.753674</td>\n",
              "      <td>157.516040</td>\n",
              "      <td>23.480725</td>\n",
              "      <td>53.024888</td>\n",
              "      <td>5150450</td>\n",
              "      <td>1.163090e+07</td>\n",
              "      <td>0.608687</td>\n",
              "    </tr>\n",
              "    <tr>\n",
              "      <th>22</th>\n",
              "      <td>11230</td>\n",
              "      <td>강남구</td>\n",
              "      <td>499</td>\n",
              "      <td>91</td>\n",
              "      <td>8030483</td>\n",
              "      <td>7569213</td>\n",
              "      <td>128.767927</td>\n",
              "      <td>121.371512</td>\n",
              "      <td>23.418794</td>\n",
              "      <td>104.437297</td>\n",
              "      <td>6543820</td>\n",
              "      <td>2.918250e+07</td>\n",
              "      <td>0.621382</td>\n",
              "    </tr>\n",
              "    <tr>\n",
              "      <th>0</th>\n",
              "      <td>11010</td>\n",
              "      <td>종로구</td>\n",
              "      <td>349</td>\n",
              "      <td>106</td>\n",
              "      <td>5468935</td>\n",
              "      <td>5205394</td>\n",
              "      <td>131.889620</td>\n",
              "      <td>125.534028</td>\n",
              "      <td>21.867754</td>\n",
              "      <td>46.046219</td>\n",
              "      <td>5471640</td>\n",
              "      <td>1.152145e+07</td>\n",
              "      <td>0.638150</td>\n",
              "    </tr>\n",
              "    <tr>\n",
              "      <th>23</th>\n",
              "      <td>11240</td>\n",
              "      <td>송파구</td>\n",
              "      <td>415</td>\n",
              "      <td>55</td>\n",
              "      <td>5641742</td>\n",
              "      <td>5603488</td>\n",
              "      <td>114.270072</td>\n",
              "      <td>113.495260</td>\n",
              "      <td>25.735699</td>\n",
              "      <td>94.938240</td>\n",
              "      <td>6234190</td>\n",
              "      <td>2.299774e+07</td>\n",
              "      <td>0.735588</td>\n",
              "    </tr>\n",
              "    <tr>\n",
              "      <th>2</th>\n",
              "      <td>11030</td>\n",
              "      <td>용산구</td>\n",
              "      <td>323</td>\n",
              "      <td>67</td>\n",
              "      <td>4189977</td>\n",
              "      <td>4086474</td>\n",
              "      <td>137.891694</td>\n",
              "      <td>134.485421</td>\n",
              "      <td>21.820458</td>\n",
              "      <td>38.412082</td>\n",
              "      <td>4959790</td>\n",
              "      <td>8.731066e+06</td>\n",
              "      <td>0.770887</td>\n",
              "    </tr>\n",
              "    <tr>\n",
              "      <th>12</th>\n",
              "      <td>11130</td>\n",
              "      <td>서대문구</td>\n",
              "      <td>456</td>\n",
              "      <td>107</td>\n",
              "      <td>5863499</td>\n",
              "      <td>5796960</td>\n",
              "      <td>109.914502</td>\n",
              "      <td>108.667192</td>\n",
              "      <td>22.411314</td>\n",
              "      <td>46.134844</td>\n",
              "      <td>4952990</td>\n",
              "      <td>1.019598e+07</td>\n",
              "      <td>0.777693</td>\n",
              "    </tr>\n",
              "    <tr>\n",
              "      <th>14</th>\n",
              "      <td>11150</td>\n",
              "      <td>양천구</td>\n",
              "      <td>319</td>\n",
              "      <td>56</td>\n",
              "      <td>4009172</td>\n",
              "      <td>3851173</td>\n",
              "      <td>97.627526</td>\n",
              "      <td>93.780086</td>\n",
              "      <td>23.209394</td>\n",
              "      <td>49.140477</td>\n",
              "      <td>4383860</td>\n",
              "      <td>9.281801e+06</td>\n",
              "      <td>0.795676</td>\n",
              "    </tr>\n",
              "    <tr>\n",
              "      <th>18</th>\n",
              "      <td>11190</td>\n",
              "      <td>영등포구</td>\n",
              "      <td>465</td>\n",
              "      <td>101</td>\n",
              "      <td>5739875</td>\n",
              "      <td>5783211</td>\n",
              "      <td>120.337855</td>\n",
              "      <td>121.246404</td>\n",
              "      <td>21.745571</td>\n",
              "      <td>61.736901</td>\n",
              "      <td>5525180</td>\n",
              "      <td>1.568630e+07</td>\n",
              "      <td>0.810122</td>\n",
              "    </tr>\n",
              "    <tr>\n",
              "      <th>19</th>\n",
              "      <td>11200</td>\n",
              "      <td>동작구</td>\n",
              "      <td>438</td>\n",
              "      <td>94</td>\n",
              "      <td>5314274</td>\n",
              "      <td>5112276</td>\n",
              "      <td>124.295965</td>\n",
              "      <td>119.571419</td>\n",
              "      <td>22.059056</td>\n",
              "      <td>45.116262</td>\n",
              "      <td>4944030</td>\n",
              "      <td>1.011177e+07</td>\n",
              "      <td>0.824195</td>\n",
              "    </tr>\n",
              "    <tr>\n",
              "      <th>21</th>\n",
              "      <td>11220</td>\n",
              "      <td>서초구</td>\n",
              "      <td>600</td>\n",
              "      <td>93</td>\n",
              "      <td>7221330</td>\n",
              "      <td>6977950</td>\n",
              "      <td>126.687777</td>\n",
              "      <td>122.418028</td>\n",
              "      <td>23.119681</td>\n",
              "      <td>72.512790</td>\n",
              "      <td>5944440</td>\n",
              "      <td>1.864420e+07</td>\n",
              "      <td>0.830872</td>\n",
              "    </tr>\n",
              "    <tr>\n",
              "      <th>8</th>\n",
              "      <td>11090</td>\n",
              "      <td>강북구</td>\n",
              "      <td>413</td>\n",
              "      <td>67</td>\n",
              "      <td>4825181</td>\n",
              "      <td>4671783</td>\n",
              "      <td>133.020373</td>\n",
              "      <td>128.791504</td>\n",
              "      <td>24.355289</td>\n",
              "      <td>42.216319</td>\n",
              "      <td>4458260</td>\n",
              "      <td>7.727739e+06</td>\n",
              "      <td>0.855926</td>\n",
              "    </tr>\n",
              "    <tr>\n",
              "      <th>17</th>\n",
              "      <td>11180</td>\n",
              "      <td>금천구</td>\n",
              "      <td>345</td>\n",
              "      <td>58</td>\n",
              "      <td>3776658</td>\n",
              "      <td>3581930</td>\n",
              "      <td>123.098370</td>\n",
              "      <td>116.751304</td>\n",
              "      <td>24.283819</td>\n",
              "      <td>32.821422</td>\n",
              "      <td>3789660</td>\n",
              "      <td>5.122013e+06</td>\n",
              "      <td>0.913506</td>\n",
              "    </tr>\n",
              "    <tr>\n",
              "      <th>11</th>\n",
              "      <td>11120</td>\n",
              "      <td>은평구</td>\n",
              "      <td>501</td>\n",
              "      <td>71</td>\n",
              "      <td>5201660</td>\n",
              "      <td>5122499</td>\n",
              "      <td>106.395173</td>\n",
              "      <td>104.776007</td>\n",
              "      <td>24.993078</td>\n",
              "      <td>55.018153</td>\n",
              "      <td>4748160</td>\n",
              "      <td>1.045229e+07</td>\n",
              "      <td>0.963154</td>\n",
              "    </tr>\n",
              "    <tr>\n",
              "      <th>7</th>\n",
              "      <td>11080</td>\n",
              "      <td>성북구</td>\n",
              "      <td>602</td>\n",
              "      <td>99</td>\n",
              "      <td>6236424</td>\n",
              "      <td>6231238</td>\n",
              "      <td>123.251922</td>\n",
              "      <td>123.149430</td>\n",
              "      <td>22.716321</td>\n",
              "      <td>48.931749</td>\n",
              "      <td>5232500</td>\n",
              "      <td>1.127099e+07</td>\n",
              "      <td>0.965297</td>\n",
              "    </tr>\n",
              "    <tr>\n",
              "      <th>4</th>\n",
              "      <td>11050</td>\n",
              "      <td>광진구</td>\n",
              "      <td>269</td>\n",
              "      <td>41</td>\n",
              "      <td>2749448</td>\n",
              "      <td>2753411</td>\n",
              "      <td>118.352546</td>\n",
              "      <td>118.523137</td>\n",
              "      <td>22.810568</td>\n",
              "      <td>50.043326</td>\n",
              "      <td>5020720</td>\n",
              "      <td>1.101479e+07</td>\n",
              "      <td>0.978378</td>\n",
              "    </tr>\n",
              "    <tr>\n",
              "      <th>16</th>\n",
              "      <td>11170</td>\n",
              "      <td>구로구</td>\n",
              "      <td>486</td>\n",
              "      <td>79</td>\n",
              "      <td>4942197</td>\n",
              "      <td>4730992</td>\n",
              "      <td>119.235615</td>\n",
              "      <td>114.140076</td>\n",
              "      <td>23.162536</td>\n",
              "      <td>45.008292</td>\n",
              "      <td>4717560</td>\n",
              "      <td>9.166929e+06</td>\n",
              "      <td>0.983368</td>\n",
              "    </tr>\n",
              "    <tr>\n",
              "      <th>6</th>\n",
              "      <td>11070</td>\n",
              "      <td>중랑구</td>\n",
              "      <td>380</td>\n",
              "      <td>48</td>\n",
              "      <td>3792541</td>\n",
              "      <td>3740923</td>\n",
              "      <td>87.403863</td>\n",
              "      <td>86.214261</td>\n",
              "      <td>23.887741</td>\n",
              "      <td>43.639157</td>\n",
              "      <td>4635870</td>\n",
              "      <td>8.469008e+06</td>\n",
              "      <td>1.001967</td>\n",
              "    </tr>\n",
              "    <tr>\n",
              "      <th>9</th>\n",
              "      <td>11100</td>\n",
              "      <td>도봉구</td>\n",
              "      <td>359</td>\n",
              "      <td>46</td>\n",
              "      <td>3304305</td>\n",
              "      <td>3211421</td>\n",
              "      <td>106.859356</td>\n",
              "      <td>103.855540</td>\n",
              "      <td>25.138206</td>\n",
              "      <td>40.194257</td>\n",
              "      <td>4086140</td>\n",
              "      <td>6.533456e+06</td>\n",
              "      <td>1.086461</td>\n",
              "    </tr>\n",
              "    <tr>\n",
              "      <th>13</th>\n",
              "      <td>11140</td>\n",
              "      <td>마포구</td>\n",
              "      <td>562</td>\n",
              "      <td>97</td>\n",
              "      <td>5088461</td>\n",
              "      <td>4957596</td>\n",
              "      <td>103.907639</td>\n",
              "      <td>101.235343</td>\n",
              "      <td>22.307964</td>\n",
              "      <td>60.518839</td>\n",
              "      <td>5557360</td>\n",
              "      <td>1.507645e+07</td>\n",
              "      <td>1.104460</td>\n",
              "    </tr>\n",
              "    <tr>\n",
              "      <th>10</th>\n",
              "      <td>11110</td>\n",
              "      <td>노원구</td>\n",
              "      <td>514</td>\n",
              "      <td>57</td>\n",
              "      <td>4353295</td>\n",
              "      <td>4292724</td>\n",
              "      <td>88.476211</td>\n",
              "      <td>87.245168</td>\n",
              "      <td>24.662041</td>\n",
              "      <td>59.026631</td>\n",
              "      <td>5235480</td>\n",
              "      <td>1.253070e+07</td>\n",
              "      <td>1.180715</td>\n",
              "    </tr>\n",
              "    <tr>\n",
              "      <th>15</th>\n",
              "      <td>11160</td>\n",
              "      <td>강서구</td>\n",
              "      <td>566</td>\n",
              "      <td>49</td>\n",
              "      <td>4681083</td>\n",
              "      <td>4652828</td>\n",
              "      <td>88.119480</td>\n",
              "      <td>87.587591</td>\n",
              "      <td>25.520396</td>\n",
              "      <td>65.157973</td>\n",
              "      <td>5486630</td>\n",
              "      <td>1.400831e+07</td>\n",
              "      <td>1.209122</td>\n",
              "    </tr>\n",
              "    <tr>\n",
              "      <th>24</th>\n",
              "      <td>11250</td>\n",
              "      <td>강동구</td>\n",
              "      <td>369</td>\n",
              "      <td>21</td>\n",
              "      <td>2890053</td>\n",
              "      <td>2830506</td>\n",
              "      <td>99.161194</td>\n",
              "      <td>97.118065</td>\n",
              "      <td>25.931701</td>\n",
              "      <td>73.450836</td>\n",
              "      <td>5082380</td>\n",
              "      <td>1.439570e+07</td>\n",
              "      <td>1.276793</td>\n",
              "    </tr>\n",
              "    <tr>\n",
              "      <th>3</th>\n",
              "      <td>11040</td>\n",
              "      <td>성동구</td>\n",
              "      <td>435</td>\n",
              "      <td>58</td>\n",
              "      <td>2807280</td>\n",
              "      <td>2746738</td>\n",
              "      <td>96.377369</td>\n",
              "      <td>94.298888</td>\n",
              "      <td>22.150334</td>\n",
              "      <td>44.717847</td>\n",
              "      <td>5139830</td>\n",
              "      <td>1.037646e+07</td>\n",
              "      <td>1.549543</td>\n",
              "    </tr>\n",
              "  </tbody>\n",
              "</table>\n",
              "</div>"
            ],
            "text/plain": [
              "    도착 시군구 코드   자치구  정류장수  노선수   승차총승객수   하차총승객수     승차평균승객수     하차평균승객수  \\\n",
              "1       11020    중구   178  103  3776675  3598932  121.020124  115.324511   \n",
              "5       11060  동대문구   306   73  5240565  5115379  131.841430  128.692017   \n",
              "20      11210   관악구   466   86  7655819  7792476  154.753674  157.516040   \n",
              "22      11230   강남구   499   91  8030483  7569213  128.767927  121.371512   \n",
              "0       11010   종로구   349  106  5468935  5205394  131.889620  125.534028   \n",
              "23      11240   송파구   415   55  5641742  5603488  114.270072  113.495260   \n",
              "2       11030   용산구   323   67  4189977  4086474  137.891694  134.485421   \n",
              "12      11130  서대문구   456  107  5863499  5796960  109.914502  108.667192   \n",
              "14      11150   양천구   319   56  4009172  3851173   97.627526   93.780086   \n",
              "18      11190  영등포구   465  101  5739875  5783211  120.337855  121.246404   \n",
              "19      11200   동작구   438   94  5314274  5112276  124.295965  119.571419   \n",
              "21      11220   서초구   600   93  7221330  6977950  126.687777  122.418028   \n",
              "8       11090   강북구   413   67  4825181  4671783  133.020373  128.791504   \n",
              "17      11180   금천구   345   58  3776658  3581930  123.098370  116.751304   \n",
              "11      11120   은평구   501   71  5201660  5122499  106.395173  104.776007   \n",
              "7       11080   성북구   602   99  6236424  6231238  123.251922  123.149430   \n",
              "4       11050   광진구   269   41  2749448  2753411  118.352546  118.523137   \n",
              "16      11170   구로구   486   79  4942197  4730992  119.235615  114.140076   \n",
              "6       11070   중랑구   380   48  3792541  3740923   87.403863   86.214261   \n",
              "9       11100   도봉구   359   46  3304305  3211421  106.859356  103.855540   \n",
              "13      11140   마포구   562   97  5088461  4957596  103.907639  101.235343   \n",
              "10      11110   노원구   514   57  4353295  4292724   88.476211   87.245168   \n",
              "15      11160   강서구   566   49  4681083  4652828   88.119480   87.587591   \n",
              "24      11250   강동구   369   21  2890053  2830506   99.161194   97.118065   \n",
              "3       11040   성동구   435   58  2807280  2746738   96.377369   94.298888   \n",
              "\n",
              "    평균 이동 시간(분)     이동인구(합)  총 이동 시간        총 이동인구       비율1  \n",
              "1     21.524817   46.214336  5368440  1.152618e+07  0.471314  \n",
              "5     22.149241   41.037280  5132710  9.509692e+06  0.583907  \n",
              "20    23.480725   53.024888  5150450  1.163090e+07  0.608687  \n",
              "22    23.418794  104.437297  6543820  2.918250e+07  0.621382  \n",
              "0     21.867754   46.046219  5471640  1.152145e+07  0.638150  \n",
              "23    25.735699   94.938240  6234190  2.299774e+07  0.735588  \n",
              "2     21.820458   38.412082  4959790  8.731066e+06  0.770887  \n",
              "12    22.411314   46.134844  4952990  1.019598e+07  0.777693  \n",
              "14    23.209394   49.140477  4383860  9.281801e+06  0.795676  \n",
              "18    21.745571   61.736901  5525180  1.568630e+07  0.810122  \n",
              "19    22.059056   45.116262  4944030  1.011177e+07  0.824195  \n",
              "21    23.119681   72.512790  5944440  1.864420e+07  0.830872  \n",
              "8     24.355289   42.216319  4458260  7.727739e+06  0.855926  \n",
              "17    24.283819   32.821422  3789660  5.122013e+06  0.913506  \n",
              "11    24.993078   55.018153  4748160  1.045229e+07  0.963154  \n",
              "7     22.716321   48.931749  5232500  1.127099e+07  0.965297  \n",
              "4     22.810568   50.043326  5020720  1.101479e+07  0.978378  \n",
              "16    23.162536   45.008292  4717560  9.166929e+06  0.983368  \n",
              "6     23.887741   43.639157  4635870  8.469008e+06  1.001967  \n",
              "9     25.138206   40.194257  4086140  6.533456e+06  1.086461  \n",
              "13    22.307964   60.518839  5557360  1.507645e+07  1.104460  \n",
              "10    24.662041   59.026631  5235480  1.253070e+07  1.180715  \n",
              "15    25.520396   65.157973  5486630  1.400831e+07  1.209122  \n",
              "24    25.931701   73.450836  5082380  1.439570e+07  1.276793  \n",
              "3     22.150334   44.717847  5139830  1.037646e+07  1.549543  "
            ]
          },
          "execution_count": 17,
          "metadata": {},
          "output_type": "execute_result"
        }
      ],
      "source": [
        "df['비율1'] = df['정류장수'] / df['승차총승객수'] * 10000\n",
        "df.sort_values(by=['비율1'])"
      ]
    },
    {
      "cell_type": "code",
      "execution_count": null,
      "id": "3c3634ff",
      "metadata": {
        "id": "3c3634ff",
        "outputId": "0117c803-4837-4c04-d345-943c0d0ab671"
      },
      "outputs": [
        {
          "data": {
            "text/plain": [
              "(0.3605000532735534, 0.07667781622760951)"
            ]
          },
          "execution_count": 18,
          "metadata": {},
          "output_type": "execute_result"
        }
      ],
      "source": [
        "# (예시2) 노선 수와 총 이동시간은 관계가 있다.\n",
        "\n",
        "# H0 : 노선 수와 총 이동시간은 연관이 없다.\n",
        "\n",
        "# H1 : 노선 수와 총 이동시간은 연관이 있다.\n",
        "\n",
        "spst.pearsonr(df['노선수'],df['총 이동 시간'])\n",
        "\n",
        "# 중간 양의 상관관계\n",
        "# p-value 0.05 기준  작으면 -> 귀무가설 기각,  크면 -> 대립가설 기각 \n",
        "# 노선수와 총 이동 시간은 상관관계가 있다?"
      ]
    },
    {
      "cell_type": "markdown",
      "id": "b2edf769",
      "metadata": {
        "id": "b2edf769"
      },
      "source": [
        "## 1.가설 수립 \n",
        "+ 어떤 데이터를 label 데이터로 하실 건가요?\n",
        "\n",
        "    ? 정해진게 없나요? - 네 라벨을 조별로 고민하셔서 라벨데이터를 설정하시면 되겠습니다\n",
        "\n",
        "\n",
        "    ? 가설마다 라벨데이터가 달라도 상관없나요? 네 그렇습니다\n",
        "\n",
        "\n",
        "    ? 가설은 3개만 해야하나요? 그 이상 하셔도 무방합니다\n",
        "\n",
        "## 가설을 설정해 봅시다 (조당 최소 3개) \n",
        "- 미니프로젝트 진행의 편의상 가설은 이변량 분석을 염두에 두고 설정해 주세요"
      ]
    },
    {
      "cell_type": "markdown",
      "id": "b3d42e07",
      "metadata": {
        "id": "b3d42e07"
      },
      "source": [
        "* 가설 1    \n",
        "구별 등록 업종 상위 10개 데이터 중 한식일반음식점업/커피전문점/한식 육류요리 전문점 등이 많은 곳에 노선수가 많을 것이다."
      ]
    },
    {
      "cell_type": "markdown",
      "id": "4fd1db81",
      "metadata": {
        "id": "4fd1db81"
      },
      "source": [
        "* 가설 2    \n",
        "구별 등록 업종 상위 10개 데이터 중 택시운송업 사업체 등이 많은 곳에 정류장수가 많을 것이다."
      ]
    },
    {
      "cell_type": "markdown",
      "id": "e527bc75",
      "metadata": {
        "id": "e527bc75"
      },
      "source": [
        "* 가설 3    \n",
        "정류장 수보단 노선수가 더 연관이 있다면 노선수를 늘려야 하지 않을까?"
      ]
    },
    {
      "cell_type": "markdown",
      "id": "6aa7b930",
      "metadata": {
        "id": "6aa7b930"
      },
      "source": [
        "## 2.단변량 분석 \n",
        "(조별로 3개 정도의 변수만 진행해주세요)\n",
        "\n",
        "+ 변수의 의미  \n",
        "\n",
        "+ 숫자? 범주?\n",
        "\n",
        "+ 전처리 사항\n",
        "   - NaN 존재 여부 및 조치 방안  \n",
        "   - 가변수화 대상여부  \n",
        "   \n",
        "+ 기초통계량\n",
        "\n",
        "+ 분포  \n",
        "\n",
        "+ 위 정보로부터 파악한 내용 정리  \n",
        "\n",
        "+ 추가 분석해볼 사항 도출"
      ]
    },
    {
      "cell_type": "code",
      "execution_count": null,
      "id": "b62009a9",
      "metadata": {
        "id": "b62009a9"
      },
      "outputs": [],
      "source": [
        "# 시각화 한글폰트 설정\n",
        "import seaborn as sns\n",
        "import matplotlib.pyplot as plt\n",
        "\n",
        "# 로컬에서 사용하신다면 맑은 고딕\n",
        "\n",
        "plt.rc('font', family='Malgun Gothic')\n",
        "sns.set(font=\"Malgun Gothic\",#\"NanumGothicCoding\", \n",
        "        rc={\"axes.unicode_minus\":False}, # 마이너스 부호 깨짐 현상 해결\n",
        "        style='darkgrid')\n",
        "\n",
        "# AIDU에서 사용하신다면 나눔 고딕\n",
        "\n",
        "# plt.rc('font', family='nanum')\n",
        "# sns.set(font=\"NanumGothicCoding\",#\"NanumGothicCoding\", \n",
        "#         rc={\"axes.unicode_minus\":False}, # 마이너스 부호 깨짐 현상 해결\n",
        "#         style='darkgrid')\n",
        "\n",
        "# scipy\n",
        "import scipy.stats as spst"
      ]
    },
    {
      "cell_type": "markdown",
      "id": "39ef5d0f",
      "metadata": {
        "id": "39ef5d0f"
      },
      "source": [
        "### 1)\n"
      ]
    },
    {
      "cell_type": "code",
      "execution_count": null,
      "id": "1970c363",
      "metadata": {
        "id": "1970c363"
      },
      "outputs": [],
      "source": [
        "df_business_type = pd.read_csv('business_type.csv', sep=\",\", encoding = 'UTF-8',thousands=',')"
      ]
    },
    {
      "cell_type": "code",
      "execution_count": null,
      "id": "b3766653",
      "metadata": {
        "id": "b3766653"
      },
      "outputs": [],
      "source": [
        "df_business_type = df_business_type.drop(['동'], axis=1)"
      ]
    },
    {
      "cell_type": "code",
      "execution_count": null,
      "id": "1d04d2fd",
      "metadata": {
        "id": "1d04d2fd",
        "outputId": "0ae9ad5e-76f2-4964-be96-0502ed245100"
      },
      "outputs": [
        {
          "data": {
            "text/html": [
              "<div>\n",
              "<style scoped>\n",
              "    .dataframe tbody tr th:only-of-type {\n",
              "        vertical-align: middle;\n",
              "    }\n",
              "\n",
              "    .dataframe tbody tr th {\n",
              "        vertical-align: top;\n",
              "    }\n",
              "\n",
              "    .dataframe thead th {\n",
              "        text-align: right;\n",
              "    }\n",
              "</style>\n",
              "<table border=\"1\" class=\"dataframe\">\n",
              "  <thead>\n",
              "    <tr style=\"text-align: right;\">\n",
              "      <th></th>\n",
              "      <th>자치구</th>\n",
              "      <th>택시운송업 사업체</th>\n",
              "      <th>택시운송업</th>\n",
              "      <th>한식 일반 음식점업 사업체</th>\n",
              "      <th>한식 일반 음식점업</th>\n",
              "      <th>용달 화물자동차 운송업 사업체</th>\n",
              "      <th>용달 화물자동차 운송업</th>\n",
              "      <th>부동산 중개 및 대리업 사업체</th>\n",
              "      <th>부동산 중개 및 대리업</th>\n",
              "      <th>두발미용업 사업체</th>\n",
              "      <th>...</th>\n",
              "      <th>커피전문점 사업체</th>\n",
              "      <th>커피전문점</th>\n",
              "      <th>남녀용 겉옷 및 셔츠 도매업 사업체</th>\n",
              "      <th>남녀용 겉옷 및 셔츠 도매업</th>\n",
              "      <th>기타주점업 사업체</th>\n",
              "      <th>기타주점업</th>\n",
              "      <th>일반 교과 학원 사업체</th>\n",
              "      <th>일반 교과 학원</th>\n",
              "      <th>한식 육류요리 전문점 사업체</th>\n",
              "      <th>한식 육류요리 전문점</th>\n",
              "    </tr>\n",
              "  </thead>\n",
              "  <tbody>\n",
              "    <tr>\n",
              "      <th>0</th>\n",
              "      <td>종로구</td>\n",
              "      <td>215</td>\n",
              "      <td>215</td>\n",
              "      <td>1548</td>\n",
              "      <td>5912</td>\n",
              "      <td>618</td>\n",
              "      <td>646</td>\n",
              "      <td>549</td>\n",
              "      <td>889</td>\n",
              "      <td>261</td>\n",
              "      <td>...</td>\n",
              "      <td>948</td>\n",
              "      <td>3613</td>\n",
              "      <td>400</td>\n",
              "      <td>962</td>\n",
              "      <td>537</td>\n",
              "      <td>1413</td>\n",
              "      <td>110</td>\n",
              "      <td>382</td>\n",
              "      <td>437</td>\n",
              "      <td>1982</td>\n",
              "    </tr>\n",
              "    <tr>\n",
              "      <th>1</th>\n",
              "      <td>중구</td>\n",
              "      <td>230</td>\n",
              "      <td>235</td>\n",
              "      <td>1588</td>\n",
              "      <td>6414</td>\n",
              "      <td>300</td>\n",
              "      <td>333</td>\n",
              "      <td>576</td>\n",
              "      <td>1152</td>\n",
              "      <td>339</td>\n",
              "      <td>...</td>\n",
              "      <td>869</td>\n",
              "      <td>3542</td>\n",
              "      <td>10810</td>\n",
              "      <td>24248</td>\n",
              "      <td>381</td>\n",
              "      <td>982</td>\n",
              "      <td>57</td>\n",
              "      <td>175</td>\n",
              "      <td>443</td>\n",
              "      <td>2121</td>\n",
              "    </tr>\n",
              "    <tr>\n",
              "      <th>2</th>\n",
              "      <td>용산구</td>\n",
              "      <td>416</td>\n",
              "      <td>523</td>\n",
              "      <td>857</td>\n",
              "      <td>2987</td>\n",
              "      <td>455</td>\n",
              "      <td>466</td>\n",
              "      <td>791</td>\n",
              "      <td>1214</td>\n",
              "      <td>366</td>\n",
              "      <td>...</td>\n",
              "      <td>634</td>\n",
              "      <td>2076</td>\n",
              "      <td>54</td>\n",
              "      <td>317</td>\n",
              "      <td>487</td>\n",
              "      <td>1332</td>\n",
              "      <td>104</td>\n",
              "      <td>573</td>\n",
              "      <td>300</td>\n",
              "      <td>1184</td>\n",
              "    </tr>\n",
              "    <tr>\n",
              "      <th>3</th>\n",
              "      <td>성동구</td>\n",
              "      <td>1200</td>\n",
              "      <td>2527</td>\n",
              "      <td>956</td>\n",
              "      <td>2785</td>\n",
              "      <td>1072</td>\n",
              "      <td>1161</td>\n",
              "      <td>801</td>\n",
              "      <td>1453</td>\n",
              "      <td>489</td>\n",
              "      <td>...</td>\n",
              "      <td>547</td>\n",
              "      <td>1859</td>\n",
              "      <td>149</td>\n",
              "      <td>1572</td>\n",
              "      <td>285</td>\n",
              "      <td>621</td>\n",
              "      <td>258</td>\n",
              "      <td>1494</td>\n",
              "      <td>400</td>\n",
              "      <td>1545</td>\n",
              "    </tr>\n",
              "    <tr>\n",
              "      <th>4</th>\n",
              "      <td>광진구</td>\n",
              "      <td>1119</td>\n",
              "      <td>1744</td>\n",
              "      <td>963</td>\n",
              "      <td>2861</td>\n",
              "      <td>968</td>\n",
              "      <td>985</td>\n",
              "      <td>871</td>\n",
              "      <td>1313</td>\n",
              "      <td>746</td>\n",
              "      <td>...</td>\n",
              "      <td>590</td>\n",
              "      <td>1887</td>\n",
              "      <td>89</td>\n",
              "      <td>687</td>\n",
              "      <td>633</td>\n",
              "      <td>1577</td>\n",
              "      <td>413</td>\n",
              "      <td>1646</td>\n",
              "      <td>467</td>\n",
              "      <td>1678</td>\n",
              "    </tr>\n",
              "  </tbody>\n",
              "</table>\n",
              "<p>5 rows × 21 columns</p>\n",
              "</div>"
            ],
            "text/plain": [
              "   자치구  택시운송업 사업체  택시운송업  한식 일반 음식점업 사업체  한식 일반 음식점업  용달 화물자동차 운송업 사업체  \\\n",
              "0  종로구        215    215            1548        5912               618   \n",
              "1   중구        230    235            1588        6414               300   \n",
              "2  용산구        416    523             857        2987               455   \n",
              "3  성동구       1200   2527             956        2785              1072   \n",
              "4  광진구       1119   1744             963        2861               968   \n",
              "\n",
              "   용달 화물자동차 운송업  부동산 중개 및 대리업 사업체  부동산 중개 및 대리업  두발미용업 사업체  ...  커피전문점 사업체  \\\n",
              "0           646               549           889        261  ...        948   \n",
              "1           333               576          1152        339  ...        869   \n",
              "2           466               791          1214        366  ...        634   \n",
              "3          1161               801          1453        489  ...        547   \n",
              "4           985               871          1313        746  ...        590   \n",
              "\n",
              "   커피전문점  남녀용 겉옷 및 셔츠 도매업 사업체  남녀용 겉옷 및 셔츠 도매업  기타주점업 사업체  기타주점업  \\\n",
              "0   3613                  400              962        537   1413   \n",
              "1   3542                10810            24248        381    982   \n",
              "2   2076                   54              317        487   1332   \n",
              "3   1859                  149             1572        285    621   \n",
              "4   1887                   89              687        633   1577   \n",
              "\n",
              "   일반 교과 학원 사업체  일반 교과 학원  한식 육류요리 전문점 사업체  한식 육류요리 전문점  \n",
              "0           110       382              437         1982  \n",
              "1            57       175              443         2121  \n",
              "2           104       573              300         1184  \n",
              "3           258      1494              400         1545  \n",
              "4           413      1646              467         1678  \n",
              "\n",
              "[5 rows x 21 columns]"
            ]
          },
          "execution_count": 20,
          "metadata": {},
          "output_type": "execute_result"
        }
      ],
      "source": [
        "df_business_type.head()"
      ]
    },
    {
      "cell_type": "code",
      "execution_count": null,
      "id": "414dc3f1",
      "metadata": {
        "id": "414dc3f1",
        "outputId": "c008710b-3a09-4f3d-b08e-3e15a5c83065"
      },
      "outputs": [
        {
          "data": {
            "text/html": [
              "<div>\n",
              "<style scoped>\n",
              "    .dataframe tbody tr th:only-of-type {\n",
              "        vertical-align: middle;\n",
              "    }\n",
              "\n",
              "    .dataframe tbody tr th {\n",
              "        vertical-align: top;\n",
              "    }\n",
              "\n",
              "    .dataframe thead th {\n",
              "        text-align: right;\n",
              "    }\n",
              "</style>\n",
              "<table border=\"1\" class=\"dataframe\">\n",
              "  <thead>\n",
              "    <tr style=\"text-align: right;\">\n",
              "      <th></th>\n",
              "      <th>도착 시군구 코드</th>\n",
              "      <th>자치구</th>\n",
              "      <th>정류장수</th>\n",
              "      <th>노선수</th>\n",
              "      <th>승차총승객수</th>\n",
              "      <th>하차총승객수</th>\n",
              "      <th>승차평균승객수</th>\n",
              "      <th>하차평균승객수</th>\n",
              "      <th>평균 이동 시간(분)</th>\n",
              "      <th>이동인구(합)</th>\n",
              "      <th>...</th>\n",
              "      <th>커피전문점 사업체</th>\n",
              "      <th>커피전문점</th>\n",
              "      <th>남녀용 겉옷 및 셔츠 도매업 사업체</th>\n",
              "      <th>남녀용 겉옷 및 셔츠 도매업</th>\n",
              "      <th>기타주점업 사업체</th>\n",
              "      <th>기타주점업</th>\n",
              "      <th>일반 교과 학원 사업체</th>\n",
              "      <th>일반 교과 학원</th>\n",
              "      <th>한식 육류요리 전문점 사업체</th>\n",
              "      <th>한식 육류요리 전문점</th>\n",
              "    </tr>\n",
              "  </thead>\n",
              "  <tbody>\n",
              "    <tr>\n",
              "      <th>0</th>\n",
              "      <td>11010</td>\n",
              "      <td>종로구</td>\n",
              "      <td>349</td>\n",
              "      <td>106</td>\n",
              "      <td>5468935</td>\n",
              "      <td>5205394</td>\n",
              "      <td>131.889620</td>\n",
              "      <td>125.534028</td>\n",
              "      <td>21.867754</td>\n",
              "      <td>46.046219</td>\n",
              "      <td>...</td>\n",
              "      <td>948</td>\n",
              "      <td>3613</td>\n",
              "      <td>400</td>\n",
              "      <td>962</td>\n",
              "      <td>537</td>\n",
              "      <td>1413</td>\n",
              "      <td>110</td>\n",
              "      <td>382</td>\n",
              "      <td>437</td>\n",
              "      <td>1982</td>\n",
              "    </tr>\n",
              "    <tr>\n",
              "      <th>1</th>\n",
              "      <td>11020</td>\n",
              "      <td>중구</td>\n",
              "      <td>178</td>\n",
              "      <td>103</td>\n",
              "      <td>3776675</td>\n",
              "      <td>3598932</td>\n",
              "      <td>121.020124</td>\n",
              "      <td>115.324511</td>\n",
              "      <td>21.524817</td>\n",
              "      <td>46.214336</td>\n",
              "      <td>...</td>\n",
              "      <td>869</td>\n",
              "      <td>3542</td>\n",
              "      <td>10810</td>\n",
              "      <td>24248</td>\n",
              "      <td>381</td>\n",
              "      <td>982</td>\n",
              "      <td>57</td>\n",
              "      <td>175</td>\n",
              "      <td>443</td>\n",
              "      <td>2121</td>\n",
              "    </tr>\n",
              "    <tr>\n",
              "      <th>2</th>\n",
              "      <td>11030</td>\n",
              "      <td>용산구</td>\n",
              "      <td>323</td>\n",
              "      <td>67</td>\n",
              "      <td>4189977</td>\n",
              "      <td>4086474</td>\n",
              "      <td>137.891694</td>\n",
              "      <td>134.485421</td>\n",
              "      <td>21.820458</td>\n",
              "      <td>38.412082</td>\n",
              "      <td>...</td>\n",
              "      <td>634</td>\n",
              "      <td>2076</td>\n",
              "      <td>54</td>\n",
              "      <td>317</td>\n",
              "      <td>487</td>\n",
              "      <td>1332</td>\n",
              "      <td>104</td>\n",
              "      <td>573</td>\n",
              "      <td>300</td>\n",
              "      <td>1184</td>\n",
              "    </tr>\n",
              "    <tr>\n",
              "      <th>3</th>\n",
              "      <td>11040</td>\n",
              "      <td>성동구</td>\n",
              "      <td>435</td>\n",
              "      <td>58</td>\n",
              "      <td>2807280</td>\n",
              "      <td>2746738</td>\n",
              "      <td>96.377369</td>\n",
              "      <td>94.298888</td>\n",
              "      <td>22.150334</td>\n",
              "      <td>44.717847</td>\n",
              "      <td>...</td>\n",
              "      <td>547</td>\n",
              "      <td>1859</td>\n",
              "      <td>149</td>\n",
              "      <td>1572</td>\n",
              "      <td>285</td>\n",
              "      <td>621</td>\n",
              "      <td>258</td>\n",
              "      <td>1494</td>\n",
              "      <td>400</td>\n",
              "      <td>1545</td>\n",
              "    </tr>\n",
              "    <tr>\n",
              "      <th>4</th>\n",
              "      <td>11050</td>\n",
              "      <td>광진구</td>\n",
              "      <td>269</td>\n",
              "      <td>41</td>\n",
              "      <td>2749448</td>\n",
              "      <td>2753411</td>\n",
              "      <td>118.352546</td>\n",
              "      <td>118.523137</td>\n",
              "      <td>22.810568</td>\n",
              "      <td>50.043326</td>\n",
              "      <td>...</td>\n",
              "      <td>590</td>\n",
              "      <td>1887</td>\n",
              "      <td>89</td>\n",
              "      <td>687</td>\n",
              "      <td>633</td>\n",
              "      <td>1577</td>\n",
              "      <td>413</td>\n",
              "      <td>1646</td>\n",
              "      <td>467</td>\n",
              "      <td>1678</td>\n",
              "    </tr>\n",
              "  </tbody>\n",
              "</table>\n",
              "<p>5 rows × 32 columns</p>\n",
              "</div>"
            ],
            "text/plain": [
              "   도착 시군구 코드  자치구  정류장수  노선수   승차총승객수   하차총승객수     승차평균승객수     하차평균승객수  \\\n",
              "0      11010  종로구   349  106  5468935  5205394  131.889620  125.534028   \n",
              "1      11020   중구   178  103  3776675  3598932  121.020124  115.324511   \n",
              "2      11030  용산구   323   67  4189977  4086474  137.891694  134.485421   \n",
              "3      11040  성동구   435   58  2807280  2746738   96.377369   94.298888   \n",
              "4      11050  광진구   269   41  2749448  2753411  118.352546  118.523137   \n",
              "\n",
              "   평균 이동 시간(분)    이동인구(합)  ...  커피전문점 사업체  커피전문점  남녀용 겉옷 및 셔츠 도매업 사업체  \\\n",
              "0    21.867754  46.046219  ...        948   3613                  400   \n",
              "1    21.524817  46.214336  ...        869   3542                10810   \n",
              "2    21.820458  38.412082  ...        634   2076                   54   \n",
              "3    22.150334  44.717847  ...        547   1859                  149   \n",
              "4    22.810568  50.043326  ...        590   1887                   89   \n",
              "\n",
              "   남녀용 겉옷 및 셔츠 도매업  기타주점업 사업체  기타주점업  일반 교과 학원 사업체  일반 교과 학원  한식 육류요리 전문점 사업체  \\\n",
              "0              962        537   1413           110       382              437   \n",
              "1            24248        381    982            57       175              443   \n",
              "2              317        487   1332           104       573              300   \n",
              "3             1572        285    621           258      1494              400   \n",
              "4              687        633   1577           413      1646              467   \n",
              "\n",
              "   한식 육류요리 전문점  \n",
              "0         1982  \n",
              "1         2121  \n",
              "2         1184  \n",
              "3         1545  \n",
              "4         1678  \n",
              "\n",
              "[5 rows x 32 columns]"
            ]
          },
          "execution_count": 21,
          "metadata": {},
          "output_type": "execute_result"
        }
      ],
      "source": [
        "df_tmp = pd.merge(df,df_business_type,how='inner', on='자치구')\n",
        "df_tmp.head()"
      ]
    },
    {
      "cell_type": "code",
      "execution_count": null,
      "id": "2fb22bfa",
      "metadata": {
        "id": "2fb22bfa",
        "outputId": "ef16b82d-1ff7-4685-8750-93322c263e58"
      },
      "outputs": [
        {
          "data": {
            "text/plain": [
              "Index(['도착 시군구 코드', '자치구', '정류장수', '노선수', '승차총승객수', '하차총승객수', '승차평균승객수',\n",
              "       '하차평균승객수', '평균 이동 시간(분)', '이동인구(합)', '총 이동 시간', '총 이동인구', '비율1',\n",
              "       '택시운송업 사업체', '택시운송업', '한식 일반 음식점업 사업체', '한식 일반 음식점업',\n",
              "       '용달 화물자동차 운송업 사업체', '용달 화물자동차 운송업', '부동산 중개 및 대리업 사업체', '부동산 중개 및 대리업',\n",
              "       '두발미용업 사업체', '두발미용업', '커피전문점 사업체', '커피전문점', '남녀용 겉옷 및 셔츠 도매업 사업체',\n",
              "       '남녀용 겉옷 및 셔츠 도매업', '기타주점업 사업체', '기타주점업', '일반 교과 학원 사업체', '일반 교과 학원',\n",
              "       '한식 육류요리 전문점 사업체', '한식 육류요리 전문점'],\n",
              "      dtype='object')"
            ]
          },
          "execution_count": 72,
          "metadata": {},
          "output_type": "execute_result"
        }
      ],
      "source": [
        "df_tmp.columns"
      ]
    },
    {
      "cell_type": "code",
      "execution_count": null,
      "id": "0b56c1c2",
      "metadata": {
        "id": "0b56c1c2"
      },
      "outputs": [],
      "source": [
        "idx=['평균 이동 시간(분)', '이동인구(합)', '총 이동 시간' , '총 이동인구']\n",
        "df_tmp = df_tmp.drop(idx, axis=1)"
      ]
    },
    {
      "cell_type": "code",
      "execution_count": null,
      "id": "12c4ae72",
      "metadata": {
        "id": "12c4ae72",
        "outputId": "9e18b6a7-7e1b-43c3-b6c2-030b3e75aac3"
      },
      "outputs": [
        {
          "name": "stdout",
          "output_type": "stream",
          "text": [
            "<class 'pandas.core.frame.DataFrame'>\n",
            "Int64Index: 25 entries, 0 to 24\n",
            "Data columns (total 28 columns):\n",
            " #   Column               Non-Null Count  Dtype  \n",
            "---  ------               --------------  -----  \n",
            " 0   도착 시군구 코드            25 non-null     int64  \n",
            " 1   자치구                  25 non-null     object \n",
            " 2   정류장수                 25 non-null     int64  \n",
            " 3   노선수                  25 non-null     int64  \n",
            " 4   승차총승객수               25 non-null     int64  \n",
            " 5   하차총승객수               25 non-null     int64  \n",
            " 6   승차평균승객수              25 non-null     float64\n",
            " 7   하차평균승객수              25 non-null     float64\n",
            " 8   택시운송업 사업체            25 non-null     object \n",
            " 9   택시운송업                25 non-null     object \n",
            " 10  한식 일반 음식점업 사업체       25 non-null     object \n",
            " 11  한식 일반 음식점업           25 non-null     object \n",
            " 12  용달 화물자동차 운송업 사업체     25 non-null     object \n",
            " 13  용달 화물자동차 운송업         25 non-null     object \n",
            " 14  부동산 중개 및 대리업 사업체     25 non-null     object \n",
            " 15  부동산 중개 및 대리업         25 non-null     object \n",
            " 16  두발미용업 사업체            25 non-null     object \n",
            " 17  두발미용업                25 non-null     object \n",
            " 18  커피전문점 사업체            25 non-null     object \n",
            " 19  커피전문점                25 non-null     object \n",
            " 20  남녀용 겉옷 및 셔츠 도매업 사업체  25 non-null     object \n",
            " 21  남녀용 겉옷 및 셔츠 도매업      25 non-null     object \n",
            " 22  기타주점업 사업체            25 non-null     object \n",
            " 23  기타주점업                25 non-null     object \n",
            " 24  일반 교과 학원 사업체         25 non-null     object \n",
            " 25  일반 교과 학원             25 non-null     object \n",
            " 26  한식 육류요리 전문점 사업체      25 non-null     int64  \n",
            " 27  한식 육류요리 전문점          25 non-null     object \n",
            "dtypes: float64(2), int64(6), object(20)\n",
            "memory usage: 5.7+ KB\n"
          ]
        }
      ],
      "source": [
        "df_tmp.info()"
      ]
    },
    {
      "cell_type": "code",
      "execution_count": null,
      "id": "4267bd8a",
      "metadata": {
        "id": "4267bd8a"
      },
      "outputs": [],
      "source": [
        "pd.set_option('display.max_columns', 50)"
      ]
    },
    {
      "cell_type": "code",
      "execution_count": null,
      "id": "f4a7ab32",
      "metadata": {
        "id": "f4a7ab32"
      },
      "outputs": [],
      "source": [
        "df_tmp.to_csv('df_tmp.csv', index=False)"
      ]
    },
    {
      "cell_type": "code",
      "execution_count": null,
      "id": "ea63e086",
      "metadata": {
        "id": "ea63e086",
        "outputId": "706165e7-642d-4e04-cd14-c0f856bc456d"
      },
      "outputs": [
        {
          "data": {
            "text/plain": [
              "(0.3350547104994601, 0.10158310909353065)"
            ]
          },
          "execution_count": 57,
          "metadata": {},
          "output_type": "execute_result"
        }
      ],
      "source": [
        "import scipy.stats as spst\n",
        "spst.pearsonr(df_tmp[feature], df_tmp[target])"
      ]
    },
    {
      "cell_type": "markdown",
      "id": "a4e3ec6e",
      "metadata": {
        "id": "a4e3ec6e"
      },
      "source": [
        "### 2)"
      ]
    },
    {
      "cell_type": "markdown",
      "id": "a7193abc",
      "metadata": {
        "id": "a7193abc"
      },
      "source": [
        "### 3)"
      ]
    },
    {
      "cell_type": "markdown",
      "id": "ac81d719",
      "metadata": {
        "id": "ac81d719"
      },
      "source": [
        "## 3.이변량 분석\n",
        "\n",
        "* 자료의 종류에 맞게 X --> Y 에 대해서 그래프(시각화)와 가설검정(수치화)를 수행하고 결과를 평가합니다.\n",
        "\n",
        "* 가설검정시 다음의 항목을 참조하여 수행합니다.\n",
        "    * 유의수준 : 5%\n",
        "    * 숫자 --> 숫자 : 상관분석\n",
        "    * 범주 --> 범주 : 카이제곱검정\n",
        "    * 범주 --> 숫자 : t검정, 분산분석\n",
        "    * 숫자 --> 범주 : 로지스틱 회귀모형을 통해, 회귀계수의 P.value로 검정을 수행합니다.\n"
      ]
    },
    {
      "cell_type": "code",
      "execution_count": null,
      "id": "44a63b92",
      "metadata": {
        "id": "44a63b92",
        "outputId": "37413ef4-8800-42fa-8e98-424dff92c285"
      },
      "outputs": [
        {
          "data": {
            "image/png": "[encoded data removed]",
            "text/plain": [
              "<Figure size 1080x1080 with 1 Axes>"
            ]
          },
          "metadata": {},
          "output_type": "display_data"
        }
      ],
      "source": [
        "plt.figure(figsize=(15,15))\n",
        "sns.heatmap(df_tmp.corr(), annot=True, annot_kws={'size': 10}, fmt='.2f', cmap='Blues', cbar=False)\n",
        "plt.show()"
      ]
    },
    {
      "cell_type": "markdown",
      "id": "a1ef2391",
      "metadata": {
        "id": "a1ef2391"
      },
      "source": [
        "### 1)"
      ]
    },
    {
      "cell_type": "code",
      "execution_count": null,
      "id": "d3d47be6",
      "metadata": {
        "id": "d3d47be6"
      },
      "outputs": [],
      "source": [
        "feature='기타주점업 사업체'\n",
        "target='정류장수'"
      ]
    },
    {
      "cell_type": "code",
      "execution_count": null,
      "metadata": {
        "id": "4-kQBFrPEhDM",
        "outputId": "932ce1a6-ffb6-497e-8903-91b4c226735d"
      },
      "outputs": [
        {
          "data": {
            "text/plain": [
              "(0.1579525877420433, 0.45079944072151673)"
            ]
          },
          "execution_count": 58,
          "metadata": {},
          "output_type": "execute_result"
        }
      ],
      "source": [
        "#한식 일반 음식점업 사업체\n",
        "import scipy.stats as spst\n",
        "spst.pearsonr(df_tmp[feature], df_tmp[target])"
      ],
      "id": "4-kQBFrPEhDM"
    },
    {
      "cell_type": "code",
      "execution_count": null,
      "metadata": {
        "id": "eC0uTHYkEhDN",
        "outputId": "dd1f4315-996a-48a4-e5b7-85ab9a167458"
      },
      "outputs": [
        {
          "data": {
            "text/plain": [
              "(0.24064271378327762, 0.24656211167736675)"
            ]
          },
          "execution_count": 60,
          "metadata": {},
          "output_type": "execute_result"
        }
      ],
      "source": [
        "#커피전문점 사업체\n",
        "import scipy.stats as spst\n",
        "spst.pearsonr(df_tmp[feature], df_tmp[target])"
      ],
      "id": "eC0uTHYkEhDN"
    },
    {
      "cell_type": "code",
      "execution_count": null,
      "metadata": {
        "id": "tff7Bp2PEhDO",
        "outputId": "63a63069-81f6-4a9e-cc32-a768a34f14c3"
      },
      "outputs": [
        {
          "data": {
            "text/plain": [
              "(0.36697158696218213, 0.07115719485759615)"
            ]
          },
          "execution_count": 62,
          "metadata": {},
          "output_type": "execute_result"
        }
      ],
      "source": [
        "#기타주점업 사업체\n",
        "import scipy.stats as spst\n",
        "spst.pearsonr(df_tmp[feature], df_tmp[target])"
      ],
      "id": "tff7Bp2PEhDO"
    },
    {
      "cell_type": "markdown",
      "id": "9a7f6c08",
      "metadata": {
        "id": "9a7f6c08"
      },
      "source": [
        "### 2)"
      ]
    },
    {
      "cell_type": "code",
      "execution_count": null,
      "id": "715f6750",
      "metadata": {
        "id": "715f6750"
      },
      "outputs": [],
      "source": [
        "feature='승차총승객수'\n",
        "target='정류장수'"
      ]
    },
    {
      "cell_type": "code",
      "execution_count": null,
      "metadata": {
        "id": "pPGaqgSoEhDP",
        "outputId": "dbbfa69f-8d3d-4955-8740-8c1870b3f76a"
      },
      "outputs": [
        {
          "data": {
            "text/plain": [
              "(0.2548175784223299, 0.2189681588726551)"
            ]
          },
          "execution_count": 64,
          "metadata": {},
          "output_type": "execute_result"
        }
      ],
      "source": [
        "#택시운송업 사업체와 정류장 수\n",
        "import scipy.stats as spst\n",
        "spst.pearsonr(df_tmp[feature], df_tmp[target])"
      ],
      "id": "pPGaqgSoEhDP"
    },
    {
      "cell_type": "code",
      "execution_count": null,
      "metadata": {
        "id": "N3TsEmGcEhDQ",
        "outputId": "3db99161-5bd8-44dc-fae0-df5ab51f6317"
      },
      "outputs": [
        {
          "data": {
            "text/plain": [
              "(-0.6014400720696349, 0.0014720884625314345)"
            ]
          },
          "execution_count": 56,
          "metadata": {},
          "output_type": "execute_result"
        }
      ],
      "source": [
        "#택시운송업 사업체와 노선수\n",
        "import scipy.stats as spst\n",
        "spst.pearsonr(df_tmp[feature], df_tmp[target])"
      ],
      "id": "N3TsEmGcEhDQ"
    },
    {
      "cell_type": "code",
      "execution_count": null,
      "metadata": {
        "id": "ND3DYU4JEhDQ",
        "outputId": "ae2abc15-5a74-4d11-cf16-c265860bd4f4"
      },
      "outputs": [
        {
          "data": {
            "text/plain": [
              "(-0.6014400720696349, 0.0014720884625314345)"
            ]
          },
          "metadata": {},
          "output_type": "display_data"
        }
      ],
      "source": [
        "#택시운송업 사업체와 노선수\n",
        "import scipy.stats as spst\n",
        "spst.pearsonr(df_tmp[feature], df_tmp[target])"
      ],
      "id": "ND3DYU4JEhDQ"
    },
    {
      "cell_type": "markdown",
      "id": "3e09f869",
      "metadata": {
        "id": "3e09f869"
      },
      "source": [
        "### 3)"
      ]
    },
    {
      "cell_type": "code",
      "execution_count": null,
      "id": "44871c69",
      "metadata": {
        "id": "44871c69",
        "outputId": "6ace2ae2-6e77-4e28-afe8-d93185caa682"
      },
      "outputs": [
        {
          "data": {
            "text/plain": [
              "(0.2548175784223299, 0.2189681588726551)"
            ]
          },
          "execution_count": 65,
          "metadata": {},
          "output_type": "execute_result"
        }
      ],
      "source": [
        "#정류장수와 노선수\n",
        "import scipy.stats as spst\n",
        "spst.pearsonr(df_tmp[feature], df_tmp[target])"
      ]
    },
    {
      "cell_type": "code",
      "execution_count": null,
      "metadata": {
        "id": "2BHh7QY4EhDR",
        "outputId": "1e244729-1c1b-433c-949f-b6d8acf0d704"
      },
      "outputs": [
        {
          "data": {
            "text/plain": [
              "(0.6654877832095702, 0.0002830862285771981)"
            ]
          },
          "execution_count": 68,
          "metadata": {},
          "output_type": "execute_result"
        }
      ],
      "source": [
        "#승차총승객수와 노선수\n",
        "import scipy.stats as spst\n",
        "spst.pearsonr(df_tmp[feature], df_tmp[target])"
      ],
      "id": "2BHh7QY4EhDR"
    },
    {
      "cell_type": "code",
      "execution_count": null,
      "metadata": {
        "id": "SIGxsy3WEhDS",
        "outputId": "3a313e89-f754-44ed-dd67-ad725c1d6363"
      },
      "outputs": [
        {
          "data": {
            "text/plain": [
              "(0.5666813370974585, 0.003141977397117322)"
            ]
          },
          "execution_count": 70,
          "metadata": {},
          "output_type": "execute_result"
        }
      ],
      "source": [
        "#승차총승객수와 정류장수\n",
        "import scipy.stats as spst\n",
        "spst.pearsonr(df_tmp[feature], df_tmp[target])"
      ],
      "id": "SIGxsy3WEhDS"
    },
    {
      "cell_type": "markdown",
      "id": "20e08293",
      "metadata": {
        "id": "20e08293"
      },
      "source": [
        "## 4.관계 정리"
      ]
    },
    {
      "cell_type": "markdown",
      "id": "b11433ac",
      "metadata": {
        "id": "b11433ac"
      },
      "source": [
        "### 1) 강한 관계의 변수"
      ]
    },
    {
      "cell_type": "markdown",
      "id": "ae622498",
      "metadata": {
        "id": "ae622498"
      },
      "source": [
        "* 택시 운송업자 사업체 수와 노선수의 관계는 강한 음의 상관계수를 가진다."
      ]
    },
    {
      "cell_type": "markdown",
      "id": "6cdd6bd2",
      "metadata": {
        "id": "6cdd6bd2"
      },
      "source": [
        "* 승차총승객수를 노선수와 정류장수 각각 상관분석을 했을 때, 모두 강한 양의 상관계수를 나타냈다. \n",
        "그중 노선수와 더 강한 관계를 가진다."
      ]
    },
    {
      "cell_type": "markdown",
      "id": "3101b64b",
      "metadata": {
        "id": "3101b64b"
      },
      "source": [
        "### 2) 약한 관계의 변수"
      ]
    },
    {
      "cell_type": "markdown",
      "id": "7a7f579d",
      "metadata": {
        "id": "7a7f579d"
      },
      "source": [
        "* 각 음식점의 사업체 수와 정류장 수의 관계는 약한 관계를 나타낸다."
      ]
    },
    {
      "cell_type": "markdown",
      "id": "644198b7",
      "metadata": {
        "id": "644198b7"
      },
      "source": [
        "## 5.솔루션 도출\n",
        "\n",
        "### 어느 구에 버스 노선 또는 정류장이 제일 필요한가요? 그 이유는?"
      ]
    },
    {
      "cell_type": "markdown",
      "id": "783e8346",
      "metadata": {
        "id": "783e8346"
      },
      "source": [
        "음식점과는 큰 관련이 없고 운송업이 적은곳과 승차 총 승객 수가 높은 곳에(개인 차가 없거나 차를 많이 이용안하는 곳에) 정류장보단 노선수를 증가시키는것이 합당하다.\n"
      ]
    },
    {
      "cell_type": "markdown",
      "id": "dedefbdb",
      "metadata": {
        "id": "dedefbdb"
      },
      "source": []
    }
  ],
  "metadata": {
    "colab": {
      "provenance": [],
      "toc_visible": true
    },
    "kernelspec": {
      "display_name": "Python 3.8.8 ('base')",
      "language": "python",
      "name": "python3"
    },
    "language_info": {
      "codemirror_mode": {
        "name": "ipython",
        "version": 3
      },
      "file_extension": ".py",
      "mimetype": "text/x-python",
      "name": "python",
      "nbconvert_exporter": "python",
      "pygments_lexer": "ipython3",
      "version": "3.8.8"
    },
    "vscode": {
      "interpreter": {
        "hash": "f08154012ddadd8e950e6e9e035c7a7b32c136e7647e9b7c77e02eb723a8bedb"
      }
    }
  },
  "nbformat": 4,
  "nbformat_minor": 5
}