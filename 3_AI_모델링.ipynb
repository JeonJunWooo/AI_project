{
  "cells": [
    {
      "cell_type": "markdown",
      "metadata": {
        "id": "nD-oC1dMFyVC"
      },
      "source": [
        "## <b> [3단계] AI 모델링\n",
        "---\n",
        "\n",
        "## 1, 2 단계에서 진행하신 내용을 아래에 그대로 진행해주세요.\n",
        "\n",
        "---"
      ]
    },
    {
      "cell_type": "markdown",
      "metadata": {
        "id": "edGkw3t-FyVH"
      },
      "source": [
        "# <b>Step 0. 라이브러리 import 및 데이터 불러오기\n",
        "### **가. 라이브러리 import**"
      ]
    },
    {
      "cell_type": "code",
      "execution_count": null,
      "metadata": {
        "id": "HyAU8Wz8FyVJ"
      },
      "outputs": [],
      "source": [
        "#라이브러리들을 불러오자.\n",
        "import numpy as np\n",
        "import pandas as pd\n",
        "import matplotlib.pyplot as plt\n",
        "import seaborn as sns\n",
        "\n",
        "# 전처리\n",
        "from sklearn.model_selection import train_test_split\n",
        "from sklearn.preprocessing import MinMaxScaler\n",
        "\n",
        "# 모델링\n",
        "from xgboost import XGBClassifier, plot_tree\n",
        "from sklearn.metrics import * \n",
        "from sklearn.model_selection import RandomizedSearchCV, GridSearchCV\n",
        "from sklearn.linear_model import LogisticRegression\n",
        "from sklearn.tree import DecisionTreeClassifier, plot_tree\n",
        "\n",
        "import warnings    # 경고메시지 제외\n",
        "warnings.filterwarnings(action='ignore')"
      ]
    },
    {
      "cell_type": "code",
      "execution_count": null,
      "metadata": {
        "id": "_j4lTvvUFyVN"
      },
      "outputs": [],
      "source": [
        "import statsmodels.api as sm\n",
        "\n",
        "def forward_stepwise_logistic(x_train, y_train):\n",
        "\n",
        "    # 변수목록, 선택된 변수 목록, 단계별 모델과 AIC 저장소 정의\n",
        "    features = list(x_train)\n",
        "    selected = []\n",
        "    step_df = pd.DataFrame({ 'step':[], 'feature':[],'aic':[]})\n",
        "\n",
        "    # \n",
        "    for s in range(0, len(features)) :\n",
        "        result =  { 'step':[], 'feature':[],'aic':[]}\n",
        "\n",
        "        # 변수 목록에서 변수 한개씩 뽑아서 모델에 추가\n",
        "        for f in features :\n",
        "            vars = selected + [f]\n",
        "            x_tr = x_train[vars]\n",
        "            model = sm.Logit(y_train, x_tr).fit(disp = False) # disp = False 실행로그 안보이게 하기!\n",
        "            result['step'].append(s+1)\n",
        "            result['feature'].append(vars)\n",
        "            result['aic'].append(model.aic)\n",
        "        \n",
        "        # 모델별 aic 집계\n",
        "        temp = pd.DataFrame(result).sort_values('aic').reset_index(drop = True)\n",
        "\n",
        "        # 만약 이전 aic보다 새로운 aic 가 크다면 멈추기\n",
        "        if step_df['aic'].min() < temp['aic'].min() :\n",
        "            break\n",
        "        step_df = pd.concat([step_df, temp], axis = 0).reset_index(drop = True)\n",
        "\n",
        "        # 선택된 변수 제거\n",
        "        v = temp.loc[0,'feature'][s]\n",
        "        features.remove(v)\n",
        "\n",
        "        selected.append(v)\n",
        "    \n",
        "    # 선택된 변수와 step_df 결과 반환\n",
        "    return selected, step_df"
      ]
    },
    {
      "cell_type": "markdown",
      "metadata": {
        "id": "fks__fwsFyVP"
      },
      "source": [
        "* 데이터 프레임 관련 라이브러리"
      ]
    },
    {
      "cell_type": "code",
      "execution_count": null,
      "metadata": {
        "id": "mKJK-57NFyVQ"
      },
      "outputs": [],
      "source": [
        "#라이브러리 불러오기"
      ]
    },
    {
      "cell_type": "markdown",
      "metadata": {
        "id": "BVDiBJUHFyVR"
      },
      "source": [
        "### **나.  학습데이터 불러오기**"
      ]
    },
    {
      "cell_type": "code",
      "execution_count": null,
      "metadata": {
        "id": "DWPKh0v8FyVS",
        "outputId": "f94357a9-f40c-47f6-c2ab-10499b58d1ab"
      },
      "outputs": [
        {
          "data": {
            "text/html": [
              "<div>\n",
              "<style scoped>\n",
              "    .dataframe tbody tr th:only-of-type {\n",
              "        vertical-align: middle;\n",
              "    }\n",
              "\n",
              "    .dataframe tbody tr th {\n",
              "        vertical-align: top;\n",
              "    }\n",
              "\n",
              "    .dataframe thead th {\n",
              "        text-align: right;\n",
              "    }\n",
              "</style>\n",
              "<table border=\"1\" class=\"dataframe\">\n",
              "  <thead>\n",
              "    <tr style=\"text-align: right;\">\n",
              "      <th></th>\n",
              "      <th>Unnamed: 0</th>\n",
              "      <th>url_len</th>\n",
              "      <th>url_num_hyphens_dom</th>\n",
              "      <th>url_path_len</th>\n",
              "      <th>url_domain_len</th>\n",
              "      <th>url_hostname_len</th>\n",
              "      <th>url_num_dots</th>\n",
              "      <th>url_num_underscores</th>\n",
              "      <th>url_query_len</th>\n",
              "      <th>url_num_query_para</th>\n",
              "      <th>...</th>\n",
              "      <th>html_num_tags('iframe')</th>\n",
              "      <th>html_num_tags('script')</th>\n",
              "      <th>html_num_tags('embed')</th>\n",
              "      <th>html_num_tags('object')</th>\n",
              "      <th>html_num_tags('div')</th>\n",
              "      <th>html_num_tags('head')</th>\n",
              "      <th>html_num_tags('body')</th>\n",
              "      <th>html_num_tags('form')</th>\n",
              "      <th>html_num_tags('a')</th>\n",
              "      <th>html_num_tags('applet')</th>\n",
              "    </tr>\n",
              "  </thead>\n",
              "  <tbody>\n",
              "    <tr>\n",
              "      <th>0</th>\n",
              "      <td>0</td>\n",
              "      <td>97</td>\n",
              "      <td>0</td>\n",
              "      <td>80.0</td>\n",
              "      <td>17.0</td>\n",
              "      <td>17.0</td>\n",
              "      <td>4</td>\n",
              "      <td>0</td>\n",
              "      <td>0</td>\n",
              "      <td>0</td>\n",
              "      <td>...</td>\n",
              "      <td>0</td>\n",
              "      <td>5.0</td>\n",
              "      <td>0</td>\n",
              "      <td>0</td>\n",
              "      <td>12</td>\n",
              "      <td>1</td>\n",
              "      <td>1</td>\n",
              "      <td>1.0</td>\n",
              "      <td>3.0</td>\n",
              "      <td>0</td>\n",
              "    </tr>\n",
              "    <tr>\n",
              "      <th>1</th>\n",
              "      <td>1</td>\n",
              "      <td>37</td>\n",
              "      <td>0</td>\n",
              "      <td>22.0</td>\n",
              "      <td>15.0</td>\n",
              "      <td>15.0</td>\n",
              "      <td>3</td>\n",
              "      <td>1</td>\n",
              "      <td>0</td>\n",
              "      <td>0</td>\n",
              "      <td>...</td>\n",
              "      <td>1</td>\n",
              "      <td>NaN</td>\n",
              "      <td>0</td>\n",
              "      <td>0</td>\n",
              "      <td>158</td>\n",
              "      <td>1</td>\n",
              "      <td>1</td>\n",
              "      <td>NaN</td>\n",
              "      <td>NaN</td>\n",
              "      <td>0</td>\n",
              "    </tr>\n",
              "    <tr>\n",
              "      <th>2</th>\n",
              "      <td>2</td>\n",
              "      <td>44</td>\n",
              "      <td>0</td>\n",
              "      <td>NaN</td>\n",
              "      <td>20.0</td>\n",
              "      <td>20.0</td>\n",
              "      <td>3</td>\n",
              "      <td>3</td>\n",
              "      <td>0</td>\n",
              "      <td>0</td>\n",
              "      <td>...</td>\n",
              "      <td>0</td>\n",
              "      <td>6.0</td>\n",
              "      <td>3</td>\n",
              "      <td>3</td>\n",
              "      <td>34</td>\n",
              "      <td>1</td>\n",
              "      <td>1</td>\n",
              "      <td>0.0</td>\n",
              "      <td>136.0</td>\n",
              "      <td>0</td>\n",
              "    </tr>\n",
              "    <tr>\n",
              "      <th>3</th>\n",
              "      <td>3</td>\n",
              "      <td>40</td>\n",
              "      <td>0</td>\n",
              "      <td>14.0</td>\n",
              "      <td>26.0</td>\n",
              "      <td>26.0</td>\n",
              "      <td>2</td>\n",
              "      <td>0</td>\n",
              "      <td>0</td>\n",
              "      <td>0</td>\n",
              "      <td>...</td>\n",
              "      <td>0</td>\n",
              "      <td>NaN</td>\n",
              "      <td>0</td>\n",
              "      <td>0</td>\n",
              "      <td>29</td>\n",
              "      <td>1</td>\n",
              "      <td>1</td>\n",
              "      <td>1.0</td>\n",
              "      <td>2.0</td>\n",
              "      <td>0</td>\n",
              "    </tr>\n",
              "    <tr>\n",
              "      <th>4</th>\n",
              "      <td>4</td>\n",
              "      <td>43</td>\n",
              "      <td>2</td>\n",
              "      <td>NaN</td>\n",
              "      <td>26.0</td>\n",
              "      <td>26.0</td>\n",
              "      <td>2</td>\n",
              "      <td>0</td>\n",
              "      <td>0</td>\n",
              "      <td>0</td>\n",
              "      <td>...</td>\n",
              "      <td>0</td>\n",
              "      <td>NaN</td>\n",
              "      <td>0</td>\n",
              "      <td>0</td>\n",
              "      <td>41</td>\n",
              "      <td>1</td>\n",
              "      <td>1</td>\n",
              "      <td>NaN</td>\n",
              "      <td>NaN</td>\n",
              "      <td>0</td>\n",
              "    </tr>\n",
              "  </tbody>\n",
              "</table>\n",
              "<p>5 rows × 24 columns</p>\n",
              "</div>"
            ],
            "text/plain": [
              "   Unnamed: 0  url_len  url_num_hyphens_dom  url_path_len  url_domain_len  \\\n",
              "0           0       97                    0          80.0            17.0   \n",
              "1           1       37                    0          22.0            15.0   \n",
              "2           2       44                    0           NaN            20.0   \n",
              "3           3       40                    0          14.0            26.0   \n",
              "4           4       43                    2           NaN            26.0   \n",
              "\n",
              "   url_hostname_len  url_num_dots  url_num_underscores  url_query_len  \\\n",
              "0              17.0             4                    0              0   \n",
              "1              15.0             3                    1              0   \n",
              "2              20.0             3                    3              0   \n",
              "3              26.0             2                    0              0   \n",
              "4              26.0             2                    0              0   \n",
              "\n",
              "   url_num_query_para  ...  html_num_tags('iframe')  html_num_tags('script')  \\\n",
              "0                   0  ...                        0                      5.0   \n",
              "1                   0  ...                        1                      NaN   \n",
              "2                   0  ...                        0                      6.0   \n",
              "3                   0  ...                        0                      NaN   \n",
              "4                   0  ...                        0                      NaN   \n",
              "\n",
              "   html_num_tags('embed')  html_num_tags('object')  html_num_tags('div')  \\\n",
              "0                       0                        0                    12   \n",
              "1                       0                        0                   158   \n",
              "2                       3                        3                    34   \n",
              "3                       0                        0                    29   \n",
              "4                       0                        0                    41   \n",
              "\n",
              "   html_num_tags('head')  html_num_tags('body')  html_num_tags('form')  \\\n",
              "0                      1                      1                    1.0   \n",
              "1                      1                      1                    NaN   \n",
              "2                      1                      1                    0.0   \n",
              "3                      1                      1                    1.0   \n",
              "4                      1                      1                    NaN   \n",
              "\n",
              "   html_num_tags('a')  html_num_tags('applet')  \n",
              "0                 3.0                        0  \n",
              "1                 NaN                        0  \n",
              "2               136.0                        0  \n",
              "3                 2.0                        0  \n",
              "4                 NaN                        0  \n",
              "\n",
              "[5 rows x 24 columns]"
            ]
          },
          "execution_count": 626,
          "metadata": {},
          "output_type": "execute_result"
        }
      ],
      "source": [
        "path = 'test_dataset_v01.csv'\n",
        "data = pd.read_csv(path)\n",
        "data.head()"
      ]
    },
    {
      "cell_type": "code",
      "execution_count": null,
      "metadata": {
        "id": "IuWBPY97FyVW",
        "outputId": "d92476dd-b94f-43ef-8c61-2c743f4934d8"
      },
      "outputs": [
        {
          "data": {
            "text/plain": [
              "(2441, 24)"
            ]
          },
          "execution_count": 627,
          "metadata": {},
          "output_type": "execute_result"
        }
      ],
      "source": [
        "data.shape"
      ]
    },
    {
      "cell_type": "code",
      "execution_count": null,
      "metadata": {
        "id": "pLN5CYkkFyVY",
        "outputId": "d961609d-406d-4c4a-973f-85e7121afe94"
      },
      "outputs": [
        {
          "name": "stdout",
          "output_type": "stream",
          "text": [
            "<class 'pandas.core.frame.DataFrame'>\n",
            "RangeIndex: 2441 entries, 0 to 2440\n",
            "Data columns (total 24 columns):\n",
            " #   Column                   Non-Null Count  Dtype  \n",
            "---  ------                   --------------  -----  \n",
            " 0   Unnamed: 0               2441 non-null   int64  \n",
            " 1   url_len                  2441 non-null   int64  \n",
            " 2   url_num_hyphens_dom      2441 non-null   int64  \n",
            " 3   url_path_len             1975 non-null   float64\n",
            " 4   url_domain_len           1975 non-null   float64\n",
            " 5   url_hostname_len         1978 non-null   float64\n",
            " 6   url_num_dots             2441 non-null   int64  \n",
            " 7   url_num_underscores      2441 non-null   int64  \n",
            " 8   url_query_len            2441 non-null   int64  \n",
            " 9   url_num_query_para       2441 non-null   int64  \n",
            " 10  url_ip_present           2441 non-null   int64  \n",
            " 11  url_entropy              2441 non-null   float64\n",
            " 12  url_chinese_present      2441 non-null   int64  \n",
            " 13  url_port                 2441 non-null   int64  \n",
            " 14  html_num_tags('iframe')  2441 non-null   int64  \n",
            " 15  html_num_tags('script')  1974 non-null   float64\n",
            " 16  html_num_tags('embed')   2441 non-null   int64  \n",
            " 17  html_num_tags('object')  2441 non-null   int64  \n",
            " 18  html_num_tags('div')     2441 non-null   int64  \n",
            " 19  html_num_tags('head')    2441 non-null   int64  \n",
            " 20  html_num_tags('body')    2441 non-null   int64  \n",
            " 21  html_num_tags('form')    1974 non-null   float64\n",
            " 22  html_num_tags('a')       1980 non-null   float64\n",
            " 23  html_num_tags('applet')  2441 non-null   int64  \n",
            "dtypes: float64(7), int64(17)\n",
            "memory usage: 457.8 KB\n"
          ]
        }
      ],
      "source": [
        "data.info()"
      ]
    },
    {
      "cell_type": "markdown",
      "metadata": {
        "id": "FulvZddkFyVZ"
      },
      "source": [
        "### **다.  데이터 전처리**"
      ]
    },
    {
      "cell_type": "code",
      "execution_count": null,
      "metadata": {
        "id": "tjKwVjtiFyVa",
        "outputId": "80e77299-7315-41fc-fe5c-80c6dbbf354c"
      },
      "outputs": [
        {
          "data": {
            "text/plain": [
              "Index(['Unnamed: 0', 'url_len', 'url_num_hyphens_dom', 'url_path_len',\n",
              "       'url_domain_len', 'url_hostname_len', 'url_num_dots',\n",
              "       'url_num_underscores', 'url_query_len', 'url_num_query_para',\n",
              "       'url_ip_present', 'url_entropy', 'url_port', 'html_num_tags('script')',\n",
              "       'html_num_tags('embed')', 'html_num_tags('object')',\n",
              "       'html_num_tags('div')', 'html_num_tags('head')',\n",
              "       'html_num_tags('body')', 'html_num_tags('form')', 'html_num_tags('a')',\n",
              "       'Result_v1'],\n",
              "      dtype='object')"
            ]
          },
          "execution_count": 581,
          "metadata": {},
          "output_type": "execute_result"
        }
      ],
      "source": [
        "data.columns"
      ]
    },
    {
      "cell_type": "code",
      "execution_count": null,
      "metadata": {
        "id": "JlAj-MVjFyVc"
      },
      "outputs": [],
      "source": [
        "data = data.drop(['Unnamed: 0'], axis = 1)"
      ]
    },
    {
      "cell_type": "code",
      "execution_count": null,
      "metadata": {
        "id": "IJbB_M35FyVd"
      },
      "outputs": [],
      "source": []
    },
    {
      "cell_type": "code",
      "execution_count": null,
      "metadata": {
        "id": "lkWmyBuQFyVe"
      },
      "outputs": [],
      "source": [
        "#모델링제출용\n",
        "data = data.drop(['Unnamed: 0', 'url_chinese_present', \"html_num_tags('applet')\", \"html_num_tags('iframe')\"], axis = 1)"
      ]
    },
    {
      "cell_type": "code",
      "execution_count": null,
      "metadata": {
        "id": "Zu-Bqh8PFyVe",
        "outputId": "c95a0458-57ea-4a09-9b23-0e2b7ab13fcd"
      },
      "outputs": [
        {
          "data": {
            "text/html": [
              "<div>\n",
              "<style scoped>\n",
              "    .dataframe tbody tr th:only-of-type {\n",
              "        vertical-align: middle;\n",
              "    }\n",
              "\n",
              "    .dataframe tbody tr th {\n",
              "        vertical-align: top;\n",
              "    }\n",
              "\n",
              "    .dataframe thead th {\n",
              "        text-align: right;\n",
              "    }\n",
              "</style>\n",
              "<table border=\"1\" class=\"dataframe\">\n",
              "  <thead>\n",
              "    <tr style=\"text-align: right;\">\n",
              "      <th></th>\n",
              "      <th>url_len</th>\n",
              "      <th>url_num_hyphens_dom</th>\n",
              "      <th>url_path_len</th>\n",
              "      <th>url_domain_len</th>\n",
              "      <th>url_hostname_len</th>\n",
              "      <th>url_num_dots</th>\n",
              "      <th>url_num_underscores</th>\n",
              "      <th>url_query_len</th>\n",
              "      <th>url_num_query_para</th>\n",
              "      <th>url_ip_present</th>\n",
              "      <th>url_entropy</th>\n",
              "      <th>url_port</th>\n",
              "      <th>html_num_tags('script')</th>\n",
              "      <th>html_num_tags('embed')</th>\n",
              "      <th>html_num_tags('object')</th>\n",
              "      <th>html_num_tags('div')</th>\n",
              "      <th>html_num_tags('head')</th>\n",
              "      <th>html_num_tags('body')</th>\n",
              "      <th>html_num_tags('form')</th>\n",
              "      <th>html_num_tags('a')</th>\n",
              "    </tr>\n",
              "  </thead>\n",
              "  <tbody>\n",
              "    <tr>\n",
              "      <th>0</th>\n",
              "      <td>97</td>\n",
              "      <td>0</td>\n",
              "      <td>80.0</td>\n",
              "      <td>17.0</td>\n",
              "      <td>17.0</td>\n",
              "      <td>4</td>\n",
              "      <td>0</td>\n",
              "      <td>0</td>\n",
              "      <td>0</td>\n",
              "      <td>0</td>\n",
              "      <td>4.844913</td>\n",
              "      <td>0</td>\n",
              "      <td>5.0</td>\n",
              "      <td>0</td>\n",
              "      <td>0</td>\n",
              "      <td>12</td>\n",
              "      <td>1</td>\n",
              "      <td>1</td>\n",
              "      <td>1.0</td>\n",
              "      <td>3.0</td>\n",
              "    </tr>\n",
              "  </tbody>\n",
              "</table>\n",
              "</div>"
            ],
            "text/plain": [
              "   url_len  url_num_hyphens_dom  url_path_len  url_domain_len  \\\n",
              "0       97                    0          80.0            17.0   \n",
              "\n",
              "   url_hostname_len  url_num_dots  url_num_underscores  url_query_len  \\\n",
              "0              17.0             4                    0              0   \n",
              "\n",
              "   url_num_query_para  url_ip_present  url_entropy  url_port  \\\n",
              "0                   0               0     4.844913         0   \n",
              "\n",
              "   html_num_tags('script')  html_num_tags('embed')  html_num_tags('object')  \\\n",
              "0                      5.0                       0                        0   \n",
              "\n",
              "   html_num_tags('div')  html_num_tags('head')  html_num_tags('body')  \\\n",
              "0                    12                      1                      1   \n",
              "\n",
              "   html_num_tags('form')  html_num_tags('a')  \n",
              "0                    1.0                 3.0  "
            ]
          },
          "execution_count": 633,
          "metadata": {},
          "output_type": "execute_result"
        }
      ],
      "source": [
        "data.head(1)"
      ]
    },
    {
      "cell_type": "code",
      "execution_count": null,
      "metadata": {
        "id": "HJ1bvF-4FyVi"
      },
      "outputs": [],
      "source": [
        "data.drop(['Unnamed: 0',\"html_num_tags('body')\",\"url_ip_present\",\"url_hostname_len\"],axis = 1, inplace = True)"
      ]
    },
    {
      "cell_type": "code",
      "execution_count": null,
      "metadata": {
        "id": "JsNabeWaFyVj"
      },
      "outputs": [],
      "source": [
        "data.drop(['url_num_hyphens_dom',\"html_num_tags('embed')\",'url_num_dots','url_domain_len',\"'url_num_underscores'\",'url_num_query_para','url_port',\"html_num_tags('form')\",\"'html_num_tags('embed')'\"],axis = 1, inplace = True)"
      ]
    },
    {
      "cell_type": "code",
      "execution_count": null,
      "metadata": {
        "id": "RzXQCloyFyVl",
        "outputId": "d17cac93-a87f-4498-c8fe-84e66ad43331"
      },
      "outputs": [
        {
          "data": {
            "text/plain": [
              "(2441, 20)"
            ]
          },
          "execution_count": 631,
          "metadata": {},
          "output_type": "execute_result"
        }
      ],
      "source": [
        "data.shape"
      ]
    },
    {
      "cell_type": "code",
      "execution_count": null,
      "metadata": {
        "id": "DpfgoGNQFyVm",
        "outputId": "ce842fad-1a99-4e24-b73f-3767d1fb3d8a"
      },
      "outputs": [
        {
          "data": {
            "text/plain": [
              "Index(['url_len', 'url_num_hyphens_dom', 'url_path_len', 'url_domain_len',\n",
              "       'url_hostname_len', 'url_num_dots', 'url_num_underscores',\n",
              "       'url_query_len', 'url_num_query_para', 'url_ip_present', 'url_entropy',\n",
              "       'url_port', 'html_num_tags('script')', 'html_num_tags('embed')',\n",
              "       'html_num_tags('object')', 'html_num_tags('div')',\n",
              "       'html_num_tags('head')', 'html_num_tags('body')',\n",
              "       'html_num_tags('form')', 'html_num_tags('a')'],\n",
              "      dtype='object')"
            ]
          },
          "execution_count": 632,
          "metadata": {},
          "output_type": "execute_result"
        }
      ],
      "source": [
        "data.columns"
      ]
    },
    {
      "cell_type": "code",
      "execution_count": null,
      "metadata": {
        "id": "JhczZrIUFyVn",
        "outputId": "3b3a8521-d20b-4174-c6eb-3775201ed6fb"
      },
      "outputs": [
        {
          "data": {
            "text/plain": [
              "Index(['url_len', 'url_num_hyphens_dom', 'url_path_len', 'url_domain_len',\n",
              "       'url_hostname_len', 'url_num_dots', 'url_num_underscores',\n",
              "       'url_query_len', 'url_num_query_para', 'url_ip_present', 'url_entropy',\n",
              "       'url_port', 'html_num_tags('script')', 'html_num_tags('embed')',\n",
              "       'html_num_tags('object')', 'html_num_tags('div')',\n",
              "       'html_num_tags('head')', 'html_num_tags('body')',\n",
              "       'html_num_tags('form')', 'html_num_tags('a')', 'Result_v1'],\n",
              "      dtype='object')"
            ]
          },
          "execution_count": 586,
          "metadata": {},
          "output_type": "execute_result"
        }
      ],
      "source": [
        "data.columns"
      ]
    },
    {
      "cell_type": "code",
      "execution_count": null,
      "metadata": {
        "id": "-pxyOhz8FyVo",
        "outputId": "40a7ef0b-fb09-41f0-fdfc-2e713fa61077"
      },
      "outputs": [
        {
          "data": {
            "text/plain": [
              "(2514, 21)"
            ]
          },
          "execution_count": 587,
          "metadata": {},
          "output_type": "execute_result"
        }
      ],
      "source": [
        "data.shape"
      ]
    },
    {
      "cell_type": "code",
      "execution_count": null,
      "metadata": {
        "id": "7oymgVQdFyVp",
        "outputId": "6d0a5ae4-fdcb-473a-fedc-4a5fb8511226"
      },
      "outputs": [
        {
          "data": {
            "text/html": [
              "<div>\n",
              "<style scoped>\n",
              "    .dataframe tbody tr th:only-of-type {\n",
              "        vertical-align: middle;\n",
              "    }\n",
              "\n",
              "    .dataframe tbody tr th {\n",
              "        vertical-align: top;\n",
              "    }\n",
              "\n",
              "    .dataframe thead th {\n",
              "        text-align: right;\n",
              "    }\n",
              "</style>\n",
              "<table border=\"1\" class=\"dataframe\">\n",
              "  <thead>\n",
              "    <tr style=\"text-align: right;\">\n",
              "      <th></th>\n",
              "      <th>url_len</th>\n",
              "      <th>url_num_hyphens_dom</th>\n",
              "      <th>url_path_len</th>\n",
              "      <th>url_domain_len</th>\n",
              "      <th>url_hostname_len</th>\n",
              "      <th>url_num_dots</th>\n",
              "      <th>url_num_underscores</th>\n",
              "      <th>url_query_len</th>\n",
              "      <th>url_num_query_para</th>\n",
              "      <th>url_ip_present</th>\n",
              "      <th>...</th>\n",
              "      <th>url_port</th>\n",
              "      <th>html_num_tags('script')</th>\n",
              "      <th>html_num_tags('embed')</th>\n",
              "      <th>html_num_tags('object')</th>\n",
              "      <th>html_num_tags('div')</th>\n",
              "      <th>html_num_tags('head')</th>\n",
              "      <th>html_num_tags('body')</th>\n",
              "      <th>html_num_tags('form')</th>\n",
              "      <th>html_num_tags('a')</th>\n",
              "      <th>Result_v1</th>\n",
              "    </tr>\n",
              "  </thead>\n",
              "  <tbody>\n",
              "    <tr>\n",
              "      <th>0</th>\n",
              "      <td>23.0</td>\n",
              "      <td>0.0</td>\n",
              "      <td>8.0</td>\n",
              "      <td>15.0</td>\n",
              "      <td>15.0</td>\n",
              "      <td>2.0</td>\n",
              "      <td>0.0</td>\n",
              "      <td>0.0</td>\n",
              "      <td>0.0</td>\n",
              "      <td>0.0</td>\n",
              "      <td>...</td>\n",
              "      <td>0.0</td>\n",
              "      <td>7.0</td>\n",
              "      <td>0.0</td>\n",
              "      <td>0.0</td>\n",
              "      <td>0.0</td>\n",
              "      <td>1.0</td>\n",
              "      <td>1.0</td>\n",
              "      <td>0.0</td>\n",
              "      <td>0.0</td>\n",
              "      <td>-1</td>\n",
              "    </tr>\n",
              "    <tr>\n",
              "      <th>1</th>\n",
              "      <td>27.0</td>\n",
              "      <td>0.0</td>\n",
              "      <td>13.0</td>\n",
              "      <td>14.0</td>\n",
              "      <td>14.0</td>\n",
              "      <td>3.0</td>\n",
              "      <td>0.0</td>\n",
              "      <td>0.0</td>\n",
              "      <td>0.0</td>\n",
              "      <td>0.0</td>\n",
              "      <td>...</td>\n",
              "      <td>0.0</td>\n",
              "      <td>15.0</td>\n",
              "      <td>0.0</td>\n",
              "      <td>0.0</td>\n",
              "      <td>151.0</td>\n",
              "      <td>1.0</td>\n",
              "      <td>1.0</td>\n",
              "      <td>1.0</td>\n",
              "      <td>55.0</td>\n",
              "      <td>1</td>\n",
              "    </tr>\n",
              "    <tr>\n",
              "      <th>2</th>\n",
              "      <td>39.0</td>\n",
              "      <td>2.0</td>\n",
              "      <td>12.0</td>\n",
              "      <td>27.0</td>\n",
              "      <td>27.0</td>\n",
              "      <td>2.0</td>\n",
              "      <td>0.0</td>\n",
              "      <td>0.0</td>\n",
              "      <td>0.0</td>\n",
              "      <td>0.0</td>\n",
              "      <td>...</td>\n",
              "      <td>0.0</td>\n",
              "      <td>10.0</td>\n",
              "      <td>0.0</td>\n",
              "      <td>0.0</td>\n",
              "      <td>332.0</td>\n",
              "      <td>1.0</td>\n",
              "      <td>1.0</td>\n",
              "      <td>0.0</td>\n",
              "      <td>321.0</td>\n",
              "      <td>1</td>\n",
              "    </tr>\n",
              "    <tr>\n",
              "      <th>3</th>\n",
              "      <td>18.0</td>\n",
              "      <td>0.0</td>\n",
              "      <td>0.0</td>\n",
              "      <td>18.0</td>\n",
              "      <td>18.0</td>\n",
              "      <td>2.0</td>\n",
              "      <td>0.0</td>\n",
              "      <td>0.0</td>\n",
              "      <td>0.0</td>\n",
              "      <td>0.0</td>\n",
              "      <td>...</td>\n",
              "      <td>0.0</td>\n",
              "      <td>4.0</td>\n",
              "      <td>1.0</td>\n",
              "      <td>1.0</td>\n",
              "      <td>3.0</td>\n",
              "      <td>1.0</td>\n",
              "      <td>1.0</td>\n",
              "      <td>0.0</td>\n",
              "      <td>18.0</td>\n",
              "      <td>1</td>\n",
              "    </tr>\n",
              "    <tr>\n",
              "      <th>4</th>\n",
              "      <td>49.0</td>\n",
              "      <td>0.0</td>\n",
              "      <td>30.0</td>\n",
              "      <td>19.0</td>\n",
              "      <td>19.0</td>\n",
              "      <td>4.0</td>\n",
              "      <td>0.0</td>\n",
              "      <td>0.0</td>\n",
              "      <td>0.0</td>\n",
              "      <td>0.0</td>\n",
              "      <td>...</td>\n",
              "      <td>0.0</td>\n",
              "      <td>8.0</td>\n",
              "      <td>0.0</td>\n",
              "      <td>0.0</td>\n",
              "      <td>19.0</td>\n",
              "      <td>1.0</td>\n",
              "      <td>1.0</td>\n",
              "      <td>1.0</td>\n",
              "      <td>4.0</td>\n",
              "      <td>-1</td>\n",
              "    </tr>\n",
              "  </tbody>\n",
              "</table>\n",
              "<p>5 rows × 21 columns</p>\n",
              "</div>"
            ],
            "text/plain": [
              "   url_len  url_num_hyphens_dom  url_path_len  url_domain_len  \\\n",
              "0     23.0                  0.0           8.0            15.0   \n",
              "1     27.0                  0.0          13.0            14.0   \n",
              "2     39.0                  2.0          12.0            27.0   \n",
              "3     18.0                  0.0           0.0            18.0   \n",
              "4     49.0                  0.0          30.0            19.0   \n",
              "\n",
              "   url_hostname_len  url_num_dots  url_num_underscores  url_query_len  \\\n",
              "0              15.0           2.0                  0.0            0.0   \n",
              "1              14.0           3.0                  0.0            0.0   \n",
              "2              27.0           2.0                  0.0            0.0   \n",
              "3              18.0           2.0                  0.0            0.0   \n",
              "4              19.0           4.0                  0.0            0.0   \n",
              "\n",
              "   url_num_query_para  url_ip_present  ...  url_port  html_num_tags('script')  \\\n",
              "0                 0.0             0.0  ...       0.0                      7.0   \n",
              "1                 0.0             0.0  ...       0.0                     15.0   \n",
              "2                 0.0             0.0  ...       0.0                     10.0   \n",
              "3                 0.0             0.0  ...       0.0                      4.0   \n",
              "4                 0.0             0.0  ...       0.0                      8.0   \n",
              "\n",
              "   html_num_tags('embed')  html_num_tags('object')  html_num_tags('div')  \\\n",
              "0                     0.0                      0.0                   0.0   \n",
              "1                     0.0                      0.0                 151.0   \n",
              "2                     0.0                      0.0                 332.0   \n",
              "3                     1.0                      1.0                   3.0   \n",
              "4                     0.0                      0.0                  19.0   \n",
              "\n",
              "   html_num_tags('head')  html_num_tags('body')  html_num_tags('form')  \\\n",
              "0                    1.0                    1.0                    0.0   \n",
              "1                    1.0                    1.0                    1.0   \n",
              "2                    1.0                    1.0                    0.0   \n",
              "3                    1.0                    1.0                    0.0   \n",
              "4                    1.0                    1.0                    1.0   \n",
              "\n",
              "   html_num_tags('a')  Result_v1  \n",
              "0                 0.0         -1  \n",
              "1                55.0          1  \n",
              "2               321.0          1  \n",
              "3                18.0          1  \n",
              "4                 4.0         -1  \n",
              "\n",
              "[5 rows x 21 columns]"
            ]
          },
          "execution_count": 588,
          "metadata": {},
          "output_type": "execute_result"
        }
      ],
      "source": [
        "data.head(5)"
      ]
    },
    {
      "cell_type": "code",
      "execution_count": null,
      "metadata": {
        "id": "ArCyUhHeFyVr"
      },
      "outputs": [],
      "source": [
        "data.to_csv(\"modelingfile.csv\", mode='w')"
      ]
    },
    {
      "cell_type": "code",
      "execution_count": null,
      "metadata": {
        "id": "WXVATzipFyVt",
        "outputId": "8721bba2-e1d1-4cf7-f11d-6e078fd471cc"
      },
      "outputs": [
        {
          "data": {
            "text/plain": [
              "(2441, 20)"
            ]
          },
          "execution_count": 635,
          "metadata": {},
          "output_type": "execute_result"
        }
      ],
      "source": [
        "data.shape"
      ]
    },
    {
      "cell_type": "markdown",
      "metadata": {
        "id": "PWVX1lb0FyVt"
      },
      "source": [
        "# 결측치 처리"
      ]
    },
    {
      "cell_type": "code",
      "execution_count": null,
      "metadata": {
        "id": "OSsWD5uxFyVu",
        "outputId": "d09109f8-1521-4465-8b74-e7f48d4808ed"
      },
      "outputs": [
        {
          "data": {
            "text/plain": [
              "url_len                      0\n",
              "url_num_hyphens_dom          0\n",
              "url_path_len               466\n",
              "url_domain_len             466\n",
              "url_hostname_len           463\n",
              "url_num_dots                 0\n",
              "url_num_underscores          0\n",
              "url_query_len                0\n",
              "url_num_query_para           0\n",
              "url_ip_present               0\n",
              "url_entropy                  0\n",
              "url_port                     0\n",
              "html_num_tags('script')    467\n",
              "html_num_tags('embed')       0\n",
              "html_num_tags('object')      0\n",
              "html_num_tags('div')         0\n",
              "html_num_tags('head')        0\n",
              "html_num_tags('body')        0\n",
              "html_num_tags('form')      467\n",
              "html_num_tags('a')         461\n",
              "dtype: int64"
            ]
          },
          "execution_count": 636,
          "metadata": {},
          "output_type": "execute_result"
        }
      ],
      "source": [
        "data.isna().sum()"
      ]
    },
    {
      "cell_type": "code",
      "execution_count": null,
      "metadata": {
        "id": "-PPTyfYEFyVv"
      },
      "outputs": [],
      "source": [
        "data = data.fillna(data.mean())"
      ]
    },
    {
      "cell_type": "code",
      "execution_count": null,
      "metadata": {
        "id": "QkpzkAH3FyVw",
        "outputId": "97ce41a8-b046-41c3-b6e3-a3fa0fe25a04"
      },
      "outputs": [
        {
          "data": {
            "text/plain": [
              "url_len                    0\n",
              "url_num_hyphens_dom        0\n",
              "url_path_len               0\n",
              "url_domain_len             0\n",
              "url_hostname_len           0\n",
              "url_num_dots               0\n",
              "url_num_underscores        0\n",
              "url_query_len              0\n",
              "url_num_query_para         0\n",
              "url_ip_present             0\n",
              "url_entropy                0\n",
              "url_port                   0\n",
              "html_num_tags('script')    0\n",
              "html_num_tags('embed')     0\n",
              "html_num_tags('object')    0\n",
              "html_num_tags('div')       0\n",
              "html_num_tags('head')      0\n",
              "html_num_tags('body')      0\n",
              "html_num_tags('form')      0\n",
              "html_num_tags('a')         0\n",
              "dtype: int64"
            ]
          },
          "execution_count": 638,
          "metadata": {},
          "output_type": "execute_result"
        }
      ],
      "source": [
        "data.isna().sum()"
      ]
    },
    {
      "cell_type": "code",
      "execution_count": null,
      "metadata": {
        "id": "_alzsVQlFyVx"
      },
      "outputs": [],
      "source": []
    },
    {
      "cell_type": "code",
      "execution_count": null,
      "metadata": {
        "id": "EDxVv7nzFyVx"
      },
      "outputs": [],
      "source": [
        "# best 모델로 예측 및 평가\n",
        "#p1 = m_gs1.predict(data)\n",
        "#p2 = m_gs1.predict(data)\n",
        "#p3= m_gs1.predict(data)\n",
        "p4 =m_gs1.predict(data)"
      ]
    },
    {
      "cell_type": "markdown",
      "metadata": {
        "id": "RXgyRXW9FyWJ"
      },
      "source": [
        "### **라. train_test_split을 이용하여 train/test  데이터 분리**\n",
        "\n"
      ]
    },
    {
      "cell_type": "code",
      "execution_count": null,
      "metadata": {
        "id": "Ti3STLrWFyWL"
      },
      "outputs": [],
      "source": [
        "target = 'Result_v1'\n",
        "x = data.drop(target, axis = 1)\n",
        "y = data.loc[:, target]"
      ]
    },
    {
      "cell_type": "code",
      "execution_count": null,
      "metadata": {
        "id": "SpiZ4zUsFyWM"
      },
      "outputs": [],
      "source": [
        "# train_test_split 사용\n",
        "x_train, x_val, y_train, y_val = train_test_split(x, y, test_size=.3, random_state = 2022)"
      ]
    },
    {
      "cell_type": "code",
      "execution_count": null,
      "metadata": {
        "id": "M2roBvZqFyWN",
        "outputId": "6ee2a67a-2130-47ca-9cbb-7f7dcf300969"
      },
      "outputs": [
        {
          "data": {
            "text/plain": [
              "(1759, 20)"
            ]
          },
          "execution_count": 596,
          "metadata": {},
          "output_type": "execute_result"
        }
      ],
      "source": [
        "x_train.shape"
      ]
    },
    {
      "cell_type": "code",
      "execution_count": null,
      "metadata": {
        "id": "nZpiLFEEFyWQ"
      },
      "outputs": [],
      "source": [
        "scaler = MinMaxScaler()\n",
        "x_train_s = scaler.fit_transform(x_train)\n",
        "x_val_s = scaler.transform(x_val)"
      ]
    },
    {
      "cell_type": "markdown",
      "metadata": {
        "id": "v0gIyOqyFyWQ"
      },
      "source": [
        "### **마. Confusion Matrix 함수 정의**\n"
      ]
    },
    {
      "cell_type": "markdown",
      "metadata": {
        "id": "fusdXkMwFyWR"
      },
      "source": [
        "#### Confusion Matrix란 Training 을 통한 Prediction 성능을 측정하기 위해 예측 value와 실제 value를 비교하기 위한 표입니다.\n",
        "#### 아래 함수는 이번 과제에서 confusion matrix 결과를 보기 쉽게 표현한 것으로 사용 예를 참고하여 모델 결과 확인에 사용하시기 바랍니다.\n",
        "\n"
      ]
    },
    {
      "cell_type": "markdown",
      "metadata": {
        "id": "q_xnccKWFyWS"
      },
      "source": [
        "**<span style=\"color:green\">[참고링크] 공식 Document**</span>\n",
        " \n",
        "* confusion matrix(https://scikit-learn.org/stable/modules/generated/sklearn.metrics.confusion_matrix.html)"
      ]
    },
    {
      "cell_type": "code",
      "execution_count": null,
      "metadata": {
        "id": "CLji1qjWFyWS"
      },
      "outputs": [],
      "source": [
        "from sklearn.metrics import classification_report as creport\n",
        "from sklearn.metrics import confusion_matrix, accuracy_score, precision_score, recall_score"
      ]
    },
    {
      "cell_type": "code",
      "execution_count": null,
      "metadata": {
        "id": "ichX5OrNFyWT"
      },
      "outputs": [],
      "source": [
        "def plot_confusion_matrix(ax, matrix, labels = ['malicious','benign'], title='Confusion matrix', fontsize=9):\n",
        "    ax.set_xticks([x for x in range(len(labels))])\n",
        "    ax.set_yticks([y for y in range(len(labels))])\n",
        "\n",
        "    # Place labels on minor ticks\n",
        "    ax.set_xticks([x + 0.5 for x in range(len(labels))], minor=True)\n",
        "    ax.set_xticklabels(labels, rotation='90', fontsize=fontsize, minor=True)\n",
        "    ax.set_yticks([y + 0.5 for y in range(len(labels))], minor=True)\n",
        "    ax.set_yticklabels(labels[::-1], fontsize=fontsize, minor=True)\n",
        "\n",
        "    # Hide major tick labels\n",
        "    ax.tick_params(which='major', labelbottom='off', labelleft='off')\n",
        "\n",
        "    # Finally, hide minor tick marks\n",
        "    ax.tick_params(which='minor', width=0)\n",
        "\n",
        "    # Plot heat map\n",
        "    proportions = [1. * row / sum(row) for row in matrix]\n",
        "    ax.pcolor(np.array(proportions[::-1]), cmap=plt.cm.Blues)\n",
        "\n",
        "    # Plot counts as text\n",
        "    for row in range(len(matrix)):\n",
        "        for col in range(len(matrix[row])):\n",
        "            confusion = matrix[::-1][row][col]\n",
        "            if confusion != 0:\n",
        "                ax.text(col + 0.5, row + 0.5, int(confusion),\n",
        "                        fontsize=fontsize,\n",
        "                        horizontalalignment='center',\n",
        "                        verticalalignment='center')\n",
        "\n",
        "    # Add finishing touches\n",
        "    ax.grid(True, linestyle=':')\n",
        "    ax.set_title(title, fontsize=fontsize)\n",
        "    ax.set_xlabel('prediction', fontsize=fontsize)\n",
        "    ax.set_ylabel('actual', fontsize=fontsize)\n",
        "\n",
        "    plt.show()"
      ]
    },
    {
      "cell_type": "markdown",
      "metadata": {
        "id": "b6s-TWI3FyWU"
      },
      "source": [
        "### <span style=\"color:blue\">[예시] Confusion Matrix 사용 방법<span>"
      ]
    },
    {
      "cell_type": "markdown",
      "metadata": {
        "id": "PNwOCEkoFyWU"
      },
      "source": [
        "- 샘플\n",
        "#### > confusion = confusion_matrix(test_y, dt_pred)\n",
        "#### > fig, ax = plt.subplots(figsize=(10,3))\n",
        "#### > plot_confusion_matrix(ax, confusion, fontsize=30)\n"
      ]
    },
    {
      "cell_type": "markdown",
      "metadata": {
        "id": "U5iJiOykFyWU"
      },
      "source": [
        "![confusion_matrix.png](attachment:2d1c1b93-2db6-45e4-91b4-cee7ea6ef268.png)"
      ]
    },
    {
      "cell_type": "markdown",
      "metadata": {
        "id": "IpWWMR8VFyWV"
      },
      "source": [
        "---"
      ]
    },
    {
      "cell_type": "markdown",
      "metadata": {
        "id": "g2a3KQZLFyWY"
      },
      "source": [
        "## <b> Q. AI 분류 모델 만들기\n",
        "\n",
        "* 전처리한 데이터셋을 활용해 악성사이트 여부를 판별하는 AI 분류 모델을 <font color=\"red\">최소 3개 이상 </font>만들어보세요."
      ]
    },
    {
      "cell_type": "code",
      "execution_count": null,
      "metadata": {
        "id": "YaHnX78lFyWY"
      },
      "outputs": [],
      "source": []
    },
    {
      "cell_type": "code",
      "execution_count": null,
      "metadata": {
        "id": "r8khyndxFyWZ"
      },
      "outputs": [],
      "source": [
        "# 1. import\n",
        "from xgboost import XGBClassifier, plot_tree\n",
        "from sklearn.metrics import * \n",
        "from sklearn.model_selection import RandomizedSearchCV, GridSearchCV\n",
        "from sklearn.svm import SVC"
      ]
    },
    {
      "cell_type": "code",
      "execution_count": null,
      "metadata": {
        "id": "lL6h1zRDFyWZ",
        "outputId": "ee58e09f-e8f8-41b6-e80b-2be3d26de763"
      },
      "outputs": [
        {
          "data": {
            "text/plain": [
              "(1759, 20)"
            ]
          },
          "execution_count": 601,
          "metadata": {},
          "output_type": "execute_result"
        }
      ],
      "source": [
        "x_train.shape"
      ]
    },
    {
      "cell_type": "code",
      "execution_count": null,
      "metadata": {
        "id": "_gEvtUI9FyWl",
        "outputId": "edc889ce-8b77-4146-c0f3-01018796a36a"
      },
      "outputs": [
        {
          "data": {
            "text/plain": [
              "Index(['url_len', 'url_num_hyphens_dom', 'url_path_len', 'url_domain_len',\n",
              "       'url_hostname_len', 'url_num_dots', 'url_num_underscores',\n",
              "       'url_query_len', 'url_num_query_para', 'url_ip_present', 'url_entropy',\n",
              "       'url_port', 'html_num_tags('script')', 'html_num_tags('embed')',\n",
              "       'html_num_tags('object')', 'html_num_tags('div')',\n",
              "       'html_num_tags('head')', 'html_num_tags('body')',\n",
              "       'html_num_tags('form')', 'html_num_tags('a')'],\n",
              "      dtype='object')"
            ]
          },
          "execution_count": 602,
          "metadata": {},
          "output_type": "execute_result"
        }
      ],
      "source": [
        "x_train.columns"
      ]
    },
    {
      "cell_type": "code",
      "execution_count": null,
      "metadata": {
        "id": "oeLDCaqGFyWm"
      },
      "outputs": [],
      "source": [
        "# 2.선언 \n",
        "\n",
        "model = SVC()\n"
      ]
    },
    {
      "cell_type": "code",
      "execution_count": null,
      "metadata": {
        "id": "QrjTZ52qFyWm",
        "outputId": "3a2d32a7-8974-4533-fdb7-cfb239e55303"
      },
      "outputs": [
        {
          "data": {
            "text/plain": [
              "SVC()"
            ]
          },
          "execution_count": 604,
          "metadata": {},
          "output_type": "execute_result"
        }
      ],
      "source": [
        "# 3. fit(), 학습\n",
        "model.fit(x_train, y_train)\n"
      ]
    },
    {
      "cell_type": "code",
      "execution_count": null,
      "metadata": {
        "id": "yZX202OCFyWn"
      },
      "outputs": [],
      "source": [
        "# 4. predict(), 예측\n",
        "\n",
        "pred = model.predict(x_val)\n",
        "\n"
      ]
    },
    {
      "cell_type": "code",
      "execution_count": null,
      "metadata": {
        "id": "YOo_B0zcFyWo",
        "outputId": "42537cbe-4b5e-46d7-f301-d5d335e47074"
      },
      "outputs": [
        {
          "name": "stdout",
          "output_type": "stream",
          "text": [
            "[[255 114]\n",
            " [ 29 357]]\n",
            "              precision    recall  f1-score   support\n",
            "\n",
            "          -1       0.90      0.69      0.78       369\n",
            "           1       0.76      0.92      0.83       386\n",
            "\n",
            "    accuracy                           0.81       755\n",
            "   macro avg       0.83      0.81      0.81       755\n",
            "weighted avg       0.83      0.81      0.81       755\n",
            "\n"
          ]
        }
      ],
      "source": [
        "# train 및 val 데이터 정확도 확인 \n",
        "print(confusion_matrix(y_val, pred))\n",
        "print(classification_report(y_val, pred))"
      ]
    },
    {
      "cell_type": "code",
      "execution_count": null,
      "metadata": {
        "id": "B6rNfiIjFyWp"
      },
      "outputs": [],
      "source": [
        "def plot_feature_importance(importance, names):\n",
        "    feature_importance = np.array(importance)\n",
        "    feature_names = np.array(names)\n",
        "\n",
        "    data={'feature_names':feature_names,'feature_importance':feature_importance}\n",
        "    fi_df = pd.DataFrame(data)\n",
        "\n",
        "    fi_df.sort_values(by=['feature_importance'], ascending=False,inplace=True)\n",
        "    fi_df.reset_index(drop=True, inplace = True)\n",
        "\n",
        "    plt.figure(figsize=(10,8))\n",
        "    sns.barplot(x='feature_importance', y='feature_names', data = fi_df)\n",
        "\n",
        "    plt.xlabel('FEATURE IMPORTANCE')\n",
        "    plt.ylabel('FEATURE NAMES')\n",
        "    plt.grid()\n",
        "\n",
        "    return fi_df"
      ]
    },
    {
      "cell_type": "code",
      "execution_count": null,
      "metadata": {
        "id": "_HojRMwMFyWq"
      },
      "outputs": [],
      "source": [
        "# Feature(특징)별 가중치 확인\n",
        "# 변수 중요도\n"
      ]
    },
    {
      "cell_type": "code",
      "execution_count": null,
      "metadata": {
        "id": "o-JW16fzFyWq"
      },
      "outputs": [],
      "source": []
    },
    {
      "cell_type": "code",
      "execution_count": null,
      "metadata": {
        "id": "dLTVX4ZaFyWr"
      },
      "outputs": [],
      "source": []
    },
    {
      "cell_type": "markdown",
      "metadata": {
        "id": "tzfgQHfzFyWr"
      },
      "source": [
        "# DT"
      ]
    },
    {
      "cell_type": "code",
      "execution_count": null,
      "metadata": {
        "id": "1AVCYK8kFyWr",
        "outputId": "064fc808-bbd2-4fb8-a18c-a8441452656a"
      },
      "outputs": [
        {
          "data": {
            "text/plain": [
              "{'max_depth': range(2, 11), 'min_samples_leaf': range(10, 101, 10)}"
            ]
          },
          "execution_count": 609,
          "metadata": {},
          "output_type": "execute_result"
        }
      ],
      "source": [
        "# dictionary형태로 선언\n",
        "params = { 'max_depth' : range(2,11), 'min_samples_leaf':range(10,101,10)}\n",
        "params"
      ]
    },
    {
      "cell_type": "code",
      "execution_count": null,
      "metadata": {
        "id": "izeAfa3dFyWt"
      },
      "outputs": [],
      "source": [
        "# 기본모델\n",
        "m = DecisionTreeClassifier()\n",
        "\n",
        "# Random Search 설정.\n",
        "m3 = GridSearchCV(m, params, cv = 5)"
      ]
    },
    {
      "cell_type": "code",
      "execution_count": null,
      "metadata": {
        "id": "ul0m7B4ZFyWu",
        "outputId": "7343f5cb-9437-4d68-af19-1a33de516145"
      },
      "outputs": [
        {
          "data": {
            "text/plain": [
              "GridSearchCV(cv=5, estimator=DecisionTreeClassifier(),\n",
              "             param_grid={'max_depth': range(2, 11),\n",
              "                         'min_samples_leaf': range(10, 101, 10)})"
            ]
          },
          "execution_count": 611,
          "metadata": {},
          "output_type": "execute_result"
        }
      ],
      "source": [
        "# 학습 \n",
        "m3.fit(x_train, y_train)"
      ]
    },
    {
      "cell_type": "code",
      "execution_count": null,
      "metadata": {
        "id": "r4D4T6qeFyWv",
        "outputId": "d184871a-17d1-49d3-dd44-857acb1771c2"
      },
      "outputs": [
        {
          "data": {
            "text/plain": [
              "{'max_depth': 5, 'min_samples_leaf': 10}"
            ]
          },
          "execution_count": 612,
          "metadata": {},
          "output_type": "execute_result"
        }
      ],
      "source": [
        "# 최적의 파라미터\n",
        "m3.best_params_"
      ]
    },
    {
      "cell_type": "code",
      "execution_count": null,
      "metadata": {
        "id": "hIP144gmFyWw",
        "outputId": "bee01476-2b6e-4009-c242-feba0fc75129"
      },
      "outputs": [
        {
          "name": "stdout",
          "output_type": "stream",
          "text": [
            "              precision    recall  f1-score   support\n",
            "\n",
            "          -1       0.94      0.90      0.92       369\n",
            "           1       0.91      0.94      0.92       386\n",
            "\n",
            "    accuracy                           0.92       755\n",
            "   macro avg       0.92      0.92      0.92       755\n",
            "weighted avg       0.92      0.92      0.92       755\n",
            "\n"
          ]
        }
      ],
      "source": [
        "# best 모델로 예측 및 평가\n",
        "p3 = m3.predict(x_val)\n",
        "print(classification_report(y_val, p3))"
      ]
    },
    {
      "cell_type": "code",
      "execution_count": null,
      "metadata": {
        "id": "0PeCFBz4FyWx",
        "outputId": "958222e6-fe06-4f86-97e4-7daad635bc93"
      },
      "outputs": [
        {
          "data": {
            "image/png": "[encoded data removed]",
            "text/plain": [
              "<Figure size 720x576 with 1 Axes>"
            ]
          },
          "metadata": {
            "needs_background": "light"
          },
          "output_type": "display_data"
        }
      ],
      "source": [
        "# 이 이름을 이용하여 변수중요도 뽑기\n",
        "result = plot_feature_importance(m3.best_estimator_.feature_importances_, list(x_train))"
      ]
    },
    {
      "cell_type": "markdown",
      "metadata": {
        "id": "N6weQnOrFyWx"
      },
      "source": [
        "# SVM"
      ]
    },
    {
      "cell_type": "code",
      "execution_count": null,
      "metadata": {
        "id": "98zcn2yIFyWy",
        "outputId": "d1d1a54e-86e8-49f0-889f-d7070bc27917"
      },
      "outputs": [
        {
          "data": {
            "text/plain": [
              "{'C': array([0.1       , 0.64444444, 1.18888889, 1.73333333, 2.27777778,\n",
              "        2.82222222, 3.36666667, 3.91111111, 4.45555556, 5.        ]),\n",
              " 'gamma': array([0.1       , 0.64444444, 1.18888889, 1.73333333, 2.27777778,\n",
              "        2.82222222, 3.36666667, 3.91111111, 4.45555556, 5.        ])}"
            ]
          },
          "execution_count": 615,
          "metadata": {},
          "output_type": "execute_result"
        }
      ],
      "source": [
        "params = { 'C' : np.linspace(0.1, 5, 10), 'gamma' : np.linspace(0.1, 5, 10) }\n",
        "params"
      ]
    },
    {
      "cell_type": "code",
      "execution_count": null,
      "metadata": {
        "id": "YnW28SLsFyWz"
      },
      "outputs": [],
      "source": [
        "# 기본모델\n",
        "m = SVC()\n",
        "\n",
        "# Random Search 설정.\n",
        "m5 = GridSearchCV(m, params, cv=5)"
      ]
    },
    {
      "cell_type": "code",
      "execution_count": null,
      "metadata": {
        "id": "BOTkXBwiFyW0",
        "outputId": "727d757d-d754-473c-d7ce-76defa463af3"
      },
      "outputs": [
        {
          "data": {
            "text/plain": [
              "GridSearchCV(cv=5, estimator=SVC(),\n",
              "             param_grid={'C': array([0.1       , 0.64444444, 1.18888889, 1.73333333, 2.27777778,\n",
              "       2.82222222, 3.36666667, 3.91111111, 4.45555556, 5.        ]),\n",
              "                         'gamma': array([0.1       , 0.64444444, 1.18888889, 1.73333333, 2.27777778,\n",
              "       2.82222222, 3.36666667, 3.91111111, 4.45555556, 5.        ])})"
            ]
          },
          "execution_count": 617,
          "metadata": {},
          "output_type": "execute_result"
        }
      ],
      "source": [
        "# 학습 : model이 아니라 model_rs\n",
        "m5.fit(x_train_s, y_train)"
      ]
    },
    {
      "cell_type": "code",
      "execution_count": null,
      "metadata": {
        "id": "Ij_mrWqbFyW1",
        "outputId": "5e7b5818-e775-4fdf-86eb-182d749d04b2"
      },
      "outputs": [
        {
          "data": {
            "text/plain": [
              "{'C': 5.0, 'gamma': 3.911111111111112}"
            ]
          },
          "execution_count": 618,
          "metadata": {},
          "output_type": "execute_result"
        }
      ],
      "source": [
        "\n",
        "m5.best_params_"
      ]
    },
    {
      "cell_type": "code",
      "execution_count": null,
      "metadata": {
        "id": "VAyc_NDoFyW2",
        "outputId": "01d04d30-237e-49f6-fd73-d1566a969ee5"
      },
      "outputs": [
        {
          "name": "stdout",
          "output_type": "stream",
          "text": [
            "              precision    recall  f1-score   support\n",
            "\n",
            "          -1       0.89      0.90      0.90       369\n",
            "           1       0.90      0.90      0.90       386\n",
            "\n",
            "    accuracy                           0.90       755\n",
            "   macro avg       0.90      0.90      0.90       755\n",
            "weighted avg       0.90      0.90      0.90       755\n",
            "\n"
          ]
        }
      ],
      "source": [
        "# best 모델로 예측 및 평가\n",
        "p5 = m5.predict(x_val_s)\n",
        "print(classification_report(y_val, p5))"
      ]
    },
    {
      "cell_type": "markdown",
      "metadata": {
        "id": "T8rjFCMAFyW3"
      },
      "source": [
        "# 랜덤포레스트"
      ]
    },
    {
      "cell_type": "code",
      "execution_count": null,
      "metadata": {
        "id": "b8w8fIjLFyW4"
      },
      "outputs": [],
      "source": [
        "from sklearn.tree import plot_tree\n",
        "from sklearn.ensemble import RandomForestClassifier\n",
        "from sklearn.metrics import * "
      ]
    },
    {
      "cell_type": "code",
      "execution_count": null,
      "metadata": {
        "id": "RFZKevBQFyW4"
      },
      "outputs": [],
      "source": [
        "params = {'n_estimators':range(5,101,5), 'max_features':range(1,5)}"
      ]
    },
    {
      "cell_type": "code",
      "execution_count": null,
      "metadata": {
        "id": "6y2938FSFyW4"
      },
      "outputs": [],
      "source": [
        "m = RandomForestClassifier()\n",
        "m_gs1 = GridSearchCV(m, params, cv = 5, verbose = 3)"
      ]
    },
    {
      "cell_type": "code",
      "execution_count": null,
      "metadata": {
        "collapsed": true,
        "jupyter": {
          "outputs_hidden": true
        },
        "tags": [],
        "id": "X1FEG1UVFyW5",
        "outputId": "57b6174f-7821-459f-9f81-09d937b01d6f"
      },
      "outputs": [
        {
          "name": "stdout",
          "output_type": "stream",
          "text": [
            "Fitting 5 folds for each of 80 candidates, totalling 400 fits\n",
            "[CV 1/5] END .................max_features=1, n_estimators=5; total time=   0.0s\n",
            "[CV 2/5] END .................max_features=1, n_estimators=5; total time=   0.0s\n",
            "[CV 3/5] END .................max_features=1, n_estimators=5; total time=   0.0s\n",
            "[CV 4/5] END .................max_features=1, n_estimators=5; total time=   0.0s\n",
            "[CV 5/5] END .................max_features=1, n_estimators=5; total time=   0.0s\n",
            "[CV 1/5] END ................max_features=1, n_estimators=10; total time=   0.0s\n",
            "[CV 2/5] END ................max_features=1, n_estimators=10; total time=   0.0s\n",
            "[CV 3/5] END ................max_features=1, n_estimators=10; total time=   0.0s\n",
            "[CV 4/5] END ................max_features=1, n_estimators=10; total time=   0.0s\n",
            "[CV 5/5] END ................max_features=1, n_estimators=10; total time=   0.0s\n",
            "[CV 1/5] END ................max_features=1, n_estimators=15; total time=   0.0s\n",
            "[CV 2/5] END ................max_features=1, n_estimators=15; total time=   0.0s\n",
            "[CV 3/5] END ................max_features=1, n_estimators=15; total time=   0.0s\n",
            "[CV 4/5] END ................max_features=1, n_estimators=15; total time=   0.0s\n",
            "[CV 5/5] END ................max_features=1, n_estimators=15; total time=   0.0s\n",
            "[CV 1/5] END ................max_features=1, n_estimators=20; total time=   0.0s\n",
            "[CV 2/5] END ................max_features=1, n_estimators=20; total time=   0.0s\n",
            "[CV 3/5] END ................max_features=1, n_estimators=20; total time=   0.0s\n",
            "[CV 4/5] END ................max_features=1, n_estimators=20; total time=   0.0s\n",
            "[CV 5/5] END ................max_features=1, n_estimators=20; total time=   0.0s\n",
            "[CV 1/5] END ................max_features=1, n_estimators=25; total time=   0.0s\n",
            "[CV 2/5] END ................max_features=1, n_estimators=25; total time=   0.1s\n",
            "[CV 3/5] END ................max_features=1, n_estimators=25; total time=   0.0s\n",
            "[CV 4/5] END ................max_features=1, n_estimators=25; total time=   0.0s\n",
            "[CV 5/5] END ................max_features=1, n_estimators=25; total time=   0.0s\n",
            "[CV 1/5] END ................max_features=1, n_estimators=30; total time=   0.1s\n",
            "[CV 2/5] END ................max_features=1, n_estimators=30; total time=   0.0s\n",
            "[CV 3/5] END ................max_features=1, n_estimators=30; total time=   0.0s\n",
            "[CV 4/5] END ................max_features=1, n_estimators=30; total time=   0.0s\n",
            "[CV 5/5] END ................max_features=1, n_estimators=30; total time=   0.0s\n",
            "[CV 1/5] END ................max_features=1, n_estimators=35; total time=   0.0s\n",
            "[CV 2/5] END ................max_features=1, n_estimators=35; total time=   0.0s\n",
            "[CV 3/5] END ................max_features=1, n_estimators=35; total time=   0.0s\n",
            "[CV 4/5] END ................max_features=1, n_estimators=35; total time=   0.0s\n",
            "[CV 5/5] END ................max_features=1, n_estimators=35; total time=   0.1s\n",
            "[CV 1/5] END ................max_features=1, n_estimators=40; total time=   0.1s\n",
            "[CV 2/5] END ................max_features=1, n_estimators=40; total time=   0.0s\n",
            "[CV 3/5] END ................max_features=1, n_estimators=40; total time=   0.0s\n",
            "[CV 4/5] END ................max_features=1, n_estimators=40; total time=   0.0s\n",
            "[CV 5/5] END ................max_features=1, n_estimators=40; total time=   0.0s\n",
            "[CV 1/5] END ................max_features=1, n_estimators=45; total time=   0.1s\n",
            "[CV 2/5] END ................max_features=1, n_estimators=45; total time=   0.2s\n",
            "[CV 3/5] END ................max_features=1, n_estimators=45; total time=   0.1s\n",
            "[CV 4/5] END ................max_features=1, n_estimators=45; total time=   0.2s\n",
            "[CV 5/5] END ................max_features=1, n_estimators=45; total time=   0.2s\n",
            "[CV 1/5] END ................max_features=1, n_estimators=50; total time=   0.1s\n",
            "[CV 2/5] END ................max_features=1, n_estimators=50; total time=   0.1s\n",
            "[CV 3/5] END ................max_features=1, n_estimators=50; total time=   0.1s\n",
            "[CV 4/5] END ................max_features=1, n_estimators=50; total time=   0.2s\n",
            "[CV 5/5] END ................max_features=1, n_estimators=50; total time=   0.1s\n",
            "[CV 1/5] END ................max_features=1, n_estimators=55; total time=   0.1s\n",
            "[CV 2/5] END ................max_features=1, n_estimators=55; total time=   0.2s\n",
            "[CV 3/5] END ................max_features=1, n_estimators=55; total time=   0.1s\n",
            "[CV 4/5] END ................max_features=1, n_estimators=55; total time=   0.1s\n",
            "[CV 5/5] END ................max_features=1, n_estimators=55; total time=   0.1s\n",
            "[CV 1/5] END ................max_features=1, n_estimators=60; total time=   0.1s\n",
            "[CV 2/5] END ................max_features=1, n_estimators=60; total time=   0.1s\n",
            "[CV 3/5] END ................max_features=1, n_estimators=60; total time=   0.1s\n",
            "[CV 4/5] END ................max_features=1, n_estimators=60; total time=   0.1s\n",
            "[CV 5/5] END ................max_features=1, n_estimators=60; total time=   0.1s\n",
            "[CV 1/5] END ................max_features=1, n_estimators=65; total time=   0.1s\n",
            "[CV 2/5] END ................max_features=1, n_estimators=65; total time=   0.1s\n",
            "[CV 3/5] END ................max_features=1, n_estimators=65; total time=   0.1s\n",
            "[CV 4/5] END ................max_features=1, n_estimators=65; total time=   0.1s\n",
            "[CV 5/5] END ................max_features=1, n_estimators=65; total time=   0.1s\n",
            "[CV 1/5] END ................max_features=1, n_estimators=70; total time=   0.2s\n",
            "[CV 2/5] END ................max_features=1, n_estimators=70; total time=   0.3s\n",
            "[CV 3/5] END ................max_features=1, n_estimators=70; total time=   0.3s\n",
            "[CV 4/5] END ................max_features=1, n_estimators=70; total time=   0.3s\n",
            "[CV 5/5] END ................max_features=1, n_estimators=70; total time=   0.2s\n",
            "[CV 1/5] END ................max_features=1, n_estimators=75; total time=   0.2s\n",
            "[CV 2/5] END ................max_features=1, n_estimators=75; total time=   0.2s\n",
            "[CV 3/5] END ................max_features=1, n_estimators=75; total time=   0.2s\n",
            "[CV 4/5] END ................max_features=1, n_estimators=75; total time=   0.3s\n",
            "[CV 5/5] END ................max_features=1, n_estimators=75; total time=   0.2s\n",
            "[CV 1/5] END ................max_features=1, n_estimators=80; total time=   0.2s\n",
            "[CV 2/5] END ................max_features=1, n_estimators=80; total time=   0.2s\n",
            "[CV 3/5] END ................max_features=1, n_estimators=80; total time=   0.1s\n",
            "[CV 4/5] END ................max_features=1, n_estimators=80; total time=   0.1s\n",
            "[CV 5/5] END ................max_features=1, n_estimators=80; total time=   0.2s\n",
            "[CV 1/5] END ................max_features=1, n_estimators=85; total time=   0.2s\n",
            "[CV 2/5] END ................max_features=1, n_estimators=85; total time=   0.1s\n",
            "[CV 3/5] END ................max_features=1, n_estimators=85; total time=   0.1s\n",
            "[CV 4/5] END ................max_features=1, n_estimators=85; total time=   0.2s\n",
            "[CV 5/5] END ................max_features=1, n_estimators=85; total time=   0.2s\n",
            "[CV 1/5] END ................max_features=1, n_estimators=90; total time=   0.3s\n",
            "[CV 2/5] END ................max_features=1, n_estimators=90; total time=   0.2s\n",
            "[CV 3/5] END ................max_features=1, n_estimators=90; total time=   0.3s\n",
            "[CV 4/5] END ................max_features=1, n_estimators=90; total time=   0.2s\n",
            "[CV 5/5] END ................max_features=1, n_estimators=90; total time=   0.2s\n",
            "[CV 1/5] END ................max_features=1, n_estimators=95; total time=   0.2s\n",
            "[CV 2/5] END ................max_features=1, n_estimators=95; total time=   0.3s\n",
            "[CV 3/5] END ................max_features=1, n_estimators=95; total time=   0.3s\n",
            "[CV 4/5] END ................max_features=1, n_estimators=95; total time=   0.2s\n",
            "[CV 5/5] END ................max_features=1, n_estimators=95; total time=   0.2s\n",
            "[CV 1/5] END ...............max_features=1, n_estimators=100; total time=   0.2s\n",
            "[CV 2/5] END ...............max_features=1, n_estimators=100; total time=   0.2s\n",
            "[CV 3/5] END ...............max_features=1, n_estimators=100; total time=   0.3s\n",
            "[CV 4/5] END ...............max_features=1, n_estimators=100; total time=   0.2s\n",
            "[CV 5/5] END ...............max_features=1, n_estimators=100; total time=   0.2s\n",
            "[CV 1/5] END .................max_features=2, n_estimators=5; total time=   0.0s\n",
            "[CV 2/5] END .................max_features=2, n_estimators=5; total time=   0.0s\n",
            "[CV 3/5] END .................max_features=2, n_estimators=5; total time=   0.0s\n",
            "[CV 4/5] END .................max_features=2, n_estimators=5; total time=   0.0s\n",
            "[CV 5/5] END .................max_features=2, n_estimators=5; total time=   0.0s\n",
            "[CV 1/5] END ................max_features=2, n_estimators=10; total time=   0.0s\n",
            "[CV 2/5] END ................max_features=2, n_estimators=10; total time=   0.0s\n",
            "[CV 3/5] END ................max_features=2, n_estimators=10; total time=   0.0s\n",
            "[CV 4/5] END ................max_features=2, n_estimators=10; total time=   0.0s\n",
            "[CV 5/5] END ................max_features=2, n_estimators=10; total time=   0.0s\n",
            "[CV 1/5] END ................max_features=2, n_estimators=15; total time=   0.0s\n",
            "[CV 2/5] END ................max_features=2, n_estimators=15; total time=   0.0s\n",
            "[CV 3/5] END ................max_features=2, n_estimators=15; total time=   0.0s\n",
            "[CV 4/5] END ................max_features=2, n_estimators=15; total time=   0.0s\n",
            "[CV 5/5] END ................max_features=2, n_estimators=15; total time=   0.0s\n",
            "[CV 1/5] END ................max_features=2, n_estimators=20; total time=   0.0s\n",
            "[CV 2/5] END ................max_features=2, n_estimators=20; total time=   0.1s\n",
            "[CV 3/5] END ................max_features=2, n_estimators=20; total time=   0.0s\n",
            "[CV 4/5] END ................max_features=2, n_estimators=20; total time=   0.2s\n",
            "[CV 5/5] END ................max_features=2, n_estimators=20; total time=   0.1s\n",
            "[CV 1/5] END ................max_features=2, n_estimators=25; total time=   0.1s\n",
            "[CV 2/5] END ................max_features=2, n_estimators=25; total time=   0.0s\n",
            "[CV 3/5] END ................max_features=2, n_estimators=25; total time=   0.1s\n",
            "[CV 4/5] END ................max_features=2, n_estimators=25; total time=   0.0s\n",
            "[CV 5/5] END ................max_features=2, n_estimators=25; total time=   0.0s\n",
            "[CV 1/5] END ................max_features=2, n_estimators=30; total time=   0.1s\n",
            "[CV 2/5] END ................max_features=2, n_estimators=30; total time=   0.1s\n",
            "[CV 3/5] END ................max_features=2, n_estimators=30; total time=   0.1s\n",
            "[CV 4/5] END ................max_features=2, n_estimators=30; total time=   0.1s\n",
            "[CV 5/5] END ................max_features=2, n_estimators=30; total time=   0.0s\n",
            "[CV 1/5] END ................max_features=2, n_estimators=35; total time=   0.0s\n",
            "[CV 2/5] END ................max_features=2, n_estimators=35; total time=   0.0s\n",
            "[CV 3/5] END ................max_features=2, n_estimators=35; total time=   0.0s\n",
            "[CV 4/5] END ................max_features=2, n_estimators=35; total time=   0.0s\n",
            "[CV 5/5] END ................max_features=2, n_estimators=35; total time=   0.2s\n",
            "[CV 1/5] END ................max_features=2, n_estimators=40; total time=   0.3s\n",
            "[CV 2/5] END ................max_features=2, n_estimators=40; total time=   0.2s\n",
            "[CV 3/5] END ................max_features=2, n_estimators=40; total time=   0.2s\n",
            "[CV 4/5] END ................max_features=2, n_estimators=40; total time=   0.2s\n",
            "[CV 5/5] END ................max_features=2, n_estimators=40; total time=   0.1s\n",
            "[CV 1/5] END ................max_features=2, n_estimators=45; total time=   0.1s\n",
            "[CV 2/5] END ................max_features=2, n_estimators=45; total time=   0.1s\n",
            "[CV 3/5] END ................max_features=2, n_estimators=45; total time=   0.1s\n",
            "[CV 4/5] END ................max_features=2, n_estimators=45; total time=   0.2s\n",
            "[CV 5/5] END ................max_features=2, n_estimators=45; total time=   0.1s\n",
            "[CV 1/5] END ................max_features=2, n_estimators=50; total time=   0.1s\n",
            "[CV 2/5] END ................max_features=2, n_estimators=50; total time=   0.1s\n",
            "[CV 3/5] END ................max_features=2, n_estimators=50; total time=   0.2s\n",
            "[CV 4/5] END ................max_features=2, n_estimators=50; total time=   0.1s\n",
            "[CV 5/5] END ................max_features=2, n_estimators=50; total time=   0.1s\n",
            "[CV 1/5] END ................max_features=2, n_estimators=55; total time=   0.1s\n",
            "[CV 2/5] END ................max_features=2, n_estimators=55; total time=   0.2s\n",
            "[CV 3/5] END ................max_features=2, n_estimators=55; total time=   0.2s\n",
            "[CV 4/5] END ................max_features=2, n_estimators=55; total time=   0.1s\n",
            "[CV 5/5] END ................max_features=2, n_estimators=55; total time=   0.1s\n",
            "[CV 1/5] END ................max_features=2, n_estimators=60; total time=   0.1s\n",
            "[CV 2/5] END ................max_features=2, n_estimators=60; total time=   0.1s\n",
            "[CV 3/5] END ................max_features=2, n_estimators=60; total time=   0.1s\n",
            "[CV 4/5] END ................max_features=2, n_estimators=60; total time=   0.1s\n",
            "[CV 5/5] END ................max_features=2, n_estimators=60; total time=   0.1s\n",
            "[CV 1/5] END ................max_features=2, n_estimators=65; total time=   0.1s\n",
            "[CV 2/5] END ................max_features=2, n_estimators=65; total time=   0.1s\n",
            "[CV 3/5] END ................max_features=2, n_estimators=65; total time=   0.1s\n",
            "[CV 4/5] END ................max_features=2, n_estimators=65; total time=   0.1s\n",
            "[CV 5/5] END ................max_features=2, n_estimators=65; total time=   0.1s\n",
            "[CV 1/5] END ................max_features=2, n_estimators=70; total time=   0.1s\n",
            "[CV 2/5] END ................max_features=2, n_estimators=70; total time=   0.1s\n",
            "[CV 3/5] END ................max_features=2, n_estimators=70; total time=   0.2s\n",
            "[CV 4/5] END ................max_features=2, n_estimators=70; total time=   0.3s\n",
            "[CV 5/5] END ................max_features=2, n_estimators=70; total time=   0.2s\n",
            "[CV 1/5] END ................max_features=2, n_estimators=75; total time=   0.3s\n",
            "[CV 2/5] END ................max_features=2, n_estimators=75; total time=   0.2s\n",
            "[CV 3/5] END ................max_features=2, n_estimators=75; total time=   0.2s\n",
            "[CV 4/5] END ................max_features=2, n_estimators=75; total time=   0.2s\n",
            "[CV 5/5] END ................max_features=2, n_estimators=75; total time=   0.3s\n",
            "[CV 1/5] END ................max_features=2, n_estimators=80; total time=   0.2s\n",
            "[CV 2/5] END ................max_features=2, n_estimators=80; total time=   0.2s\n",
            "[CV 3/5] END ................max_features=2, n_estimators=80; total time=   0.1s\n",
            "[CV 4/5] END ................max_features=2, n_estimators=80; total time=   0.2s\n",
            "[CV 5/5] END ................max_features=2, n_estimators=80; total time=   0.1s\n",
            "[CV 1/5] END ................max_features=2, n_estimators=85; total time=   0.2s\n",
            "[CV 2/5] END ................max_features=2, n_estimators=85; total time=   0.2s\n",
            "[CV 3/5] END ................max_features=2, n_estimators=85; total time=   0.2s\n",
            "[CV 4/5] END ................max_features=2, n_estimators=85; total time=   0.2s\n",
            "[CV 5/5] END ................max_features=2, n_estimators=85; total time=   0.2s\n",
            "[CV 1/5] END ................max_features=2, n_estimators=90; total time=   0.2s\n",
            "[CV 2/5] END ................max_features=2, n_estimators=90; total time=   0.3s\n",
            "[CV 3/5] END ................max_features=2, n_estimators=90; total time=   0.3s\n",
            "[CV 4/5] END ................max_features=2, n_estimators=90; total time=   0.3s\n",
            "[CV 5/5] END ................max_features=2, n_estimators=90; total time=   0.3s\n",
            "[CV 1/5] END ................max_features=2, n_estimators=95; total time=   0.2s\n",
            "[CV 2/5] END ................max_features=2, n_estimators=95; total time=   0.3s\n",
            "[CV 3/5] END ................max_features=2, n_estimators=95; total time=   0.3s\n",
            "[CV 4/5] END ................max_features=2, n_estimators=95; total time=   0.2s\n",
            "[CV 5/5] END ................max_features=2, n_estimators=95; total time=   0.2s\n",
            "[CV 1/5] END ...............max_features=2, n_estimators=100; total time=   0.3s\n",
            "[CV 2/5] END ...............max_features=2, n_estimators=100; total time=   0.3s\n",
            "[CV 3/5] END ...............max_features=2, n_estimators=100; total time=   0.3s\n",
            "[CV 4/5] END ...............max_features=2, n_estimators=100; total time=   0.3s\n",
            "[CV 5/5] END ...............max_features=2, n_estimators=100; total time=   0.2s\n",
            "[CV 1/5] END .................max_features=3, n_estimators=5; total time=   0.0s\n",
            "[CV 2/5] END .................max_features=3, n_estimators=5; total time=   0.0s\n",
            "[CV 3/5] END .................max_features=3, n_estimators=5; total time=   0.0s\n",
            "[CV 4/5] END .................max_features=3, n_estimators=5; total time=   0.0s\n",
            "[CV 5/5] END .................max_features=3, n_estimators=5; total time=   0.0s\n",
            "[CV 1/5] END ................max_features=3, n_estimators=10; total time=   0.0s\n",
            "[CV 2/5] END ................max_features=3, n_estimators=10; total time=   0.0s\n",
            "[CV 3/5] END ................max_features=3, n_estimators=10; total time=   0.0s\n",
            "[CV 4/5] END ................max_features=3, n_estimators=10; total time=   0.0s\n",
            "[CV 5/5] END ................max_features=3, n_estimators=10; total time=   0.0s\n",
            "[CV 1/5] END ................max_features=3, n_estimators=15; total time=   0.0s\n",
            "[CV 2/5] END ................max_features=3, n_estimators=15; total time=   0.0s\n",
            "[CV 3/5] END ................max_features=3, n_estimators=15; total time=   0.0s\n",
            "[CV 4/5] END ................max_features=3, n_estimators=15; total time=   0.0s\n",
            "[CV 5/5] END ................max_features=3, n_estimators=15; total time=   0.0s\n",
            "[CV 1/5] END ................max_features=3, n_estimators=20; total time=   0.0s\n",
            "[CV 2/5] END ................max_features=3, n_estimators=20; total time=   0.0s\n",
            "[CV 3/5] END ................max_features=3, n_estimators=20; total time=   0.0s\n",
            "[CV 4/5] END ................max_features=3, n_estimators=20; total time=   0.0s\n",
            "[CV 5/5] END ................max_features=3, n_estimators=20; total time=   0.0s\n",
            "[CV 1/5] END ................max_features=3, n_estimators=25; total time=   0.1s\n",
            "[CV 2/5] END ................max_features=3, n_estimators=25; total time=   0.0s\n",
            "[CV 3/5] END ................max_features=3, n_estimators=25; total time=   0.0s\n",
            "[CV 4/5] END ................max_features=3, n_estimators=25; total time=   0.0s\n",
            "[CV 5/5] END ................max_features=3, n_estimators=25; total time=   0.0s\n",
            "[CV 1/5] END ................max_features=3, n_estimators=30; total time=   0.1s\n",
            "[CV 2/5] END ................max_features=3, n_estimators=30; total time=   0.1s\n",
            "[CV 3/5] END ................max_features=3, n_estimators=30; total time=   0.1s\n",
            "[CV 4/5] END ................max_features=3, n_estimators=30; total time=   0.1s\n",
            "[CV 5/5] END ................max_features=3, n_estimators=30; total time=   0.0s\n",
            "[CV 1/5] END ................max_features=3, n_estimators=35; total time=   0.1s\n",
            "[CV 2/5] END ................max_features=3, n_estimators=35; total time=   0.1s\n",
            "[CV 3/5] END ................max_features=3, n_estimators=35; total time=   0.1s\n",
            "[CV 4/5] END ................max_features=3, n_estimators=35; total time=   0.1s\n",
            "[CV 5/5] END ................max_features=3, n_estimators=35; total time=   0.0s\n",
            "[CV 1/5] END ................max_features=3, n_estimators=40; total time=   0.1s\n",
            "[CV 2/5] END ................max_features=3, n_estimators=40; total time=   0.1s\n",
            "[CV 3/5] END ................max_features=3, n_estimators=40; total time=   0.1s\n",
            "[CV 4/5] END ................max_features=3, n_estimators=40; total time=   0.1s\n",
            "[CV 5/5] END ................max_features=3, n_estimators=40; total time=   0.1s\n",
            "[CV 1/5] END ................max_features=3, n_estimators=45; total time=   0.1s\n",
            "[CV 2/5] END ................max_features=3, n_estimators=45; total time=   0.1s\n",
            "[CV 3/5] END ................max_features=3, n_estimators=45; total time=   0.1s\n",
            "[CV 4/5] END ................max_features=3, n_estimators=45; total time=   0.1s\n",
            "[CV 5/5] END ................max_features=3, n_estimators=45; total time=   0.1s\n",
            "[CV 1/5] END ................max_features=3, n_estimators=50; total time=   0.2s\n",
            "[CV 2/5] END ................max_features=3, n_estimators=50; total time=   0.2s\n",
            "[CV 3/5] END ................max_features=3, n_estimators=50; total time=   0.2s\n",
            "[CV 4/5] END ................max_features=3, n_estimators=50; total time=   0.3s\n",
            "[CV 5/5] END ................max_features=3, n_estimators=50; total time=   0.1s\n",
            "[CV 1/5] END ................max_features=3, n_estimators=55; total time=   0.1s\n",
            "[CV 2/5] END ................max_features=3, n_estimators=55; total time=   0.2s\n",
            "[CV 3/5] END ................max_features=3, n_estimators=55; total time=   0.2s\n",
            "[CV 4/5] END ................max_features=3, n_estimators=55; total time=   0.1s\n",
            "[CV 5/5] END ................max_features=3, n_estimators=55; total time=   0.1s\n",
            "[CV 1/5] END ................max_features=3, n_estimators=60; total time=   0.1s\n",
            "[CV 2/5] END ................max_features=3, n_estimators=60; total time=   0.1s\n",
            "[CV 3/5] END ................max_features=3, n_estimators=60; total time=   0.1s\n",
            "[CV 4/5] END ................max_features=3, n_estimators=60; total time=   0.1s\n",
            "[CV 5/5] END ................max_features=3, n_estimators=60; total time=   0.1s\n",
            "[CV 1/5] END ................max_features=3, n_estimators=65; total time=   0.1s\n",
            "[CV 2/5] END ................max_features=3, n_estimators=65; total time=   0.2s\n",
            "[CV 3/5] END ................max_features=3, n_estimators=65; total time=   0.1s\n",
            "[CV 4/5] END ................max_features=3, n_estimators=65; total time=   0.1s\n",
            "[CV 5/5] END ................max_features=3, n_estimators=65; total time=   0.1s\n",
            "[CV 1/5] END ................max_features=3, n_estimators=70; total time=   0.2s\n",
            "[CV 2/5] END ................max_features=3, n_estimators=70; total time=   0.2s\n",
            "[CV 3/5] END ................max_features=3, n_estimators=70; total time=   0.3s\n",
            "[CV 4/5] END ................max_features=3, n_estimators=70; total time=   0.2s\n",
            "[CV 5/5] END ................max_features=3, n_estimators=70; total time=   0.2s\n",
            "[CV 1/5] END ................max_features=3, n_estimators=75; total time=   0.2s\n",
            "[CV 2/5] END ................max_features=3, n_estimators=75; total time=   0.2s\n",
            "[CV 3/5] END ................max_features=3, n_estimators=75; total time=   0.3s\n",
            "[CV 4/5] END ................max_features=3, n_estimators=75; total time=   0.3s\n",
            "[CV 5/5] END ................max_features=3, n_estimators=75; total time=   0.3s\n",
            "[CV 1/5] END ................max_features=3, n_estimators=80; total time=   0.3s\n",
            "[CV 2/5] END ................max_features=3, n_estimators=80; total time=   0.2s\n",
            "[CV 3/5] END ................max_features=3, n_estimators=80; total time=   0.2s\n",
            "[CV 4/5] END ................max_features=3, n_estimators=80; total time=   0.2s\n",
            "[CV 5/5] END ................max_features=3, n_estimators=80; total time=   0.2s\n",
            "[CV 1/5] END ................max_features=3, n_estimators=85; total time=   0.2s\n",
            "[CV 2/5] END ................max_features=3, n_estimators=85; total time=   0.2s\n",
            "[CV 3/5] END ................max_features=3, n_estimators=85; total time=   0.2s\n",
            "[CV 4/5] END ................max_features=3, n_estimators=85; total time=   0.3s\n",
            "[CV 5/5] END ................max_features=3, n_estimators=85; total time=   0.3s\n",
            "[CV 1/5] END ................max_features=3, n_estimators=90; total time=   0.4s\n",
            "[CV 2/5] END ................max_features=3, n_estimators=90; total time=   0.3s\n",
            "[CV 3/5] END ................max_features=3, n_estimators=90; total time=   0.4s\n",
            "[CV 4/5] END ................max_features=3, n_estimators=90; total time=   0.4s\n",
            "[CV 5/5] END ................max_features=3, n_estimators=90; total time=   0.3s\n",
            "[CV 1/5] END ................max_features=3, n_estimators=95; total time=   0.3s\n",
            "[CV 2/5] END ................max_features=3, n_estimators=95; total time=   0.2s\n",
            "[CV 3/5] END ................max_features=3, n_estimators=95; total time=   0.3s\n",
            "[CV 4/5] END ................max_features=3, n_estimators=95; total time=   0.3s\n",
            "[CV 5/5] END ................max_features=3, n_estimators=95; total time=   0.3s\n",
            "[CV 1/5] END ...............max_features=3, n_estimators=100; total time=   0.4s\n",
            "[CV 2/5] END ...............max_features=3, n_estimators=100; total time=   0.5s\n",
            "[CV 3/5] END ...............max_features=3, n_estimators=100; total time=   0.5s\n",
            "[CV 4/5] END ...............max_features=3, n_estimators=100; total time=   0.4s\n",
            "[CV 5/5] END ...............max_features=3, n_estimators=100; total time=   0.6s\n",
            "[CV 1/5] END .................max_features=4, n_estimators=5; total time=   0.0s\n",
            "[CV 2/5] END .................max_features=4, n_estimators=5; total time=   0.0s\n",
            "[CV 3/5] END .................max_features=4, n_estimators=5; total time=   0.0s\n",
            "[CV 4/5] END .................max_features=4, n_estimators=5; total time=   0.0s\n",
            "[CV 5/5] END .................max_features=4, n_estimators=5; total time=   0.0s\n",
            "[CV 1/5] END ................max_features=4, n_estimators=10; total time=   0.0s\n",
            "[CV 2/5] END ................max_features=4, n_estimators=10; total time=   0.1s\n",
            "[CV 3/5] END ................max_features=4, n_estimators=10; total time=   0.0s\n",
            "[CV 4/5] END ................max_features=4, n_estimators=10; total time=   0.0s\n",
            "[CV 5/5] END ................max_features=4, n_estimators=10; total time=   0.0s\n",
            "[CV 1/5] END ................max_features=4, n_estimators=15; total time=   0.0s\n",
            "[CV 2/5] END ................max_features=4, n_estimators=15; total time=   0.0s\n",
            "[CV 3/5] END ................max_features=4, n_estimators=15; total time=   0.1s\n",
            "[CV 4/5] END ................max_features=4, n_estimators=15; total time=   0.1s\n",
            "[CV 5/5] END ................max_features=4, n_estimators=15; total time=   0.1s\n",
            "[CV 1/5] END ................max_features=4, n_estimators=20; total time=   0.1s\n",
            "[CV 2/5] END ................max_features=4, n_estimators=20; total time=   0.0s\n",
            "[CV 3/5] END ................max_features=4, n_estimators=20; total time=   0.0s\n",
            "[CV 4/5] END ................max_features=4, n_estimators=20; total time=   0.0s\n",
            "[CV 5/5] END ................max_features=4, n_estimators=20; total time=   0.0s\n",
            "[CV 1/5] END ................max_features=4, n_estimators=25; total time=   0.0s\n",
            "[CV 2/5] END ................max_features=4, n_estimators=25; total time=   0.1s\n",
            "[CV 3/5] END ................max_features=4, n_estimators=25; total time=   0.0s\n",
            "[CV 4/5] END ................max_features=4, n_estimators=25; total time=   0.0s\n",
            "[CV 5/5] END ................max_features=4, n_estimators=25; total time=   0.0s\n",
            "[CV 1/5] END ................max_features=4, n_estimators=30; total time=   0.0s\n",
            "[CV 2/5] END ................max_features=4, n_estimators=30; total time=   0.0s\n",
            "[CV 3/5] END ................max_features=4, n_estimators=30; total time=   0.0s\n",
            "[CV 4/5] END ................max_features=4, n_estimators=30; total time=   0.1s\n",
            "[CV 5/5] END ................max_features=4, n_estimators=30; total time=   0.1s\n",
            "[CV 1/5] END ................max_features=4, n_estimators=35; total time=   0.0s\n",
            "[CV 2/5] END ................max_features=4, n_estimators=35; total time=   0.0s\n",
            "[CV 3/5] END ................max_features=4, n_estimators=35; total time=   0.1s\n",
            "[CV 4/5] END ................max_features=4, n_estimators=35; total time=   0.1s\n",
            "[CV 5/5] END ................max_features=4, n_estimators=35; total time=   0.0s\n",
            "[CV 1/5] END ................max_features=4, n_estimators=40; total time=   0.1s\n",
            "[CV 2/5] END ................max_features=4, n_estimators=40; total time=   0.1s\n",
            "[CV 3/5] END ................max_features=4, n_estimators=40; total time=   0.1s\n",
            "[CV 4/5] END ................max_features=4, n_estimators=40; total time=   0.0s\n",
            "[CV 5/5] END ................max_features=4, n_estimators=40; total time=   0.1s\n",
            "[CV 1/5] END ................max_features=4, n_estimators=45; total time=   0.1s\n",
            "[CV 2/5] END ................max_features=4, n_estimators=45; total time=   0.1s\n",
            "[CV 3/5] END ................max_features=4, n_estimators=45; total time=   0.1s\n",
            "[CV 4/5] END ................max_features=4, n_estimators=45; total time=   0.1s\n",
            "[CV 5/5] END ................max_features=4, n_estimators=45; total time=   0.1s\n",
            "[CV 1/5] END ................max_features=4, n_estimators=50; total time=   0.1s\n",
            "[CV 2/5] END ................max_features=4, n_estimators=50; total time=   0.1s\n",
            "[CV 3/5] END ................max_features=4, n_estimators=50; total time=   0.1s\n",
            "[CV 4/5] END ................max_features=4, n_estimators=50; total time=   0.1s\n",
            "[CV 5/5] END ................max_features=4, n_estimators=50; total time=   0.1s\n",
            "[CV 1/5] END ................max_features=4, n_estimators=55; total time=   0.1s\n",
            "[CV 2/5] END ................max_features=4, n_estimators=55; total time=   0.1s\n",
            "[CV 3/5] END ................max_features=4, n_estimators=55; total time=   0.1s\n",
            "[CV 4/5] END ................max_features=4, n_estimators=55; total time=   0.1s\n",
            "[CV 5/5] END ................max_features=4, n_estimators=55; total time=   0.1s\n",
            "[CV 1/5] END ................max_features=4, n_estimators=60; total time=   0.1s\n",
            "[CV 2/5] END ................max_features=4, n_estimators=60; total time=   0.1s\n",
            "[CV 3/5] END ................max_features=4, n_estimators=60; total time=   0.2s\n",
            "[CV 4/5] END ................max_features=4, n_estimators=60; total time=   0.2s\n",
            "[CV 5/5] END ................max_features=4, n_estimators=60; total time=   0.1s\n",
            "[CV 1/5] END ................max_features=4, n_estimators=65; total time=   0.2s\n",
            "[CV 2/5] END ................max_features=4, n_estimators=65; total time=   0.2s\n",
            "[CV 3/5] END ................max_features=4, n_estimators=65; total time=   0.2s\n",
            "[CV 4/5] END ................max_features=4, n_estimators=65; total time=   0.1s\n",
            "[CV 5/5] END ................max_features=4, n_estimators=65; total time=   0.1s\n",
            "[CV 1/5] END ................max_features=4, n_estimators=70; total time=   0.3s\n",
            "[CV 2/5] END ................max_features=4, n_estimators=70; total time=   0.2s\n",
            "[CV 3/5] END ................max_features=4, n_estimators=70; total time=   0.2s\n",
            "[CV 4/5] END ................max_features=4, n_estimators=70; total time=   0.2s\n",
            "[CV 5/5] END ................max_features=4, n_estimators=70; total time=   0.1s\n",
            "[CV 1/5] END ................max_features=4, n_estimators=75; total time=   0.2s\n",
            "[CV 2/5] END ................max_features=4, n_estimators=75; total time=   0.2s\n",
            "[CV 3/5] END ................max_features=4, n_estimators=75; total time=   0.2s\n",
            "[CV 4/5] END ................max_features=4, n_estimators=75; total time=   0.2s\n",
            "[CV 5/5] END ................max_features=4, n_estimators=75; total time=   0.2s\n",
            "[CV 1/5] END ................max_features=4, n_estimators=80; total time=   0.2s\n",
            "[CV 2/5] END ................max_features=4, n_estimators=80; total time=   0.2s\n",
            "[CV 3/5] END ................max_features=4, n_estimators=80; total time=   0.3s\n",
            "[CV 4/5] END ................max_features=4, n_estimators=80; total time=   0.2s\n",
            "[CV 5/5] END ................max_features=4, n_estimators=80; total time=   0.3s\n",
            "[CV 1/5] END ................max_features=4, n_estimators=85; total time=   0.2s\n",
            "[CV 2/5] END ................max_features=4, n_estimators=85; total time=   0.2s\n",
            "[CV 3/5] END ................max_features=4, n_estimators=85; total time=   0.2s\n",
            "[CV 4/5] END ................max_features=4, n_estimators=85; total time=   0.3s\n",
            "[CV 5/5] END ................max_features=4, n_estimators=85; total time=   0.3s\n",
            "[CV 1/5] END ................max_features=4, n_estimators=90; total time=   0.2s\n",
            "[CV 2/5] END ................max_features=4, n_estimators=90; total time=   0.2s\n",
            "[CV 3/5] END ................max_features=4, n_estimators=90; total time=   0.3s\n",
            "[CV 4/5] END ................max_features=4, n_estimators=90; total time=   0.2s\n",
            "[CV 5/5] END ................max_features=4, n_estimators=90; total time=   0.2s\n",
            "[CV 1/5] END ................max_features=4, n_estimators=95; total time=   0.2s\n",
            "[CV 2/5] END ................max_features=4, n_estimators=95; total time=   0.3s\n",
            "[CV 3/5] END ................max_features=4, n_estimators=95; total time=   0.3s\n",
            "[CV 4/5] END ................max_features=4, n_estimators=95; total time=   0.3s\n",
            "[CV 5/5] END ................max_features=4, n_estimators=95; total time=   0.3s\n",
            "[CV 1/5] END ...............max_features=4, n_estimators=100; total time=   0.3s\n",
            "[CV 2/5] END ...............max_features=4, n_estimators=100; total time=   0.3s\n",
            "[CV 3/5] END ...............max_features=4, n_estimators=100; total time=   0.3s\n",
            "[CV 4/5] END ...............max_features=4, n_estimators=100; total time=   0.4s\n",
            "[CV 5/5] END ...............max_features=4, n_estimators=100; total time=   0.3s\n"
          ]
        },
        {
          "data": {
            "text/plain": [
              "GridSearchCV(cv=5, estimator=RandomForestClassifier(),\n",
              "             param_grid={'max_features': range(1, 5),\n",
              "                         'n_estimators': range(5, 101, 5)},\n",
              "             verbose=3)"
            ]
          },
          "execution_count": 623,
          "metadata": {},
          "output_type": "execute_result"
        }
      ],
      "source": [
        "m_gs1.fit(x_train, y_train)"
      ]
    },
    {
      "cell_type": "code",
      "execution_count": null,
      "metadata": {
        "id": "h98TQgJ5FyW5",
        "outputId": "c6426d02-c4b0-4d06-f428-9a5b41eaee94"
      },
      "outputs": [
        {
          "data": {
            "text/plain": [
              "({'max_features': 3, 'n_estimators': 65}, 0.9505309505309505)"
            ]
          },
          "execution_count": 624,
          "metadata": {},
          "output_type": "execute_result"
        }
      ],
      "source": [
        "m_gs1.best_params_, m_gs1.best_score_"
      ]
    },
    {
      "cell_type": "code",
      "execution_count": null,
      "metadata": {
        "id": "9sHDft7TFyW6",
        "outputId": "65e46054-8cb2-4dec-8b71-58ae3879e04c"
      },
      "outputs": [
        {
          "name": "stdout",
          "output_type": "stream",
          "text": [
            "              precision    recall  f1-score   support\n",
            "\n",
            "          -1       0.97      0.96      0.97       369\n",
            "           1       0.96      0.97      0.97       386\n",
            "\n",
            "    accuracy                           0.97       755\n",
            "   macro avg       0.97      0.97      0.97       755\n",
            "weighted avg       0.97      0.97      0.97       755\n",
            "\n"
          ]
        }
      ],
      "source": [
        "p1 = m_gs1.predict(x_val)\n",
        "print(classification_report(y_val, p1))"
      ]
    },
    {
      "cell_type": "code",
      "execution_count": null,
      "metadata": {
        "id": "0uWPLV_2FyW6"
      },
      "outputs": [],
      "source": []
    },
    {
      "cell_type": "markdown",
      "metadata": {
        "id": "c88IEK12FyW7"
      },
      "source": [
        "# XGB"
      ]
    },
    {
      "cell_type": "code",
      "execution_count": null,
      "metadata": {
        "id": "m0o4WU9XFyW7"
      },
      "outputs": [],
      "source": [
        "from xgboost import XGBClassifier, plot_tree\n",
        "from sklearn.metrics import * \n",
        "from sklearn.model_selection import RandomizedSearchCV, GridSearchCV"
      ]
    },
    {
      "cell_type": "code",
      "execution_count": null,
      "metadata": {
        "id": "o5THHYdVFyW8"
      },
      "outputs": [],
      "source": [
        "params = { 'max_depth':[3,5,8], 'n_estimators':[50,100,150], 'learning_rate':[0.01,0.1,0.2]}"
      ]
    },
    {
      "cell_type": "code",
      "execution_count": null,
      "metadata": {
        "id": "kR_9iJjkFyW9"
      },
      "outputs": [],
      "source": [
        "m = XGBClassifier()\n",
        "m_gs = GridSearchCV(m, params, cv = 5, verbose = 3)"
      ]
    },
    {
      "cell_type": "code",
      "execution_count": null,
      "metadata": {
        "collapsed": true,
        "jupyter": {
          "outputs_hidden": true
        },
        "tags": [],
        "id": "RMEQiVkGFyW-",
        "outputId": "a5053be4-473f-404e-e28a-8ba3e5aa37b1"
      },
      "outputs": [
        {
          "name": "stdout",
          "output_type": "stream",
          "text": [
            "Fitting 5 folds for each of 27 candidates, totalling 135 fits\n",
            "[CV 1/5] END learning_rate=0.01, max_depth=3, n_estimators=50; total time=   0.0s\n",
            "[CV 2/5] END learning_rate=0.01, max_depth=3, n_estimators=50; total time=   0.0s\n",
            "[CV 3/5] END learning_rate=0.01, max_depth=3, n_estimators=50; total time=   0.0s\n",
            "[CV 4/5] END learning_rate=0.01, max_depth=3, n_estimators=50; total time=   0.0s\n",
            "[CV 5/5] END learning_rate=0.01, max_depth=3, n_estimators=50; total time=   0.0s\n",
            "[CV 1/5] END learning_rate=0.01, max_depth=3, n_estimators=100; total time=   0.0s\n",
            "[CV 2/5] END learning_rate=0.01, max_depth=3, n_estimators=100; total time=   0.0s\n",
            "[CV 3/5] END learning_rate=0.01, max_depth=3, n_estimators=100; total time=   0.0s\n",
            "[CV 4/5] END learning_rate=0.01, max_depth=3, n_estimators=100; total time=   0.0s\n",
            "[CV 5/5] END learning_rate=0.01, max_depth=3, n_estimators=100; total time=   0.0s\n",
            "[CV 1/5] END learning_rate=0.01, max_depth=3, n_estimators=150; total time=   0.0s\n",
            "[CV 2/5] END learning_rate=0.01, max_depth=3, n_estimators=150; total time=   0.0s\n",
            "[CV 3/5] END learning_rate=0.01, max_depth=3, n_estimators=150; total time=   0.0s\n",
            "[CV 4/5] END learning_rate=0.01, max_depth=3, n_estimators=150; total time=   0.0s\n",
            "[CV 5/5] END learning_rate=0.01, max_depth=3, n_estimators=150; total time=   0.0s\n",
            "[CV 1/5] END learning_rate=0.01, max_depth=5, n_estimators=50; total time=   0.0s\n",
            "[CV 2/5] END learning_rate=0.01, max_depth=5, n_estimators=50; total time=   0.0s\n",
            "[CV 3/5] END learning_rate=0.01, max_depth=5, n_estimators=50; total time=   0.0s\n",
            "[CV 4/5] END learning_rate=0.01, max_depth=5, n_estimators=50; total time=   0.0s\n",
            "[CV 5/5] END learning_rate=0.01, max_depth=5, n_estimators=50; total time=   0.0s\n",
            "[CV 1/5] END learning_rate=0.01, max_depth=5, n_estimators=100; total time=   0.0s\n",
            "[CV 2/5] END learning_rate=0.01, max_depth=5, n_estimators=100; total time=   0.0s\n",
            "[CV 3/5] END learning_rate=0.01, max_depth=5, n_estimators=100; total time=   0.0s\n",
            "[CV 4/5] END learning_rate=0.01, max_depth=5, n_estimators=100; total time=   0.0s\n",
            "[CV 5/5] END learning_rate=0.01, max_depth=5, n_estimators=100; total time=   0.0s\n",
            "[CV 1/5] END learning_rate=0.01, max_depth=5, n_estimators=150; total time=   0.0s\n",
            "[CV 2/5] END learning_rate=0.01, max_depth=5, n_estimators=150; total time=   0.0s\n",
            "[CV 3/5] END learning_rate=0.01, max_depth=5, n_estimators=150; total time=   0.0s\n",
            "[CV 4/5] END learning_rate=0.01, max_depth=5, n_estimators=150; total time=   0.0s\n",
            "[CV 5/5] END learning_rate=0.01, max_depth=5, n_estimators=150; total time=   0.0s\n",
            "[CV 1/5] END learning_rate=0.01, max_depth=8, n_estimators=50; total time=   0.0s\n",
            "[CV 2/5] END learning_rate=0.01, max_depth=8, n_estimators=50; total time=   0.0s\n",
            "[CV 3/5] END learning_rate=0.01, max_depth=8, n_estimators=50; total time=   0.0s\n",
            "[CV 4/5] END learning_rate=0.01, max_depth=8, n_estimators=50; total time=   0.0s\n",
            "[CV 5/5] END learning_rate=0.01, max_depth=8, n_estimators=50; total time=   0.0s\n",
            "[CV 1/5] END learning_rate=0.01, max_depth=8, n_estimators=100; total time=   0.0s\n",
            "[CV 2/5] END learning_rate=0.01, max_depth=8, n_estimators=100; total time=   0.0s\n",
            "[CV 3/5] END learning_rate=0.01, max_depth=8, n_estimators=100; total time=   0.0s\n",
            "[CV 4/5] END learning_rate=0.01, max_depth=8, n_estimators=100; total time=   0.0s\n",
            "[CV 5/5] END learning_rate=0.01, max_depth=8, n_estimators=100; total time=   0.0s\n",
            "[CV 1/5] END learning_rate=0.01, max_depth=8, n_estimators=150; total time=   0.0s\n",
            "[CV 2/5] END learning_rate=0.01, max_depth=8, n_estimators=150; total time=   0.0s\n",
            "[CV 3/5] END learning_rate=0.01, max_depth=8, n_estimators=150; total time=   0.0s\n",
            "[CV 4/5] END learning_rate=0.01, max_depth=8, n_estimators=150; total time=   0.0s\n",
            "[CV 5/5] END learning_rate=0.01, max_depth=8, n_estimators=150; total time=   0.0s\n",
            "[CV 1/5] END learning_rate=0.1, max_depth=3, n_estimators=50; total time=   0.0s\n",
            "[CV 2/5] END learning_rate=0.1, max_depth=3, n_estimators=50; total time=   0.0s\n",
            "[CV 3/5] END learning_rate=0.1, max_depth=3, n_estimators=50; total time=   0.0s\n",
            "[CV 4/5] END learning_rate=0.1, max_depth=3, n_estimators=50; total time=   0.0s\n",
            "[CV 5/5] END learning_rate=0.1, max_depth=3, n_estimators=50; total time=   0.0s\n",
            "[CV 1/5] END learning_rate=0.1, max_depth=3, n_estimators=100; total time=   0.0s\n",
            "[CV 2/5] END learning_rate=0.1, max_depth=3, n_estimators=100; total time=   0.0s\n",
            "[CV 3/5] END learning_rate=0.1, max_depth=3, n_estimators=100; total time=   0.0s\n",
            "[CV 4/5] END learning_rate=0.1, max_depth=3, n_estimators=100; total time=   0.0s\n",
            "[CV 5/5] END learning_rate=0.1, max_depth=3, n_estimators=100; total time=   0.0s\n",
            "[CV 1/5] END learning_rate=0.1, max_depth=3, n_estimators=150; total time=   0.0s\n",
            "[CV 2/5] END learning_rate=0.1, max_depth=3, n_estimators=150; total time=   0.0s\n",
            "[CV 3/5] END learning_rate=0.1, max_depth=3, n_estimators=150; total time=   0.0s\n",
            "[CV 4/5] END learning_rate=0.1, max_depth=3, n_estimators=150; total time=   0.0s\n",
            "[CV 5/5] END learning_rate=0.1, max_depth=3, n_estimators=150; total time=   0.0s\n",
            "[CV 1/5] END learning_rate=0.1, max_depth=5, n_estimators=50; total time=   0.0s\n",
            "[CV 2/5] END learning_rate=0.1, max_depth=5, n_estimators=50; total time=   0.0s\n",
            "[CV 3/5] END learning_rate=0.1, max_depth=5, n_estimators=50; total time=   0.0s\n",
            "[CV 4/5] END learning_rate=0.1, max_depth=5, n_estimators=50; total time=   0.0s\n",
            "[CV 5/5] END learning_rate=0.1, max_depth=5, n_estimators=50; total time=   0.0s\n",
            "[CV 1/5] END learning_rate=0.1, max_depth=5, n_estimators=100; total time=   0.0s\n",
            "[CV 2/5] END learning_rate=0.1, max_depth=5, n_estimators=100; total time=   0.0s\n",
            "[CV 3/5] END learning_rate=0.1, max_depth=5, n_estimators=100; total time=   0.0s\n",
            "[CV 4/5] END learning_rate=0.1, max_depth=5, n_estimators=100; total time=   0.0s\n",
            "[CV 5/5] END learning_rate=0.1, max_depth=5, n_estimators=100; total time=   0.0s\n",
            "[CV 1/5] END learning_rate=0.1, max_depth=5, n_estimators=150; total time=   0.0s\n",
            "[CV 2/5] END learning_rate=0.1, max_depth=5, n_estimators=150; total time=   0.0s\n",
            "[CV 3/5] END learning_rate=0.1, max_depth=5, n_estimators=150; total time=   0.0s\n",
            "[CV 4/5] END learning_rate=0.1, max_depth=5, n_estimators=150; total time=   0.0s\n",
            "[CV 5/5] END learning_rate=0.1, max_depth=5, n_estimators=150; total time=   0.0s\n",
            "[CV 1/5] END learning_rate=0.1, max_depth=8, n_estimators=50; total time=   0.0s\n",
            "[CV 2/5] END learning_rate=0.1, max_depth=8, n_estimators=50; total time=   0.0s\n",
            "[CV 3/5] END learning_rate=0.1, max_depth=8, n_estimators=50; total time=   0.0s\n",
            "[CV 4/5] END learning_rate=0.1, max_depth=8, n_estimators=50; total time=   0.0s\n",
            "[CV 5/5] END learning_rate=0.1, max_depth=8, n_estimators=50; total time=   0.0s\n",
            "[CV 1/5] END learning_rate=0.1, max_depth=8, n_estimators=100; total time=   0.0s\n",
            "[CV 2/5] END learning_rate=0.1, max_depth=8, n_estimators=100; total time=   0.0s\n",
            "[CV 3/5] END learning_rate=0.1, max_depth=8, n_estimators=100; total time=   0.0s\n",
            "[CV 4/5] END learning_rate=0.1, max_depth=8, n_estimators=100; total time=   0.0s\n",
            "[CV 5/5] END learning_rate=0.1, max_depth=8, n_estimators=100; total time=   0.0s\n",
            "[CV 1/5] END learning_rate=0.1, max_depth=8, n_estimators=150; total time=   0.0s\n",
            "[CV 2/5] END learning_rate=0.1, max_depth=8, n_estimators=150; total time=   0.0s\n",
            "[CV 3/5] END learning_rate=0.1, max_depth=8, n_estimators=150; total time=   0.0s\n",
            "[CV 4/5] END learning_rate=0.1, max_depth=8, n_estimators=150; total time=   0.0s\n",
            "[CV 5/5] END learning_rate=0.1, max_depth=8, n_estimators=150; total time=   0.0s\n",
            "[CV 1/5] END learning_rate=0.2, max_depth=3, n_estimators=50; total time=   0.0s\n",
            "[CV 2/5] END learning_rate=0.2, max_depth=3, n_estimators=50; total time=   0.0s\n",
            "[CV 3/5] END learning_rate=0.2, max_depth=3, n_estimators=50; total time=   0.0s\n",
            "[CV 4/5] END learning_rate=0.2, max_depth=3, n_estimators=50; total time=   0.0s\n",
            "[CV 5/5] END learning_rate=0.2, max_depth=3, n_estimators=50; total time=   0.0s\n",
            "[CV 1/5] END learning_rate=0.2, max_depth=3, n_estimators=100; total time=   0.0s\n",
            "[CV 2/5] END learning_rate=0.2, max_depth=3, n_estimators=100; total time=   0.0s\n",
            "[CV 3/5] END learning_rate=0.2, max_depth=3, n_estimators=100; total time=   0.0s\n",
            "[CV 4/5] END learning_rate=0.2, max_depth=3, n_estimators=100; total time=   0.0s\n",
            "[CV 5/5] END learning_rate=0.2, max_depth=3, n_estimators=100; total time=   0.0s\n",
            "[CV 1/5] END learning_rate=0.2, max_depth=3, n_estimators=150; total time=   0.0s\n",
            "[CV 2/5] END learning_rate=0.2, max_depth=3, n_estimators=150; total time=   0.0s\n",
            "[CV 3/5] END learning_rate=0.2, max_depth=3, n_estimators=150; total time=   0.0s\n",
            "[CV 4/5] END learning_rate=0.2, max_depth=3, n_estimators=150; total time=   0.0s\n",
            "[CV 5/5] END learning_rate=0.2, max_depth=3, n_estimators=150; total time=   0.0s\n",
            "[CV 1/5] END learning_rate=0.2, max_depth=5, n_estimators=50; total time=   0.0s\n",
            "[CV 2/5] END learning_rate=0.2, max_depth=5, n_estimators=50; total time=   0.0s\n",
            "[CV 3/5] END learning_rate=0.2, max_depth=5, n_estimators=50; total time=   0.0s\n",
            "[CV 4/5] END learning_rate=0.2, max_depth=5, n_estimators=50; total time=   0.0s\n",
            "[CV 5/5] END learning_rate=0.2, max_depth=5, n_estimators=50; total time=   0.0s\n",
            "[CV 1/5] END learning_rate=0.2, max_depth=5, n_estimators=100; total time=   0.0s\n",
            "[CV 2/5] END learning_rate=0.2, max_depth=5, n_estimators=100; total time=   0.0s\n",
            "[CV 3/5] END learning_rate=0.2, max_depth=5, n_estimators=100; total time=   0.0s\n",
            "[CV 4/5] END learning_rate=0.2, max_depth=5, n_estimators=100; total time=   0.0s\n",
            "[CV 5/5] END learning_rate=0.2, max_depth=5, n_estimators=100; total time=   0.0s\n",
            "[CV 1/5] END learning_rate=0.2, max_depth=5, n_estimators=150; total time=   0.0s\n",
            "[CV 2/5] END learning_rate=0.2, max_depth=5, n_estimators=150; total time=   0.0s\n",
            "[CV 3/5] END learning_rate=0.2, max_depth=5, n_estimators=150; total time=   0.0s\n",
            "[CV 4/5] END learning_rate=0.2, max_depth=5, n_estimators=150; total time=   0.0s\n",
            "[CV 5/5] END learning_rate=0.2, max_depth=5, n_estimators=150; total time=   0.0s\n",
            "[CV 1/5] END learning_rate=0.2, max_depth=8, n_estimators=50; total time=   0.0s\n",
            "[CV 2/5] END learning_rate=0.2, max_depth=8, n_estimators=50; total time=   0.0s\n",
            "[CV 3/5] END learning_rate=0.2, max_depth=8, n_estimators=50; total time=   0.0s\n",
            "[CV 4/5] END learning_rate=0.2, max_depth=8, n_estimators=50; total time=   0.0s\n",
            "[CV 5/5] END learning_rate=0.2, max_depth=8, n_estimators=50; total time=   0.0s\n",
            "[CV 1/5] END learning_rate=0.2, max_depth=8, n_estimators=100; total time=   0.0s\n",
            "[CV 2/5] END learning_rate=0.2, max_depth=8, n_estimators=100; total time=   0.0s\n",
            "[CV 3/5] END learning_rate=0.2, max_depth=8, n_estimators=100; total time=   0.0s\n",
            "[CV 4/5] END learning_rate=0.2, max_depth=8, n_estimators=100; total time=   0.0s\n",
            "[CV 5/5] END learning_rate=0.2, max_depth=8, n_estimators=100; total time=   0.0s\n",
            "[CV 1/5] END learning_rate=0.2, max_depth=8, n_estimators=150; total time=   0.0s\n",
            "[CV 2/5] END learning_rate=0.2, max_depth=8, n_estimators=150; total time=   0.0s\n",
            "[CV 3/5] END learning_rate=0.2, max_depth=8, n_estimators=150; total time=   0.0s\n",
            "[CV 4/5] END learning_rate=0.2, max_depth=8, n_estimators=150; total time=   0.0s\n",
            "[CV 5/5] END learning_rate=0.2, max_depth=8, n_estimators=150; total time=   0.0s\n"
          ]
        },
        {
          "ename": "ValueError",
          "evalue": "Invalid classes inferred from unique values of `y`.  Expected: [0 1], got [-1  1]",
          "output_type": "error",
          "traceback": [
            "\u001b[1;31m---------------------------------------------------------------------------\u001b[0m",
            "\u001b[1;31mValueError\u001b[0m                                Traceback (most recent call last)",
            "\u001b[1;32m<ipython-input-108-50437877ba01>\u001b[0m in \u001b[0;36m<module>\u001b[1;34m\u001b[0m\n\u001b[1;32m----> 1\u001b[1;33m \u001b[0mm_gs\u001b[0m\u001b[1;33m.\u001b[0m\u001b[0mfit\u001b[0m\u001b[1;33m(\u001b[0m\u001b[0mx_train\u001b[0m\u001b[1;33m,\u001b[0m \u001b[0my_train\u001b[0m\u001b[1;33m)\u001b[0m\u001b[1;33m\u001b[0m\u001b[1;33m\u001b[0m\u001b[0m\n\u001b[0m",
            "\u001b[1;32m~\\anaconda3\\lib\\site-packages\\sklearn\\utils\\validation.py\u001b[0m in \u001b[0;36minner_f\u001b[1;34m(*args, **kwargs)\u001b[0m\n\u001b[0;32m     61\u001b[0m             \u001b[0mextra_args\u001b[0m \u001b[1;33m=\u001b[0m \u001b[0mlen\u001b[0m\u001b[1;33m(\u001b[0m\u001b[0margs\u001b[0m\u001b[1;33m)\u001b[0m \u001b[1;33m-\u001b[0m \u001b[0mlen\u001b[0m\u001b[1;33m(\u001b[0m\u001b[0mall_args\u001b[0m\u001b[1;33m)\u001b[0m\u001b[1;33m\u001b[0m\u001b[1;33m\u001b[0m\u001b[0m\n\u001b[0;32m     62\u001b[0m             \u001b[1;32mif\u001b[0m \u001b[0mextra_args\u001b[0m \u001b[1;33m<=\u001b[0m \u001b[1;36m0\u001b[0m\u001b[1;33m:\u001b[0m\u001b[1;33m\u001b[0m\u001b[1;33m\u001b[0m\u001b[0m\n\u001b[1;32m---> 63\u001b[1;33m                 \u001b[1;32mreturn\u001b[0m \u001b[0mf\u001b[0m\u001b[1;33m(\u001b[0m\u001b[1;33m*\u001b[0m\u001b[0margs\u001b[0m\u001b[1;33m,\u001b[0m \u001b[1;33m**\u001b[0m\u001b[0mkwargs\u001b[0m\u001b[1;33m)\u001b[0m\u001b[1;33m\u001b[0m\u001b[1;33m\u001b[0m\u001b[0m\n\u001b[0m\u001b[0;32m     64\u001b[0m \u001b[1;33m\u001b[0m\u001b[0m\n\u001b[0;32m     65\u001b[0m             \u001b[1;31m# extra_args > 0\u001b[0m\u001b[1;33m\u001b[0m\u001b[1;33m\u001b[0m\u001b[1;33m\u001b[0m\u001b[0m\n",
            "\u001b[1;32m~\\anaconda3\\lib\\site-packages\\sklearn\\model_selection\\_search.py\u001b[0m in \u001b[0;36mfit\u001b[1;34m(self, X, y, groups, **fit_params)\u001b[0m\n\u001b[0;32m    878\u001b[0m             \u001b[0mrefit_start_time\u001b[0m \u001b[1;33m=\u001b[0m \u001b[0mtime\u001b[0m\u001b[1;33m.\u001b[0m\u001b[0mtime\u001b[0m\u001b[1;33m(\u001b[0m\u001b[1;33m)\u001b[0m\u001b[1;33m\u001b[0m\u001b[1;33m\u001b[0m\u001b[0m\n\u001b[0;32m    879\u001b[0m             \u001b[1;32mif\u001b[0m \u001b[0my\u001b[0m \u001b[1;32mis\u001b[0m \u001b[1;32mnot\u001b[0m \u001b[1;32mNone\u001b[0m\u001b[1;33m:\u001b[0m\u001b[1;33m\u001b[0m\u001b[1;33m\u001b[0m\u001b[0m\n\u001b[1;32m--> 880\u001b[1;33m                 \u001b[0mself\u001b[0m\u001b[1;33m.\u001b[0m\u001b[0mbest_estimator_\u001b[0m\u001b[1;33m.\u001b[0m\u001b[0mfit\u001b[0m\u001b[1;33m(\u001b[0m\u001b[0mX\u001b[0m\u001b[1;33m,\u001b[0m \u001b[0my\u001b[0m\u001b[1;33m,\u001b[0m \u001b[1;33m**\u001b[0m\u001b[0mfit_params\u001b[0m\u001b[1;33m)\u001b[0m\u001b[1;33m\u001b[0m\u001b[1;33m\u001b[0m\u001b[0m\n\u001b[0m\u001b[0;32m    881\u001b[0m             \u001b[1;32melse\u001b[0m\u001b[1;33m:\u001b[0m\u001b[1;33m\u001b[0m\u001b[1;33m\u001b[0m\u001b[0m\n\u001b[0;32m    882\u001b[0m                 \u001b[0mself\u001b[0m\u001b[1;33m.\u001b[0m\u001b[0mbest_estimator_\u001b[0m\u001b[1;33m.\u001b[0m\u001b[0mfit\u001b[0m\u001b[1;33m(\u001b[0m\u001b[0mX\u001b[0m\u001b[1;33m,\u001b[0m \u001b[1;33m**\u001b[0m\u001b[0mfit_params\u001b[0m\u001b[1;33m)\u001b[0m\u001b[1;33m\u001b[0m\u001b[1;33m\u001b[0m\u001b[0m\n",
            "\u001b[1;32m~\\anaconda3\\lib\\site-packages\\xgboost\\core.py\u001b[0m in \u001b[0;36minner_f\u001b[1;34m(*args, **kwargs)\u001b[0m\n\u001b[0;32m    573\u001b[0m         \u001b[1;32mfor\u001b[0m \u001b[0mk\u001b[0m\u001b[1;33m,\u001b[0m \u001b[0marg\u001b[0m \u001b[1;32min\u001b[0m \u001b[0mzip\u001b[0m\u001b[1;33m(\u001b[0m\u001b[0msig\u001b[0m\u001b[1;33m.\u001b[0m\u001b[0mparameters\u001b[0m\u001b[1;33m,\u001b[0m \u001b[0margs\u001b[0m\u001b[1;33m)\u001b[0m\u001b[1;33m:\u001b[0m\u001b[1;33m\u001b[0m\u001b[1;33m\u001b[0m\u001b[0m\n\u001b[0;32m    574\u001b[0m             \u001b[0mkwargs\u001b[0m\u001b[1;33m[\u001b[0m\u001b[0mk\u001b[0m\u001b[1;33m]\u001b[0m \u001b[1;33m=\u001b[0m \u001b[0marg\u001b[0m\u001b[1;33m\u001b[0m\u001b[1;33m\u001b[0m\u001b[0m\n\u001b[1;32m--> 575\u001b[1;33m         \u001b[1;32mreturn\u001b[0m \u001b[0mf\u001b[0m\u001b[1;33m(\u001b[0m\u001b[1;33m**\u001b[0m\u001b[0mkwargs\u001b[0m\u001b[1;33m)\u001b[0m\u001b[1;33m\u001b[0m\u001b[1;33m\u001b[0m\u001b[0m\n\u001b[0m\u001b[0;32m    576\u001b[0m \u001b[1;33m\u001b[0m\u001b[0m\n\u001b[0;32m    577\u001b[0m     \u001b[1;32mreturn\u001b[0m \u001b[0minner_f\u001b[0m\u001b[1;33m\u001b[0m\u001b[1;33m\u001b[0m\u001b[0m\n",
            "\u001b[1;32m~\\anaconda3\\lib\\site-packages\\xgboost\\sklearn.py\u001b[0m in \u001b[0;36mfit\u001b[1;34m(self, X, y, sample_weight, base_margin, eval_set, eval_metric, early_stopping_rounds, verbose, xgb_model, sample_weight_eval_set, base_margin_eval_set, feature_weights, callbacks)\u001b[0m\n\u001b[0;32m   1355\u001b[0m             \u001b[1;32mor\u001b[0m \u001b[1;32mnot\u001b[0m \u001b[1;33m(\u001b[0m\u001b[0mself\u001b[0m\u001b[1;33m.\u001b[0m\u001b[0mclasses_\u001b[0m \u001b[1;33m==\u001b[0m \u001b[0mexpected_classes\u001b[0m\u001b[1;33m)\u001b[0m\u001b[1;33m.\u001b[0m\u001b[0mall\u001b[0m\u001b[1;33m(\u001b[0m\u001b[1;33m)\u001b[0m\u001b[1;33m\u001b[0m\u001b[1;33m\u001b[0m\u001b[0m\n\u001b[0;32m   1356\u001b[0m         ):\n\u001b[1;32m-> 1357\u001b[1;33m             raise ValueError(\n\u001b[0m\u001b[0;32m   1358\u001b[0m                 \u001b[1;34mf\"Invalid classes inferred from unique values of `y`.  \"\u001b[0m\u001b[1;33m\u001b[0m\u001b[1;33m\u001b[0m\u001b[0m\n\u001b[0;32m   1359\u001b[0m                 \u001b[1;34mf\"Expected: {expected_classes}, got {self.classes_}\"\u001b[0m\u001b[1;33m\u001b[0m\u001b[1;33m\u001b[0m\u001b[0m\n",
            "\u001b[1;31mValueError\u001b[0m: Invalid classes inferred from unique values of `y`.  Expected: [0 1], got [-1  1]"
          ]
        }
      ],
      "source": [
        "m_gs.fit(x_train, y_train)"
      ]
    },
    {
      "cell_type": "code",
      "execution_count": null,
      "metadata": {
        "id": "3YVhMh8AFyXE"
      },
      "outputs": [],
      "source": [
        "m_gs.best_params_"
      ]
    },
    {
      "cell_type": "code",
      "execution_count": null,
      "metadata": {
        "id": "lg0XjqzqFyXF"
      },
      "outputs": [],
      "source": [
        "m_gs.best_score_"
      ]
    },
    {
      "cell_type": "code",
      "execution_count": null,
      "metadata": {
        "id": "bWT03dDZFyXF"
      },
      "outputs": [],
      "source": [
        "pred = m_gs.predict(x_val)\n",
        "print(confusion_matrix(y_val, pred))\n",
        "print(classification_report(y_val, pred))"
      ]
    },
    {
      "cell_type": "code",
      "execution_count": null,
      "metadata": {
        "id": "PfxmouLPFyXG"
      },
      "outputs": [],
      "source": [
        "r = plot_feature_importance(m_gs.best_estimator_.feature_importances_, list(x_train))"
      ]
    },
    {
      "cell_type": "code",
      "execution_count": null,
      "metadata": {
        "id": "QtzKAEI-FyXG"
      },
      "outputs": [],
      "source": []
    },
    {
      "cell_type": "code",
      "execution_count": null,
      "metadata": {
        "id": "GaYPFdgTFyXH"
      },
      "outputs": [],
      "source": []
    },
    {
      "cell_type": "code",
      "execution_count": null,
      "metadata": {
        "id": "NJFQHtg6FyXI"
      },
      "outputs": [],
      "source": []
    },
    {
      "cell_type": "code",
      "execution_count": null,
      "metadata": {
        "id": "nKG95nh9FyXJ"
      },
      "outputs": [],
      "source": []
    },
    {
      "cell_type": "code",
      "execution_count": null,
      "metadata": {
        "id": "R1Twb5mIFyXJ",
        "outputId": "6d42449a-834a-4ea3-a437-ccd90aea63f8"
      },
      "outputs": [
        {
          "data": {
            "text/plain": [
              "0       1\n",
              "1       1\n",
              "2       1\n",
              "3      -1\n",
              "4      -1\n",
              "       ..\n",
              "2436    1\n",
              "2437   -1\n",
              "2438    1\n",
              "2439   -1\n",
              "2440    1\n",
              "Length: 2441, dtype: int64"
            ]
          },
          "execution_count": 205,
          "metadata": {},
          "output_type": "execute_result"
        }
      ],
      "source": [
        "expected = pd.Series(p1)\n",
        "expected"
      ]
    },
    {
      "cell_type": "code",
      "execution_count": null,
      "metadata": {
        "id": "dzXwe6TDFyXK",
        "outputId": "45c24972-65fd-44eb-ebb9-5bb02128caf3"
      },
      "outputs": [
        {
          "data": {
            "text/plain": [
              "(2441,)"
            ]
          },
          "execution_count": 206,
          "metadata": {},
          "output_type": "execute_result"
        }
      ],
      "source": [
        "expected.shape"
      ]
    },
    {
      "cell_type": "code",
      "execution_count": null,
      "metadata": {
        "tags": [],
        "id": "SHHUrRKCFyXK",
        "outputId": "ab9618e1-2466-43b3-a4ba-dab2778a7e61"
      },
      "outputs": [
        {
          "data": {
            "text/plain": [
              "0          0\n",
              "1          1\n",
              "2          2\n",
              "3          3\n",
              "4          4\n",
              "        ... \n",
              "2436    2436\n",
              "2437    2437\n",
              "2438    2438\n",
              "2439    2439\n",
              "2440    2440\n",
              "Length: 2441, dtype: int64"
            ]
          },
          "execution_count": 208,
          "metadata": {},
          "output_type": "execute_result"
        }
      ],
      "source": [
        "id_ = pd.Series(list(range(0,2441)))\n",
        "id_"
      ]
    },
    {
      "cell_type": "code",
      "execution_count": null,
      "metadata": {
        "collapsed": true,
        "jupyter": {
          "outputs_hidden": true
        },
        "tags": [],
        "id": "o7gO9lyrFyXL",
        "outputId": "4bbaa6b2-76b0-4b0c-cb00-a9147df81933"
      },
      "outputs": [
        {
          "data": {
            "text/html": [
              "<div>\n",
              "<style scoped>\n",
              "    .dataframe tbody tr th:only-of-type {\n",
              "        vertical-align: middle;\n",
              "    }\n",
              "\n",
              "    .dataframe tbody tr th {\n",
              "        vertical-align: top;\n",
              "    }\n",
              "\n",
              "    .dataframe thead th {\n",
              "        text-align: right;\n",
              "    }\n",
              "</style>\n",
              "<table border=\"1\" class=\"dataframe\">\n",
              "  <thead>\n",
              "    <tr style=\"text-align: right;\">\n",
              "      <th></th>\n",
              "      <th>0</th>\n",
              "    </tr>\n",
              "  </thead>\n",
              "  <tbody>\n",
              "    <tr>\n",
              "      <th>0</th>\n",
              "      <td>0</td>\n",
              "    </tr>\n",
              "    <tr>\n",
              "      <th>1</th>\n",
              "      <td>1</td>\n",
              "    </tr>\n",
              "    <tr>\n",
              "      <th>2</th>\n",
              "      <td>2</td>\n",
              "    </tr>\n",
              "    <tr>\n",
              "      <th>3</th>\n",
              "      <td>3</td>\n",
              "    </tr>\n",
              "    <tr>\n",
              "      <th>4</th>\n",
              "      <td>4</td>\n",
              "    </tr>\n",
              "    <tr>\n",
              "      <th>...</th>\n",
              "      <td>...</td>\n",
              "    </tr>\n",
              "    <tr>\n",
              "      <th>2436</th>\n",
              "      <td>2436</td>\n",
              "    </tr>\n",
              "    <tr>\n",
              "      <th>2437</th>\n",
              "      <td>2437</td>\n",
              "    </tr>\n",
              "    <tr>\n",
              "      <th>2438</th>\n",
              "      <td>2438</td>\n",
              "    </tr>\n",
              "    <tr>\n",
              "      <th>2439</th>\n",
              "      <td>2439</td>\n",
              "    </tr>\n",
              "    <tr>\n",
              "      <th>2440</th>\n",
              "      <td>2440</td>\n",
              "    </tr>\n",
              "  </tbody>\n",
              "</table>\n",
              "<p>2441 rows × 1 columns</p>\n",
              "</div>"
            ],
            "text/plain": [
              "         0\n",
              "0        0\n",
              "1        1\n",
              "2        2\n",
              "3        3\n",
              "4        4\n",
              "...    ...\n",
              "2436  2436\n",
              "2437  2437\n",
              "2438  2438\n",
              "2439  2439\n",
              "2440  2440\n",
              "\n",
              "[2441 rows x 1 columns]"
            ]
          },
          "execution_count": 209,
          "metadata": {},
          "output_type": "execute_result"
        }
      ],
      "source": [
        "pd.DataFrame(id_)"
      ]
    },
    {
      "cell_type": "code",
      "execution_count": null,
      "metadata": {
        "collapsed": true,
        "jupyter": {
          "outputs_hidden": true
        },
        "tags": [],
        "id": "756Wc5fOFyXL",
        "outputId": "3ed806c8-813e-4c67-cdf8-18f60542ae92"
      },
      "outputs": [
        {
          "data": {
            "text/html": [
              "<div>\n",
              "<style scoped>\n",
              "    .dataframe tbody tr th:only-of-type {\n",
              "        vertical-align: middle;\n",
              "    }\n",
              "\n",
              "    .dataframe tbody tr th {\n",
              "        vertical-align: top;\n",
              "    }\n",
              "\n",
              "    .dataframe thead th {\n",
              "        text-align: right;\n",
              "    }\n",
              "</style>\n",
              "<table border=\"1\" class=\"dataframe\">\n",
              "  <thead>\n",
              "    <tr style=\"text-align: right;\">\n",
              "      <th></th>\n",
              "      <th>0</th>\n",
              "    </tr>\n",
              "  </thead>\n",
              "  <tbody>\n",
              "    <tr>\n",
              "      <th>0</th>\n",
              "      <td>1</td>\n",
              "    </tr>\n",
              "    <tr>\n",
              "      <th>1</th>\n",
              "      <td>1</td>\n",
              "    </tr>\n",
              "    <tr>\n",
              "      <th>2</th>\n",
              "      <td>1</td>\n",
              "    </tr>\n",
              "    <tr>\n",
              "      <th>3</th>\n",
              "      <td>-1</td>\n",
              "    </tr>\n",
              "    <tr>\n",
              "      <th>4</th>\n",
              "      <td>-1</td>\n",
              "    </tr>\n",
              "    <tr>\n",
              "      <th>...</th>\n",
              "      <td>...</td>\n",
              "    </tr>\n",
              "    <tr>\n",
              "      <th>2436</th>\n",
              "      <td>1</td>\n",
              "    </tr>\n",
              "    <tr>\n",
              "      <th>2437</th>\n",
              "      <td>-1</td>\n",
              "    </tr>\n",
              "    <tr>\n",
              "      <th>2438</th>\n",
              "      <td>1</td>\n",
              "    </tr>\n",
              "    <tr>\n",
              "      <th>2439</th>\n",
              "      <td>-1</td>\n",
              "    </tr>\n",
              "    <tr>\n",
              "      <th>2440</th>\n",
              "      <td>1</td>\n",
              "    </tr>\n",
              "  </tbody>\n",
              "</table>\n",
              "<p>2441 rows × 1 columns</p>\n",
              "</div>"
            ],
            "text/plain": [
              "      0\n",
              "0     1\n",
              "1     1\n",
              "2     1\n",
              "3    -1\n",
              "4    -1\n",
              "...  ..\n",
              "2436  1\n",
              "2437 -1\n",
              "2438  1\n",
              "2439 -1\n",
              "2440  1\n",
              "\n",
              "[2441 rows x 1 columns]"
            ]
          },
          "execution_count": 210,
          "metadata": {},
          "output_type": "execute_result"
        }
      ],
      "source": [
        "pd.DataFrame(expected)"
      ]
    },
    {
      "cell_type": "code",
      "execution_count": null,
      "metadata": {
        "id": "txuSceN-FyXM"
      },
      "outputs": [],
      "source": [
        "test_modeling=pd.concat([id_,expected])"
      ]
    },
    {
      "cell_type": "code",
      "execution_count": null,
      "metadata": {
        "id": "p_3mIamBFyXN"
      },
      "outputs": [],
      "source": [
        "expected = list(expected)"
      ]
    },
    {
      "cell_type": "code",
      "execution_count": null,
      "metadata": {
        "id": "ohzNgwULFyXN"
      },
      "outputs": [],
      "source": [
        "id_ = list(range(0,2441))\n"
      ]
    },
    {
      "cell_type": "code",
      "execution_count": null,
      "metadata": {
        "id": "6J2_1JKgFyXO",
        "outputId": "1a6bee0f-ab53-4c7d-bee8-3602d1bc8a16"
      },
      "outputs": [
        {
          "data": {
            "text/html": [
              "<div>\n",
              "<style scoped>\n",
              "    .dataframe tbody tr th:only-of-type {\n",
              "        vertical-align: middle;\n",
              "    }\n",
              "\n",
              "    .dataframe tbody tr th {\n",
              "        vertical-align: top;\n",
              "    }\n",
              "\n",
              "    .dataframe thead th {\n",
              "        text-align: right;\n",
              "    }\n",
              "</style>\n",
              "<table border=\"1\" class=\"dataframe\">\n",
              "  <thead>\n",
              "    <tr style=\"text-align: right;\">\n",
              "      <th></th>\n",
              "      <th>id</th>\n",
              "      <th>expected</th>\n",
              "    </tr>\n",
              "  </thead>\n",
              "  <tbody>\n",
              "    <tr>\n",
              "      <th>0</th>\n",
              "      <td>0</td>\n",
              "      <td>1</td>\n",
              "    </tr>\n",
              "    <tr>\n",
              "      <th>1</th>\n",
              "      <td>1</td>\n",
              "      <td>1</td>\n",
              "    </tr>\n",
              "    <tr>\n",
              "      <th>2</th>\n",
              "      <td>2</td>\n",
              "      <td>1</td>\n",
              "    </tr>\n",
              "    <tr>\n",
              "      <th>3</th>\n",
              "      <td>3</td>\n",
              "      <td>-1</td>\n",
              "    </tr>\n",
              "    <tr>\n",
              "      <th>4</th>\n",
              "      <td>4</td>\n",
              "      <td>-1</td>\n",
              "    </tr>\n",
              "    <tr>\n",
              "      <th>...</th>\n",
              "      <td>...</td>\n",
              "      <td>...</td>\n",
              "    </tr>\n",
              "    <tr>\n",
              "      <th>2436</th>\n",
              "      <td>2436</td>\n",
              "      <td>1</td>\n",
              "    </tr>\n",
              "    <tr>\n",
              "      <th>2437</th>\n",
              "      <td>2437</td>\n",
              "      <td>-1</td>\n",
              "    </tr>\n",
              "    <tr>\n",
              "      <th>2438</th>\n",
              "      <td>2438</td>\n",
              "      <td>1</td>\n",
              "    </tr>\n",
              "    <tr>\n",
              "      <th>2439</th>\n",
              "      <td>2439</td>\n",
              "      <td>-1</td>\n",
              "    </tr>\n",
              "    <tr>\n",
              "      <th>2440</th>\n",
              "      <td>2440</td>\n",
              "      <td>1</td>\n",
              "    </tr>\n",
              "  </tbody>\n",
              "</table>\n",
              "<p>2441 rows × 2 columns</p>\n",
              "</div>"
            ],
            "text/plain": [
              "        id  expected\n",
              "0        0         1\n",
              "1        1         1\n",
              "2        2         1\n",
              "3        3        -1\n",
              "4        4        -1\n",
              "...    ...       ...\n",
              "2436  2436         1\n",
              "2437  2437        -1\n",
              "2438  2438         1\n",
              "2439  2439        -1\n",
              "2440  2440         1\n",
              "\n",
              "[2441 rows x 2 columns]"
            ]
          },
          "execution_count": 218,
          "metadata": {},
          "output_type": "execute_result"
        }
      ],
      "source": [
        "df2 = pd.DataFrame({\n",
        "    'id':id_,\n",
        "    'expected':expected\n",
        "}, columns=['id','expected'])\n",
        "df2"
      ]
    },
    {
      "cell_type": "code",
      "execution_count": null,
      "metadata": {
        "id": "JCso6DW6FyXO"
      },
      "outputs": [],
      "source": []
    },
    {
      "cell_type": "code",
      "execution_count": null,
      "metadata": {
        "id": "PHaruPo_FyXQ"
      },
      "outputs": [],
      "source": []
    },
    {
      "cell_type": "code",
      "execution_count": null,
      "metadata": {
        "id": "lzG7Y0rpFyXR"
      },
      "outputs": [],
      "source": []
    },
    {
      "cell_type": "code",
      "execution_count": null,
      "metadata": {
        "id": "TuidH6ahFyXR"
      },
      "outputs": [],
      "source": [
        "df2.to_csv(\"modeling_test.csv\", mode=\"w\", index=False)"
      ]
    },
    {
      "cell_type": "code",
      "execution_count": null,
      "metadata": {
        "id": "Sw1z20VGFyXS"
      },
      "outputs": [],
      "source": [
        "expected2 = pd.Series(p2)"
      ]
    },
    {
      "cell_type": "code",
      "execution_count": null,
      "metadata": {
        "id": "af4B6ZhlFyXS",
        "outputId": "1d1accc2-2af8-4385-c2ed-d81afe80fa3d"
      },
      "outputs": [
        {
          "data": {
            "text/html": [
              "<div>\n",
              "<style scoped>\n",
              "    .dataframe tbody tr th:only-of-type {\n",
              "        vertical-align: middle;\n",
              "    }\n",
              "\n",
              "    .dataframe tbody tr th {\n",
              "        vertical-align: top;\n",
              "    }\n",
              "\n",
              "    .dataframe thead th {\n",
              "        text-align: right;\n",
              "    }\n",
              "</style>\n",
              "<table border=\"1\" class=\"dataframe\">\n",
              "  <thead>\n",
              "    <tr style=\"text-align: right;\">\n",
              "      <th></th>\n",
              "      <th>id</th>\n",
              "      <th>expected</th>\n",
              "    </tr>\n",
              "  </thead>\n",
              "  <tbody>\n",
              "    <tr>\n",
              "      <th>0</th>\n",
              "      <td>0</td>\n",
              "      <td>1</td>\n",
              "    </tr>\n",
              "    <tr>\n",
              "      <th>1</th>\n",
              "      <td>1</td>\n",
              "      <td>1</td>\n",
              "    </tr>\n",
              "    <tr>\n",
              "      <th>2</th>\n",
              "      <td>2</td>\n",
              "      <td>1</td>\n",
              "    </tr>\n",
              "    <tr>\n",
              "      <th>3</th>\n",
              "      <td>3</td>\n",
              "      <td>-1</td>\n",
              "    </tr>\n",
              "    <tr>\n",
              "      <th>4</th>\n",
              "      <td>4</td>\n",
              "      <td>1</td>\n",
              "    </tr>\n",
              "    <tr>\n",
              "      <th>...</th>\n",
              "      <td>...</td>\n",
              "      <td>...</td>\n",
              "    </tr>\n",
              "    <tr>\n",
              "      <th>2436</th>\n",
              "      <td>2436</td>\n",
              "      <td>1</td>\n",
              "    </tr>\n",
              "    <tr>\n",
              "      <th>2437</th>\n",
              "      <td>2437</td>\n",
              "      <td>-1</td>\n",
              "    </tr>\n",
              "    <tr>\n",
              "      <th>2438</th>\n",
              "      <td>2438</td>\n",
              "      <td>1</td>\n",
              "    </tr>\n",
              "    <tr>\n",
              "      <th>2439</th>\n",
              "      <td>2439</td>\n",
              "      <td>-1</td>\n",
              "    </tr>\n",
              "    <tr>\n",
              "      <th>2440</th>\n",
              "      <td>2440</td>\n",
              "      <td>1</td>\n",
              "    </tr>\n",
              "  </tbody>\n",
              "</table>\n",
              "<p>2441 rows × 2 columns</p>\n",
              "</div>"
            ],
            "text/plain": [
              "        id  expected\n",
              "0        0         1\n",
              "1        1         1\n",
              "2        2         1\n",
              "3        3        -1\n",
              "4        4         1\n",
              "...    ...       ...\n",
              "2436  2436         1\n",
              "2437  2437        -1\n",
              "2438  2438         1\n",
              "2439  2439        -1\n",
              "2440  2440         1\n",
              "\n",
              "[2441 rows x 2 columns]"
            ]
          },
          "execution_count": 403,
          "metadata": {},
          "output_type": "execute_result"
        }
      ],
      "source": [
        "df3 = pd.DataFrame({\n",
        "    'id':id_,\n",
        "    'expected':expected2\n",
        "}, columns=['id','expected'])\n",
        "df3"
      ]
    },
    {
      "cell_type": "code",
      "execution_count": null,
      "metadata": {
        "id": "DW6J6ABoFyXT"
      },
      "outputs": [],
      "source": [
        "df3.to_csv(\"modeling_test2.csv\", mode=\"w\", index=False)"
      ]
    },
    {
      "cell_type": "code",
      "execution_count": null,
      "metadata": {
        "id": "KiBQ1iqzFyXT"
      },
      "outputs": [],
      "source": [
        "expected3 = pd.Series(p3)"
      ]
    },
    {
      "cell_type": "code",
      "execution_count": null,
      "metadata": {
        "id": "RawwgIttFyXU",
        "outputId": "67ae3a46-564a-473f-ebc5-13d6654f2a97"
      },
      "outputs": [
        {
          "data": {
            "text/html": [
              "<div>\n",
              "<style scoped>\n",
              "    .dataframe tbody tr th:only-of-type {\n",
              "        vertical-align: middle;\n",
              "    }\n",
              "\n",
              "    .dataframe tbody tr th {\n",
              "        vertical-align: top;\n",
              "    }\n",
              "\n",
              "    .dataframe thead th {\n",
              "        text-align: right;\n",
              "    }\n",
              "</style>\n",
              "<table border=\"1\" class=\"dataframe\">\n",
              "  <thead>\n",
              "    <tr style=\"text-align: right;\">\n",
              "      <th></th>\n",
              "      <th>id</th>\n",
              "      <th>expected</th>\n",
              "    </tr>\n",
              "  </thead>\n",
              "  <tbody>\n",
              "    <tr>\n",
              "      <th>0</th>\n",
              "      <td>0</td>\n",
              "      <td>1</td>\n",
              "    </tr>\n",
              "    <tr>\n",
              "      <th>1</th>\n",
              "      <td>1</td>\n",
              "      <td>1</td>\n",
              "    </tr>\n",
              "    <tr>\n",
              "      <th>2</th>\n",
              "      <td>2</td>\n",
              "      <td>1</td>\n",
              "    </tr>\n",
              "    <tr>\n",
              "      <th>3</th>\n",
              "      <td>3</td>\n",
              "      <td>-1</td>\n",
              "    </tr>\n",
              "    <tr>\n",
              "      <th>4</th>\n",
              "      <td>4</td>\n",
              "      <td>-1</td>\n",
              "    </tr>\n",
              "    <tr>\n",
              "      <th>...</th>\n",
              "      <td>...</td>\n",
              "      <td>...</td>\n",
              "    </tr>\n",
              "    <tr>\n",
              "      <th>2436</th>\n",
              "      <td>2436</td>\n",
              "      <td>1</td>\n",
              "    </tr>\n",
              "    <tr>\n",
              "      <th>2437</th>\n",
              "      <td>2437</td>\n",
              "      <td>1</td>\n",
              "    </tr>\n",
              "    <tr>\n",
              "      <th>2438</th>\n",
              "      <td>2438</td>\n",
              "      <td>1</td>\n",
              "    </tr>\n",
              "    <tr>\n",
              "      <th>2439</th>\n",
              "      <td>2439</td>\n",
              "      <td>-1</td>\n",
              "    </tr>\n",
              "    <tr>\n",
              "      <th>2440</th>\n",
              "      <td>2440</td>\n",
              "      <td>1</td>\n",
              "    </tr>\n",
              "  </tbody>\n",
              "</table>\n",
              "<p>2441 rows × 2 columns</p>\n",
              "</div>"
            ],
            "text/plain": [
              "        id  expected\n",
              "0        0         1\n",
              "1        1         1\n",
              "2        2         1\n",
              "3        3        -1\n",
              "4        4        -1\n",
              "...    ...       ...\n",
              "2436  2436         1\n",
              "2437  2437         1\n",
              "2438  2438         1\n",
              "2439  2439        -1\n",
              "2440  2440         1\n",
              "\n",
              "[2441 rows x 2 columns]"
            ]
          },
          "execution_count": 474,
          "metadata": {},
          "output_type": "execute_result"
        }
      ],
      "source": [
        "df4 = pd.DataFrame({\n",
        "    'id':id_,\n",
        "    'expected':expected3\n",
        "}, columns=['id','expected'])\n",
        "df4"
      ]
    },
    {
      "cell_type": "code",
      "execution_count": null,
      "metadata": {
        "id": "VM7M4JVDFyXV"
      },
      "outputs": [],
      "source": [
        "df4.to_csv(\"modeling_test3.csv\", mode=\"w\", index=False)"
      ]
    },
    {
      "cell_type": "code",
      "execution_count": null,
      "metadata": {
        "id": "s_LoqNWrFyXW"
      },
      "outputs": [],
      "source": [
        "expected4 = pd.Series(p4)"
      ]
    },
    {
      "cell_type": "code",
      "execution_count": null,
      "metadata": {
        "id": "eQ772cU2FyXW",
        "outputId": "6d5a1ed4-7f31-484e-e517-ff023851858b"
      },
      "outputs": [
        {
          "data": {
            "text/html": [
              "<div>\n",
              "<style scoped>\n",
              "    .dataframe tbody tr th:only-of-type {\n",
              "        vertical-align: middle;\n",
              "    }\n",
              "\n",
              "    .dataframe tbody tr th {\n",
              "        vertical-align: top;\n",
              "    }\n",
              "\n",
              "    .dataframe thead th {\n",
              "        text-align: right;\n",
              "    }\n",
              "</style>\n",
              "<table border=\"1\" class=\"dataframe\">\n",
              "  <thead>\n",
              "    <tr style=\"text-align: right;\">\n",
              "      <th></th>\n",
              "      <th>id</th>\n",
              "      <th>expected</th>\n",
              "    </tr>\n",
              "  </thead>\n",
              "  <tbody>\n",
              "    <tr>\n",
              "      <th>0</th>\n",
              "      <td>0</td>\n",
              "      <td>-1</td>\n",
              "    </tr>\n",
              "    <tr>\n",
              "      <th>1</th>\n",
              "      <td>1</td>\n",
              "      <td>1</td>\n",
              "    </tr>\n",
              "    <tr>\n",
              "      <th>2</th>\n",
              "      <td>2</td>\n",
              "      <td>1</td>\n",
              "    </tr>\n",
              "    <tr>\n",
              "      <th>3</th>\n",
              "      <td>3</td>\n",
              "      <td>-1</td>\n",
              "    </tr>\n",
              "    <tr>\n",
              "      <th>4</th>\n",
              "      <td>4</td>\n",
              "      <td>1</td>\n",
              "    </tr>\n",
              "    <tr>\n",
              "      <th>...</th>\n",
              "      <td>...</td>\n",
              "      <td>...</td>\n",
              "    </tr>\n",
              "    <tr>\n",
              "      <th>2436</th>\n",
              "      <td>2436</td>\n",
              "      <td>1</td>\n",
              "    </tr>\n",
              "    <tr>\n",
              "      <th>2437</th>\n",
              "      <td>2437</td>\n",
              "      <td>1</td>\n",
              "    </tr>\n",
              "    <tr>\n",
              "      <th>2438</th>\n",
              "      <td>2438</td>\n",
              "      <td>1</td>\n",
              "    </tr>\n",
              "    <tr>\n",
              "      <th>2439</th>\n",
              "      <td>2439</td>\n",
              "      <td>-1</td>\n",
              "    </tr>\n",
              "    <tr>\n",
              "      <th>2440</th>\n",
              "      <td>2440</td>\n",
              "      <td>1</td>\n",
              "    </tr>\n",
              "  </tbody>\n",
              "</table>\n",
              "<p>2441 rows × 2 columns</p>\n",
              "</div>"
            ],
            "text/plain": [
              "        id  expected\n",
              "0        0        -1\n",
              "1        1         1\n",
              "2        2         1\n",
              "3        3        -1\n",
              "4        4         1\n",
              "...    ...       ...\n",
              "2436  2436         1\n",
              "2437  2437         1\n",
              "2438  2438         1\n",
              "2439  2439        -1\n",
              "2440  2440         1\n",
              "\n",
              "[2441 rows x 2 columns]"
            ]
          },
          "execution_count": 641,
          "metadata": {},
          "output_type": "execute_result"
        }
      ],
      "source": [
        "df5 = pd.DataFrame({\n",
        "    'id':id_,\n",
        "    'expected':expected4\n",
        "}, columns=['id','expected'])\n",
        "df5"
      ]
    },
    {
      "cell_type": "code",
      "execution_count": null,
      "metadata": {
        "id": "SWhR2FZVFyXX"
      },
      "outputs": [],
      "source": [
        "df5.to_csv(\"modeling_test4.csv\", mode=\"w\", index=False)"
      ]
    },
    {
      "cell_type": "code",
      "execution_count": null,
      "metadata": {
        "id": "87gsjU3MFyXX"
      },
      "outputs": [],
      "source": []
    }
  ],
  "metadata": {
    "kernelspec": {
      "display_name": "Python 3",
      "language": "python",
      "name": "python3"
    },
    "language_info": {
      "codemirror_mode": {
        "name": "ipython",
        "version": 3
      },
      "file_extension": ".py",
      "mimetype": "text/x-python",
      "name": "python",
      "nbconvert_exporter": "python",
      "pygments_lexer": "ipython3",
      "version": "3.8.8"
    },
    "vscode": {
      "interpreter": {
        "hash": "f08154012ddadd8e950e6e9e035c7a7b32c136e7647e9b7c77e02eb723a8bedb"
      }
    },
    "colab": {
      "provenance": []
    }
  },
  "nbformat": 4,
  "nbformat_minor": 0
}