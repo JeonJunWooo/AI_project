{
  "cells": [
    {
      "cell_type": "code",
      "execution_count": null,
      "id": "25f3598c-25a2-41d5-9a66-2bee06c2a876",
      "metadata": {
        "id": "25f3598c-25a2-41d5-9a66-2bee06c2a876"
      },
      "outputs": [],
      "source": [
        "import numpy as np\n",
        "import pandas as pd"
      ]
    },
    {
      "cell_type": "code",
      "execution_count": null,
      "id": "3addf561-1e47-4893-a8ed-5a58d6712bd6",
      "metadata": {
        "id": "3addf561-1e47-4893-a8ed-5a58d6712bd6"
      },
      "outputs": [],
      "source": [
        "pd.set_option('display.max_columns', 50)"
      ]
    },
    {
      "cell_type": "code",
      "execution_count": null,
      "id": "1910132e-5d51-4f7f-9489-26d681dff45b",
      "metadata": {
        "id": "1910132e-5d51-4f7f-9489-26d681dff45b"
      },
      "outputs": [],
      "source": [
        "import seaborn as sns\n",
        "import matplotlib.pyplot as plt\n",
        "plt.rc('font', family='Malgun Gothic')\n",
        "sns.set(font=\"Malgun Gothic\",#\"NanumGothicCoding\", \n",
        "        rc={\"axes.unicode_minus\":False}, # 마이너스 부호 깨짐 현상 해결\n",
        "        style='darkgrid')"
      ]
    },
    {
      "cell_type": "code",
      "execution_count": null,
      "id": "f6bbc9e9-310a-48a6-801d-6d0f6ca398e8",
      "metadata": {
        "id": "f6bbc9e9-310a-48a6-801d-6d0f6ca398e8"
      },
      "outputs": [],
      "source": [
        "# 아래에 실습코드를 작성하고 결과를 확인합니다.\n",
        "df2017 = pd.read_csv('test2017.csv',sep=',',index_col = 0)"
      ]
    },
    {
      "cell_type": "code",
      "execution_count": null,
      "id": "4620d338-c1cd-4401-a423-fd38a913993a",
      "metadata": {
        "id": "4620d338-c1cd-4401-a423-fd38a913993a",
        "outputId": "fccde7d9-f81b-4890-bb53-bc7035719d1f"
      },
      "outputs": [
        {
          "data": {
            "text/plain": [
              "(8760, 31)"
            ]
          },
          "execution_count": 728,
          "metadata": {},
          "output_type": "execute_result"
        }
      ],
      "source": [
        "df2017.shape"
      ]
    },
    {
      "cell_type": "code",
      "execution_count": null,
      "id": "fc7459d3-551c-431c-ba75-2957c513f652",
      "metadata": {
        "id": "fc7459d3-551c-431c-ba75-2957c513f652",
        "outputId": "a8bb258d-7709-4ad2-a1f1-385a5b5c4242"
      },
      "outputs": [
        {
          "data": {
            "text/html": [
              "<div>\n",
              "<style scoped>\n",
              "    .dataframe tbody tr th:only-of-type {\n",
              "        vertical-align: middle;\n",
              "    }\n",
              "\n",
              "    .dataframe tbody tr th {\n",
              "        vertical-align: top;\n",
              "    }\n",
              "\n",
              "    .dataframe thead th {\n",
              "        text-align: right;\n",
              "    }\n",
              "</style>\n",
              "<table border=\"1\" class=\"dataframe\">\n",
              "  <thead>\n",
              "    <tr style=\"text-align: right;\">\n",
              "      <th></th>\n",
              "      <th>기준일ID</th>\n",
              "      <th>시간대구분</th>\n",
              "      <th>총생활인구수</th>\n",
              "      <th>남자0세부터9세생활인구수</th>\n",
              "      <th>남자10세부터14세생활인구수</th>\n",
              "      <th>남자15세부터19세생활인구수</th>\n",
              "      <th>남자20세부터24세생활인구수</th>\n",
              "      <th>남자25세부터29세생활인구수</th>\n",
              "      <th>남자30세부터34세생활인구수</th>\n",
              "      <th>남자35세부터39세생활인구수</th>\n",
              "      <th>남자40세부터44세생활인구수</th>\n",
              "      <th>남자45세부터49세생활인구수</th>\n",
              "      <th>남자50세부터54세생활인구수</th>\n",
              "      <th>남자55세부터59세생활인구수</th>\n",
              "      <th>남자60세부터64세생활인구수</th>\n",
              "      <th>남자65세부터69세생활인구수</th>\n",
              "      <th>남자70세이상생활인구수</th>\n",
              "      <th>여자0세부터9세생활인구수</th>\n",
              "      <th>여자10세부터14세생활인구수</th>\n",
              "      <th>여자15세부터19세생활인구수</th>\n",
              "      <th>여자20세부터24세생활인구수</th>\n",
              "      <th>여자25세부터29세생활인구수</th>\n",
              "      <th>여자30세부터34세생활인구수</th>\n",
              "      <th>여자35세부터39세생활인구수</th>\n",
              "      <th>여자40세부터44세생활인구수</th>\n",
              "      <th>여자45세부터49세생활인구수</th>\n",
              "      <th>여자50세부터54세생활인구수</th>\n",
              "      <th>여자55세부터59세생활인구수</th>\n",
              "      <th>여자60세부터64세생활인구수</th>\n",
              "      <th>여자65세부터69세생활인구수</th>\n",
              "      <th>여자70세이상생활인구수</th>\n",
              "    </tr>\n",
              "  </thead>\n",
              "  <tbody>\n",
              "    <tr>\n",
              "      <th>0</th>\n",
              "      <td>20170101</td>\n",
              "      <td>0</td>\n",
              "      <td>43922.2281</td>\n",
              "      <td>953.7652</td>\n",
              "      <td>627.7225</td>\n",
              "      <td>927.6134</td>\n",
              "      <td>2025.0630</td>\n",
              "      <td>2278.7336</td>\n",
              "      <td>1744.8161</td>\n",
              "      <td>1713.6754</td>\n",
              "      <td>1520.0210</td>\n",
              "      <td>1577.6384</td>\n",
              "      <td>1352.9631</td>\n",
              "      <td>1371.8521</td>\n",
              "      <td>1163.7338</td>\n",
              "      <td>888.1414</td>\n",
              "      <td>2606.2974</td>\n",
              "      <td>1099.4350</td>\n",
              "      <td>667.9853</td>\n",
              "      <td>868.9061</td>\n",
              "      <td>1992.7395</td>\n",
              "      <td>2060.1511</td>\n",
              "      <td>1734.3805</td>\n",
              "      <td>1713.3332</td>\n",
              "      <td>1754.6515</td>\n",
              "      <td>1636.4175</td>\n",
              "      <td>1521.3668</td>\n",
              "      <td>1728.0639</td>\n",
              "      <td>1484.4518</td>\n",
              "      <td>1238.2606</td>\n",
              "      <td>3670.0451</td>\n",
              "    </tr>\n",
              "    <tr>\n",
              "      <th>1</th>\n",
              "      <td>20170101</td>\n",
              "      <td>1</td>\n",
              "      <td>43763.4929</td>\n",
              "      <td>962.2909</td>\n",
              "      <td>633.3292</td>\n",
              "      <td>970.6215</td>\n",
              "      <td>2045.7002</td>\n",
              "      <td>2412.6287</td>\n",
              "      <td>1765.7725</td>\n",
              "      <td>1765.1171</td>\n",
              "      <td>1509.6040</td>\n",
              "      <td>1541.1837</td>\n",
              "      <td>1321.6525</td>\n",
              "      <td>1395.8550</td>\n",
              "      <td>1155.0191</td>\n",
              "      <td>886.5286</td>\n",
              "      <td>2496.0944</td>\n",
              "      <td>1189.8314</td>\n",
              "      <td>722.8593</td>\n",
              "      <td>868.5915</td>\n",
              "      <td>2008.0600</td>\n",
              "      <td>2037.5677</td>\n",
              "      <td>1745.5960</td>\n",
              "      <td>1735.4797</td>\n",
              "      <td>1700.9196</td>\n",
              "      <td>1619.3672</td>\n",
              "      <td>1474.8418</td>\n",
              "      <td>1661.3750</td>\n",
              "      <td>1470.3009</td>\n",
              "      <td>1098.4788</td>\n",
              "      <td>3568.8258</td>\n",
              "    </tr>\n",
              "    <tr>\n",
              "      <th>2</th>\n",
              "      <td>20170101</td>\n",
              "      <td>2</td>\n",
              "      <td>43561.5708</td>\n",
              "      <td>932.2939</td>\n",
              "      <td>613.6027</td>\n",
              "      <td>964.3505</td>\n",
              "      <td>2057.3601</td>\n",
              "      <td>2419.0941</td>\n",
              "      <td>1734.0569</td>\n",
              "      <td>1746.3940</td>\n",
              "      <td>1503.2242</td>\n",
              "      <td>1551.7176</td>\n",
              "      <td>1313.9094</td>\n",
              "      <td>1352.1677</td>\n",
              "      <td>1175.1874</td>\n",
              "      <td>844.5449</td>\n",
              "      <td>2500.9937</td>\n",
              "      <td>1207.6359</td>\n",
              "      <td>733.6676</td>\n",
              "      <td>861.1470</td>\n",
              "      <td>2020.6279</td>\n",
              "      <td>2005.4838</td>\n",
              "      <td>1750.7594</td>\n",
              "      <td>1710.6116</td>\n",
              "      <td>1660.6697</td>\n",
              "      <td>1660.9852</td>\n",
              "      <td>1511.4103</td>\n",
              "      <td>1635.0352</td>\n",
              "      <td>1441.0173</td>\n",
              "      <td>1112.3632</td>\n",
              "      <td>3541.2620</td>\n",
              "    </tr>\n",
              "    <tr>\n",
              "      <th>3</th>\n",
              "      <td>20170101</td>\n",
              "      <td>3</td>\n",
              "      <td>43928.9929</td>\n",
              "      <td>926.3617</td>\n",
              "      <td>609.7009</td>\n",
              "      <td>983.2400</td>\n",
              "      <td>2100.5071</td>\n",
              "      <td>2480.1898</td>\n",
              "      <td>1780.3833</td>\n",
              "      <td>1723.6640</td>\n",
              "      <td>1499.2281</td>\n",
              "      <td>1561.8749</td>\n",
              "      <td>1307.3318</td>\n",
              "      <td>1364.8866</td>\n",
              "      <td>1158.2408</td>\n",
              "      <td>849.1407</td>\n",
              "      <td>2490.6983</td>\n",
              "      <td>1189.3339</td>\n",
              "      <td>722.5570</td>\n",
              "      <td>869.6079</td>\n",
              "      <td>2083.9483</td>\n",
              "      <td>2044.6913</td>\n",
              "      <td>1777.4169</td>\n",
              "      <td>1718.1475</td>\n",
              "      <td>1678.9374</td>\n",
              "      <td>1626.8350</td>\n",
              "      <td>1516.5837</td>\n",
              "      <td>1665.8781</td>\n",
              "      <td>1471.2127</td>\n",
              "      <td>1098.3154</td>\n",
              "      <td>3630.0822</td>\n",
              "    </tr>\n",
              "    <tr>\n",
              "      <th>4</th>\n",
              "      <td>20170101</td>\n",
              "      <td>4</td>\n",
              "      <td>44150.2973</td>\n",
              "      <td>922.8893</td>\n",
              "      <td>607.4184</td>\n",
              "      <td>990.0534</td>\n",
              "      <td>2128.2729</td>\n",
              "      <td>2531.6549</td>\n",
              "      <td>1774.7853</td>\n",
              "      <td>1752.0073</td>\n",
              "      <td>1493.4582</td>\n",
              "      <td>1582.2452</td>\n",
              "      <td>1346.2133</td>\n",
              "      <td>1348.0045</td>\n",
              "      <td>1178.8655</td>\n",
              "      <td>845.8338</td>\n",
              "      <td>2538.3558</td>\n",
              "      <td>1208.9324</td>\n",
              "      <td>734.4544</td>\n",
              "      <td>889.7822</td>\n",
              "      <td>2115.2894</td>\n",
              "      <td>2060.8824</td>\n",
              "      <td>1801.2144</td>\n",
              "      <td>1718.2957</td>\n",
              "      <td>1678.6174</td>\n",
              "      <td>1640.9056</td>\n",
              "      <td>1513.5035</td>\n",
              "      <td>1653.2704</td>\n",
              "      <td>1435.5180</td>\n",
              "      <td>1090.4059</td>\n",
              "      <td>3569.1653</td>\n",
              "    </tr>\n",
              "  </tbody>\n",
              "</table>\n",
              "</div>"
            ],
            "text/plain": [
              "      기준일ID  시간대구분      총생활인구수  남자0세부터9세생활인구수  남자10세부터14세생활인구수  \\\n",
              "0  20170101      0  43922.2281       953.7652         627.7225   \n",
              "1  20170101      1  43763.4929       962.2909         633.3292   \n",
              "2  20170101      2  43561.5708       932.2939         613.6027   \n",
              "3  20170101      3  43928.9929       926.3617         609.7009   \n",
              "4  20170101      4  44150.2973       922.8893         607.4184   \n",
              "\n",
              "   남자15세부터19세생활인구수  남자20세부터24세생활인구수  남자25세부터29세생활인구수  남자30세부터34세생활인구수  \\\n",
              "0         927.6134        2025.0630        2278.7336        1744.8161   \n",
              "1         970.6215        2045.7002        2412.6287        1765.7725   \n",
              "2         964.3505        2057.3601        2419.0941        1734.0569   \n",
              "3         983.2400        2100.5071        2480.1898        1780.3833   \n",
              "4         990.0534        2128.2729        2531.6549        1774.7853   \n",
              "\n",
              "   남자35세부터39세생활인구수  남자40세부터44세생활인구수  남자45세부터49세생활인구수  남자50세부터54세생활인구수  \\\n",
              "0        1713.6754        1520.0210        1577.6384        1352.9631   \n",
              "1        1765.1171        1509.6040        1541.1837        1321.6525   \n",
              "2        1746.3940        1503.2242        1551.7176        1313.9094   \n",
              "3        1723.6640        1499.2281        1561.8749        1307.3318   \n",
              "4        1752.0073        1493.4582        1582.2452        1346.2133   \n",
              "\n",
              "   남자55세부터59세생활인구수  남자60세부터64세생활인구수  남자65세부터69세생활인구수  남자70세이상생활인구수  \\\n",
              "0        1371.8521        1163.7338         888.1414     2606.2974   \n",
              "1        1395.8550        1155.0191         886.5286     2496.0944   \n",
              "2        1352.1677        1175.1874         844.5449     2500.9937   \n",
              "3        1364.8866        1158.2408         849.1407     2490.6983   \n",
              "4        1348.0045        1178.8655         845.8338     2538.3558   \n",
              "\n",
              "   여자0세부터9세생활인구수  여자10세부터14세생활인구수  여자15세부터19세생활인구수  여자20세부터24세생활인구수  \\\n",
              "0      1099.4350         667.9853         868.9061        1992.7395   \n",
              "1      1189.8314         722.8593         868.5915        2008.0600   \n",
              "2      1207.6359         733.6676         861.1470        2020.6279   \n",
              "3      1189.3339         722.5570         869.6079        2083.9483   \n",
              "4      1208.9324         734.4544         889.7822        2115.2894   \n",
              "\n",
              "   여자25세부터29세생활인구수  여자30세부터34세생활인구수  여자35세부터39세생활인구수  여자40세부터44세생활인구수  \\\n",
              "0        2060.1511        1734.3805        1713.3332        1754.6515   \n",
              "1        2037.5677        1745.5960        1735.4797        1700.9196   \n",
              "2        2005.4838        1750.7594        1710.6116        1660.6697   \n",
              "3        2044.6913        1777.4169        1718.1475        1678.9374   \n",
              "4        2060.8824        1801.2144        1718.2957        1678.6174   \n",
              "\n",
              "   여자45세부터49세생활인구수  여자50세부터54세생활인구수  여자55세부터59세생활인구수  여자60세부터64세생활인구수  \\\n",
              "0        1636.4175        1521.3668        1728.0639        1484.4518   \n",
              "1        1619.3672        1474.8418        1661.3750        1470.3009   \n",
              "2        1660.9852        1511.4103        1635.0352        1441.0173   \n",
              "3        1626.8350        1516.5837        1665.8781        1471.2127   \n",
              "4        1640.9056        1513.5035        1653.2704        1435.5180   \n",
              "\n",
              "   여자65세부터69세생활인구수  여자70세이상생활인구수  \n",
              "0        1238.2606     3670.0451  \n",
              "1        1098.4788     3568.8258  \n",
              "2        1112.3632     3541.2620  \n",
              "3        1098.3154     3630.0822  \n",
              "4        1090.4059     3569.1653  "
            ]
          },
          "execution_count": 729,
          "metadata": {},
          "output_type": "execute_result"
        }
      ],
      "source": [
        "df2017.head()"
      ]
    },
    {
      "cell_type": "code",
      "execution_count": null,
      "id": "a55ade67-22ed-4c42-8a2b-1c862b7071ad",
      "metadata": {
        "id": "a55ade67-22ed-4c42-8a2b-1c862b7071ad"
      },
      "outputs": [],
      "source": [
        "df18 = pd.read_csv('test2018.csv',sep=',',index_col = 0)\n",
        "df19 = pd.read_csv('test2019.csv',sep=',',index_col = 0)\n",
        "df20 = pd.read_csv('test2020.csv',sep=',',index_col = 0)\n",
        "df21 = pd.read_csv('test2021.csv',sep=',',index_col = 0)"
      ]
    },
    {
      "cell_type": "code",
      "execution_count": null,
      "id": "9ac5133b-60e0-4f1b-981f-923763e1b64b",
      "metadata": {
        "id": "9ac5133b-60e0-4f1b-981f-923763e1b64b"
      },
      "outputs": [],
      "source": [
        "df_total = pd.concat([df2017,df18,df19,df20,df21])"
      ]
    },
    {
      "cell_type": "code",
      "execution_count": null,
      "id": "de3ffb50-c7c9-40e1-a109-ce1ab99a32ea",
      "metadata": {
        "id": "de3ffb50-c7c9-40e1-a109-ce1ab99a32ea",
        "outputId": "a44dee43-9212-45e8-8963-b3a4f2762012"
      },
      "outputs": [
        {
          "data": {
            "text/plain": [
              "(43512, 31)"
            ]
          },
          "execution_count": 732,
          "metadata": {},
          "output_type": "execute_result"
        }
      ],
      "source": [
        "df_total.shape"
      ]
    },
    {
      "cell_type": "code",
      "execution_count": null,
      "id": "fcbe0b36-5f53-40c2-a573-43a6b6fa4702",
      "metadata": {
        "id": "fcbe0b36-5f53-40c2-a573-43a6b6fa4702"
      },
      "outputs": [],
      "source": [
        "df_total.reset_index(inplace=True)"
      ]
    },
    {
      "cell_type": "code",
      "execution_count": null,
      "id": "5e1d82be-8f6a-420b-a062-daec6fa27974",
      "metadata": {
        "id": "5e1d82be-8f6a-420b-a062-daec6fa27974"
      },
      "outputs": [],
      "source": [
        "df_total['기준일ID'] = df_total['기준일ID'].astype('str')"
      ]
    },
    {
      "cell_type": "code",
      "execution_count": null,
      "id": "b99c9038-5f9c-4f80-a7d5-99d436946771",
      "metadata": {
        "id": "b99c9038-5f9c-4f80-a7d5-99d436946771"
      },
      "outputs": [],
      "source": [
        "df_total['기준일ID']= pd.to_datetime(df_total['기준일ID'])"
      ]
    },
    {
      "cell_type": "code",
      "execution_count": null,
      "id": "6274a056-7033-49bf-bf6c-e0154fc22418",
      "metadata": {
        "id": "6274a056-7033-49bf-bf6c-e0154fc22418"
      },
      "outputs": [],
      "source": []
    },
    {
      "cell_type": "code",
      "execution_count": null,
      "id": "99e79ce8-d58f-474b-af2f-a293f83ed20e",
      "metadata": {
        "id": "99e79ce8-d58f-474b-af2f-a293f83ed20e",
        "outputId": "d9473c27-62a9-4aa6-c25f-1c4e19d98c08"
      },
      "outputs": [
        {
          "data": {
            "image/png": "[encoded data removed]",
            "text/plain": [
              "<Figure size 1440x576 with 1 Axes>"
            ]
          },
          "metadata": {},
          "output_type": "display_data"
        }
      ],
      "source": [
        "plt.figure(figsize = (20,8))\n",
        "plt.plot(df_total['총생활인구수'])\n",
        "plt.grid()\n",
        "plt.show()"
      ]
    },
    {
      "cell_type": "code",
      "execution_count": null,
      "id": "38490f51-8a87-4d44-acd1-9e484e99e7b9",
      "metadata": {
        "id": "38490f51-8a87-4d44-acd1-9e484e99e7b9"
      },
      "outputs": [],
      "source": [
        "df_total.drop(['index'],axis = 1, inplace = True)"
      ]
    },
    {
      "cell_type": "code",
      "execution_count": null,
      "id": "94209862-68a4-43db-bc22-072e4b19c4ac",
      "metadata": {
        "id": "94209862-68a4-43db-bc22-072e4b19c4ac",
        "outputId": "40d9b107-44f1-4c37-f34e-f96c56d1728e"
      },
      "outputs": [
        {
          "data": {
            "text/html": [
              "<div>\n",
              "<style scoped>\n",
              "    .dataframe tbody tr th:only-of-type {\n",
              "        vertical-align: middle;\n",
              "    }\n",
              "\n",
              "    .dataframe tbody tr th {\n",
              "        vertical-align: top;\n",
              "    }\n",
              "\n",
              "    .dataframe thead th {\n",
              "        text-align: right;\n",
              "    }\n",
              "</style>\n",
              "<table border=\"1\" class=\"dataframe\">\n",
              "  <thead>\n",
              "    <tr style=\"text-align: right;\">\n",
              "      <th></th>\n",
              "      <th>기준일ID</th>\n",
              "      <th>시간대구분</th>\n",
              "      <th>총생활인구수</th>\n",
              "      <th>남자0세부터9세생활인구수</th>\n",
              "      <th>남자10세부터14세생활인구수</th>\n",
              "      <th>남자15세부터19세생활인구수</th>\n",
              "      <th>남자20세부터24세생활인구수</th>\n",
              "      <th>남자25세부터29세생활인구수</th>\n",
              "      <th>남자30세부터34세생활인구수</th>\n",
              "      <th>남자35세부터39세생활인구수</th>\n",
              "      <th>남자40세부터44세생활인구수</th>\n",
              "      <th>남자45세부터49세생활인구수</th>\n",
              "      <th>남자50세부터54세생활인구수</th>\n",
              "      <th>남자55세부터59세생활인구수</th>\n",
              "      <th>남자60세부터64세생활인구수</th>\n",
              "      <th>남자65세부터69세생활인구수</th>\n",
              "      <th>남자70세이상생활인구수</th>\n",
              "      <th>여자0세부터9세생활인구수</th>\n",
              "      <th>여자10세부터14세생활인구수</th>\n",
              "      <th>여자15세부터19세생활인구수</th>\n",
              "      <th>여자20세부터24세생활인구수</th>\n",
              "      <th>여자25세부터29세생활인구수</th>\n",
              "      <th>여자30세부터34세생활인구수</th>\n",
              "      <th>여자35세부터39세생활인구수</th>\n",
              "      <th>여자40세부터44세생활인구수</th>\n",
              "      <th>여자45세부터49세생활인구수</th>\n",
              "      <th>여자50세부터54세생활인구수</th>\n",
              "      <th>여자55세부터59세생활인구수</th>\n",
              "      <th>여자60세부터64세생활인구수</th>\n",
              "      <th>여자65세부터69세생활인구수</th>\n",
              "      <th>여자70세이상생활인구수</th>\n",
              "    </tr>\n",
              "  </thead>\n",
              "  <tbody>\n",
              "    <tr>\n",
              "      <th>0</th>\n",
              "      <td>2017-01-01</td>\n",
              "      <td>0</td>\n",
              "      <td>43922.2281</td>\n",
              "      <td>953.7652</td>\n",
              "      <td>627.7225</td>\n",
              "      <td>927.6134</td>\n",
              "      <td>2025.0630</td>\n",
              "      <td>2278.7336</td>\n",
              "      <td>1744.8161</td>\n",
              "      <td>1713.6754</td>\n",
              "      <td>1520.0210</td>\n",
              "      <td>1577.6384</td>\n",
              "      <td>1352.9631</td>\n",
              "      <td>1371.8521</td>\n",
              "      <td>1163.7338</td>\n",
              "      <td>888.1414</td>\n",
              "      <td>2606.2974</td>\n",
              "      <td>1099.4350</td>\n",
              "      <td>667.9853</td>\n",
              "      <td>868.9061</td>\n",
              "      <td>1992.7395</td>\n",
              "      <td>2060.1511</td>\n",
              "      <td>1734.3805</td>\n",
              "      <td>1713.3332</td>\n",
              "      <td>1754.6515</td>\n",
              "      <td>1636.4175</td>\n",
              "      <td>1521.3668</td>\n",
              "      <td>1728.0639</td>\n",
              "      <td>1484.4518</td>\n",
              "      <td>1238.2606</td>\n",
              "      <td>3670.0451</td>\n",
              "    </tr>\n",
              "    <tr>\n",
              "      <th>1</th>\n",
              "      <td>2017-01-01</td>\n",
              "      <td>1</td>\n",
              "      <td>43763.4929</td>\n",
              "      <td>962.2909</td>\n",
              "      <td>633.3292</td>\n",
              "      <td>970.6215</td>\n",
              "      <td>2045.7002</td>\n",
              "      <td>2412.6287</td>\n",
              "      <td>1765.7725</td>\n",
              "      <td>1765.1171</td>\n",
              "      <td>1509.6040</td>\n",
              "      <td>1541.1837</td>\n",
              "      <td>1321.6525</td>\n",
              "      <td>1395.8550</td>\n",
              "      <td>1155.0191</td>\n",
              "      <td>886.5286</td>\n",
              "      <td>2496.0944</td>\n",
              "      <td>1189.8314</td>\n",
              "      <td>722.8593</td>\n",
              "      <td>868.5915</td>\n",
              "      <td>2008.0600</td>\n",
              "      <td>2037.5677</td>\n",
              "      <td>1745.5960</td>\n",
              "      <td>1735.4797</td>\n",
              "      <td>1700.9196</td>\n",
              "      <td>1619.3672</td>\n",
              "      <td>1474.8418</td>\n",
              "      <td>1661.3750</td>\n",
              "      <td>1470.3009</td>\n",
              "      <td>1098.4788</td>\n",
              "      <td>3568.8258</td>\n",
              "    </tr>\n",
              "    <tr>\n",
              "      <th>2</th>\n",
              "      <td>2017-01-01</td>\n",
              "      <td>2</td>\n",
              "      <td>43561.5708</td>\n",
              "      <td>932.2939</td>\n",
              "      <td>613.6027</td>\n",
              "      <td>964.3505</td>\n",
              "      <td>2057.3601</td>\n",
              "      <td>2419.0941</td>\n",
              "      <td>1734.0569</td>\n",
              "      <td>1746.3940</td>\n",
              "      <td>1503.2242</td>\n",
              "      <td>1551.7176</td>\n",
              "      <td>1313.9094</td>\n",
              "      <td>1352.1677</td>\n",
              "      <td>1175.1874</td>\n",
              "      <td>844.5449</td>\n",
              "      <td>2500.9937</td>\n",
              "      <td>1207.6359</td>\n",
              "      <td>733.6676</td>\n",
              "      <td>861.1470</td>\n",
              "      <td>2020.6279</td>\n",
              "      <td>2005.4838</td>\n",
              "      <td>1750.7594</td>\n",
              "      <td>1710.6116</td>\n",
              "      <td>1660.6697</td>\n",
              "      <td>1660.9852</td>\n",
              "      <td>1511.4103</td>\n",
              "      <td>1635.0352</td>\n",
              "      <td>1441.0173</td>\n",
              "      <td>1112.3632</td>\n",
              "      <td>3541.2620</td>\n",
              "    </tr>\n",
              "    <tr>\n",
              "      <th>3</th>\n",
              "      <td>2017-01-01</td>\n",
              "      <td>3</td>\n",
              "      <td>43928.9929</td>\n",
              "      <td>926.3617</td>\n",
              "      <td>609.7009</td>\n",
              "      <td>983.2400</td>\n",
              "      <td>2100.5071</td>\n",
              "      <td>2480.1898</td>\n",
              "      <td>1780.3833</td>\n",
              "      <td>1723.6640</td>\n",
              "      <td>1499.2281</td>\n",
              "      <td>1561.8749</td>\n",
              "      <td>1307.3318</td>\n",
              "      <td>1364.8866</td>\n",
              "      <td>1158.2408</td>\n",
              "      <td>849.1407</td>\n",
              "      <td>2490.6983</td>\n",
              "      <td>1189.3339</td>\n",
              "      <td>722.5570</td>\n",
              "      <td>869.6079</td>\n",
              "      <td>2083.9483</td>\n",
              "      <td>2044.6913</td>\n",
              "      <td>1777.4169</td>\n",
              "      <td>1718.1475</td>\n",
              "      <td>1678.9374</td>\n",
              "      <td>1626.8350</td>\n",
              "      <td>1516.5837</td>\n",
              "      <td>1665.8781</td>\n",
              "      <td>1471.2127</td>\n",
              "      <td>1098.3154</td>\n",
              "      <td>3630.0822</td>\n",
              "    </tr>\n",
              "    <tr>\n",
              "      <th>4</th>\n",
              "      <td>2017-01-01</td>\n",
              "      <td>4</td>\n",
              "      <td>44150.2973</td>\n",
              "      <td>922.8893</td>\n",
              "      <td>607.4184</td>\n",
              "      <td>990.0534</td>\n",
              "      <td>2128.2729</td>\n",
              "      <td>2531.6549</td>\n",
              "      <td>1774.7853</td>\n",
              "      <td>1752.0073</td>\n",
              "      <td>1493.4582</td>\n",
              "      <td>1582.2452</td>\n",
              "      <td>1346.2133</td>\n",
              "      <td>1348.0045</td>\n",
              "      <td>1178.8655</td>\n",
              "      <td>845.8338</td>\n",
              "      <td>2538.3558</td>\n",
              "      <td>1208.9324</td>\n",
              "      <td>734.4544</td>\n",
              "      <td>889.7822</td>\n",
              "      <td>2115.2894</td>\n",
              "      <td>2060.8824</td>\n",
              "      <td>1801.2144</td>\n",
              "      <td>1718.2957</td>\n",
              "      <td>1678.6174</td>\n",
              "      <td>1640.9056</td>\n",
              "      <td>1513.5035</td>\n",
              "      <td>1653.2704</td>\n",
              "      <td>1435.5180</td>\n",
              "      <td>1090.4059</td>\n",
              "      <td>3569.1653</td>\n",
              "    </tr>\n",
              "  </tbody>\n",
              "</table>\n",
              "</div>"
            ],
            "text/plain": [
              "       기준일ID  시간대구분      총생활인구수  남자0세부터9세생활인구수  남자10세부터14세생활인구수  \\\n",
              "0 2017-01-01      0  43922.2281       953.7652         627.7225   \n",
              "1 2017-01-01      1  43763.4929       962.2909         633.3292   \n",
              "2 2017-01-01      2  43561.5708       932.2939         613.6027   \n",
              "3 2017-01-01      3  43928.9929       926.3617         609.7009   \n",
              "4 2017-01-01      4  44150.2973       922.8893         607.4184   \n",
              "\n",
              "   남자15세부터19세생활인구수  남자20세부터24세생활인구수  남자25세부터29세생활인구수  남자30세부터34세생활인구수  \\\n",
              "0         927.6134        2025.0630        2278.7336        1744.8161   \n",
              "1         970.6215        2045.7002        2412.6287        1765.7725   \n",
              "2         964.3505        2057.3601        2419.0941        1734.0569   \n",
              "3         983.2400        2100.5071        2480.1898        1780.3833   \n",
              "4         990.0534        2128.2729        2531.6549        1774.7853   \n",
              "\n",
              "   남자35세부터39세생활인구수  남자40세부터44세생활인구수  남자45세부터49세생활인구수  남자50세부터54세생활인구수  \\\n",
              "0        1713.6754        1520.0210        1577.6384        1352.9631   \n",
              "1        1765.1171        1509.6040        1541.1837        1321.6525   \n",
              "2        1746.3940        1503.2242        1551.7176        1313.9094   \n",
              "3        1723.6640        1499.2281        1561.8749        1307.3318   \n",
              "4        1752.0073        1493.4582        1582.2452        1346.2133   \n",
              "\n",
              "   남자55세부터59세생활인구수  남자60세부터64세생활인구수  남자65세부터69세생활인구수  남자70세이상생활인구수  \\\n",
              "0        1371.8521        1163.7338         888.1414     2606.2974   \n",
              "1        1395.8550        1155.0191         886.5286     2496.0944   \n",
              "2        1352.1677        1175.1874         844.5449     2500.9937   \n",
              "3        1364.8866        1158.2408         849.1407     2490.6983   \n",
              "4        1348.0045        1178.8655         845.8338     2538.3558   \n",
              "\n",
              "   여자0세부터9세생활인구수  여자10세부터14세생활인구수  여자15세부터19세생활인구수  여자20세부터24세생활인구수  \\\n",
              "0      1099.4350         667.9853         868.9061        1992.7395   \n",
              "1      1189.8314         722.8593         868.5915        2008.0600   \n",
              "2      1207.6359         733.6676         861.1470        2020.6279   \n",
              "3      1189.3339         722.5570         869.6079        2083.9483   \n",
              "4      1208.9324         734.4544         889.7822        2115.2894   \n",
              "\n",
              "   여자25세부터29세생활인구수  여자30세부터34세생활인구수  여자35세부터39세생활인구수  여자40세부터44세생활인구수  \\\n",
              "0        2060.1511        1734.3805        1713.3332        1754.6515   \n",
              "1        2037.5677        1745.5960        1735.4797        1700.9196   \n",
              "2        2005.4838        1750.7594        1710.6116        1660.6697   \n",
              "3        2044.6913        1777.4169        1718.1475        1678.9374   \n",
              "4        2060.8824        1801.2144        1718.2957        1678.6174   \n",
              "\n",
              "   여자45세부터49세생활인구수  여자50세부터54세생활인구수  여자55세부터59세생활인구수  여자60세부터64세생활인구수  \\\n",
              "0        1636.4175        1521.3668        1728.0639        1484.4518   \n",
              "1        1619.3672        1474.8418        1661.3750        1470.3009   \n",
              "2        1660.9852        1511.4103        1635.0352        1441.0173   \n",
              "3        1626.8350        1516.5837        1665.8781        1471.2127   \n",
              "4        1640.9056        1513.5035        1653.2704        1435.5180   \n",
              "\n",
              "   여자65세부터69세생활인구수  여자70세이상생활인구수  \n",
              "0        1238.2606     3670.0451  \n",
              "1        1098.4788     3568.8258  \n",
              "2        1112.3632     3541.2620  \n",
              "3        1098.3154     3630.0822  \n",
              "4        1090.4059     3569.1653  "
            ]
          },
          "execution_count": 738,
          "metadata": {},
          "output_type": "execute_result"
        }
      ],
      "source": [
        "df_total.head()"
      ]
    },
    {
      "cell_type": "code",
      "execution_count": null,
      "id": "7061a320-484a-4e89-845e-11a557225bc2",
      "metadata": {
        "id": "7061a320-484a-4e89-845e-11a557225bc2"
      },
      "outputs": [],
      "source": [
        "df_total.to_csv('df_total.csv', index=False)"
      ]
    },
    {
      "cell_type": "code",
      "execution_count": null,
      "id": "bc08c367-41c3-492e-81ac-88acb8c9587f",
      "metadata": {
        "id": "bc08c367-41c3-492e-81ac-88acb8c9587f"
      },
      "outputs": [],
      "source": [
        "df_total['기준일ID']= pd.to_datetime(df_total['기준일ID'],format= '%Y-%m-%d')"
      ]
    },
    {
      "cell_type": "code",
      "execution_count": null,
      "id": "fa9da803-e152-4a30-95a8-b2109cfbbc28",
      "metadata": {
        "tags": [],
        "id": "fa9da803-e152-4a30-95a8-b2109cfbbc28",
        "outputId": "6db34bde-475f-4926-89e3-86094cf18040"
      },
      "outputs": [
        {
          "name": "stdout",
          "output_type": "stream",
          "text": [
            "<class 'pandas.core.frame.DataFrame'>\n",
            "RangeIndex: 43512 entries, 0 to 43511\n",
            "Data columns (total 31 columns):\n",
            " #   Column           Non-Null Count  Dtype         \n",
            "---  ------           --------------  -----         \n",
            " 0   기준일ID            43512 non-null  datetime64[ns]\n",
            " 1   시간대구분            43512 non-null  int64         \n",
            " 2   총생활인구수           43512 non-null  float64       \n",
            " 3   남자0세부터9세생활인구수    43512 non-null  float64       \n",
            " 4   남자10세부터14세생활인구수  43512 non-null  float64       \n",
            " 5   남자15세부터19세생활인구수  43512 non-null  float64       \n",
            " 6   남자20세부터24세생활인구수  43512 non-null  float64       \n",
            " 7   남자25세부터29세생활인구수  43512 non-null  float64       \n",
            " 8   남자30세부터34세생활인구수  43512 non-null  float64       \n",
            " 9   남자35세부터39세생활인구수  43512 non-null  float64       \n",
            " 10  남자40세부터44세생활인구수  43512 non-null  float64       \n",
            " 11  남자45세부터49세생활인구수  43512 non-null  float64       \n",
            " 12  남자50세부터54세생활인구수  43512 non-null  float64       \n",
            " 13  남자55세부터59세생활인구수  43512 non-null  float64       \n",
            " 14  남자60세부터64세생활인구수  43512 non-null  float64       \n",
            " 15  남자65세부터69세생활인구수  43512 non-null  float64       \n",
            " 16  남자70세이상생활인구수     43512 non-null  float64       \n",
            " 17  여자0세부터9세생활인구수    43512 non-null  float64       \n",
            " 18  여자10세부터14세생활인구수  43512 non-null  float64       \n",
            " 19  여자15세부터19세생활인구수  43512 non-null  float64       \n",
            " 20  여자20세부터24세생활인구수  43512 non-null  float64       \n",
            " 21  여자25세부터29세생활인구수  43512 non-null  float64       \n",
            " 22  여자30세부터34세생활인구수  43512 non-null  float64       \n",
            " 23  여자35세부터39세생활인구수  43512 non-null  float64       \n",
            " 24  여자40세부터44세생활인구수  43512 non-null  float64       \n",
            " 25  여자45세부터49세생활인구수  43512 non-null  float64       \n",
            " 26  여자50세부터54세생활인구수  43512 non-null  float64       \n",
            " 27  여자55세부터59세생활인구수  43512 non-null  float64       \n",
            " 28  여자60세부터64세생활인구수  43512 non-null  float64       \n",
            " 29  여자65세부터69세생활인구수  43512 non-null  float64       \n",
            " 30  여자70세이상생활인구수     43512 non-null  float64       \n",
            "dtypes: datetime64[ns](1), float64(29), int64(1)\n",
            "memory usage: 10.3 MB\n"
          ]
        }
      ],
      "source": [
        "df_total.info()"
      ]
    },
    {
      "cell_type": "code",
      "execution_count": null,
      "id": "b0cf3bab-93c1-44e7-a8f3-44f9332b4cd2",
      "metadata": {
        "id": "b0cf3bab-93c1-44e7-a8f3-44f9332b4cd2"
      },
      "outputs": [],
      "source": [
        "df_total['day'] = df_total['기준일ID'].dt.dayofweek"
      ]
    },
    {
      "cell_type": "code",
      "execution_count": null,
      "id": "71e89b87-d978-49fc-9c27-438cc8213be0",
      "metadata": {
        "id": "71e89b87-d978-49fc-9c27-438cc8213be0"
      },
      "outputs": [],
      "source": [
        "df_total['year'] = df_total['기준일ID'].dt.year\n",
        "df_total['month'] = df_total['기준일ID'].dt.month"
      ]
    },
    {
      "cell_type": "code",
      "execution_count": null,
      "id": "55c67e6f-e42b-4e1c-9c88-b4142c860dcd",
      "metadata": {
        "tags": [],
        "id": "55c67e6f-e42b-4e1c-9c88-b4142c860dcd",
        "outputId": "908194a1-122b-424d-8bb5-3e1df3fb4c09"
      },
      "outputs": [
        {
          "name": "stdout",
          "output_type": "stream",
          "text": [
            "<class 'pandas.core.frame.DataFrame'>\n",
            "RangeIndex: 43512 entries, 0 to 43511\n",
            "Data columns (total 34 columns):\n",
            " #   Column           Non-Null Count  Dtype         \n",
            "---  ------           --------------  -----         \n",
            " 0   기준일ID            43512 non-null  datetime64[ns]\n",
            " 1   시간대구분            43512 non-null  int64         \n",
            " 2   총생활인구수           43512 non-null  float64       \n",
            " 3   남자0세부터9세생활인구수    43512 non-null  float64       \n",
            " 4   남자10세부터14세생활인구수  43512 non-null  float64       \n",
            " 5   남자15세부터19세생활인구수  43512 non-null  float64       \n",
            " 6   남자20세부터24세생활인구수  43512 non-null  float64       \n",
            " 7   남자25세부터29세생활인구수  43512 non-null  float64       \n",
            " 8   남자30세부터34세생활인구수  43512 non-null  float64       \n",
            " 9   남자35세부터39세생활인구수  43512 non-null  float64       \n",
            " 10  남자40세부터44세생활인구수  43512 non-null  float64       \n",
            " 11  남자45세부터49세생활인구수  43512 non-null  float64       \n",
            " 12  남자50세부터54세생활인구수  43512 non-null  float64       \n",
            " 13  남자55세부터59세생활인구수  43512 non-null  float64       \n",
            " 14  남자60세부터64세생활인구수  43512 non-null  float64       \n",
            " 15  남자65세부터69세생활인구수  43512 non-null  float64       \n",
            " 16  남자70세이상생활인구수     43512 non-null  float64       \n",
            " 17  여자0세부터9세생활인구수    43512 non-null  float64       \n",
            " 18  여자10세부터14세생활인구수  43512 non-null  float64       \n",
            " 19  여자15세부터19세생활인구수  43512 non-null  float64       \n",
            " 20  여자20세부터24세생활인구수  43512 non-null  float64       \n",
            " 21  여자25세부터29세생활인구수  43512 non-null  float64       \n",
            " 22  여자30세부터34세생활인구수  43512 non-null  float64       \n",
            " 23  여자35세부터39세생활인구수  43512 non-null  float64       \n",
            " 24  여자40세부터44세생활인구수  43512 non-null  float64       \n",
            " 25  여자45세부터49세생활인구수  43512 non-null  float64       \n",
            " 26  여자50세부터54세생활인구수  43512 non-null  float64       \n",
            " 27  여자55세부터59세생활인구수  43512 non-null  float64       \n",
            " 28  여자60세부터64세생활인구수  43512 non-null  float64       \n",
            " 29  여자65세부터69세생활인구수  43512 non-null  float64       \n",
            " 30  여자70세이상생활인구수     43512 non-null  float64       \n",
            " 31  day              43512 non-null  int64         \n",
            " 32  year             43512 non-null  int64         \n",
            " 33  month            43512 non-null  int64         \n",
            "dtypes: datetime64[ns](1), float64(29), int64(4)\n",
            "memory usage: 11.3 MB\n"
          ]
        }
      ],
      "source": [
        "df_total.info()"
      ]
    },
    {
      "cell_type": "code",
      "execution_count": null,
      "id": "3082a5a0-bc9e-4994-ba0f-ca9a1726be4b",
      "metadata": {
        "id": "3082a5a0-bc9e-4994-ba0f-ca9a1726be4b"
      },
      "outputs": [],
      "source": [
        "df_total = df_total[['기준일ID','year', 'month', 'day', '시간대구분', '총생활인구수', '남자0세부터9세생활인구수', '남자10세부터14세생활인구수',\n",
        "       '남자15세부터19세생활인구수', '남자20세부터24세생활인구수', '남자25세부터29세생활인구수',\n",
        "       '남자30세부터34세생활인구수', '남자35세부터39세생활인구수', '남자40세부터44세생활인구수',\n",
        "       '남자45세부터49세생활인구수', '남자50세부터54세생활인구수', '남자55세부터59세생활인구수',\n",
        "       '남자60세부터64세생활인구수', '남자65세부터69세생활인구수', '남자70세이상생활인구수', '여자0세부터9세생활인구수',\n",
        "       '여자10세부터14세생활인구수', '여자15세부터19세생활인구수', '여자20세부터24세생활인구수',\n",
        "       '여자25세부터29세생활인구수', '여자30세부터34세생활인구수', '여자35세부터39세생활인구수',\n",
        "       '여자40세부터44세생활인구수', '여자45세부터49세생활인구수', '여자50세부터54세생활인구수',\n",
        "       '여자55세부터59세생활인구수', '여자60세부터64세생활인구수', '여자65세부터69세생활인구수', '여자70세이상생활인구수'\n",
        "       ]]"
      ]
    },
    {
      "cell_type": "code",
      "execution_count": null,
      "id": "1c64616d-e1eb-4b65-bedd-e35c4e679c20",
      "metadata": {
        "id": "1c64616d-e1eb-4b65-bedd-e35c4e679c20"
      },
      "outputs": [],
      "source": [
        "df_total.rename(columns = {'시간대구분' : 'hour'}, inplace = True)"
      ]
    },
    {
      "cell_type": "code",
      "execution_count": null,
      "id": "d4448fc0-786d-478a-a90f-410aca95e65c",
      "metadata": {
        "id": "d4448fc0-786d-478a-a90f-410aca95e65c",
        "outputId": "c51f4802-ea68-47e5-a5b3-841c13324975"
      },
      "outputs": [
        {
          "data": {
            "text/html": [
              "<div>\n",
              "<style scoped>\n",
              "    .dataframe tbody tr th:only-of-type {\n",
              "        vertical-align: middle;\n",
              "    }\n",
              "\n",
              "    .dataframe tbody tr th {\n",
              "        vertical-align: top;\n",
              "    }\n",
              "\n",
              "    .dataframe thead th {\n",
              "        text-align: right;\n",
              "    }\n",
              "</style>\n",
              "<table border=\"1\" class=\"dataframe\">\n",
              "  <thead>\n",
              "    <tr style=\"text-align: right;\">\n",
              "      <th></th>\n",
              "      <th>기준일ID</th>\n",
              "      <th>year</th>\n",
              "      <th>month</th>\n",
              "      <th>day</th>\n",
              "      <th>hour</th>\n",
              "      <th>총생활인구수</th>\n",
              "      <th>남자0세부터9세생활인구수</th>\n",
              "      <th>남자10세부터14세생활인구수</th>\n",
              "      <th>남자15세부터19세생활인구수</th>\n",
              "      <th>남자20세부터24세생활인구수</th>\n",
              "      <th>남자25세부터29세생활인구수</th>\n",
              "      <th>남자30세부터34세생활인구수</th>\n",
              "      <th>남자35세부터39세생활인구수</th>\n",
              "      <th>남자40세부터44세생활인구수</th>\n",
              "      <th>남자45세부터49세생활인구수</th>\n",
              "      <th>남자50세부터54세생활인구수</th>\n",
              "      <th>남자55세부터59세생활인구수</th>\n",
              "      <th>남자60세부터64세생활인구수</th>\n",
              "      <th>남자65세부터69세생활인구수</th>\n",
              "      <th>남자70세이상생활인구수</th>\n",
              "      <th>여자0세부터9세생활인구수</th>\n",
              "      <th>여자10세부터14세생활인구수</th>\n",
              "      <th>여자15세부터19세생활인구수</th>\n",
              "      <th>여자20세부터24세생활인구수</th>\n",
              "      <th>여자25세부터29세생활인구수</th>\n",
              "      <th>여자30세부터34세생활인구수</th>\n",
              "      <th>여자35세부터39세생활인구수</th>\n",
              "      <th>여자40세부터44세생활인구수</th>\n",
              "      <th>여자45세부터49세생활인구수</th>\n",
              "      <th>여자50세부터54세생활인구수</th>\n",
              "      <th>여자55세부터59세생활인구수</th>\n",
              "      <th>여자60세부터64세생활인구수</th>\n",
              "      <th>여자65세부터69세생활인구수</th>\n",
              "      <th>여자70세이상생활인구수</th>\n",
              "    </tr>\n",
              "  </thead>\n",
              "  <tbody>\n",
              "    <tr>\n",
              "      <th>0</th>\n",
              "      <td>2017-01-01</td>\n",
              "      <td>2017</td>\n",
              "      <td>1</td>\n",
              "      <td>6</td>\n",
              "      <td>0</td>\n",
              "      <td>43922.2281</td>\n",
              "      <td>953.7652</td>\n",
              "      <td>627.7225</td>\n",
              "      <td>927.6134</td>\n",
              "      <td>2025.063</td>\n",
              "      <td>2278.7336</td>\n",
              "      <td>1744.8161</td>\n",
              "      <td>1713.6754</td>\n",
              "      <td>1520.021</td>\n",
              "      <td>1577.6384</td>\n",
              "      <td>1352.9631</td>\n",
              "      <td>1371.8521</td>\n",
              "      <td>1163.7338</td>\n",
              "      <td>888.1414</td>\n",
              "      <td>2606.2974</td>\n",
              "      <td>1099.435</td>\n",
              "      <td>667.9853</td>\n",
              "      <td>868.9061</td>\n",
              "      <td>1992.7395</td>\n",
              "      <td>2060.1511</td>\n",
              "      <td>1734.3805</td>\n",
              "      <td>1713.3332</td>\n",
              "      <td>1754.6515</td>\n",
              "      <td>1636.4175</td>\n",
              "      <td>1521.3668</td>\n",
              "      <td>1728.0639</td>\n",
              "      <td>1484.4518</td>\n",
              "      <td>1238.2606</td>\n",
              "      <td>3670.0451</td>\n",
              "    </tr>\n",
              "  </tbody>\n",
              "</table>\n",
              "</div>"
            ],
            "text/plain": [
              "       기준일ID  year  month  day  hour      총생활인구수  남자0세부터9세생활인구수  \\\n",
              "0 2017-01-01  2017      1    6     0  43922.2281       953.7652   \n",
              "\n",
              "   남자10세부터14세생활인구수  남자15세부터19세생활인구수  남자20세부터24세생활인구수  남자25세부터29세생활인구수  \\\n",
              "0         627.7225         927.6134         2025.063        2278.7336   \n",
              "\n",
              "   남자30세부터34세생활인구수  남자35세부터39세생활인구수  남자40세부터44세생활인구수  남자45세부터49세생활인구수  \\\n",
              "0        1744.8161        1713.6754         1520.021        1577.6384   \n",
              "\n",
              "   남자50세부터54세생활인구수  남자55세부터59세생활인구수  남자60세부터64세생활인구수  남자65세부터69세생활인구수  \\\n",
              "0        1352.9631        1371.8521        1163.7338         888.1414   \n",
              "\n",
              "   남자70세이상생활인구수  여자0세부터9세생활인구수  여자10세부터14세생활인구수  여자15세부터19세생활인구수  \\\n",
              "0     2606.2974       1099.435         667.9853         868.9061   \n",
              "\n",
              "   여자20세부터24세생활인구수  여자25세부터29세생활인구수  여자30세부터34세생활인구수  여자35세부터39세생활인구수  \\\n",
              "0        1992.7395        2060.1511        1734.3805        1713.3332   \n",
              "\n",
              "   여자40세부터44세생활인구수  여자45세부터49세생활인구수  여자50세부터54세생활인구수  여자55세부터59세생활인구수  \\\n",
              "0        1754.6515        1636.4175        1521.3668        1728.0639   \n",
              "\n",
              "   여자60세부터64세생활인구수  여자65세부터69세생활인구수  여자70세이상생활인구수  \n",
              "0        1484.4518        1238.2606     3670.0451  "
            ]
          },
          "execution_count": 747,
          "metadata": {},
          "output_type": "execute_result"
        }
      ],
      "source": [
        "df_total.head(1)"
      ]
    },
    {
      "cell_type": "code",
      "execution_count": null,
      "id": "d23fccf2-6472-44dd-a96a-42332cad987a",
      "metadata": {
        "id": "d23fccf2-6472-44dd-a96a-42332cad987a"
      },
      "outputs": [],
      "source": [
        "df_total.drop(['남자0세부터9세생활인구수', '남자10세부터14세생활인구수',\n",
        "       '남자15세부터19세생활인구수', '남자20세부터24세생활인구수', '남자25세부터29세생활인구수',\n",
        "       '남자30세부터34세생활인구수', '남자35세부터39세생활인구수', '남자40세부터44세생활인구수',\n",
        "       '남자45세부터49세생활인구수', '남자50세부터54세생활인구수', '남자55세부터59세생활인구수',\n",
        "       '남자60세부터64세생활인구수', '남자65세부터69세생활인구수', '남자70세이상생활인구수', '여자0세부터9세생활인구수',\n",
        "       '여자10세부터14세생활인구수', '여자15세부터19세생활인구수', '여자20세부터24세생활인구수',\n",
        "       '여자25세부터29세생활인구수', '여자30세부터34세생활인구수', '여자35세부터39세생활인구수',\n",
        "       '여자40세부터44세생활인구수', '여자45세부터49세생활인구수', '여자50세부터54세생활인구수',\n",
        "       '여자55세부터59세생활인구수', '여자60세부터64세생활인구수', '여자65세부터69세생활인구수', '여자70세이상생활인구수'],axis = 1, inplace = True)"
      ]
    },
    {
      "cell_type": "code",
      "execution_count": null,
      "id": "a855faf0-3694-4168-96da-636cee1afd19",
      "metadata": {
        "id": "a855faf0-3694-4168-96da-636cee1afd19",
        "outputId": "e8ba2f48-1bfe-405f-a11d-e5f67fae5730"
      },
      "outputs": [
        {
          "data": {
            "text/html": [
              "<div>\n",
              "<style scoped>\n",
              "    .dataframe tbody tr th:only-of-type {\n",
              "        vertical-align: middle;\n",
              "    }\n",
              "\n",
              "    .dataframe tbody tr th {\n",
              "        vertical-align: top;\n",
              "    }\n",
              "\n",
              "    .dataframe thead th {\n",
              "        text-align: right;\n",
              "    }\n",
              "</style>\n",
              "<table border=\"1\" class=\"dataframe\">\n",
              "  <thead>\n",
              "    <tr style=\"text-align: right;\">\n",
              "      <th></th>\n",
              "      <th>기준일ID</th>\n",
              "      <th>year</th>\n",
              "      <th>month</th>\n",
              "      <th>day</th>\n",
              "      <th>hour</th>\n",
              "      <th>총생활인구수</th>\n",
              "    </tr>\n",
              "  </thead>\n",
              "  <tbody>\n",
              "    <tr>\n",
              "      <th>0</th>\n",
              "      <td>2017-01-01</td>\n",
              "      <td>2017</td>\n",
              "      <td>1</td>\n",
              "      <td>6</td>\n",
              "      <td>0</td>\n",
              "      <td>43922.2281</td>\n",
              "    </tr>\n",
              "  </tbody>\n",
              "</table>\n",
              "</div>"
            ],
            "text/plain": [
              "       기준일ID  year  month  day  hour      총생활인구수\n",
              "0 2017-01-01  2017      1    6     0  43922.2281"
            ]
          },
          "execution_count": 749,
          "metadata": {},
          "output_type": "execute_result"
        }
      ],
      "source": [
        "df_total.head(1)"
      ]
    },
    {
      "cell_type": "code",
      "execution_count": null,
      "id": "79a43708-deff-492e-a264-28198e05b4c7",
      "metadata": {
        "id": "79a43708-deff-492e-a264-28198e05b4c7"
      },
      "outputs": [],
      "source": [
        "df_total.drop(['year','month','hour','day'],axis = 1, inplace = True)"
      ]
    },
    {
      "cell_type": "code",
      "execution_count": null,
      "id": "428dc79a-48c7-4bd9-ae69-81945f55f98a",
      "metadata": {
        "id": "428dc79a-48c7-4bd9-ae69-81945f55f98a",
        "outputId": "b6cc323f-676f-4091-b347-baa5676aa6d8"
      },
      "outputs": [
        {
          "data": {
            "text/html": [
              "<div>\n",
              "<style scoped>\n",
              "    .dataframe tbody tr th:only-of-type {\n",
              "        vertical-align: middle;\n",
              "    }\n",
              "\n",
              "    .dataframe tbody tr th {\n",
              "        vertical-align: top;\n",
              "    }\n",
              "\n",
              "    .dataframe thead th {\n",
              "        text-align: right;\n",
              "    }\n",
              "</style>\n",
              "<table border=\"1\" class=\"dataframe\">\n",
              "  <thead>\n",
              "    <tr style=\"text-align: right;\">\n",
              "      <th></th>\n",
              "      <th>기준일ID</th>\n",
              "      <th>총생활인구수</th>\n",
              "    </tr>\n",
              "  </thead>\n",
              "  <tbody>\n",
              "    <tr>\n",
              "      <th>0</th>\n",
              "      <td>2017-01-01</td>\n",
              "      <td>43922.2281</td>\n",
              "    </tr>\n",
              "  </tbody>\n",
              "</table>\n",
              "</div>"
            ],
            "text/plain": [
              "       기준일ID      총생활인구수\n",
              "0 2017-01-01  43922.2281"
            ]
          },
          "execution_count": 751,
          "metadata": {},
          "output_type": "execute_result"
        }
      ],
      "source": [
        "df_total.head(1)"
      ]
    },
    {
      "cell_type": "code",
      "execution_count": null,
      "id": "d015c221-35da-4406-b504-069ef414a99b",
      "metadata": {
        "id": "d015c221-35da-4406-b504-069ef414a99b"
      },
      "outputs": [],
      "source": [
        "# df_total.drop(['기준일ID'],axis = 1, inplace = True)"
      ]
    },
    {
      "cell_type": "code",
      "execution_count": null,
      "id": "488baed7-36ff-40ce-b21d-86e0acfcf83d",
      "metadata": {
        "id": "488baed7-36ff-40ce-b21d-86e0acfcf83d"
      },
      "outputs": [],
      "source": [
        "# df_total.head(1)"
      ]
    },
    {
      "cell_type": "markdown",
      "id": "83fe02cc-0ce8-4744-8351-681e8e87cf9e",
      "metadata": {
        "id": "83fe02cc-0ce8-4744-8351-681e8e87cf9e"
      },
      "source": [
        "### 값 보정하기"
      ]
    },
    {
      "cell_type": "code",
      "execution_count": null,
      "id": "5516396b-9de6-4f00-abcc-ad84392a9941",
      "metadata": {
        "id": "5516396b-9de6-4f00-abcc-ad84392a9941"
      },
      "outputs": [],
      "source": [
        "from scipy.fft import fft, fftfreq\n",
        "def FFT(df, col, topn=2):\n",
        "    fft = np.fft.fft(df[col])\n",
        "    fft[topn:-topn] = 0\n",
        "    ifft = np.fft.ifft(fft)\n",
        "    return ifft.real\n",
        "\n",
        "\n",
        "df_total['FFT(24)'] = FFT(df_total, '총생활인구수', 11000)"
      ]
    },
    {
      "cell_type": "code",
      "execution_count": null,
      "id": "e8c1e39f-fcdf-4018-8695-68bf3c712e3a",
      "metadata": {
        "id": "e8c1e39f-fcdf-4018-8695-68bf3c712e3a",
        "outputId": "980204bf-3e0a-4e14-ba3a-1041aa38dfaf"
      },
      "outputs": [
        {
          "data": {
            "image/png": "[encoded data removed]",
            "text/plain": [
              "<Figure size 1440x576 with 1 Axes>"
            ]
          },
          "metadata": {},
          "output_type": "display_data"
        }
      ],
      "source": [
        "plt.figure(figsize = (20,8))\n",
        "plt.plot(df_total['FFT(24)'])\n",
        "plt.grid()\n",
        "plt.show()"
      ]
    },
    {
      "cell_type": "code",
      "execution_count": null,
      "id": "cc971bc7-bcb2-44c4-bb28-ec9f13fe2b7d",
      "metadata": {
        "id": "cc971bc7-bcb2-44c4-bb28-ec9f13fe2b7d",
        "outputId": "f8c75afc-0072-4309-e7fb-c3a47e00b14f"
      },
      "outputs": [
        {
          "data": {
            "image/png": "[encoded data removed]",
            "text/plain": [
              "<Figure size 1440x576 with 1 Axes>"
            ]
          },
          "metadata": {},
          "output_type": "display_data"
        }
      ],
      "source": [
        "plt.figure(figsize = (20,8))\n",
        "plt.plot(df_total['FFT(24)'])\n",
        "plt.grid()\n",
        "plt.show()"
      ]
    },
    {
      "cell_type": "markdown",
      "id": "e7dd0267-453a-4a34-b81a-0f088ecda9a9",
      "metadata": {
        "id": "e7dd0267-453a-4a34-b81a-0f088ecda9a9"
      },
      "source": [
        "### 보정 그래프"
      ]
    },
    {
      "cell_type": "code",
      "execution_count": null,
      "id": "ca5c602b-c2b5-4b3e-96f7-618f92cbbc49",
      "metadata": {
        "id": "ca5c602b-c2b5-4b3e-96f7-618f92cbbc49",
        "outputId": "0f57affb-0a02-471c-e5a9-b750946ef1d9"
      },
      "outputs": [
        {
          "data": {
            "image/png": "[encoded data removed]",
            "text/plain": [
              "<Figure size 1440x576 with 1 Axes>"
            ]
          },
          "metadata": {},
          "output_type": "display_data"
        }
      ],
      "source": [
        "temp = df_total[-100:]\n",
        "plt.figure(figsize = (20,8))\n",
        "plt.plot(temp['FFT(24)'],)\n",
        "plt.grid()\n",
        "plt.show()"
      ]
    },
    {
      "cell_type": "markdown",
      "id": "0a746f9a-d925-4a90-a9da-54061d10e157",
      "metadata": {
        "id": "0a746f9a-d925-4a90-a9da-54061d10e157"
      },
      "source": [
        "### 원본그래프"
      ]
    },
    {
      "cell_type": "code",
      "execution_count": null,
      "id": "8e94028b-c6f2-4626-8e8f-c84e8a13e0ed",
      "metadata": {
        "id": "8e94028b-c6f2-4626-8e8f-c84e8a13e0ed",
        "outputId": "4e099ce1-185a-46da-8b2a-982be0aa4c24"
      },
      "outputs": [
        {
          "data": {
            "image/png": "[encoded data removed]",
            "text/plain": [
              "<Figure size 1440x576 with 1 Axes>"
            ]
          },
          "metadata": {},
          "output_type": "display_data"
        }
      ],
      "source": [
        "temp = df_total[-100:]\n",
        "plt.figure(figsize = (20,8))\n",
        "plt.plot(temp['총생활인구수'],)\n",
        "plt.grid()\n",
        "plt.show()"
      ]
    },
    {
      "cell_type": "code",
      "execution_count": null,
      "id": "9aac0ef7-ae44-42b7-90bf-680011d7f1af",
      "metadata": {
        "collapsed": true,
        "jupyter": {
          "outputs_hidden": true
        },
        "tags": [],
        "id": "9aac0ef7-ae44-42b7-90bf-680011d7f1af",
        "outputId": "d74d21f6-89f9-4d61-8bc6-ac20f1555ae1"
      },
      "outputs": [
        {
          "data": {
            "text/html": [
              "<div>\n",
              "<style scoped>\n",
              "    .dataframe tbody tr th:only-of-type {\n",
              "        vertical-align: middle;\n",
              "    }\n",
              "\n",
              "    .dataframe tbody tr th {\n",
              "        vertical-align: top;\n",
              "    }\n",
              "\n",
              "    .dataframe thead th {\n",
              "        text-align: right;\n",
              "    }\n",
              "</style>\n",
              "<table border=\"1\" class=\"dataframe\">\n",
              "  <thead>\n",
              "    <tr style=\"text-align: right;\">\n",
              "      <th></th>\n",
              "      <th>기준일ID</th>\n",
              "      <th>총생활인구수</th>\n",
              "      <th>FFT(24)</th>\n",
              "      <th>total_lag1416</th>\n",
              "    </tr>\n",
              "  </thead>\n",
              "  <tbody>\n",
              "    <tr>\n",
              "      <th>0</th>\n",
              "      <td>2017-01-01</td>\n",
              "      <td>43922.2281</td>\n",
              "      <td>42416.604594</td>\n",
              "      <td>NaN</td>\n",
              "    </tr>\n",
              "    <tr>\n",
              "      <th>1</th>\n",
              "      <td>2017-01-01</td>\n",
              "      <td>43763.4929</td>\n",
              "      <td>44308.911491</td>\n",
              "      <td>NaN</td>\n",
              "    </tr>\n",
              "    <tr>\n",
              "      <th>2</th>\n",
              "      <td>2017-01-01</td>\n",
              "      <td>43561.5708</td>\n",
              "      <td>43979.801503</td>\n",
              "      <td>NaN</td>\n",
              "    </tr>\n",
              "    <tr>\n",
              "      <th>3</th>\n",
              "      <td>2017-01-01</td>\n",
              "      <td>43928.9929</td>\n",
              "      <td>43523.563039</td>\n",
              "      <td>NaN</td>\n",
              "    </tr>\n",
              "    <tr>\n",
              "      <th>4</th>\n",
              "      <td>2017-01-01</td>\n",
              "      <td>44150.2973</td>\n",
              "      <td>44034.613288</td>\n",
              "      <td>NaN</td>\n",
              "    </tr>\n",
              "  </tbody>\n",
              "</table>\n",
              "</div>"
            ],
            "text/plain": [
              "       기준일ID      총생활인구수       FFT(24)  total_lag1416\n",
              "0 2017-01-01  43922.2281  42416.604594            NaN\n",
              "1 2017-01-01  43763.4929  44308.911491            NaN\n",
              "2 2017-01-01  43561.5708  43979.801503            NaN\n",
              "3 2017-01-01  43928.9929  43523.563039            NaN\n",
              "4 2017-01-01  44150.2973  44034.613288            NaN"
            ]
          },
          "execution_count": 759,
          "metadata": {},
          "output_type": "execute_result"
        }
      ],
      "source": [
        "df_total['total_lag1416'] = df_total['총생활인구수'].shift(1416) # default = 1\n",
        "df_total.head()"
      ]
    },
    {
      "cell_type": "code",
      "execution_count": null,
      "id": "607cb86b-4a04-4b76-9070-a2ee62b230a3",
      "metadata": {
        "id": "607cb86b-4a04-4b76-9070-a2ee62b230a3"
      },
      "outputs": [],
      "source": [
        "df_total['1hour_shift'] = df_total['총생활인구수'].shift(1)"
      ]
    },
    {
      "cell_type": "code",
      "execution_count": null,
      "id": "203ff4b2-3188-456d-b25c-0533bc779437",
      "metadata": {
        "id": "203ff4b2-3188-456d-b25c-0533bc779437"
      },
      "outputs": [],
      "source": [
        "df_total['24hour_shift'] = df_total['총생활인구수'].shift(24)"
      ]
    },
    {
      "cell_type": "code",
      "execution_count": null,
      "id": "46bfac87-bf71-41c5-8f35-5ddd059f5a2b",
      "metadata": {
        "collapsed": true,
        "jupyter": {
          "outputs_hidden": true
        },
        "tags": [],
        "id": "46bfac87-bf71-41c5-8f35-5ddd059f5a2b",
        "outputId": "def9114a-0f99-4024-8f93-027a0fd6a2e3"
      },
      "outputs": [
        {
          "data": {
            "text/html": [
              "<div>\n",
              "<style scoped>\n",
              "    .dataframe tbody tr th:only-of-type {\n",
              "        vertical-align: middle;\n",
              "    }\n",
              "\n",
              "    .dataframe tbody tr th {\n",
              "        vertical-align: top;\n",
              "    }\n",
              "\n",
              "    .dataframe thead th {\n",
              "        text-align: right;\n",
              "    }\n",
              "</style>\n",
              "<table border=\"1\" class=\"dataframe\">\n",
              "  <thead>\n",
              "    <tr style=\"text-align: right;\">\n",
              "      <th></th>\n",
              "      <th>기준일ID</th>\n",
              "      <th>총생활인구수</th>\n",
              "      <th>FFT(24)</th>\n",
              "      <th>total_lag1416</th>\n",
              "      <th>1hour_shift</th>\n",
              "      <th>24hour_shift</th>\n",
              "      <th>total_MA7_lag1416</th>\n",
              "    </tr>\n",
              "  </thead>\n",
              "  <tbody>\n",
              "    <tr>\n",
              "      <th>0</th>\n",
              "      <td>2017-01-01</td>\n",
              "      <td>43922.2281</td>\n",
              "      <td>42416.604594</td>\n",
              "      <td>NaN</td>\n",
              "      <td>NaN</td>\n",
              "      <td>NaN</td>\n",
              "      <td>NaN</td>\n",
              "    </tr>\n",
              "    <tr>\n",
              "      <th>1</th>\n",
              "      <td>2017-01-01</td>\n",
              "      <td>43763.4929</td>\n",
              "      <td>44308.911491</td>\n",
              "      <td>NaN</td>\n",
              "      <td>43922.2281</td>\n",
              "      <td>NaN</td>\n",
              "      <td>NaN</td>\n",
              "    </tr>\n",
              "    <tr>\n",
              "      <th>2</th>\n",
              "      <td>2017-01-01</td>\n",
              "      <td>43561.5708</td>\n",
              "      <td>43979.801503</td>\n",
              "      <td>NaN</td>\n",
              "      <td>43763.4929</td>\n",
              "      <td>NaN</td>\n",
              "      <td>NaN</td>\n",
              "    </tr>\n",
              "    <tr>\n",
              "      <th>3</th>\n",
              "      <td>2017-01-01</td>\n",
              "      <td>43928.9929</td>\n",
              "      <td>43523.563039</td>\n",
              "      <td>NaN</td>\n",
              "      <td>43561.5708</td>\n",
              "      <td>NaN</td>\n",
              "      <td>NaN</td>\n",
              "    </tr>\n",
              "    <tr>\n",
              "      <th>4</th>\n",
              "      <td>2017-01-01</td>\n",
              "      <td>44150.2973</td>\n",
              "      <td>44034.613288</td>\n",
              "      <td>NaN</td>\n",
              "      <td>43928.9929</td>\n",
              "      <td>NaN</td>\n",
              "      <td>NaN</td>\n",
              "    </tr>\n",
              "  </tbody>\n",
              "</table>\n",
              "</div>"
            ],
            "text/plain": [
              "       기준일ID      총생활인구수       FFT(24)  total_lag1416  1hour_shift  \\\n",
              "0 2017-01-01  43922.2281  42416.604594            NaN          NaN   \n",
              "1 2017-01-01  43763.4929  44308.911491            NaN   43922.2281   \n",
              "2 2017-01-01  43561.5708  43979.801503            NaN   43763.4929   \n",
              "3 2017-01-01  43928.9929  43523.563039            NaN   43561.5708   \n",
              "4 2017-01-01  44150.2973  44034.613288            NaN   43928.9929   \n",
              "\n",
              "   24hour_shift  total_MA7_lag1416  \n",
              "0           NaN                NaN  \n",
              "1           NaN                NaN  \n",
              "2           NaN                NaN  \n",
              "3           NaN                NaN  \n",
              "4           NaN                NaN  "
            ]
          },
          "execution_count": 762,
          "metadata": {},
          "output_type": "execute_result"
        }
      ],
      "source": [
        "df_total['total_MA7_lag1416'] = df_total['총생활인구수'].rolling(24).mean().shift()\n",
        "df_total.head()"
      ]
    },
    {
      "cell_type": "code",
      "execution_count": null,
      "id": "e175db11-c80b-4820-b61d-fee886c4cc47",
      "metadata": {
        "id": "e175db11-c80b-4820-b61d-fee886c4cc47"
      },
      "outputs": [],
      "source": [
        "df_total['2month_shift'] = df_total['총생활인구수'].shift(-1416)"
      ]
    },
    {
      "cell_type": "code",
      "execution_count": null,
      "id": "96d72f60-a3bf-4de3-a893-b9c87b07f06e",
      "metadata": {
        "collapsed": true,
        "jupyter": {
          "outputs_hidden": true
        },
        "tags": [],
        "id": "96d72f60-a3bf-4de3-a893-b9c87b07f06e",
        "outputId": "ad0140b2-4c7e-4b70-b99b-942ac905d081"
      },
      "outputs": [
        {
          "data": {
            "text/html": [
              "<div>\n",
              "<style scoped>\n",
              "    .dataframe tbody tr th:only-of-type {\n",
              "        vertical-align: middle;\n",
              "    }\n",
              "\n",
              "    .dataframe tbody tr th {\n",
              "        vertical-align: top;\n",
              "    }\n",
              "\n",
              "    .dataframe thead th {\n",
              "        text-align: right;\n",
              "    }\n",
              "</style>\n",
              "<table border=\"1\" class=\"dataframe\">\n",
              "  <thead>\n",
              "    <tr style=\"text-align: right;\">\n",
              "      <th></th>\n",
              "      <th>기준일ID</th>\n",
              "      <th>총생활인구수</th>\n",
              "      <th>FFT(24)</th>\n",
              "      <th>total_lag1416</th>\n",
              "      <th>1hour_shift</th>\n",
              "      <th>24hour_shift</th>\n",
              "      <th>total_MA7_lag1416</th>\n",
              "      <th>2month_shift</th>\n",
              "      <th>total_FFT_lag1416</th>\n",
              "    </tr>\n",
              "  </thead>\n",
              "  <tbody>\n",
              "    <tr>\n",
              "      <th>43507</th>\n",
              "      <td>2021-12-31</td>\n",
              "      <td>33304.5400</td>\n",
              "      <td>33750.951387</td>\n",
              "      <td>35708.4819</td>\n",
              "      <td>33773.1695</td>\n",
              "      <td>34687.7515</td>\n",
              "      <td>36299.766308</td>\n",
              "      <td>NaN</td>\n",
              "      <td>33384.697323</td>\n",
              "    </tr>\n",
              "    <tr>\n",
              "      <th>43508</th>\n",
              "      <td>2021-12-31</td>\n",
              "      <td>33368.7201</td>\n",
              "      <td>33660.752114</td>\n",
              "      <td>35924.7026</td>\n",
              "      <td>33304.5400</td>\n",
              "      <td>34728.1718</td>\n",
              "      <td>36283.074912</td>\n",
              "      <td>NaN</td>\n",
              "      <td>33750.951387</td>\n",
              "    </tr>\n",
              "    <tr>\n",
              "      <th>43509</th>\n",
              "      <td>2021-12-31</td>\n",
              "      <td>34083.1721</td>\n",
              "      <td>33260.008568</td>\n",
              "      <td>36597.7205</td>\n",
              "      <td>33368.7201</td>\n",
              "      <td>35767.8222</td>\n",
              "      <td>36280.092775</td>\n",
              "      <td>NaN</td>\n",
              "      <td>33660.752114</td>\n",
              "    </tr>\n",
              "    <tr>\n",
              "      <th>43510</th>\n",
              "      <td>2021-12-31</td>\n",
              "      <td>34380.0806</td>\n",
              "      <td>34497.689461</td>\n",
              "      <td>37163.4665</td>\n",
              "      <td>34083.1721</td>\n",
              "      <td>36193.0573</td>\n",
              "      <td>36283.295946</td>\n",
              "      <td>NaN</td>\n",
              "      <td>33260.008568</td>\n",
              "    </tr>\n",
              "    <tr>\n",
              "      <th>43511</th>\n",
              "      <td>2021-12-31</td>\n",
              "      <td>37074.2785</td>\n",
              "      <td>38255.857648</td>\n",
              "      <td>39853.9949</td>\n",
              "      <td>34380.0806</td>\n",
              "      <td>38468.1344</td>\n",
              "      <td>36261.276571</td>\n",
              "      <td>NaN</td>\n",
              "      <td>34497.689461</td>\n",
              "    </tr>\n",
              "  </tbody>\n",
              "</table>\n",
              "</div>"
            ],
            "text/plain": [
              "           기준일ID      총생활인구수       FFT(24)  total_lag1416  1hour_shift  \\\n",
              "43507 2021-12-31  33304.5400  33750.951387     35708.4819   33773.1695   \n",
              "43508 2021-12-31  33368.7201  33660.752114     35924.7026   33304.5400   \n",
              "43509 2021-12-31  34083.1721  33260.008568     36597.7205   33368.7201   \n",
              "43510 2021-12-31  34380.0806  34497.689461     37163.4665   34083.1721   \n",
              "43511 2021-12-31  37074.2785  38255.857648     39853.9949   34380.0806   \n",
              "\n",
              "       24hour_shift  total_MA7_lag1416  2month_shift  total_FFT_lag1416  \n",
              "43507    34687.7515       36299.766308           NaN       33384.697323  \n",
              "43508    34728.1718       36283.074912           NaN       33750.951387  \n",
              "43509    35767.8222       36280.092775           NaN       33660.752114  \n",
              "43510    36193.0573       36283.295946           NaN       33260.008568  \n",
              "43511    38468.1344       36261.276571           NaN       34497.689461  "
            ]
          },
          "execution_count": 764,
          "metadata": {},
          "output_type": "execute_result"
        }
      ],
      "source": [
        "df_total['total_FFT_lag1416'] = df_total['FFT(24)'].shift(1)\n",
        "df_total.tail()"
      ]
    },
    {
      "cell_type": "code",
      "execution_count": null,
      "id": "16aa4601-5829-4ae5-a2ee-9ac18c1e604a",
      "metadata": {
        "id": "16aa4601-5829-4ae5-a2ee-9ac18c1e604a"
      },
      "outputs": [],
      "source": [
        "df_total.drop(['FFT(24)'],axis = 1, inplace = True)"
      ]
    },
    {
      "cell_type": "code",
      "execution_count": null,
      "id": "75846e4e-0260-40d7-8fc0-d75bc410b2b6",
      "metadata": {
        "id": "75846e4e-0260-40d7-8fc0-d75bc410b2b6",
        "outputId": "99f5f4fa-aeae-4135-d9e2-29588eaf4b65"
      },
      "outputs": [
        {
          "name": "stdout",
          "output_type": "stream",
          "text": [
            "(43512, 8)\n"
          ]
        }
      ],
      "source": [
        "print(df_total.shape)"
      ]
    },
    {
      "cell_type": "code",
      "execution_count": null,
      "id": "65fc71d7-47a7-4f00-a816-1ef264e1eff3",
      "metadata": {
        "collapsed": true,
        "jupyter": {
          "outputs_hidden": true
        },
        "tags": [],
        "id": "65fc71d7-47a7-4f00-a816-1ef264e1eff3",
        "outputId": "c4a2bcad-4719-43ed-c5b9-87a999b1cee0"
      },
      "outputs": [
        {
          "data": {
            "text/html": [
              "<div>\n",
              "<style scoped>\n",
              "    .dataframe tbody tr th:only-of-type {\n",
              "        vertical-align: middle;\n",
              "    }\n",
              "\n",
              "    .dataframe tbody tr th {\n",
              "        vertical-align: top;\n",
              "    }\n",
              "\n",
              "    .dataframe thead th {\n",
              "        text-align: right;\n",
              "    }\n",
              "</style>\n",
              "<table border=\"1\" class=\"dataframe\">\n",
              "  <thead>\n",
              "    <tr style=\"text-align: right;\">\n",
              "      <th></th>\n",
              "      <th>기준일ID</th>\n",
              "      <th>총생활인구수</th>\n",
              "      <th>total_lag1416</th>\n",
              "      <th>1hour_shift</th>\n",
              "      <th>24hour_shift</th>\n",
              "      <th>total_MA7_lag1416</th>\n",
              "      <th>2month_shift</th>\n",
              "      <th>total_FFT_lag1416</th>\n",
              "    </tr>\n",
              "  </thead>\n",
              "  <tbody>\n",
              "    <tr>\n",
              "      <th>0</th>\n",
              "      <td>2017-01-01</td>\n",
              "      <td>43922.2281</td>\n",
              "      <td>NaN</td>\n",
              "      <td>NaN</td>\n",
              "      <td>NaN</td>\n",
              "      <td>NaN</td>\n",
              "      <td>42753.6551</td>\n",
              "      <td>NaN</td>\n",
              "    </tr>\n",
              "    <tr>\n",
              "      <th>1</th>\n",
              "      <td>2017-01-01</td>\n",
              "      <td>43763.4929</td>\n",
              "      <td>NaN</td>\n",
              "      <td>43922.2281</td>\n",
              "      <td>NaN</td>\n",
              "      <td>NaN</td>\n",
              "      <td>42903.9443</td>\n",
              "      <td>42416.604594</td>\n",
              "    </tr>\n",
              "    <tr>\n",
              "      <th>2</th>\n",
              "      <td>2017-01-01</td>\n",
              "      <td>43561.5708</td>\n",
              "      <td>NaN</td>\n",
              "      <td>43763.4929</td>\n",
              "      <td>NaN</td>\n",
              "      <td>NaN</td>\n",
              "      <td>43253.2915</td>\n",
              "      <td>44308.911491</td>\n",
              "    </tr>\n",
              "    <tr>\n",
              "      <th>3</th>\n",
              "      <td>2017-01-01</td>\n",
              "      <td>43928.9929</td>\n",
              "      <td>NaN</td>\n",
              "      <td>43561.5708</td>\n",
              "      <td>NaN</td>\n",
              "      <td>NaN</td>\n",
              "      <td>43554.8642</td>\n",
              "      <td>43979.801503</td>\n",
              "    </tr>\n",
              "    <tr>\n",
              "      <th>4</th>\n",
              "      <td>2017-01-01</td>\n",
              "      <td>44150.2973</td>\n",
              "      <td>NaN</td>\n",
              "      <td>43928.9929</td>\n",
              "      <td>NaN</td>\n",
              "      <td>NaN</td>\n",
              "      <td>44111.1352</td>\n",
              "      <td>43523.563039</td>\n",
              "    </tr>\n",
              "  </tbody>\n",
              "</table>\n",
              "</div>"
            ],
            "text/plain": [
              "       기준일ID      총생활인구수  total_lag1416  1hour_shift  24hour_shift  \\\n",
              "0 2017-01-01  43922.2281            NaN          NaN           NaN   \n",
              "1 2017-01-01  43763.4929            NaN   43922.2281           NaN   \n",
              "2 2017-01-01  43561.5708            NaN   43763.4929           NaN   \n",
              "3 2017-01-01  43928.9929            NaN   43561.5708           NaN   \n",
              "4 2017-01-01  44150.2973            NaN   43928.9929           NaN   \n",
              "\n",
              "   total_MA7_lag1416  2month_shift  total_FFT_lag1416  \n",
              "0                NaN    42753.6551                NaN  \n",
              "1                NaN    42903.9443       42416.604594  \n",
              "2                NaN    43253.2915       44308.911491  \n",
              "3                NaN    43554.8642       43979.801503  \n",
              "4                NaN    44111.1352       43523.563039  "
            ]
          },
          "execution_count": 767,
          "metadata": {},
          "output_type": "execute_result"
        }
      ],
      "source": [
        "df_total.head()"
      ]
    },
    {
      "cell_type": "code",
      "execution_count": null,
      "id": "7be5b800-14b8-49c1-884f-3c1116fe40a6",
      "metadata": {
        "id": "7be5b800-14b8-49c1-884f-3c1116fe40a6"
      },
      "outputs": [],
      "source": [
        "# df_total.drop(['year','month'],axis = 1, inplace = True)"
      ]
    },
    {
      "cell_type": "code",
      "execution_count": null,
      "id": "34531f44-b144-4d4e-ad42-fac5c22c5049",
      "metadata": {
        "id": "34531f44-b144-4d4e-ad42-fac5c22c5049"
      },
      "outputs": [],
      "source": [
        "# df_total = pd.get_dummies(df_total, columns=['day','hour'], drop_first=False)"
      ]
    },
    {
      "cell_type": "code",
      "execution_count": null,
      "id": "81d15431-ecff-480c-baa9-d7422832a322",
      "metadata": {
        "id": "81d15431-ecff-480c-baa9-d7422832a322",
        "outputId": "417dad1c-1d69-4c35-9664-2944bf46f38e"
      },
      "outputs": [
        {
          "data": {
            "text/html": [
              "<div>\n",
              "<style scoped>\n",
              "    .dataframe tbody tr th:only-of-type {\n",
              "        vertical-align: middle;\n",
              "    }\n",
              "\n",
              "    .dataframe tbody tr th {\n",
              "        vertical-align: top;\n",
              "    }\n",
              "\n",
              "    .dataframe thead th {\n",
              "        text-align: right;\n",
              "    }\n",
              "</style>\n",
              "<table border=\"1\" class=\"dataframe\">\n",
              "  <thead>\n",
              "    <tr style=\"text-align: right;\">\n",
              "      <th></th>\n",
              "      <th>기준일ID</th>\n",
              "      <th>총생활인구수</th>\n",
              "      <th>total_lag1416</th>\n",
              "      <th>1hour_shift</th>\n",
              "      <th>24hour_shift</th>\n",
              "      <th>total_MA7_lag1416</th>\n",
              "      <th>2month_shift</th>\n",
              "      <th>total_FFT_lag1416</th>\n",
              "    </tr>\n",
              "  </thead>\n",
              "  <tbody>\n",
              "    <tr>\n",
              "      <th>0</th>\n",
              "      <td>2017-01-01</td>\n",
              "      <td>43922.2281</td>\n",
              "      <td>NaN</td>\n",
              "      <td>NaN</td>\n",
              "      <td>NaN</td>\n",
              "      <td>NaN</td>\n",
              "      <td>42753.6551</td>\n",
              "      <td>NaN</td>\n",
              "    </tr>\n",
              "    <tr>\n",
              "      <th>1</th>\n",
              "      <td>2017-01-01</td>\n",
              "      <td>43763.4929</td>\n",
              "      <td>NaN</td>\n",
              "      <td>43922.2281</td>\n",
              "      <td>NaN</td>\n",
              "      <td>NaN</td>\n",
              "      <td>42903.9443</td>\n",
              "      <td>42416.604594</td>\n",
              "    </tr>\n",
              "    <tr>\n",
              "      <th>2</th>\n",
              "      <td>2017-01-01</td>\n",
              "      <td>43561.5708</td>\n",
              "      <td>NaN</td>\n",
              "      <td>43763.4929</td>\n",
              "      <td>NaN</td>\n",
              "      <td>NaN</td>\n",
              "      <td>43253.2915</td>\n",
              "      <td>44308.911491</td>\n",
              "    </tr>\n",
              "    <tr>\n",
              "      <th>3</th>\n",
              "      <td>2017-01-01</td>\n",
              "      <td>43928.9929</td>\n",
              "      <td>NaN</td>\n",
              "      <td>43561.5708</td>\n",
              "      <td>NaN</td>\n",
              "      <td>NaN</td>\n",
              "      <td>43554.8642</td>\n",
              "      <td>43979.801503</td>\n",
              "    </tr>\n",
              "    <tr>\n",
              "      <th>4</th>\n",
              "      <td>2017-01-01</td>\n",
              "      <td>44150.2973</td>\n",
              "      <td>NaN</td>\n",
              "      <td>43928.9929</td>\n",
              "      <td>NaN</td>\n",
              "      <td>NaN</td>\n",
              "      <td>44111.1352</td>\n",
              "      <td>43523.563039</td>\n",
              "    </tr>\n",
              "  </tbody>\n",
              "</table>\n",
              "</div>"
            ],
            "text/plain": [
              "       기준일ID      총생활인구수  total_lag1416  1hour_shift  24hour_shift  \\\n",
              "0 2017-01-01  43922.2281            NaN          NaN           NaN   \n",
              "1 2017-01-01  43763.4929            NaN   43922.2281           NaN   \n",
              "2 2017-01-01  43561.5708            NaN   43763.4929           NaN   \n",
              "3 2017-01-01  43928.9929            NaN   43561.5708           NaN   \n",
              "4 2017-01-01  44150.2973            NaN   43928.9929           NaN   \n",
              "\n",
              "   total_MA7_lag1416  2month_shift  total_FFT_lag1416  \n",
              "0                NaN    42753.6551                NaN  \n",
              "1                NaN    42903.9443       42416.604594  \n",
              "2                NaN    43253.2915       44308.911491  \n",
              "3                NaN    43554.8642       43979.801503  \n",
              "4                NaN    44111.1352       43523.563039  "
            ]
          },
          "execution_count": 770,
          "metadata": {},
          "output_type": "execute_result"
        }
      ],
      "source": [
        "df_total.head()"
      ]
    },
    {
      "cell_type": "code",
      "execution_count": null,
      "id": "3a716c7d-8588-4f21-8ef6-87ed7a9ba6be",
      "metadata": {
        "id": "3a716c7d-8588-4f21-8ef6-87ed7a9ba6be"
      },
      "outputs": [],
      "source": [
        "df_total = df_total.dropna(axis = 0)"
      ]
    },
    {
      "cell_type": "code",
      "execution_count": null,
      "id": "d8ac0407-c182-4109-93ee-bf3f6f363750",
      "metadata": {
        "id": "d8ac0407-c182-4109-93ee-bf3f6f363750"
      },
      "outputs": [],
      "source": []
    },
    {
      "cell_type": "code",
      "execution_count": null,
      "id": "6d7e018e-f082-440f-88a6-7dbde9c8e1d1",
      "metadata": {
        "id": "6d7e018e-f082-440f-88a6-7dbde9c8e1d1",
        "outputId": "c8e7f844-2880-4cc0-ffa2-beb65b13c6f6"
      },
      "outputs": [
        {
          "data": {
            "text/html": [
              "<div>\n",
              "<style scoped>\n",
              "    .dataframe tbody tr th:only-of-type {\n",
              "        vertical-align: middle;\n",
              "    }\n",
              "\n",
              "    .dataframe tbody tr th {\n",
              "        vertical-align: top;\n",
              "    }\n",
              "\n",
              "    .dataframe thead th {\n",
              "        text-align: right;\n",
              "    }\n",
              "</style>\n",
              "<table border=\"1\" class=\"dataframe\">\n",
              "  <thead>\n",
              "    <tr style=\"text-align: right;\">\n",
              "      <th></th>\n",
              "      <th>기준일ID</th>\n",
              "      <th>총생활인구수</th>\n",
              "      <th>total_lag1416</th>\n",
              "      <th>1hour_shift</th>\n",
              "      <th>24hour_shift</th>\n",
              "      <th>total_MA7_lag1416</th>\n",
              "      <th>2month_shift</th>\n",
              "      <th>total_FFT_lag1416</th>\n",
              "    </tr>\n",
              "  </thead>\n",
              "  <tbody>\n",
              "    <tr>\n",
              "      <th>1416</th>\n",
              "      <td>2017-03-01</td>\n",
              "      <td>42753.6551</td>\n",
              "      <td>43922.2281</td>\n",
              "      <td>41945.0539</td>\n",
              "      <td>43562.4131</td>\n",
              "      <td>41486.935054</td>\n",
              "      <td>41920.7067</td>\n",
              "      <td>41902.807065</td>\n",
              "    </tr>\n",
              "    <tr>\n",
              "      <th>1417</th>\n",
              "      <td>2017-03-01</td>\n",
              "      <td>42903.9443</td>\n",
              "      <td>43763.4929</td>\n",
              "      <td>42753.6551</td>\n",
              "      <td>43796.3046</td>\n",
              "      <td>41493.253871</td>\n",
              "      <td>42375.3159</td>\n",
              "      <td>42741.920792</td>\n",
              "    </tr>\n",
              "    <tr>\n",
              "      <th>1418</th>\n",
              "      <td>2017-03-01</td>\n",
              "      <td>43253.2915</td>\n",
              "      <td>43561.5708</td>\n",
              "      <td>42903.9443</td>\n",
              "      <td>43761.4846</td>\n",
              "      <td>41486.604017</td>\n",
              "      <td>42342.7795</td>\n",
              "      <td>42969.731821</td>\n",
              "    </tr>\n",
              "    <tr>\n",
              "      <th>1419</th>\n",
              "      <td>2017-03-01</td>\n",
              "      <td>43554.8642</td>\n",
              "      <td>43928.9929</td>\n",
              "      <td>43253.2915</td>\n",
              "      <td>44003.9704</td>\n",
              "      <td>41486.667438</td>\n",
              "      <td>42592.8615</td>\n",
              "      <td>43140.448861</td>\n",
              "    </tr>\n",
              "    <tr>\n",
              "      <th>1420</th>\n",
              "      <td>2017-03-01</td>\n",
              "      <td>44111.1352</td>\n",
              "      <td>44150.2973</td>\n",
              "      <td>43554.8642</td>\n",
              "      <td>44330.8649</td>\n",
              "      <td>41489.279675</td>\n",
              "      <td>42518.2433</td>\n",
              "      <td>43652.294508</td>\n",
              "    </tr>\n",
              "  </tbody>\n",
              "</table>\n",
              "</div>"
            ],
            "text/plain": [
              "          기준일ID      총생활인구수  total_lag1416  1hour_shift  24hour_shift  \\\n",
              "1416 2017-03-01  42753.6551     43922.2281   41945.0539    43562.4131   \n",
              "1417 2017-03-01  42903.9443     43763.4929   42753.6551    43796.3046   \n",
              "1418 2017-03-01  43253.2915     43561.5708   42903.9443    43761.4846   \n",
              "1419 2017-03-01  43554.8642     43928.9929   43253.2915    44003.9704   \n",
              "1420 2017-03-01  44111.1352     44150.2973   43554.8642    44330.8649   \n",
              "\n",
              "      total_MA7_lag1416  2month_shift  total_FFT_lag1416  \n",
              "1416       41486.935054    41920.7067       41902.807065  \n",
              "1417       41493.253871    42375.3159       42741.920792  \n",
              "1418       41486.604017    42342.7795       42969.731821  \n",
              "1419       41486.667438    42592.8615       43140.448861  \n",
              "1420       41489.279675    42518.2433       43652.294508  "
            ]
          },
          "execution_count": 772,
          "metadata": {},
          "output_type": "execute_result"
        }
      ],
      "source": [
        "df_total.head()"
      ]
    },
    {
      "cell_type": "code",
      "execution_count": null,
      "id": "2fe3a25d-720c-41c5-9c08-9b1d79a33c4e",
      "metadata": {
        "id": "2fe3a25d-720c-41c5-9c08-9b1d79a33c4e"
      },
      "outputs": [],
      "source": [
        "df = df_total.copy()"
      ]
    },
    {
      "cell_type": "code",
      "execution_count": null,
      "id": "a8389d36-54db-4ba2-bb2a-cc704c639f05",
      "metadata": {
        "id": "a8389d36-54db-4ba2-bb2a-cc704c639f05"
      },
      "outputs": [],
      "source": [
        "train_data = df[:len(df)-1416]"
      ]
    },
    {
      "cell_type": "code",
      "execution_count": null,
      "id": "ff7fa582-d625-46b8-a5ac-bfb34fbd7ba9",
      "metadata": {
        "id": "ff7fa582-d625-46b8-a5ac-bfb34fbd7ba9"
      },
      "outputs": [],
      "source": [
        "test_data = df[len(df) - 1416:]"
      ]
    },
    {
      "cell_type": "code",
      "execution_count": null,
      "id": "30e4fb7e-3664-4ded-aa6d-e16b00d11425",
      "metadata": {
        "id": "30e4fb7e-3664-4ded-aa6d-e16b00d11425",
        "outputId": "db720b82-b724-413f-af09-19d98195f388"
      },
      "outputs": [
        {
          "data": {
            "text/html": [
              "<div>\n",
              "<style scoped>\n",
              "    .dataframe tbody tr th:only-of-type {\n",
              "        vertical-align: middle;\n",
              "    }\n",
              "\n",
              "    .dataframe tbody tr th {\n",
              "        vertical-align: top;\n",
              "    }\n",
              "\n",
              "    .dataframe thead th {\n",
              "        text-align: right;\n",
              "    }\n",
              "</style>\n",
              "<table border=\"1\" class=\"dataframe\">\n",
              "  <thead>\n",
              "    <tr style=\"text-align: right;\">\n",
              "      <th></th>\n",
              "      <th>기준일ID</th>\n",
              "      <th>총생활인구수</th>\n",
              "      <th>total_lag1416</th>\n",
              "      <th>1hour_shift</th>\n",
              "      <th>24hour_shift</th>\n",
              "      <th>total_MA7_lag1416</th>\n",
              "      <th>2month_shift</th>\n",
              "      <th>total_FFT_lag1416</th>\n",
              "    </tr>\n",
              "  </thead>\n",
              "  <tbody>\n",
              "    <tr>\n",
              "      <th>1416</th>\n",
              "      <td>2017-03-01</td>\n",
              "      <td>42753.6551</td>\n",
              "      <td>43922.2281</td>\n",
              "      <td>41945.0539</td>\n",
              "      <td>43562.4131</td>\n",
              "      <td>41486.935054</td>\n",
              "      <td>41920.7067</td>\n",
              "      <td>41902.807065</td>\n",
              "    </tr>\n",
              "    <tr>\n",
              "      <th>1417</th>\n",
              "      <td>2017-03-01</td>\n",
              "      <td>42903.9443</td>\n",
              "      <td>43763.4929</td>\n",
              "      <td>42753.6551</td>\n",
              "      <td>43796.3046</td>\n",
              "      <td>41493.253871</td>\n",
              "      <td>42375.3159</td>\n",
              "      <td>42741.920792</td>\n",
              "    </tr>\n",
              "    <tr>\n",
              "      <th>1418</th>\n",
              "      <td>2017-03-01</td>\n",
              "      <td>43253.2915</td>\n",
              "      <td>43561.5708</td>\n",
              "      <td>42903.9443</td>\n",
              "      <td>43761.4846</td>\n",
              "      <td>41486.604017</td>\n",
              "      <td>42342.7795</td>\n",
              "      <td>42969.731821</td>\n",
              "    </tr>\n",
              "    <tr>\n",
              "      <th>1419</th>\n",
              "      <td>2017-03-01</td>\n",
              "      <td>43554.8642</td>\n",
              "      <td>43928.9929</td>\n",
              "      <td>43253.2915</td>\n",
              "      <td>44003.9704</td>\n",
              "      <td>41486.667438</td>\n",
              "      <td>42592.8615</td>\n",
              "      <td>43140.448861</td>\n",
              "    </tr>\n",
              "    <tr>\n",
              "      <th>1420</th>\n",
              "      <td>2017-03-01</td>\n",
              "      <td>44111.1352</td>\n",
              "      <td>44150.2973</td>\n",
              "      <td>43554.8642</td>\n",
              "      <td>44330.8649</td>\n",
              "      <td>41489.279675</td>\n",
              "      <td>42518.2433</td>\n",
              "      <td>43652.294508</td>\n",
              "    </tr>\n",
              "    <tr>\n",
              "      <th>...</th>\n",
              "      <td>...</td>\n",
              "      <td>...</td>\n",
              "      <td>...</td>\n",
              "      <td>...</td>\n",
              "      <td>...</td>\n",
              "      <td>...</td>\n",
              "      <td>...</td>\n",
              "      <td>...</td>\n",
              "    </tr>\n",
              "    <tr>\n",
              "      <th>40675</th>\n",
              "      <td>2021-09-04</td>\n",
              "      <td>36948.3439</td>\n",
              "      <td>36189.4392</td>\n",
              "      <td>37007.6076</td>\n",
              "      <td>36550.1959</td>\n",
              "      <td>38455.009708</td>\n",
              "      <td>35708.4819</td>\n",
              "      <td>37064.909219</td>\n",
              "    </tr>\n",
              "    <tr>\n",
              "      <th>40676</th>\n",
              "      <td>2021-09-04</td>\n",
              "      <td>36599.8404</td>\n",
              "      <td>36548.4999</td>\n",
              "      <td>36948.3439</td>\n",
              "      <td>36875.3016</td>\n",
              "      <td>38444.130971</td>\n",
              "      <td>35924.7026</td>\n",
              "      <td>36991.330873</td>\n",
              "    </tr>\n",
              "    <tr>\n",
              "      <th>40677</th>\n",
              "      <td>2021-09-04</td>\n",
              "      <td>36754.5732</td>\n",
              "      <td>36693.9998</td>\n",
              "      <td>36599.8404</td>\n",
              "      <td>37537.6841</td>\n",
              "      <td>38416.223654</td>\n",
              "      <td>36597.7205</td>\n",
              "      <td>36604.470098</td>\n",
              "    </tr>\n",
              "    <tr>\n",
              "      <th>40678</th>\n",
              "      <td>2021-09-04</td>\n",
              "      <td>36751.0401</td>\n",
              "      <td>37601.0936</td>\n",
              "      <td>36754.5732</td>\n",
              "      <td>37773.6538</td>\n",
              "      <td>38398.762537</td>\n",
              "      <td>37163.4665</td>\n",
              "      <td>36460.908998</td>\n",
              "    </tr>\n",
              "    <tr>\n",
              "      <th>40679</th>\n",
              "      <td>2021-09-04</td>\n",
              "      <td>39239.6609</td>\n",
              "      <td>40185.1338</td>\n",
              "      <td>36751.0401</td>\n",
              "      <td>40546.8265</td>\n",
              "      <td>38371.619896</td>\n",
              "      <td>39853.9949</td>\n",
              "      <td>37310.682686</td>\n",
              "    </tr>\n",
              "  </tbody>\n",
              "</table>\n",
              "<p>39264 rows × 8 columns</p>\n",
              "</div>"
            ],
            "text/plain": [
              "           기준일ID      총생활인구수  total_lag1416  1hour_shift  24hour_shift  \\\n",
              "1416  2017-03-01  42753.6551     43922.2281   41945.0539    43562.4131   \n",
              "1417  2017-03-01  42903.9443     43763.4929   42753.6551    43796.3046   \n",
              "1418  2017-03-01  43253.2915     43561.5708   42903.9443    43761.4846   \n",
              "1419  2017-03-01  43554.8642     43928.9929   43253.2915    44003.9704   \n",
              "1420  2017-03-01  44111.1352     44150.2973   43554.8642    44330.8649   \n",
              "...          ...         ...            ...          ...           ...   \n",
              "40675 2021-09-04  36948.3439     36189.4392   37007.6076    36550.1959   \n",
              "40676 2021-09-04  36599.8404     36548.4999   36948.3439    36875.3016   \n",
              "40677 2021-09-04  36754.5732     36693.9998   36599.8404    37537.6841   \n",
              "40678 2021-09-04  36751.0401     37601.0936   36754.5732    37773.6538   \n",
              "40679 2021-09-04  39239.6609     40185.1338   36751.0401    40546.8265   \n",
              "\n",
              "       total_MA7_lag1416  2month_shift  total_FFT_lag1416  \n",
              "1416        41486.935054    41920.7067       41902.807065  \n",
              "1417        41493.253871    42375.3159       42741.920792  \n",
              "1418        41486.604017    42342.7795       42969.731821  \n",
              "1419        41486.667438    42592.8615       43140.448861  \n",
              "1420        41489.279675    42518.2433       43652.294508  \n",
              "...                  ...           ...                ...  \n",
              "40675       38455.009708    35708.4819       37064.909219  \n",
              "40676       38444.130971    35924.7026       36991.330873  \n",
              "40677       38416.223654    36597.7205       36604.470098  \n",
              "40678       38398.762537    37163.4665       36460.908998  \n",
              "40679       38371.619896    39853.9949       37310.682686  \n",
              "\n",
              "[39264 rows x 8 columns]"
            ]
          },
          "execution_count": 776,
          "metadata": {},
          "output_type": "execute_result"
        }
      ],
      "source": [
        "train_data"
      ]
    },
    {
      "cell_type": "code",
      "execution_count": null,
      "id": "bdafeca0-66ed-4df3-a76f-ed3d1a4c3cc6",
      "metadata": {
        "id": "bdafeca0-66ed-4df3-a76f-ed3d1a4c3cc6"
      },
      "outputs": [],
      "source": [
        "train_data = train_data.dropna()"
      ]
    },
    {
      "cell_type": "code",
      "execution_count": null,
      "id": "7f4921b6-3570-48f2-b15f-2b5a79227f56",
      "metadata": {
        "id": "7f4921b6-3570-48f2-b15f-2b5a79227f56"
      },
      "outputs": [],
      "source": [
        "x_train = train_data.drop(columns = ['2month_shift','기준일ID'],axis  = 0)"
      ]
    },
    {
      "cell_type": "code",
      "execution_count": null,
      "id": "1d0be664-ab01-4a14-ba25-037d03c647f3",
      "metadata": {
        "id": "1d0be664-ab01-4a14-ba25-037d03c647f3"
      },
      "outputs": [],
      "source": [
        "y_train = train_data['2month_shift']"
      ]
    },
    {
      "cell_type": "code",
      "execution_count": null,
      "id": "a860628c-57b5-44ba-a0bb-7bccb4baaf3e",
      "metadata": {
        "id": "a860628c-57b5-44ba-a0bb-7bccb4baaf3e"
      },
      "outputs": [],
      "source": [
        "x_test = test_data.drop(columns=['2month_shift','기준일ID'], axis = 0)"
      ]
    },
    {
      "cell_type": "code",
      "execution_count": null,
      "id": "aba33740-7e96-4454-8e93-0ef163be9753",
      "metadata": {
        "id": "aba33740-7e96-4454-8e93-0ef163be9753"
      },
      "outputs": [],
      "source": [
        "y_test = test_data['2month_shift']"
      ]
    },
    {
      "cell_type": "code",
      "execution_count": null,
      "id": "fac17f0c-4001-4703-a865-bc0d186e442e",
      "metadata": {
        "id": "fac17f0c-4001-4703-a865-bc0d186e442e",
        "outputId": "97a908c9-c03f-4af6-da75-127ca8ed482e"
      },
      "outputs": [
        {
          "data": {
            "text/plain": [
              "총생활인구수               0\n",
              "total_lag1416        0\n",
              "1hour_shift          0\n",
              "24hour_shift         0\n",
              "total_MA7_lag1416    0\n",
              "total_FFT_lag1416    0\n",
              "dtype: int64"
            ]
          },
          "execution_count": 782,
          "metadata": {},
          "output_type": "execute_result"
        }
      ],
      "source": [
        "x_test.isna().sum()"
      ]
    },
    {
      "cell_type": "code",
      "execution_count": null,
      "id": "490703f6-6cc0-4f73-858a-d227d0ebd1d3",
      "metadata": {
        "id": "490703f6-6cc0-4f73-858a-d227d0ebd1d3"
      },
      "outputs": [],
      "source": [
        "from sklearn.ensemble import RandomForestRegressor"
      ]
    },
    {
      "cell_type": "code",
      "execution_count": null,
      "id": "fb47d856-843d-4985-9cd1-22690e87d862",
      "metadata": {
        "id": "fb47d856-843d-4985-9cd1-22690e87d862",
        "outputId": "2ac5f1d5-4671-4c7a-f740-e0849d53bf86"
      },
      "outputs": [
        {
          "data": {
            "text/plain": [
              "RandomForestRegressor(max_depth=12, min_samples_leaf=12, min_samples_split=8,\n",
              "                      n_jobs=-1, random_state=42)"
            ]
          },
          "execution_count": 784,
          "metadata": {},
          "output_type": "execute_result"
        }
      ],
      "source": [
        "rf_clf1 = RandomForestRegressor(n_estimators = 100, \n",
        "                                max_depth = 12,\n",
        "                                min_samples_leaf = 12,\n",
        "                                min_samples_split = 8,\n",
        "                                random_state = 42,\n",
        "                                n_jobs = -1)\n",
        "rf_clf1.fit(x_train, y_train)\n"
      ]
    },
    {
      "cell_type": "code",
      "execution_count": null,
      "id": "626f6f2c-e925-4eba-a40c-8f4b0034dcb2",
      "metadata": {
        "id": "626f6f2c-e925-4eba-a40c-8f4b0034dcb2"
      },
      "outputs": [],
      "source": [
        "pred = rf_clf1.predict(x_test)"
      ]
    },
    {
      "cell_type": "code",
      "execution_count": null,
      "id": "441658ec-cef3-4674-b20f-264467f36b77",
      "metadata": {
        "id": "441658ec-cef3-4674-b20f-264467f36b77"
      },
      "outputs": [],
      "source": []
    },
    {
      "cell_type": "code",
      "execution_count": null,
      "id": "560cf14e-9a85-4564-a5d5-c65392c7192a",
      "metadata": {
        "id": "560cf14e-9a85-4564-a5d5-c65392c7192a",
        "outputId": "07f2806a-89af-4bf6-8371-edddf8444fec"
      },
      "outputs": [
        {
          "name": "stdout",
          "output_type": "stream",
          "text": [
            "Fitting 3 folds for each of 1 candidates, totalling 3 fits\n",
            "[CV 1/3] END colsample_bytree=0.8, gamma=3, learning_rate=0.1, max_depth=5, n_estimators=50, reg_alpha=1, subsample=0.5; total time=   2.2s\n",
            "[CV 2/3] END colsample_bytree=0.8, gamma=3, learning_rate=0.1, max_depth=5, n_estimators=50, reg_alpha=1, subsample=0.5; total time=   1.9s\n",
            "[CV 3/3] END colsample_bytree=0.8, gamma=3, learning_rate=0.1, max_depth=5, n_estimators=50, reg_alpha=1, subsample=0.5; total time=   2.4s\n",
            "----  9.78125sec, training complete  ----\n",
            "최적 하이퍼 파라미터:  {'colsample_bytree': 0.8, 'gamma': 3, 'learning_rate': 0.1, 'max_depth': 5, 'n_estimators': 50, 'reg_alpha': 1, 'subsample': 0.5}\n"
          ]
        }
      ],
      "source": [
        "from xgboost import XGBRegressor as xgb\n",
        "from sklearn.metrics import roc_auc_score, accuracy_score, mean_squared_error, r2_score\n",
        "from sklearn.model_selection import GridSearchCV\n",
        "import time\n",
        "\n",
        "train_x_tmp = x_train\n",
        "train_y_tmp = y_train\n",
        "\n",
        "params = { 'n_estimators' : [50],\n",
        "          'learning_rate' : [0.1],\n",
        "          'max_depth' : [5],\n",
        "          'subsample' : [0.5], \n",
        "          'colsample_bytree' : [0.8],\n",
        "          'reg_alpha' : [1],\n",
        "          'gamma' : [3],\n",
        "         }\n",
        "\n",
        "xgb_model = xgb(random_state=42, n_jobs = 1)\n",
        "grid_cv = GridSearchCV(xgb_model, param_grid = params, cv = 3,verbose=3)\n",
        "start_time = time.process_time()\n",
        "grid_cv.fit(train_x_tmp, train_y_tmp)\n",
        "end_time = time.process_time()\n",
        "\n",
        "print('----  {0:.5f}sec, training complete  ----'.format(end_time-start_time))\n",
        "print('최적 하이퍼 파라미터: ', grid_cv.best_params_)\n",
        "\n",
        "best_model = grid_cv.best_estimator_\n",
        "\n",
        "\n"
      ]
    },
    {
      "cell_type": "code",
      "execution_count": null,
      "id": "2c69afa9-e472-4520-a15f-a5f7c636f240",
      "metadata": {
        "id": "2c69afa9-e472-4520-a15f-a5f7c636f240"
      },
      "outputs": [],
      "source": [
        "pred= best_model.predict(x_test)"
      ]
    },
    {
      "cell_type": "code",
      "execution_count": null,
      "id": "59db2b96-f8ff-417c-955c-4edb0473ca07",
      "metadata": {
        "id": "59db2b96-f8ff-417c-955c-4edb0473ca07"
      },
      "outputs": [],
      "source": [
        "pred = pd.DataFrame(pred)"
      ]
    },
    {
      "cell_type": "code",
      "execution_count": null,
      "id": "2f0710d9-1ab2-419f-ab39-be4dacd82c21",
      "metadata": {
        "id": "2f0710d9-1ab2-419f-ab39-be4dacd82c21",
        "outputId": "ac9d42e0-6f76-45c7-f598-1494a907cbb3"
      },
      "outputs": [
        {
          "data": {
            "text/html": [
              "<div>\n",
              "<style scoped>\n",
              "    .dataframe tbody tr th:only-of-type {\n",
              "        vertical-align: middle;\n",
              "    }\n",
              "\n",
              "    .dataframe tbody tr th {\n",
              "        vertical-align: top;\n",
              "    }\n",
              "\n",
              "    .dataframe thead th {\n",
              "        text-align: right;\n",
              "    }\n",
              "</style>\n",
              "<table border=\"1\" class=\"dataframe\">\n",
              "  <thead>\n",
              "    <tr style=\"text-align: right;\">\n",
              "      <th></th>\n",
              "      <th>0</th>\n",
              "    </tr>\n",
              "  </thead>\n",
              "  <tbody>\n",
              "    <tr>\n",
              "      <th>0</th>\n",
              "      <td>39758.820312</td>\n",
              "    </tr>\n",
              "    <tr>\n",
              "      <th>1</th>\n",
              "      <td>39401.402344</td>\n",
              "    </tr>\n",
              "    <tr>\n",
              "      <th>2</th>\n",
              "      <td>39313.406250</td>\n",
              "    </tr>\n",
              "    <tr>\n",
              "      <th>3</th>\n",
              "      <td>39306.527344</td>\n",
              "    </tr>\n",
              "    <tr>\n",
              "      <th>4</th>\n",
              "      <td>39244.480469</td>\n",
              "    </tr>\n",
              "    <tr>\n",
              "      <th>...</th>\n",
              "      <td>...</td>\n",
              "    </tr>\n",
              "    <tr>\n",
              "      <th>1411</th>\n",
              "      <td>36542.496094</td>\n",
              "    </tr>\n",
              "    <tr>\n",
              "      <th>1412</th>\n",
              "      <td>36486.796875</td>\n",
              "    </tr>\n",
              "    <tr>\n",
              "      <th>1413</th>\n",
              "      <td>36569.808594</td>\n",
              "    </tr>\n",
              "    <tr>\n",
              "      <th>1414</th>\n",
              "      <td>36607.914062</td>\n",
              "    </tr>\n",
              "    <tr>\n",
              "      <th>1415</th>\n",
              "      <td>39085.203125</td>\n",
              "    </tr>\n",
              "  </tbody>\n",
              "</table>\n",
              "<p>1416 rows × 1 columns</p>\n",
              "</div>"
            ],
            "text/plain": [
              "                 0\n",
              "0     39758.820312\n",
              "1     39401.402344\n",
              "2     39313.406250\n",
              "3     39306.527344\n",
              "4     39244.480469\n",
              "...            ...\n",
              "1411  36542.496094\n",
              "1412  36486.796875\n",
              "1413  36569.808594\n",
              "1414  36607.914062\n",
              "1415  39085.203125\n",
              "\n",
              "[1416 rows x 1 columns]"
            ]
          },
          "execution_count": 789,
          "metadata": {},
          "output_type": "execute_result"
        }
      ],
      "source": [
        "pred"
      ]
    },
    {
      "cell_type": "code",
      "execution_count": null,
      "id": "c2c48647-b886-4f91-a5d9-91a795b24225",
      "metadata": {
        "id": "c2c48647-b886-4f91-a5d9-91a795b24225",
        "outputId": "9fc6a5c3-5288-4c7e-a37d-e4fc7ff8d954"
      },
      "outputs": [
        {
          "data": {
            "text/html": [
              "<div>\n",
              "<style scoped>\n",
              "    .dataframe tbody tr th:only-of-type {\n",
              "        vertical-align: middle;\n",
              "    }\n",
              "\n",
              "    .dataframe tbody tr th {\n",
              "        vertical-align: top;\n",
              "    }\n",
              "\n",
              "    .dataframe thead th {\n",
              "        text-align: right;\n",
              "    }\n",
              "</style>\n",
              "<table border=\"1\" class=\"dataframe\">\n",
              "  <thead>\n",
              "    <tr style=\"text-align: right;\">\n",
              "      <th></th>\n",
              "      <th>id</th>\n",
              "    </tr>\n",
              "  </thead>\n",
              "  <tbody>\n",
              "    <tr>\n",
              "      <th>0</th>\n",
              "      <td>0</td>\n",
              "    </tr>\n",
              "    <tr>\n",
              "      <th>1</th>\n",
              "      <td>1</td>\n",
              "    </tr>\n",
              "    <tr>\n",
              "      <th>2</th>\n",
              "      <td>2</td>\n",
              "    </tr>\n",
              "    <tr>\n",
              "      <th>3</th>\n",
              "      <td>3</td>\n",
              "    </tr>\n",
              "    <tr>\n",
              "      <th>4</th>\n",
              "      <td>4</td>\n",
              "    </tr>\n",
              "    <tr>\n",
              "      <th>...</th>\n",
              "      <td>...</td>\n",
              "    </tr>\n",
              "    <tr>\n",
              "      <th>1411</th>\n",
              "      <td>1411</td>\n",
              "    </tr>\n",
              "    <tr>\n",
              "      <th>1412</th>\n",
              "      <td>1412</td>\n",
              "    </tr>\n",
              "    <tr>\n",
              "      <th>1413</th>\n",
              "      <td>1413</td>\n",
              "    </tr>\n",
              "    <tr>\n",
              "      <th>1414</th>\n",
              "      <td>1414</td>\n",
              "    </tr>\n",
              "    <tr>\n",
              "      <th>1415</th>\n",
              "      <td>1415</td>\n",
              "    </tr>\n",
              "  </tbody>\n",
              "</table>\n",
              "<p>1416 rows × 1 columns</p>\n",
              "</div>"
            ],
            "text/plain": [
              "        id\n",
              "0        0\n",
              "1        1\n",
              "2        2\n",
              "3        3\n",
              "4        4\n",
              "...    ...\n",
              "1411  1411\n",
              "1412  1412\n",
              "1413  1413\n",
              "1414  1414\n",
              "1415  1415\n",
              "\n",
              "[1416 rows x 1 columns]"
            ]
          },
          "execution_count": 790,
          "metadata": {},
          "output_type": "execute_result"
        }
      ],
      "source": [
        "import pandas as pd\n",
        "predict_df = pd.DataFrame({'id': range(0,1416),\n",
        "                           })\n",
        "predict_df"
      ]
    },
    {
      "cell_type": "code",
      "execution_count": null,
      "id": "98677595-28de-4ee1-88c3-3c1fff968fb1",
      "metadata": {
        "id": "98677595-28de-4ee1-88c3-3c1fff968fb1"
      },
      "outputs": [],
      "source": [
        "pred['id'] = predict_df['id']"
      ]
    },
    {
      "cell_type": "code",
      "execution_count": null,
      "id": "7e5d60f9-dd0d-4fef-9f4c-f9e6d920e0e6",
      "metadata": {
        "id": "7e5d60f9-dd0d-4fef-9f4c-f9e6d920e0e6"
      },
      "outputs": [],
      "source": [
        "pred.rename(columns = {0 : 'count'}, inplace = True)"
      ]
    },
    {
      "cell_type": "code",
      "execution_count": null,
      "id": "8ddc1208-0ebb-495a-b529-80ea56520b98",
      "metadata": {
        "id": "8ddc1208-0ebb-495a-b529-80ea56520b98",
        "outputId": "6d6b6488-3906-4825-bd78-e73dd209b57e"
      },
      "outputs": [
        {
          "data": {
            "text/html": [
              "<div>\n",
              "<style scoped>\n",
              "    .dataframe tbody tr th:only-of-type {\n",
              "        vertical-align: middle;\n",
              "    }\n",
              "\n",
              "    .dataframe tbody tr th {\n",
              "        vertical-align: top;\n",
              "    }\n",
              "\n",
              "    .dataframe thead th {\n",
              "        text-align: right;\n",
              "    }\n",
              "</style>\n",
              "<table border=\"1\" class=\"dataframe\">\n",
              "  <thead>\n",
              "    <tr style=\"text-align: right;\">\n",
              "      <th></th>\n",
              "      <th>id</th>\n",
              "      <th>count</th>\n",
              "    </tr>\n",
              "  </thead>\n",
              "  <tbody>\n",
              "    <tr>\n",
              "      <th>0</th>\n",
              "      <td>0</td>\n",
              "      <td>39758.820312</td>\n",
              "    </tr>\n",
              "    <tr>\n",
              "      <th>1</th>\n",
              "      <td>1</td>\n",
              "      <td>39401.402344</td>\n",
              "    </tr>\n",
              "    <tr>\n",
              "      <th>2</th>\n",
              "      <td>2</td>\n",
              "      <td>39313.406250</td>\n",
              "    </tr>\n",
              "    <tr>\n",
              "      <th>3</th>\n",
              "      <td>3</td>\n",
              "      <td>39306.527344</td>\n",
              "    </tr>\n",
              "    <tr>\n",
              "      <th>4</th>\n",
              "      <td>4</td>\n",
              "      <td>39244.480469</td>\n",
              "    </tr>\n",
              "    <tr>\n",
              "      <th>...</th>\n",
              "      <td>...</td>\n",
              "      <td>...</td>\n",
              "    </tr>\n",
              "    <tr>\n",
              "      <th>1411</th>\n",
              "      <td>1411</td>\n",
              "      <td>36542.496094</td>\n",
              "    </tr>\n",
              "    <tr>\n",
              "      <th>1412</th>\n",
              "      <td>1412</td>\n",
              "      <td>36486.796875</td>\n",
              "    </tr>\n",
              "    <tr>\n",
              "      <th>1413</th>\n",
              "      <td>1413</td>\n",
              "      <td>36569.808594</td>\n",
              "    </tr>\n",
              "    <tr>\n",
              "      <th>1414</th>\n",
              "      <td>1414</td>\n",
              "      <td>36607.914062</td>\n",
              "    </tr>\n",
              "    <tr>\n",
              "      <th>1415</th>\n",
              "      <td>1415</td>\n",
              "      <td>39085.203125</td>\n",
              "    </tr>\n",
              "  </tbody>\n",
              "</table>\n",
              "<p>1416 rows × 2 columns</p>\n",
              "</div>"
            ],
            "text/plain": [
              "        id         count\n",
              "0        0  39758.820312\n",
              "1        1  39401.402344\n",
              "2        2  39313.406250\n",
              "3        3  39306.527344\n",
              "4        4  39244.480469\n",
              "...    ...           ...\n",
              "1411  1411  36542.496094\n",
              "1412  1412  36486.796875\n",
              "1413  1413  36569.808594\n",
              "1414  1414  36607.914062\n",
              "1415  1415  39085.203125\n",
              "\n",
              "[1416 rows x 2 columns]"
            ]
          },
          "execution_count": 793,
          "metadata": {},
          "output_type": "execute_result"
        }
      ],
      "source": [
        "pred[['id', 'count']]"
      ]
    },
    {
      "cell_type": "code",
      "execution_count": null,
      "id": "83ce4291-14ef-4b02-98a6-ae0e6b09f6f5",
      "metadata": {
        "id": "83ce4291-14ef-4b02-98a6-ae0e6b09f6f5"
      },
      "outputs": [],
      "source": [
        "pred.to_csv('submit13.csv', index = None)"
      ]
    },
    {
      "cell_type": "code",
      "execution_count": null,
      "id": "d6ac9b3d-91c4-4904-966c-26152ee7c4bc",
      "metadata": {
        "id": "d6ac9b3d-91c4-4904-966c-26152ee7c4bc"
      },
      "outputs": [],
      "source": []
    }
  ],
  "metadata": {
    "kernelspec": {
      "display_name": "Python 3",
      "language": "python",
      "name": "python3"
    },
    "language_info": {
      "codemirror_mode": {
        "name": "ipython",
        "version": 3
      },
      "file_extension": ".py",
      "mimetype": "text/x-python",
      "name": "python",
      "nbconvert_exporter": "python",
      "pygments_lexer": "ipython3",
      "version": "3.8.8"
    },
    "colab": {
      "provenance": []
    }
  },
  "nbformat": 4,
  "nbformat_minor": 5
}